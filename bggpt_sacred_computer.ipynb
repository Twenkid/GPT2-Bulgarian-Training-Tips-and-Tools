{
  "nbformat": 4,
  "nbformat_minor": 0,
  "metadata": {
    "colab": {
      "provenance": [],
      "gpuType": "T4",
      "include_colab_link": true
    },
    "kernelspec": {
      "name": "python3",
      "display_name": "Python 3"
    },
    "language_info": {
      "name": "python"
    },
    "accelerator": "GPU",
    "widgets": {
      "application/vnd.jupyter.widget-state+json": {
        "5de3777e0c144b2188ff140b19daf879": {
          "model_module": "@jupyter-widgets/controls",
          "model_name": "HBoxModel",
          "model_module_version": "1.5.0",
          "state": {
            "_dom_classes": [],
            "_model_module": "@jupyter-widgets/controls",
            "_model_module_version": "1.5.0",
            "_model_name": "HBoxModel",
            "_view_count": null,
            "_view_module": "@jupyter-widgets/controls",
            "_view_module_version": "1.5.0",
            "_view_name": "HBoxView",
            "box_style": "",
            "children": [
              "IPY_MODEL_3362239b024c4714b0c91f27ed96e5ac",
              "IPY_MODEL_92bc5f8b76c94978a267a0866016d265",
              "IPY_MODEL_3c987d53ebb54fdc97df37944b978a7e"
            ],
            "layout": "IPY_MODEL_4631f8c49d7f4fdeab859433758333c1"
          }
        },
        "3362239b024c4714b0c91f27ed96e5ac": {
          "model_module": "@jupyter-widgets/controls",
          "model_name": "HTMLModel",
          "model_module_version": "1.5.0",
          "state": {
            "_dom_classes": [],
            "_model_module": "@jupyter-widgets/controls",
            "_model_module_version": "1.5.0",
            "_model_name": "HTMLModel",
            "_view_count": null,
            "_view_module": "@jupyter-widgets/controls",
            "_view_module_version": "1.5.0",
            "_view_name": "HTMLView",
            "description": "",
            "description_tooltip": null,
            "layout": "IPY_MODEL_3866b3402812418e8abde5ff7ffcafbf",
            "placeholder": "​",
            "style": "IPY_MODEL_efa016ab70c847efafbd11fd0b875823",
            "value": "config.json: 100%"
          }
        },
        "92bc5f8b76c94978a267a0866016d265": {
          "model_module": "@jupyter-widgets/controls",
          "model_name": "FloatProgressModel",
          "model_module_version": "1.5.0",
          "state": {
            "_dom_classes": [],
            "_model_module": "@jupyter-widgets/controls",
            "_model_module_version": "1.5.0",
            "_model_name": "FloatProgressModel",
            "_view_count": null,
            "_view_module": "@jupyter-widgets/controls",
            "_view_module_version": "1.5.0",
            "_view_name": "ProgressView",
            "bar_style": "success",
            "description": "",
            "description_tooltip": null,
            "layout": "IPY_MODEL_ce58c1535d57464086df026ef9a473ab",
            "max": 594,
            "min": 0,
            "orientation": "horizontal",
            "style": "IPY_MODEL_7da50ff2581e486eb0ed6eef1b2470f5",
            "value": 594
          }
        },
        "3c987d53ebb54fdc97df37944b978a7e": {
          "model_module": "@jupyter-widgets/controls",
          "model_name": "HTMLModel",
          "model_module_version": "1.5.0",
          "state": {
            "_dom_classes": [],
            "_model_module": "@jupyter-widgets/controls",
            "_model_module_version": "1.5.0",
            "_model_name": "HTMLModel",
            "_view_count": null,
            "_view_module": "@jupyter-widgets/controls",
            "_view_module_version": "1.5.0",
            "_view_name": "HTMLView",
            "description": "",
            "description_tooltip": null,
            "layout": "IPY_MODEL_49b8db605072441db8e61848bf082c40",
            "placeholder": "​",
            "style": "IPY_MODEL_3b863b7e36a84ba7aa35c340b6461eca",
            "value": " 594/594 [00:00&lt;00:00, 17.9kB/s]"
          }
        },
        "4631f8c49d7f4fdeab859433758333c1": {
          "model_module": "@jupyter-widgets/base",
          "model_name": "LayoutModel",
          "model_module_version": "1.2.0",
          "state": {
            "_model_module": "@jupyter-widgets/base",
            "_model_module_version": "1.2.0",
            "_model_name": "LayoutModel",
            "_view_count": null,
            "_view_module": "@jupyter-widgets/base",
            "_view_module_version": "1.2.0",
            "_view_name": "LayoutView",
            "align_content": null,
            "align_items": null,
            "align_self": null,
            "border": null,
            "bottom": null,
            "display": null,
            "flex": null,
            "flex_flow": null,
            "grid_area": null,
            "grid_auto_columns": null,
            "grid_auto_flow": null,
            "grid_auto_rows": null,
            "grid_column": null,
            "grid_gap": null,
            "grid_row": null,
            "grid_template_areas": null,
            "grid_template_columns": null,
            "grid_template_rows": null,
            "height": null,
            "justify_content": null,
            "justify_items": null,
            "left": null,
            "margin": null,
            "max_height": null,
            "max_width": null,
            "min_height": null,
            "min_width": null,
            "object_fit": null,
            "object_position": null,
            "order": null,
            "overflow": null,
            "overflow_x": null,
            "overflow_y": null,
            "padding": null,
            "right": null,
            "top": null,
            "visibility": null,
            "width": null
          }
        },
        "3866b3402812418e8abde5ff7ffcafbf": {
          "model_module": "@jupyter-widgets/base",
          "model_name": "LayoutModel",
          "model_module_version": "1.2.0",
          "state": {
            "_model_module": "@jupyter-widgets/base",
            "_model_module_version": "1.2.0",
            "_model_name": "LayoutModel",
            "_view_count": null,
            "_view_module": "@jupyter-widgets/base",
            "_view_module_version": "1.2.0",
            "_view_name": "LayoutView",
            "align_content": null,
            "align_items": null,
            "align_self": null,
            "border": null,
            "bottom": null,
            "display": null,
            "flex": null,
            "flex_flow": null,
            "grid_area": null,
            "grid_auto_columns": null,
            "grid_auto_flow": null,
            "grid_auto_rows": null,
            "grid_column": null,
            "grid_gap": null,
            "grid_row": null,
            "grid_template_areas": null,
            "grid_template_columns": null,
            "grid_template_rows": null,
            "height": null,
            "justify_content": null,
            "justify_items": null,
            "left": null,
            "margin": null,
            "max_height": null,
            "max_width": null,
            "min_height": null,
            "min_width": null,
            "object_fit": null,
            "object_position": null,
            "order": null,
            "overflow": null,
            "overflow_x": null,
            "overflow_y": null,
            "padding": null,
            "right": null,
            "top": null,
            "visibility": null,
            "width": null
          }
        },
        "efa016ab70c847efafbd11fd0b875823": {
          "model_module": "@jupyter-widgets/controls",
          "model_name": "DescriptionStyleModel",
          "model_module_version": "1.5.0",
          "state": {
            "_model_module": "@jupyter-widgets/controls",
            "_model_module_version": "1.5.0",
            "_model_name": "DescriptionStyleModel",
            "_view_count": null,
            "_view_module": "@jupyter-widgets/base",
            "_view_module_version": "1.2.0",
            "_view_name": "StyleView",
            "description_width": ""
          }
        },
        "ce58c1535d57464086df026ef9a473ab": {
          "model_module": "@jupyter-widgets/base",
          "model_name": "LayoutModel",
          "model_module_version": "1.2.0",
          "state": {
            "_model_module": "@jupyter-widgets/base",
            "_model_module_version": "1.2.0",
            "_model_name": "LayoutModel",
            "_view_count": null,
            "_view_module": "@jupyter-widgets/base",
            "_view_module_version": "1.2.0",
            "_view_name": "LayoutView",
            "align_content": null,
            "align_items": null,
            "align_self": null,
            "border": null,
            "bottom": null,
            "display": null,
            "flex": null,
            "flex_flow": null,
            "grid_area": null,
            "grid_auto_columns": null,
            "grid_auto_flow": null,
            "grid_auto_rows": null,
            "grid_column": null,
            "grid_gap": null,
            "grid_row": null,
            "grid_template_areas": null,
            "grid_template_columns": null,
            "grid_template_rows": null,
            "height": null,
            "justify_content": null,
            "justify_items": null,
            "left": null,
            "margin": null,
            "max_height": null,
            "max_width": null,
            "min_height": null,
            "min_width": null,
            "object_fit": null,
            "object_position": null,
            "order": null,
            "overflow": null,
            "overflow_x": null,
            "overflow_y": null,
            "padding": null,
            "right": null,
            "top": null,
            "visibility": null,
            "width": null
          }
        },
        "7da50ff2581e486eb0ed6eef1b2470f5": {
          "model_module": "@jupyter-widgets/controls",
          "model_name": "ProgressStyleModel",
          "model_module_version": "1.5.0",
          "state": {
            "_model_module": "@jupyter-widgets/controls",
            "_model_module_version": "1.5.0",
            "_model_name": "ProgressStyleModel",
            "_view_count": null,
            "_view_module": "@jupyter-widgets/base",
            "_view_module_version": "1.2.0",
            "_view_name": "StyleView",
            "bar_color": null,
            "description_width": ""
          }
        },
        "49b8db605072441db8e61848bf082c40": {
          "model_module": "@jupyter-widgets/base",
          "model_name": "LayoutModel",
          "model_module_version": "1.2.0",
          "state": {
            "_model_module": "@jupyter-widgets/base",
            "_model_module_version": "1.2.0",
            "_model_name": "LayoutModel",
            "_view_count": null,
            "_view_module": "@jupyter-widgets/base",
            "_view_module_version": "1.2.0",
            "_view_name": "LayoutView",
            "align_content": null,
            "align_items": null,
            "align_self": null,
            "border": null,
            "bottom": null,
            "display": null,
            "flex": null,
            "flex_flow": null,
            "grid_area": null,
            "grid_auto_columns": null,
            "grid_auto_flow": null,
            "grid_auto_rows": null,
            "grid_column": null,
            "grid_gap": null,
            "grid_row": null,
            "grid_template_areas": null,
            "grid_template_columns": null,
            "grid_template_rows": null,
            "height": null,
            "justify_content": null,
            "justify_items": null,
            "left": null,
            "margin": null,
            "max_height": null,
            "max_width": null,
            "min_height": null,
            "min_width": null,
            "object_fit": null,
            "object_position": null,
            "order": null,
            "overflow": null,
            "overflow_x": null,
            "overflow_y": null,
            "padding": null,
            "right": null,
            "top": null,
            "visibility": null,
            "width": null
          }
        },
        "3b863b7e36a84ba7aa35c340b6461eca": {
          "model_module": "@jupyter-widgets/controls",
          "model_name": "DescriptionStyleModel",
          "model_module_version": "1.5.0",
          "state": {
            "_model_module": "@jupyter-widgets/controls",
            "_model_module_version": "1.5.0",
            "_model_name": "DescriptionStyleModel",
            "_view_count": null,
            "_view_module": "@jupyter-widgets/base",
            "_view_module_version": "1.2.0",
            "_view_name": "StyleView",
            "description_width": ""
          }
        },
        "57ac59a69b134d3faff2156025ce137f": {
          "model_module": "@jupyter-widgets/controls",
          "model_name": "HBoxModel",
          "model_module_version": "1.5.0",
          "state": {
            "_dom_classes": [],
            "_model_module": "@jupyter-widgets/controls",
            "_model_module_version": "1.5.0",
            "_model_name": "HBoxModel",
            "_view_count": null,
            "_view_module": "@jupyter-widgets/controls",
            "_view_module_version": "1.5.0",
            "_view_name": "HBoxView",
            "box_style": "",
            "children": [
              "IPY_MODEL_01cdc44312df47a6adb66f355410ca0c",
              "IPY_MODEL_bc1bdff091564cc9ae0e062c052b23c4",
              "IPY_MODEL_d907d552895c4b448191d28a182868e8"
            ],
            "layout": "IPY_MODEL_1139c69176944fdfb76fe570f75ffce2"
          }
        },
        "01cdc44312df47a6adb66f355410ca0c": {
          "model_module": "@jupyter-widgets/controls",
          "model_name": "HTMLModel",
          "model_module_version": "1.5.0",
          "state": {
            "_dom_classes": [],
            "_model_module": "@jupyter-widgets/controls",
            "_model_module_version": "1.5.0",
            "_model_name": "HTMLModel",
            "_view_count": null,
            "_view_module": "@jupyter-widgets/controls",
            "_view_module_version": "1.5.0",
            "_view_name": "HTMLView",
            "description": "",
            "description_tooltip": null,
            "layout": "IPY_MODEL_b6ae67a9474b46b7b4f37b7148e9a482",
            "placeholder": "​",
            "style": "IPY_MODEL_29b6746e48ef42cd9fbd670e670a5471",
            "value": "model.safetensors.index.json: 100%"
          }
        },
        "bc1bdff091564cc9ae0e062c052b23c4": {
          "model_module": "@jupyter-widgets/controls",
          "model_name": "FloatProgressModel",
          "model_module_version": "1.5.0",
          "state": {
            "_dom_classes": [],
            "_model_module": "@jupyter-widgets/controls",
            "_model_module_version": "1.5.0",
            "_model_name": "FloatProgressModel",
            "_view_count": null,
            "_view_module": "@jupyter-widgets/controls",
            "_view_module_version": "1.5.0",
            "_view_name": "ProgressView",
            "bar_style": "success",
            "description": "",
            "description_tooltip": null,
            "layout": "IPY_MODEL_388fa97f5ace4398bd60c497b10c9923",
            "max": 24799,
            "min": 0,
            "orientation": "horizontal",
            "style": "IPY_MODEL_482ed6114d994c9f9f0ce934db75d653",
            "value": 24799
          }
        },
        "d907d552895c4b448191d28a182868e8": {
          "model_module": "@jupyter-widgets/controls",
          "model_name": "HTMLModel",
          "model_module_version": "1.5.0",
          "state": {
            "_dom_classes": [],
            "_model_module": "@jupyter-widgets/controls",
            "_model_module_version": "1.5.0",
            "_model_name": "HTMLModel",
            "_view_count": null,
            "_view_module": "@jupyter-widgets/controls",
            "_view_module_version": "1.5.0",
            "_view_name": "HTMLView",
            "description": "",
            "description_tooltip": null,
            "layout": "IPY_MODEL_6986b83532164c76bfcce3ffee8c4213",
            "placeholder": "​",
            "style": "IPY_MODEL_3e010f98752743a6b947cccb680c9931",
            "value": " 24.8k/24.8k [00:00&lt;00:00, 767kB/s]"
          }
        },
        "1139c69176944fdfb76fe570f75ffce2": {
          "model_module": "@jupyter-widgets/base",
          "model_name": "LayoutModel",
          "model_module_version": "1.2.0",
          "state": {
            "_model_module": "@jupyter-widgets/base",
            "_model_module_version": "1.2.0",
            "_model_name": "LayoutModel",
            "_view_count": null,
            "_view_module": "@jupyter-widgets/base",
            "_view_module_version": "1.2.0",
            "_view_name": "LayoutView",
            "align_content": null,
            "align_items": null,
            "align_self": null,
            "border": null,
            "bottom": null,
            "display": null,
            "flex": null,
            "flex_flow": null,
            "grid_area": null,
            "grid_auto_columns": null,
            "grid_auto_flow": null,
            "grid_auto_rows": null,
            "grid_column": null,
            "grid_gap": null,
            "grid_row": null,
            "grid_template_areas": null,
            "grid_template_columns": null,
            "grid_template_rows": null,
            "height": null,
            "justify_content": null,
            "justify_items": null,
            "left": null,
            "margin": null,
            "max_height": null,
            "max_width": null,
            "min_height": null,
            "min_width": null,
            "object_fit": null,
            "object_position": null,
            "order": null,
            "overflow": null,
            "overflow_x": null,
            "overflow_y": null,
            "padding": null,
            "right": null,
            "top": null,
            "visibility": null,
            "width": null
          }
        },
        "b6ae67a9474b46b7b4f37b7148e9a482": {
          "model_module": "@jupyter-widgets/base",
          "model_name": "LayoutModel",
          "model_module_version": "1.2.0",
          "state": {
            "_model_module": "@jupyter-widgets/base",
            "_model_module_version": "1.2.0",
            "_model_name": "LayoutModel",
            "_view_count": null,
            "_view_module": "@jupyter-widgets/base",
            "_view_module_version": "1.2.0",
            "_view_name": "LayoutView",
            "align_content": null,
            "align_items": null,
            "align_self": null,
            "border": null,
            "bottom": null,
            "display": null,
            "flex": null,
            "flex_flow": null,
            "grid_area": null,
            "grid_auto_columns": null,
            "grid_auto_flow": null,
            "grid_auto_rows": null,
            "grid_column": null,
            "grid_gap": null,
            "grid_row": null,
            "grid_template_areas": null,
            "grid_template_columns": null,
            "grid_template_rows": null,
            "height": null,
            "justify_content": null,
            "justify_items": null,
            "left": null,
            "margin": null,
            "max_height": null,
            "max_width": null,
            "min_height": null,
            "min_width": null,
            "object_fit": null,
            "object_position": null,
            "order": null,
            "overflow": null,
            "overflow_x": null,
            "overflow_y": null,
            "padding": null,
            "right": null,
            "top": null,
            "visibility": null,
            "width": null
          }
        },
        "29b6746e48ef42cd9fbd670e670a5471": {
          "model_module": "@jupyter-widgets/controls",
          "model_name": "DescriptionStyleModel",
          "model_module_version": "1.5.0",
          "state": {
            "_model_module": "@jupyter-widgets/controls",
            "_model_module_version": "1.5.0",
            "_model_name": "DescriptionStyleModel",
            "_view_count": null,
            "_view_module": "@jupyter-widgets/base",
            "_view_module_version": "1.2.0",
            "_view_name": "StyleView",
            "description_width": ""
          }
        },
        "388fa97f5ace4398bd60c497b10c9923": {
          "model_module": "@jupyter-widgets/base",
          "model_name": "LayoutModel",
          "model_module_version": "1.2.0",
          "state": {
            "_model_module": "@jupyter-widgets/base",
            "_model_module_version": "1.2.0",
            "_model_name": "LayoutModel",
            "_view_count": null,
            "_view_module": "@jupyter-widgets/base",
            "_view_module_version": "1.2.0",
            "_view_name": "LayoutView",
            "align_content": null,
            "align_items": null,
            "align_self": null,
            "border": null,
            "bottom": null,
            "display": null,
            "flex": null,
            "flex_flow": null,
            "grid_area": null,
            "grid_auto_columns": null,
            "grid_auto_flow": null,
            "grid_auto_rows": null,
            "grid_column": null,
            "grid_gap": null,
            "grid_row": null,
            "grid_template_areas": null,
            "grid_template_columns": null,
            "grid_template_rows": null,
            "height": null,
            "justify_content": null,
            "justify_items": null,
            "left": null,
            "margin": null,
            "max_height": null,
            "max_width": null,
            "min_height": null,
            "min_width": null,
            "object_fit": null,
            "object_position": null,
            "order": null,
            "overflow": null,
            "overflow_x": null,
            "overflow_y": null,
            "padding": null,
            "right": null,
            "top": null,
            "visibility": null,
            "width": null
          }
        },
        "482ed6114d994c9f9f0ce934db75d653": {
          "model_module": "@jupyter-widgets/controls",
          "model_name": "ProgressStyleModel",
          "model_module_version": "1.5.0",
          "state": {
            "_model_module": "@jupyter-widgets/controls",
            "_model_module_version": "1.5.0",
            "_model_name": "ProgressStyleModel",
            "_view_count": null,
            "_view_module": "@jupyter-widgets/base",
            "_view_module_version": "1.2.0",
            "_view_name": "StyleView",
            "bar_color": null,
            "description_width": ""
          }
        },
        "6986b83532164c76bfcce3ffee8c4213": {
          "model_module": "@jupyter-widgets/base",
          "model_name": "LayoutModel",
          "model_module_version": "1.2.0",
          "state": {
            "_model_module": "@jupyter-widgets/base",
            "_model_module_version": "1.2.0",
            "_model_name": "LayoutModel",
            "_view_count": null,
            "_view_module": "@jupyter-widgets/base",
            "_view_module_version": "1.2.0",
            "_view_name": "LayoutView",
            "align_content": null,
            "align_items": null,
            "align_self": null,
            "border": null,
            "bottom": null,
            "display": null,
            "flex": null,
            "flex_flow": null,
            "grid_area": null,
            "grid_auto_columns": null,
            "grid_auto_flow": null,
            "grid_auto_rows": null,
            "grid_column": null,
            "grid_gap": null,
            "grid_row": null,
            "grid_template_areas": null,
            "grid_template_columns": null,
            "grid_template_rows": null,
            "height": null,
            "justify_content": null,
            "justify_items": null,
            "left": null,
            "margin": null,
            "max_height": null,
            "max_width": null,
            "min_height": null,
            "min_width": null,
            "object_fit": null,
            "object_position": null,
            "order": null,
            "overflow": null,
            "overflow_x": null,
            "overflow_y": null,
            "padding": null,
            "right": null,
            "top": null,
            "visibility": null,
            "width": null
          }
        },
        "3e010f98752743a6b947cccb680c9931": {
          "model_module": "@jupyter-widgets/controls",
          "model_name": "DescriptionStyleModel",
          "model_module_version": "1.5.0",
          "state": {
            "_model_module": "@jupyter-widgets/controls",
            "_model_module_version": "1.5.0",
            "_model_name": "DescriptionStyleModel",
            "_view_count": null,
            "_view_module": "@jupyter-widgets/base",
            "_view_module_version": "1.2.0",
            "_view_name": "StyleView",
            "description_width": ""
          }
        },
        "b327b9f9975242478d5f6c3759564d13": {
          "model_module": "@jupyter-widgets/controls",
          "model_name": "HBoxModel",
          "model_module_version": "1.5.0",
          "state": {
            "_dom_classes": [],
            "_model_module": "@jupyter-widgets/controls",
            "_model_module_version": "1.5.0",
            "_model_name": "HBoxModel",
            "_view_count": null,
            "_view_module": "@jupyter-widgets/controls",
            "_view_module_version": "1.5.0",
            "_view_name": "HBoxView",
            "box_style": "",
            "children": [
              "IPY_MODEL_1327932434c64154be9aadb2f366966a",
              "IPY_MODEL_d99c1d1187ad4ac38f17552e4a0e4849",
              "IPY_MODEL_c779d3683bfc44c185d6fd90cf43bacc"
            ],
            "layout": "IPY_MODEL_efcf4157898f48d9838d2776091e725e"
          }
        },
        "1327932434c64154be9aadb2f366966a": {
          "model_module": "@jupyter-widgets/controls",
          "model_name": "HTMLModel",
          "model_module_version": "1.5.0",
          "state": {
            "_dom_classes": [],
            "_model_module": "@jupyter-widgets/controls",
            "_model_module_version": "1.5.0",
            "_model_name": "HTMLModel",
            "_view_count": null,
            "_view_module": "@jupyter-widgets/controls",
            "_view_module_version": "1.5.0",
            "_view_name": "HTMLView",
            "description": "",
            "description_tooltip": null,
            "layout": "IPY_MODEL_51322b1b366449219333a94c525e2cef",
            "placeholder": "​",
            "style": "IPY_MODEL_95a85f15710e40bb961918be69d7b1da",
            "value": "Downloading shards: 100%"
          }
        },
        "d99c1d1187ad4ac38f17552e4a0e4849": {
          "model_module": "@jupyter-widgets/controls",
          "model_name": "FloatProgressModel",
          "model_module_version": "1.5.0",
          "state": {
            "_dom_classes": [],
            "_model_module": "@jupyter-widgets/controls",
            "_model_module_version": "1.5.0",
            "_model_name": "FloatProgressModel",
            "_view_count": null,
            "_view_module": "@jupyter-widgets/controls",
            "_view_module_version": "1.5.0",
            "_view_name": "ProgressView",
            "bar_style": "success",
            "description": "",
            "description_tooltip": null,
            "layout": "IPY_MODEL_19e23dd96a434f449c54c6197d18785e",
            "max": 2,
            "min": 0,
            "orientation": "horizontal",
            "style": "IPY_MODEL_c25c5385bb7f46c3a12e3483e910d300",
            "value": 2
          }
        },
        "c779d3683bfc44c185d6fd90cf43bacc": {
          "model_module": "@jupyter-widgets/controls",
          "model_name": "HTMLModel",
          "model_module_version": "1.5.0",
          "state": {
            "_dom_classes": [],
            "_model_module": "@jupyter-widgets/controls",
            "_model_module_version": "1.5.0",
            "_model_name": "HTMLModel",
            "_view_count": null,
            "_view_module": "@jupyter-widgets/controls",
            "_view_module_version": "1.5.0",
            "_view_name": "HTMLView",
            "description": "",
            "description_tooltip": null,
            "layout": "IPY_MODEL_c0bd6d71f5c040ef92a7bd93a0ec6eb5",
            "placeholder": "​",
            "style": "IPY_MODEL_71450aa13b6846be986d8b466985d176",
            "value": " 2/2 [02:06&lt;00:00, 58.52s/it]"
          }
        },
        "efcf4157898f48d9838d2776091e725e": {
          "model_module": "@jupyter-widgets/base",
          "model_name": "LayoutModel",
          "model_module_version": "1.2.0",
          "state": {
            "_model_module": "@jupyter-widgets/base",
            "_model_module_version": "1.2.0",
            "_model_name": "LayoutModel",
            "_view_count": null,
            "_view_module": "@jupyter-widgets/base",
            "_view_module_version": "1.2.0",
            "_view_name": "LayoutView",
            "align_content": null,
            "align_items": null,
            "align_self": null,
            "border": null,
            "bottom": null,
            "display": null,
            "flex": null,
            "flex_flow": null,
            "grid_area": null,
            "grid_auto_columns": null,
            "grid_auto_flow": null,
            "grid_auto_rows": null,
            "grid_column": null,
            "grid_gap": null,
            "grid_row": null,
            "grid_template_areas": null,
            "grid_template_columns": null,
            "grid_template_rows": null,
            "height": null,
            "justify_content": null,
            "justify_items": null,
            "left": null,
            "margin": null,
            "max_height": null,
            "max_width": null,
            "min_height": null,
            "min_width": null,
            "object_fit": null,
            "object_position": null,
            "order": null,
            "overflow": null,
            "overflow_x": null,
            "overflow_y": null,
            "padding": null,
            "right": null,
            "top": null,
            "visibility": null,
            "width": null
          }
        },
        "51322b1b366449219333a94c525e2cef": {
          "model_module": "@jupyter-widgets/base",
          "model_name": "LayoutModel",
          "model_module_version": "1.2.0",
          "state": {
            "_model_module": "@jupyter-widgets/base",
            "_model_module_version": "1.2.0",
            "_model_name": "LayoutModel",
            "_view_count": null,
            "_view_module": "@jupyter-widgets/base",
            "_view_module_version": "1.2.0",
            "_view_name": "LayoutView",
            "align_content": null,
            "align_items": null,
            "align_self": null,
            "border": null,
            "bottom": null,
            "display": null,
            "flex": null,
            "flex_flow": null,
            "grid_area": null,
            "grid_auto_columns": null,
            "grid_auto_flow": null,
            "grid_auto_rows": null,
            "grid_column": null,
            "grid_gap": null,
            "grid_row": null,
            "grid_template_areas": null,
            "grid_template_columns": null,
            "grid_template_rows": null,
            "height": null,
            "justify_content": null,
            "justify_items": null,
            "left": null,
            "margin": null,
            "max_height": null,
            "max_width": null,
            "min_height": null,
            "min_width": null,
            "object_fit": null,
            "object_position": null,
            "order": null,
            "overflow": null,
            "overflow_x": null,
            "overflow_y": null,
            "padding": null,
            "right": null,
            "top": null,
            "visibility": null,
            "width": null
          }
        },
        "95a85f15710e40bb961918be69d7b1da": {
          "model_module": "@jupyter-widgets/controls",
          "model_name": "DescriptionStyleModel",
          "model_module_version": "1.5.0",
          "state": {
            "_model_module": "@jupyter-widgets/controls",
            "_model_module_version": "1.5.0",
            "_model_name": "DescriptionStyleModel",
            "_view_count": null,
            "_view_module": "@jupyter-widgets/base",
            "_view_module_version": "1.2.0",
            "_view_name": "StyleView",
            "description_width": ""
          }
        },
        "19e23dd96a434f449c54c6197d18785e": {
          "model_module": "@jupyter-widgets/base",
          "model_name": "LayoutModel",
          "model_module_version": "1.2.0",
          "state": {
            "_model_module": "@jupyter-widgets/base",
            "_model_module_version": "1.2.0",
            "_model_name": "LayoutModel",
            "_view_count": null,
            "_view_module": "@jupyter-widgets/base",
            "_view_module_version": "1.2.0",
            "_view_name": "LayoutView",
            "align_content": null,
            "align_items": null,
            "align_self": null,
            "border": null,
            "bottom": null,
            "display": null,
            "flex": null,
            "flex_flow": null,
            "grid_area": null,
            "grid_auto_columns": null,
            "grid_auto_flow": null,
            "grid_auto_rows": null,
            "grid_column": null,
            "grid_gap": null,
            "grid_row": null,
            "grid_template_areas": null,
            "grid_template_columns": null,
            "grid_template_rows": null,
            "height": null,
            "justify_content": null,
            "justify_items": null,
            "left": null,
            "margin": null,
            "max_height": null,
            "max_width": null,
            "min_height": null,
            "min_width": null,
            "object_fit": null,
            "object_position": null,
            "order": null,
            "overflow": null,
            "overflow_x": null,
            "overflow_y": null,
            "padding": null,
            "right": null,
            "top": null,
            "visibility": null,
            "width": null
          }
        },
        "c25c5385bb7f46c3a12e3483e910d300": {
          "model_module": "@jupyter-widgets/controls",
          "model_name": "ProgressStyleModel",
          "model_module_version": "1.5.0",
          "state": {
            "_model_module": "@jupyter-widgets/controls",
            "_model_module_version": "1.5.0",
            "_model_name": "ProgressStyleModel",
            "_view_count": null,
            "_view_module": "@jupyter-widgets/base",
            "_view_module_version": "1.2.0",
            "_view_name": "StyleView",
            "bar_color": null,
            "description_width": ""
          }
        },
        "c0bd6d71f5c040ef92a7bd93a0ec6eb5": {
          "model_module": "@jupyter-widgets/base",
          "model_name": "LayoutModel",
          "model_module_version": "1.2.0",
          "state": {
            "_model_module": "@jupyter-widgets/base",
            "_model_module_version": "1.2.0",
            "_model_name": "LayoutModel",
            "_view_count": null,
            "_view_module": "@jupyter-widgets/base",
            "_view_module_version": "1.2.0",
            "_view_name": "LayoutView",
            "align_content": null,
            "align_items": null,
            "align_self": null,
            "border": null,
            "bottom": null,
            "display": null,
            "flex": null,
            "flex_flow": null,
            "grid_area": null,
            "grid_auto_columns": null,
            "grid_auto_flow": null,
            "grid_auto_rows": null,
            "grid_column": null,
            "grid_gap": null,
            "grid_row": null,
            "grid_template_areas": null,
            "grid_template_columns": null,
            "grid_template_rows": null,
            "height": null,
            "justify_content": null,
            "justify_items": null,
            "left": null,
            "margin": null,
            "max_height": null,
            "max_width": null,
            "min_height": null,
            "min_width": null,
            "object_fit": null,
            "object_position": null,
            "order": null,
            "overflow": null,
            "overflow_x": null,
            "overflow_y": null,
            "padding": null,
            "right": null,
            "top": null,
            "visibility": null,
            "width": null
          }
        },
        "71450aa13b6846be986d8b466985d176": {
          "model_module": "@jupyter-widgets/controls",
          "model_name": "DescriptionStyleModel",
          "model_module_version": "1.5.0",
          "state": {
            "_model_module": "@jupyter-widgets/controls",
            "_model_module_version": "1.5.0",
            "_model_name": "DescriptionStyleModel",
            "_view_count": null,
            "_view_module": "@jupyter-widgets/base",
            "_view_module_version": "1.2.0",
            "_view_name": "StyleView",
            "description_width": ""
          }
        },
        "bb4c495411a4412aa36443e70126c5bf": {
          "model_module": "@jupyter-widgets/controls",
          "model_name": "HBoxModel",
          "model_module_version": "1.5.0",
          "state": {
            "_dom_classes": [],
            "_model_module": "@jupyter-widgets/controls",
            "_model_module_version": "1.5.0",
            "_model_name": "HBoxModel",
            "_view_count": null,
            "_view_module": "@jupyter-widgets/controls",
            "_view_module_version": "1.5.0",
            "_view_name": "HBoxView",
            "box_style": "",
            "children": [
              "IPY_MODEL_e448c812563a416dad16717d7733a454",
              "IPY_MODEL_4056b75ff5d54d74b1edfe16ccfdc33a",
              "IPY_MODEL_1f3e2fbfc9c64c74b578c0ee9108a673"
            ],
            "layout": "IPY_MODEL_e6a96d335a3a417d92da9923bf2b4af6"
          }
        },
        "e448c812563a416dad16717d7733a454": {
          "model_module": "@jupyter-widgets/controls",
          "model_name": "HTMLModel",
          "model_module_version": "1.5.0",
          "state": {
            "_dom_classes": [],
            "_model_module": "@jupyter-widgets/controls",
            "_model_module_version": "1.5.0",
            "_model_name": "HTMLModel",
            "_view_count": null,
            "_view_module": "@jupyter-widgets/controls",
            "_view_module_version": "1.5.0",
            "_view_name": "HTMLView",
            "description": "",
            "description_tooltip": null,
            "layout": "IPY_MODEL_38cccb715ef84b64bd629b24365edcac",
            "placeholder": "​",
            "style": "IPY_MODEL_49701601bb164f26a487f464171914d4",
            "value": "model-00001-of-00002.safetensors: 100%"
          }
        },
        "4056b75ff5d54d74b1edfe16ccfdc33a": {
          "model_module": "@jupyter-widgets/controls",
          "model_name": "FloatProgressModel",
          "model_module_version": "1.5.0",
          "state": {
            "_dom_classes": [],
            "_model_module": "@jupyter-widgets/controls",
            "_model_module_version": "1.5.0",
            "_model_name": "FloatProgressModel",
            "_view_count": null,
            "_view_module": "@jupyter-widgets/controls",
            "_view_module_version": "1.5.0",
            "_view_name": "ProgressView",
            "bar_style": "success",
            "description": "",
            "description_tooltip": null,
            "layout": "IPY_MODEL_a4138dc97a7b4a309aa371d5412a94df",
            "max": 9992133696,
            "min": 0,
            "orientation": "horizontal",
            "style": "IPY_MODEL_a9b10de4442046f2a89a2f5938ed98a5",
            "value": 9992133696
          }
        },
        "1f3e2fbfc9c64c74b578c0ee9108a673": {
          "model_module": "@jupyter-widgets/controls",
          "model_name": "HTMLModel",
          "model_module_version": "1.5.0",
          "state": {
            "_dom_classes": [],
            "_model_module": "@jupyter-widgets/controls",
            "_model_module_version": "1.5.0",
            "_model_name": "HTMLModel",
            "_view_count": null,
            "_view_module": "@jupyter-widgets/controls",
            "_view_module_version": "1.5.0",
            "_view_name": "HTMLView",
            "description": "",
            "description_tooltip": null,
            "layout": "IPY_MODEL_bca1f71d7a7642aeb89f7f80c9c5a427",
            "placeholder": "​",
            "style": "IPY_MODEL_d423c719895f44e8b3e0e9b4d25e6f5a",
            "value": " 9.99G/9.99G [01:28&lt;00:00, 119MB/s]"
          }
        },
        "e6a96d335a3a417d92da9923bf2b4af6": {
          "model_module": "@jupyter-widgets/base",
          "model_name": "LayoutModel",
          "model_module_version": "1.2.0",
          "state": {
            "_model_module": "@jupyter-widgets/base",
            "_model_module_version": "1.2.0",
            "_model_name": "LayoutModel",
            "_view_count": null,
            "_view_module": "@jupyter-widgets/base",
            "_view_module_version": "1.2.0",
            "_view_name": "LayoutView",
            "align_content": null,
            "align_items": null,
            "align_self": null,
            "border": null,
            "bottom": null,
            "display": null,
            "flex": null,
            "flex_flow": null,
            "grid_area": null,
            "grid_auto_columns": null,
            "grid_auto_flow": null,
            "grid_auto_rows": null,
            "grid_column": null,
            "grid_gap": null,
            "grid_row": null,
            "grid_template_areas": null,
            "grid_template_columns": null,
            "grid_template_rows": null,
            "height": null,
            "justify_content": null,
            "justify_items": null,
            "left": null,
            "margin": null,
            "max_height": null,
            "max_width": null,
            "min_height": null,
            "min_width": null,
            "object_fit": null,
            "object_position": null,
            "order": null,
            "overflow": null,
            "overflow_x": null,
            "overflow_y": null,
            "padding": null,
            "right": null,
            "top": null,
            "visibility": null,
            "width": null
          }
        },
        "38cccb715ef84b64bd629b24365edcac": {
          "model_module": "@jupyter-widgets/base",
          "model_name": "LayoutModel",
          "model_module_version": "1.2.0",
          "state": {
            "_model_module": "@jupyter-widgets/base",
            "_model_module_version": "1.2.0",
            "_model_name": "LayoutModel",
            "_view_count": null,
            "_view_module": "@jupyter-widgets/base",
            "_view_module_version": "1.2.0",
            "_view_name": "LayoutView",
            "align_content": null,
            "align_items": null,
            "align_self": null,
            "border": null,
            "bottom": null,
            "display": null,
            "flex": null,
            "flex_flow": null,
            "grid_area": null,
            "grid_auto_columns": null,
            "grid_auto_flow": null,
            "grid_auto_rows": null,
            "grid_column": null,
            "grid_gap": null,
            "grid_row": null,
            "grid_template_areas": null,
            "grid_template_columns": null,
            "grid_template_rows": null,
            "height": null,
            "justify_content": null,
            "justify_items": null,
            "left": null,
            "margin": null,
            "max_height": null,
            "max_width": null,
            "min_height": null,
            "min_width": null,
            "object_fit": null,
            "object_position": null,
            "order": null,
            "overflow": null,
            "overflow_x": null,
            "overflow_y": null,
            "padding": null,
            "right": null,
            "top": null,
            "visibility": null,
            "width": null
          }
        },
        "49701601bb164f26a487f464171914d4": {
          "model_module": "@jupyter-widgets/controls",
          "model_name": "DescriptionStyleModel",
          "model_module_version": "1.5.0",
          "state": {
            "_model_module": "@jupyter-widgets/controls",
            "_model_module_version": "1.5.0",
            "_model_name": "DescriptionStyleModel",
            "_view_count": null,
            "_view_module": "@jupyter-widgets/base",
            "_view_module_version": "1.2.0",
            "_view_name": "StyleView",
            "description_width": ""
          }
        },
        "a4138dc97a7b4a309aa371d5412a94df": {
          "model_module": "@jupyter-widgets/base",
          "model_name": "LayoutModel",
          "model_module_version": "1.2.0",
          "state": {
            "_model_module": "@jupyter-widgets/base",
            "_model_module_version": "1.2.0",
            "_model_name": "LayoutModel",
            "_view_count": null,
            "_view_module": "@jupyter-widgets/base",
            "_view_module_version": "1.2.0",
            "_view_name": "LayoutView",
            "align_content": null,
            "align_items": null,
            "align_self": null,
            "border": null,
            "bottom": null,
            "display": null,
            "flex": null,
            "flex_flow": null,
            "grid_area": null,
            "grid_auto_columns": null,
            "grid_auto_flow": null,
            "grid_auto_rows": null,
            "grid_column": null,
            "grid_gap": null,
            "grid_row": null,
            "grid_template_areas": null,
            "grid_template_columns": null,
            "grid_template_rows": null,
            "height": null,
            "justify_content": null,
            "justify_items": null,
            "left": null,
            "margin": null,
            "max_height": null,
            "max_width": null,
            "min_height": null,
            "min_width": null,
            "object_fit": null,
            "object_position": null,
            "order": null,
            "overflow": null,
            "overflow_x": null,
            "overflow_y": null,
            "padding": null,
            "right": null,
            "top": null,
            "visibility": null,
            "width": null
          }
        },
        "a9b10de4442046f2a89a2f5938ed98a5": {
          "model_module": "@jupyter-widgets/controls",
          "model_name": "ProgressStyleModel",
          "model_module_version": "1.5.0",
          "state": {
            "_model_module": "@jupyter-widgets/controls",
            "_model_module_version": "1.5.0",
            "_model_name": "ProgressStyleModel",
            "_view_count": null,
            "_view_module": "@jupyter-widgets/base",
            "_view_module_version": "1.2.0",
            "_view_name": "StyleView",
            "bar_color": null,
            "description_width": ""
          }
        },
        "bca1f71d7a7642aeb89f7f80c9c5a427": {
          "model_module": "@jupyter-widgets/base",
          "model_name": "LayoutModel",
          "model_module_version": "1.2.0",
          "state": {
            "_model_module": "@jupyter-widgets/base",
            "_model_module_version": "1.2.0",
            "_model_name": "LayoutModel",
            "_view_count": null,
            "_view_module": "@jupyter-widgets/base",
            "_view_module_version": "1.2.0",
            "_view_name": "LayoutView",
            "align_content": null,
            "align_items": null,
            "align_self": null,
            "border": null,
            "bottom": null,
            "display": null,
            "flex": null,
            "flex_flow": null,
            "grid_area": null,
            "grid_auto_columns": null,
            "grid_auto_flow": null,
            "grid_auto_rows": null,
            "grid_column": null,
            "grid_gap": null,
            "grid_row": null,
            "grid_template_areas": null,
            "grid_template_columns": null,
            "grid_template_rows": null,
            "height": null,
            "justify_content": null,
            "justify_items": null,
            "left": null,
            "margin": null,
            "max_height": null,
            "max_width": null,
            "min_height": null,
            "min_width": null,
            "object_fit": null,
            "object_position": null,
            "order": null,
            "overflow": null,
            "overflow_x": null,
            "overflow_y": null,
            "padding": null,
            "right": null,
            "top": null,
            "visibility": null,
            "width": null
          }
        },
        "d423c719895f44e8b3e0e9b4d25e6f5a": {
          "model_module": "@jupyter-widgets/controls",
          "model_name": "DescriptionStyleModel",
          "model_module_version": "1.5.0",
          "state": {
            "_model_module": "@jupyter-widgets/controls",
            "_model_module_version": "1.5.0",
            "_model_name": "DescriptionStyleModel",
            "_view_count": null,
            "_view_module": "@jupyter-widgets/base",
            "_view_module_version": "1.2.0",
            "_view_name": "StyleView",
            "description_width": ""
          }
        },
        "e5f6d8144dad4f0fbb18ebe47fd5159f": {
          "model_module": "@jupyter-widgets/controls",
          "model_name": "HBoxModel",
          "model_module_version": "1.5.0",
          "state": {
            "_dom_classes": [],
            "_model_module": "@jupyter-widgets/controls",
            "_model_module_version": "1.5.0",
            "_model_name": "HBoxModel",
            "_view_count": null,
            "_view_module": "@jupyter-widgets/controls",
            "_view_module_version": "1.5.0",
            "_view_name": "HBoxView",
            "box_style": "",
            "children": [
              "IPY_MODEL_2bb096cb4e9641549c4174f54560274d",
              "IPY_MODEL_a659388786d34f2896889a55e756aaf9",
              "IPY_MODEL_c8109577100e489c86a2bdff3b688346"
            ],
            "layout": "IPY_MODEL_bf5fea27ec60412fb0a34cb3d008ee1c"
          }
        },
        "2bb096cb4e9641549c4174f54560274d": {
          "model_module": "@jupyter-widgets/controls",
          "model_name": "HTMLModel",
          "model_module_version": "1.5.0",
          "state": {
            "_dom_classes": [],
            "_model_module": "@jupyter-widgets/controls",
            "_model_module_version": "1.5.0",
            "_model_name": "HTMLModel",
            "_view_count": null,
            "_view_module": "@jupyter-widgets/controls",
            "_view_module_version": "1.5.0",
            "_view_name": "HTMLView",
            "description": "",
            "description_tooltip": null,
            "layout": "IPY_MODEL_ad2d6a8fcfa34a22977a81b7ce85c872",
            "placeholder": "​",
            "style": "IPY_MODEL_bf90ebf3b9e54c31ad7852e00f27be78",
            "value": "model-00002-of-00002.safetensors: 100%"
          }
        },
        "a659388786d34f2896889a55e756aaf9": {
          "model_module": "@jupyter-widgets/controls",
          "model_name": "FloatProgressModel",
          "model_module_version": "1.5.0",
          "state": {
            "_dom_classes": [],
            "_model_module": "@jupyter-widgets/controls",
            "_model_module_version": "1.5.0",
            "_model_name": "FloatProgressModel",
            "_view_count": null,
            "_view_module": "@jupyter-widgets/controls",
            "_view_module_version": "1.5.0",
            "_view_name": "ProgressView",
            "bar_style": "success",
            "description": "",
            "description_tooltip": null,
            "layout": "IPY_MODEL_298e3b4a370a4327a2963b29c723f97a",
            "max": 4589668352,
            "min": 0,
            "orientation": "horizontal",
            "style": "IPY_MODEL_c7eb07d121694980a2ec2b9009fae0ef",
            "value": 4589668352
          }
        },
        "c8109577100e489c86a2bdff3b688346": {
          "model_module": "@jupyter-widgets/controls",
          "model_name": "HTMLModel",
          "model_module_version": "1.5.0",
          "state": {
            "_dom_classes": [],
            "_model_module": "@jupyter-widgets/controls",
            "_model_module_version": "1.5.0",
            "_model_name": "HTMLModel",
            "_view_count": null,
            "_view_module": "@jupyter-widgets/controls",
            "_view_module_version": "1.5.0",
            "_view_name": "HTMLView",
            "description": "",
            "description_tooltip": null,
            "layout": "IPY_MODEL_3e9ab4b70c324522b03a7b84e096a8dd",
            "placeholder": "​",
            "style": "IPY_MODEL_dc202c0e967e40cf81d48dd3d186cd34",
            "value": " 4.59G/4.59G [00:36&lt;00:00, 94.9MB/s]"
          }
        },
        "bf5fea27ec60412fb0a34cb3d008ee1c": {
          "model_module": "@jupyter-widgets/base",
          "model_name": "LayoutModel",
          "model_module_version": "1.2.0",
          "state": {
            "_model_module": "@jupyter-widgets/base",
            "_model_module_version": "1.2.0",
            "_model_name": "LayoutModel",
            "_view_count": null,
            "_view_module": "@jupyter-widgets/base",
            "_view_module_version": "1.2.0",
            "_view_name": "LayoutView",
            "align_content": null,
            "align_items": null,
            "align_self": null,
            "border": null,
            "bottom": null,
            "display": null,
            "flex": null,
            "flex_flow": null,
            "grid_area": null,
            "grid_auto_columns": null,
            "grid_auto_flow": null,
            "grid_auto_rows": null,
            "grid_column": null,
            "grid_gap": null,
            "grid_row": null,
            "grid_template_areas": null,
            "grid_template_columns": null,
            "grid_template_rows": null,
            "height": null,
            "justify_content": null,
            "justify_items": null,
            "left": null,
            "margin": null,
            "max_height": null,
            "max_width": null,
            "min_height": null,
            "min_width": null,
            "object_fit": null,
            "object_position": null,
            "order": null,
            "overflow": null,
            "overflow_x": null,
            "overflow_y": null,
            "padding": null,
            "right": null,
            "top": null,
            "visibility": null,
            "width": null
          }
        },
        "ad2d6a8fcfa34a22977a81b7ce85c872": {
          "model_module": "@jupyter-widgets/base",
          "model_name": "LayoutModel",
          "model_module_version": "1.2.0",
          "state": {
            "_model_module": "@jupyter-widgets/base",
            "_model_module_version": "1.2.0",
            "_model_name": "LayoutModel",
            "_view_count": null,
            "_view_module": "@jupyter-widgets/base",
            "_view_module_version": "1.2.0",
            "_view_name": "LayoutView",
            "align_content": null,
            "align_items": null,
            "align_self": null,
            "border": null,
            "bottom": null,
            "display": null,
            "flex": null,
            "flex_flow": null,
            "grid_area": null,
            "grid_auto_columns": null,
            "grid_auto_flow": null,
            "grid_auto_rows": null,
            "grid_column": null,
            "grid_gap": null,
            "grid_row": null,
            "grid_template_areas": null,
            "grid_template_columns": null,
            "grid_template_rows": null,
            "height": null,
            "justify_content": null,
            "justify_items": null,
            "left": null,
            "margin": null,
            "max_height": null,
            "max_width": null,
            "min_height": null,
            "min_width": null,
            "object_fit": null,
            "object_position": null,
            "order": null,
            "overflow": null,
            "overflow_x": null,
            "overflow_y": null,
            "padding": null,
            "right": null,
            "top": null,
            "visibility": null,
            "width": null
          }
        },
        "bf90ebf3b9e54c31ad7852e00f27be78": {
          "model_module": "@jupyter-widgets/controls",
          "model_name": "DescriptionStyleModel",
          "model_module_version": "1.5.0",
          "state": {
            "_model_module": "@jupyter-widgets/controls",
            "_model_module_version": "1.5.0",
            "_model_name": "DescriptionStyleModel",
            "_view_count": null,
            "_view_module": "@jupyter-widgets/base",
            "_view_module_version": "1.2.0",
            "_view_name": "StyleView",
            "description_width": ""
          }
        },
        "298e3b4a370a4327a2963b29c723f97a": {
          "model_module": "@jupyter-widgets/base",
          "model_name": "LayoutModel",
          "model_module_version": "1.2.0",
          "state": {
            "_model_module": "@jupyter-widgets/base",
            "_model_module_version": "1.2.0",
            "_model_name": "LayoutModel",
            "_view_count": null,
            "_view_module": "@jupyter-widgets/base",
            "_view_module_version": "1.2.0",
            "_view_name": "LayoutView",
            "align_content": null,
            "align_items": null,
            "align_self": null,
            "border": null,
            "bottom": null,
            "display": null,
            "flex": null,
            "flex_flow": null,
            "grid_area": null,
            "grid_auto_columns": null,
            "grid_auto_flow": null,
            "grid_auto_rows": null,
            "grid_column": null,
            "grid_gap": null,
            "grid_row": null,
            "grid_template_areas": null,
            "grid_template_columns": null,
            "grid_template_rows": null,
            "height": null,
            "justify_content": null,
            "justify_items": null,
            "left": null,
            "margin": null,
            "max_height": null,
            "max_width": null,
            "min_height": null,
            "min_width": null,
            "object_fit": null,
            "object_position": null,
            "order": null,
            "overflow": null,
            "overflow_x": null,
            "overflow_y": null,
            "padding": null,
            "right": null,
            "top": null,
            "visibility": null,
            "width": null
          }
        },
        "c7eb07d121694980a2ec2b9009fae0ef": {
          "model_module": "@jupyter-widgets/controls",
          "model_name": "ProgressStyleModel",
          "model_module_version": "1.5.0",
          "state": {
            "_model_module": "@jupyter-widgets/controls",
            "_model_module_version": "1.5.0",
            "_model_name": "ProgressStyleModel",
            "_view_count": null,
            "_view_module": "@jupyter-widgets/base",
            "_view_module_version": "1.2.0",
            "_view_name": "StyleView",
            "bar_color": null,
            "description_width": ""
          }
        },
        "3e9ab4b70c324522b03a7b84e096a8dd": {
          "model_module": "@jupyter-widgets/base",
          "model_name": "LayoutModel",
          "model_module_version": "1.2.0",
          "state": {
            "_model_module": "@jupyter-widgets/base",
            "_model_module_version": "1.2.0",
            "_model_name": "LayoutModel",
            "_view_count": null,
            "_view_module": "@jupyter-widgets/base",
            "_view_module_version": "1.2.0",
            "_view_name": "LayoutView",
            "align_content": null,
            "align_items": null,
            "align_self": null,
            "border": null,
            "bottom": null,
            "display": null,
            "flex": null,
            "flex_flow": null,
            "grid_area": null,
            "grid_auto_columns": null,
            "grid_auto_flow": null,
            "grid_auto_rows": null,
            "grid_column": null,
            "grid_gap": null,
            "grid_row": null,
            "grid_template_areas": null,
            "grid_template_columns": null,
            "grid_template_rows": null,
            "height": null,
            "justify_content": null,
            "justify_items": null,
            "left": null,
            "margin": null,
            "max_height": null,
            "max_width": null,
            "min_height": null,
            "min_width": null,
            "object_fit": null,
            "object_position": null,
            "order": null,
            "overflow": null,
            "overflow_x": null,
            "overflow_y": null,
            "padding": null,
            "right": null,
            "top": null,
            "visibility": null,
            "width": null
          }
        },
        "dc202c0e967e40cf81d48dd3d186cd34": {
          "model_module": "@jupyter-widgets/controls",
          "model_name": "DescriptionStyleModel",
          "model_module_version": "1.5.0",
          "state": {
            "_model_module": "@jupyter-widgets/controls",
            "_model_module_version": "1.5.0",
            "_model_name": "DescriptionStyleModel",
            "_view_count": null,
            "_view_module": "@jupyter-widgets/base",
            "_view_module_version": "1.2.0",
            "_view_name": "StyleView",
            "description_width": ""
          }
        },
        "a8b0f1a695fa4e36946e2517005fc9db": {
          "model_module": "@jupyter-widgets/controls",
          "model_name": "HBoxModel",
          "model_module_version": "1.5.0",
          "state": {
            "_dom_classes": [],
            "_model_module": "@jupyter-widgets/controls",
            "_model_module_version": "1.5.0",
            "_model_name": "HBoxModel",
            "_view_count": null,
            "_view_module": "@jupyter-widgets/controls",
            "_view_module_version": "1.5.0",
            "_view_name": "HBoxView",
            "box_style": "",
            "children": [
              "IPY_MODEL_08f8fd26e9784ce48555a6d8024cba86",
              "IPY_MODEL_db54def78aa8425190f11dae8e81e4ce",
              "IPY_MODEL_ff0ab189386448a7b953a5d78334f2fd"
            ],
            "layout": "IPY_MODEL_e17efa8bb46942ebb81c17a8f8bab2fd"
          }
        },
        "08f8fd26e9784ce48555a6d8024cba86": {
          "model_module": "@jupyter-widgets/controls",
          "model_name": "HTMLModel",
          "model_module_version": "1.5.0",
          "state": {
            "_dom_classes": [],
            "_model_module": "@jupyter-widgets/controls",
            "_model_module_version": "1.5.0",
            "_model_name": "HTMLModel",
            "_view_count": null,
            "_view_module": "@jupyter-widgets/controls",
            "_view_module_version": "1.5.0",
            "_view_name": "HTMLView",
            "description": "",
            "description_tooltip": null,
            "layout": "IPY_MODEL_ef7b1cb5008b415098cbaddd4c0df589",
            "placeholder": "​",
            "style": "IPY_MODEL_76068d62098c493d9150c43ea11e28e2",
            "value": "Loading checkpoint shards: 100%"
          }
        },
        "db54def78aa8425190f11dae8e81e4ce": {
          "model_module": "@jupyter-widgets/controls",
          "model_name": "FloatProgressModel",
          "model_module_version": "1.5.0",
          "state": {
            "_dom_classes": [],
            "_model_module": "@jupyter-widgets/controls",
            "_model_module_version": "1.5.0",
            "_model_name": "FloatProgressModel",
            "_view_count": null,
            "_view_module": "@jupyter-widgets/controls",
            "_view_module_version": "1.5.0",
            "_view_name": "ProgressView",
            "bar_style": "success",
            "description": "",
            "description_tooltip": null,
            "layout": "IPY_MODEL_5a50862d6f534a479ddce05f68c63e6a",
            "max": 2,
            "min": 0,
            "orientation": "horizontal",
            "style": "IPY_MODEL_0eb6cbc0b25446aab9c0eedee0fa32ba",
            "value": 2
          }
        },
        "ff0ab189386448a7b953a5d78334f2fd": {
          "model_module": "@jupyter-widgets/controls",
          "model_name": "HTMLModel",
          "model_module_version": "1.5.0",
          "state": {
            "_dom_classes": [],
            "_model_module": "@jupyter-widgets/controls",
            "_model_module_version": "1.5.0",
            "_model_name": "HTMLModel",
            "_view_count": null,
            "_view_module": "@jupyter-widgets/controls",
            "_view_module_version": "1.5.0",
            "_view_name": "HTMLView",
            "description": "",
            "description_tooltip": null,
            "layout": "IPY_MODEL_717a1d0f750947c0b165e0f6637d4411",
            "placeholder": "​",
            "style": "IPY_MODEL_32611003d7f74c8989efab69bf45cdce",
            "value": " 2/2 [00:00&lt;00:00,  2.51it/s]"
          }
        },
        "e17efa8bb46942ebb81c17a8f8bab2fd": {
          "model_module": "@jupyter-widgets/base",
          "model_name": "LayoutModel",
          "model_module_version": "1.2.0",
          "state": {
            "_model_module": "@jupyter-widgets/base",
            "_model_module_version": "1.2.0",
            "_model_name": "LayoutModel",
            "_view_count": null,
            "_view_module": "@jupyter-widgets/base",
            "_view_module_version": "1.2.0",
            "_view_name": "LayoutView",
            "align_content": null,
            "align_items": null,
            "align_self": null,
            "border": null,
            "bottom": null,
            "display": null,
            "flex": null,
            "flex_flow": null,
            "grid_area": null,
            "grid_auto_columns": null,
            "grid_auto_flow": null,
            "grid_auto_rows": null,
            "grid_column": null,
            "grid_gap": null,
            "grid_row": null,
            "grid_template_areas": null,
            "grid_template_columns": null,
            "grid_template_rows": null,
            "height": null,
            "justify_content": null,
            "justify_items": null,
            "left": null,
            "margin": null,
            "max_height": null,
            "max_width": null,
            "min_height": null,
            "min_width": null,
            "object_fit": null,
            "object_position": null,
            "order": null,
            "overflow": null,
            "overflow_x": null,
            "overflow_y": null,
            "padding": null,
            "right": null,
            "top": null,
            "visibility": null,
            "width": null
          }
        },
        "ef7b1cb5008b415098cbaddd4c0df589": {
          "model_module": "@jupyter-widgets/base",
          "model_name": "LayoutModel",
          "model_module_version": "1.2.0",
          "state": {
            "_model_module": "@jupyter-widgets/base",
            "_model_module_version": "1.2.0",
            "_model_name": "LayoutModel",
            "_view_count": null,
            "_view_module": "@jupyter-widgets/base",
            "_view_module_version": "1.2.0",
            "_view_name": "LayoutView",
            "align_content": null,
            "align_items": null,
            "align_self": null,
            "border": null,
            "bottom": null,
            "display": null,
            "flex": null,
            "flex_flow": null,
            "grid_area": null,
            "grid_auto_columns": null,
            "grid_auto_flow": null,
            "grid_auto_rows": null,
            "grid_column": null,
            "grid_gap": null,
            "grid_row": null,
            "grid_template_areas": null,
            "grid_template_columns": null,
            "grid_template_rows": null,
            "height": null,
            "justify_content": null,
            "justify_items": null,
            "left": null,
            "margin": null,
            "max_height": null,
            "max_width": null,
            "min_height": null,
            "min_width": null,
            "object_fit": null,
            "object_position": null,
            "order": null,
            "overflow": null,
            "overflow_x": null,
            "overflow_y": null,
            "padding": null,
            "right": null,
            "top": null,
            "visibility": null,
            "width": null
          }
        },
        "76068d62098c493d9150c43ea11e28e2": {
          "model_module": "@jupyter-widgets/controls",
          "model_name": "DescriptionStyleModel",
          "model_module_version": "1.5.0",
          "state": {
            "_model_module": "@jupyter-widgets/controls",
            "_model_module_version": "1.5.0",
            "_model_name": "DescriptionStyleModel",
            "_view_count": null,
            "_view_module": "@jupyter-widgets/base",
            "_view_module_version": "1.2.0",
            "_view_name": "StyleView",
            "description_width": ""
          }
        },
        "5a50862d6f534a479ddce05f68c63e6a": {
          "model_module": "@jupyter-widgets/base",
          "model_name": "LayoutModel",
          "model_module_version": "1.2.0",
          "state": {
            "_model_module": "@jupyter-widgets/base",
            "_model_module_version": "1.2.0",
            "_model_name": "LayoutModel",
            "_view_count": null,
            "_view_module": "@jupyter-widgets/base",
            "_view_module_version": "1.2.0",
            "_view_name": "LayoutView",
            "align_content": null,
            "align_items": null,
            "align_self": null,
            "border": null,
            "bottom": null,
            "display": null,
            "flex": null,
            "flex_flow": null,
            "grid_area": null,
            "grid_auto_columns": null,
            "grid_auto_flow": null,
            "grid_auto_rows": null,
            "grid_column": null,
            "grid_gap": null,
            "grid_row": null,
            "grid_template_areas": null,
            "grid_template_columns": null,
            "grid_template_rows": null,
            "height": null,
            "justify_content": null,
            "justify_items": null,
            "left": null,
            "margin": null,
            "max_height": null,
            "max_width": null,
            "min_height": null,
            "min_width": null,
            "object_fit": null,
            "object_position": null,
            "order": null,
            "overflow": null,
            "overflow_x": null,
            "overflow_y": null,
            "padding": null,
            "right": null,
            "top": null,
            "visibility": null,
            "width": null
          }
        },
        "0eb6cbc0b25446aab9c0eedee0fa32ba": {
          "model_module": "@jupyter-widgets/controls",
          "model_name": "ProgressStyleModel",
          "model_module_version": "1.5.0",
          "state": {
            "_model_module": "@jupyter-widgets/controls",
            "_model_module_version": "1.5.0",
            "_model_name": "ProgressStyleModel",
            "_view_count": null,
            "_view_module": "@jupyter-widgets/base",
            "_view_module_version": "1.2.0",
            "_view_name": "StyleView",
            "bar_color": null,
            "description_width": ""
          }
        },
        "717a1d0f750947c0b165e0f6637d4411": {
          "model_module": "@jupyter-widgets/base",
          "model_name": "LayoutModel",
          "model_module_version": "1.2.0",
          "state": {
            "_model_module": "@jupyter-widgets/base",
            "_model_module_version": "1.2.0",
            "_model_name": "LayoutModel",
            "_view_count": null,
            "_view_module": "@jupyter-widgets/base",
            "_view_module_version": "1.2.0",
            "_view_name": "LayoutView",
            "align_content": null,
            "align_items": null,
            "align_self": null,
            "border": null,
            "bottom": null,
            "display": null,
            "flex": null,
            "flex_flow": null,
            "grid_area": null,
            "grid_auto_columns": null,
            "grid_auto_flow": null,
            "grid_auto_rows": null,
            "grid_column": null,
            "grid_gap": null,
            "grid_row": null,
            "grid_template_areas": null,
            "grid_template_columns": null,
            "grid_template_rows": null,
            "height": null,
            "justify_content": null,
            "justify_items": null,
            "left": null,
            "margin": null,
            "max_height": null,
            "max_width": null,
            "min_height": null,
            "min_width": null,
            "object_fit": null,
            "object_position": null,
            "order": null,
            "overflow": null,
            "overflow_x": null,
            "overflow_y": null,
            "padding": null,
            "right": null,
            "top": null,
            "visibility": null,
            "width": null
          }
        },
        "32611003d7f74c8989efab69bf45cdce": {
          "model_module": "@jupyter-widgets/controls",
          "model_name": "DescriptionStyleModel",
          "model_module_version": "1.5.0",
          "state": {
            "_model_module": "@jupyter-widgets/controls",
            "_model_module_version": "1.5.0",
            "_model_name": "DescriptionStyleModel",
            "_view_count": null,
            "_view_module": "@jupyter-widgets/base",
            "_view_module_version": "1.2.0",
            "_view_name": "StyleView",
            "description_width": ""
          }
        },
        "de478bf2d4e44393bd1dc5ebfd3c7e0a": {
          "model_module": "@jupyter-widgets/controls",
          "model_name": "HBoxModel",
          "model_module_version": "1.5.0",
          "state": {
            "_dom_classes": [],
            "_model_module": "@jupyter-widgets/controls",
            "_model_module_version": "1.5.0",
            "_model_name": "HBoxModel",
            "_view_count": null,
            "_view_module": "@jupyter-widgets/controls",
            "_view_module_version": "1.5.0",
            "_view_name": "HBoxView",
            "box_style": "",
            "children": [
              "IPY_MODEL_dc4c9863a0de4a24b061f9118db819ed",
              "IPY_MODEL_9711d9c7f6d440f686317df0b7adf3a6",
              "IPY_MODEL_18e8896107854a51a9566e9068a4fd69"
            ],
            "layout": "IPY_MODEL_a4a3158ece3140afb08675b558fee369"
          }
        },
        "dc4c9863a0de4a24b061f9118db819ed": {
          "model_module": "@jupyter-widgets/controls",
          "model_name": "HTMLModel",
          "model_module_version": "1.5.0",
          "state": {
            "_dom_classes": [],
            "_model_module": "@jupyter-widgets/controls",
            "_model_module_version": "1.5.0",
            "_model_name": "HTMLModel",
            "_view_count": null,
            "_view_module": "@jupyter-widgets/controls",
            "_view_module_version": "1.5.0",
            "_view_name": "HTMLView",
            "description": "",
            "description_tooltip": null,
            "layout": "IPY_MODEL_19f55003f3a84365af75b1ee2477b421",
            "placeholder": "​",
            "style": "IPY_MODEL_7fcb174f724e462bbdb499a89fffedd1",
            "value": "generation_config.json: 100%"
          }
        },
        "9711d9c7f6d440f686317df0b7adf3a6": {
          "model_module": "@jupyter-widgets/controls",
          "model_name": "FloatProgressModel",
          "model_module_version": "1.5.0",
          "state": {
            "_dom_classes": [],
            "_model_module": "@jupyter-widgets/controls",
            "_model_module_version": "1.5.0",
            "_model_name": "FloatProgressModel",
            "_view_count": null,
            "_view_module": "@jupyter-widgets/controls",
            "_view_module_version": "1.5.0",
            "_view_name": "ProgressView",
            "bar_style": "success",
            "description": "",
            "description_tooltip": null,
            "layout": "IPY_MODEL_21968c8986c44d4b826e602ea6544840",
            "max": 111,
            "min": 0,
            "orientation": "horizontal",
            "style": "IPY_MODEL_aba545d7b0e14483a997a4401a55b170",
            "value": 111
          }
        },
        "18e8896107854a51a9566e9068a4fd69": {
          "model_module": "@jupyter-widgets/controls",
          "model_name": "HTMLModel",
          "model_module_version": "1.5.0",
          "state": {
            "_dom_classes": [],
            "_model_module": "@jupyter-widgets/controls",
            "_model_module_version": "1.5.0",
            "_model_name": "HTMLModel",
            "_view_count": null,
            "_view_module": "@jupyter-widgets/controls",
            "_view_module_version": "1.5.0",
            "_view_name": "HTMLView",
            "description": "",
            "description_tooltip": null,
            "layout": "IPY_MODEL_7ed8335d9a104d8dba152689d7b01a34",
            "placeholder": "​",
            "style": "IPY_MODEL_940a09a665464f5e9b72d2bd60d4c66d",
            "value": " 111/111 [00:00&lt;00:00, 8.46kB/s]"
          }
        },
        "a4a3158ece3140afb08675b558fee369": {
          "model_module": "@jupyter-widgets/base",
          "model_name": "LayoutModel",
          "model_module_version": "1.2.0",
          "state": {
            "_model_module": "@jupyter-widgets/base",
            "_model_module_version": "1.2.0",
            "_model_name": "LayoutModel",
            "_view_count": null,
            "_view_module": "@jupyter-widgets/base",
            "_view_module_version": "1.2.0",
            "_view_name": "LayoutView",
            "align_content": null,
            "align_items": null,
            "align_self": null,
            "border": null,
            "bottom": null,
            "display": null,
            "flex": null,
            "flex_flow": null,
            "grid_area": null,
            "grid_auto_columns": null,
            "grid_auto_flow": null,
            "grid_auto_rows": null,
            "grid_column": null,
            "grid_gap": null,
            "grid_row": null,
            "grid_template_areas": null,
            "grid_template_columns": null,
            "grid_template_rows": null,
            "height": null,
            "justify_content": null,
            "justify_items": null,
            "left": null,
            "margin": null,
            "max_height": null,
            "max_width": null,
            "min_height": null,
            "min_width": null,
            "object_fit": null,
            "object_position": null,
            "order": null,
            "overflow": null,
            "overflow_x": null,
            "overflow_y": null,
            "padding": null,
            "right": null,
            "top": null,
            "visibility": null,
            "width": null
          }
        },
        "19f55003f3a84365af75b1ee2477b421": {
          "model_module": "@jupyter-widgets/base",
          "model_name": "LayoutModel",
          "model_module_version": "1.2.0",
          "state": {
            "_model_module": "@jupyter-widgets/base",
            "_model_module_version": "1.2.0",
            "_model_name": "LayoutModel",
            "_view_count": null,
            "_view_module": "@jupyter-widgets/base",
            "_view_module_version": "1.2.0",
            "_view_name": "LayoutView",
            "align_content": null,
            "align_items": null,
            "align_self": null,
            "border": null,
            "bottom": null,
            "display": null,
            "flex": null,
            "flex_flow": null,
            "grid_area": null,
            "grid_auto_columns": null,
            "grid_auto_flow": null,
            "grid_auto_rows": null,
            "grid_column": null,
            "grid_gap": null,
            "grid_row": null,
            "grid_template_areas": null,
            "grid_template_columns": null,
            "grid_template_rows": null,
            "height": null,
            "justify_content": null,
            "justify_items": null,
            "left": null,
            "margin": null,
            "max_height": null,
            "max_width": null,
            "min_height": null,
            "min_width": null,
            "object_fit": null,
            "object_position": null,
            "order": null,
            "overflow": null,
            "overflow_x": null,
            "overflow_y": null,
            "padding": null,
            "right": null,
            "top": null,
            "visibility": null,
            "width": null
          }
        },
        "7fcb174f724e462bbdb499a89fffedd1": {
          "model_module": "@jupyter-widgets/controls",
          "model_name": "DescriptionStyleModel",
          "model_module_version": "1.5.0",
          "state": {
            "_model_module": "@jupyter-widgets/controls",
            "_model_module_version": "1.5.0",
            "_model_name": "DescriptionStyleModel",
            "_view_count": null,
            "_view_module": "@jupyter-widgets/base",
            "_view_module_version": "1.2.0",
            "_view_name": "StyleView",
            "description_width": ""
          }
        },
        "21968c8986c44d4b826e602ea6544840": {
          "model_module": "@jupyter-widgets/base",
          "model_name": "LayoutModel",
          "model_module_version": "1.2.0",
          "state": {
            "_model_module": "@jupyter-widgets/base",
            "_model_module_version": "1.2.0",
            "_model_name": "LayoutModel",
            "_view_count": null,
            "_view_module": "@jupyter-widgets/base",
            "_view_module_version": "1.2.0",
            "_view_name": "LayoutView",
            "align_content": null,
            "align_items": null,
            "align_self": null,
            "border": null,
            "bottom": null,
            "display": null,
            "flex": null,
            "flex_flow": null,
            "grid_area": null,
            "grid_auto_columns": null,
            "grid_auto_flow": null,
            "grid_auto_rows": null,
            "grid_column": null,
            "grid_gap": null,
            "grid_row": null,
            "grid_template_areas": null,
            "grid_template_columns": null,
            "grid_template_rows": null,
            "height": null,
            "justify_content": null,
            "justify_items": null,
            "left": null,
            "margin": null,
            "max_height": null,
            "max_width": null,
            "min_height": null,
            "min_width": null,
            "object_fit": null,
            "object_position": null,
            "order": null,
            "overflow": null,
            "overflow_x": null,
            "overflow_y": null,
            "padding": null,
            "right": null,
            "top": null,
            "visibility": null,
            "width": null
          }
        },
        "aba545d7b0e14483a997a4401a55b170": {
          "model_module": "@jupyter-widgets/controls",
          "model_name": "ProgressStyleModel",
          "model_module_version": "1.5.0",
          "state": {
            "_model_module": "@jupyter-widgets/controls",
            "_model_module_version": "1.5.0",
            "_model_name": "ProgressStyleModel",
            "_view_count": null,
            "_view_module": "@jupyter-widgets/base",
            "_view_module_version": "1.2.0",
            "_view_name": "StyleView",
            "bar_color": null,
            "description_width": ""
          }
        },
        "7ed8335d9a104d8dba152689d7b01a34": {
          "model_module": "@jupyter-widgets/base",
          "model_name": "LayoutModel",
          "model_module_version": "1.2.0",
          "state": {
            "_model_module": "@jupyter-widgets/base",
            "_model_module_version": "1.2.0",
            "_model_name": "LayoutModel",
            "_view_count": null,
            "_view_module": "@jupyter-widgets/base",
            "_view_module_version": "1.2.0",
            "_view_name": "LayoutView",
            "align_content": null,
            "align_items": null,
            "align_self": null,
            "border": null,
            "bottom": null,
            "display": null,
            "flex": null,
            "flex_flow": null,
            "grid_area": null,
            "grid_auto_columns": null,
            "grid_auto_flow": null,
            "grid_auto_rows": null,
            "grid_column": null,
            "grid_gap": null,
            "grid_row": null,
            "grid_template_areas": null,
            "grid_template_columns": null,
            "grid_template_rows": null,
            "height": null,
            "justify_content": null,
            "justify_items": null,
            "left": null,
            "margin": null,
            "max_height": null,
            "max_width": null,
            "min_height": null,
            "min_width": null,
            "object_fit": null,
            "object_position": null,
            "order": null,
            "overflow": null,
            "overflow_x": null,
            "overflow_y": null,
            "padding": null,
            "right": null,
            "top": null,
            "visibility": null,
            "width": null
          }
        },
        "940a09a665464f5e9b72d2bd60d4c66d": {
          "model_module": "@jupyter-widgets/controls",
          "model_name": "DescriptionStyleModel",
          "model_module_version": "1.5.0",
          "state": {
            "_model_module": "@jupyter-widgets/controls",
            "_model_module_version": "1.5.0",
            "_model_name": "DescriptionStyleModel",
            "_view_count": null,
            "_view_module": "@jupyter-widgets/base",
            "_view_module_version": "1.2.0",
            "_view_name": "StyleView",
            "description_width": ""
          }
        },
        "b2725c741b8c483fb69913e768068977": {
          "model_module": "@jupyter-widgets/controls",
          "model_name": "HBoxModel",
          "model_module_version": "1.5.0",
          "state": {
            "_dom_classes": [],
            "_model_module": "@jupyter-widgets/controls",
            "_model_module_version": "1.5.0",
            "_model_name": "HBoxModel",
            "_view_count": null,
            "_view_module": "@jupyter-widgets/controls",
            "_view_module_version": "1.5.0",
            "_view_name": "HBoxView",
            "box_style": "",
            "children": [
              "IPY_MODEL_6514dae4b2e9405eaabc453c60dbf446",
              "IPY_MODEL_4e5969ab604c4887a1f9cc8a10773ae0",
              "IPY_MODEL_cf889638f94b45b5803435641391cc14"
            ],
            "layout": "IPY_MODEL_07b30d83859e4b79adf09e64d8a51bea"
          }
        },
        "6514dae4b2e9405eaabc453c60dbf446": {
          "model_module": "@jupyter-widgets/controls",
          "model_name": "HTMLModel",
          "model_module_version": "1.5.0",
          "state": {
            "_dom_classes": [],
            "_model_module": "@jupyter-widgets/controls",
            "_model_module_version": "1.5.0",
            "_model_name": "HTMLModel",
            "_view_count": null,
            "_view_module": "@jupyter-widgets/controls",
            "_view_module_version": "1.5.0",
            "_view_name": "HTMLView",
            "description": "",
            "description_tooltip": null,
            "layout": "IPY_MODEL_1bb2ea0325fb41229e62da2e55f0a828",
            "placeholder": "​",
            "style": "IPY_MODEL_f95784f45a9e4ae782cee8199bde637b",
            "value": "tokenizer_config.json: 100%"
          }
        },
        "4e5969ab604c4887a1f9cc8a10773ae0": {
          "model_module": "@jupyter-widgets/controls",
          "model_name": "FloatProgressModel",
          "model_module_version": "1.5.0",
          "state": {
            "_dom_classes": [],
            "_model_module": "@jupyter-widgets/controls",
            "_model_module_version": "1.5.0",
            "_model_name": "FloatProgressModel",
            "_view_count": null,
            "_view_module": "@jupyter-widgets/controls",
            "_view_module_version": "1.5.0",
            "_view_name": "ProgressView",
            "bar_style": "success",
            "description": "",
            "description_tooltip": null,
            "layout": "IPY_MODEL_8ff903437505428eb53edb1fdb8032fe",
            "max": 1438,
            "min": 0,
            "orientation": "horizontal",
            "style": "IPY_MODEL_46bf16012e134f33b65f294777388cf0",
            "value": 1438
          }
        },
        "cf889638f94b45b5803435641391cc14": {
          "model_module": "@jupyter-widgets/controls",
          "model_name": "HTMLModel",
          "model_module_version": "1.5.0",
          "state": {
            "_dom_classes": [],
            "_model_module": "@jupyter-widgets/controls",
            "_model_module_version": "1.5.0",
            "_model_name": "HTMLModel",
            "_view_count": null,
            "_view_module": "@jupyter-widgets/controls",
            "_view_module_version": "1.5.0",
            "_view_name": "HTMLView",
            "description": "",
            "description_tooltip": null,
            "layout": "IPY_MODEL_04bfee5697494f08823ee13ac04ced05",
            "placeholder": "​",
            "style": "IPY_MODEL_13822da224724e5ba1c45d8fa455e16c",
            "value": " 1.44k/1.44k [00:00&lt;00:00, 26.3kB/s]"
          }
        },
        "07b30d83859e4b79adf09e64d8a51bea": {
          "model_module": "@jupyter-widgets/base",
          "model_name": "LayoutModel",
          "model_module_version": "1.2.0",
          "state": {
            "_model_module": "@jupyter-widgets/base",
            "_model_module_version": "1.2.0",
            "_model_name": "LayoutModel",
            "_view_count": null,
            "_view_module": "@jupyter-widgets/base",
            "_view_module_version": "1.2.0",
            "_view_name": "LayoutView",
            "align_content": null,
            "align_items": null,
            "align_self": null,
            "border": null,
            "bottom": null,
            "display": null,
            "flex": null,
            "flex_flow": null,
            "grid_area": null,
            "grid_auto_columns": null,
            "grid_auto_flow": null,
            "grid_auto_rows": null,
            "grid_column": null,
            "grid_gap": null,
            "grid_row": null,
            "grid_template_areas": null,
            "grid_template_columns": null,
            "grid_template_rows": null,
            "height": null,
            "justify_content": null,
            "justify_items": null,
            "left": null,
            "margin": null,
            "max_height": null,
            "max_width": null,
            "min_height": null,
            "min_width": null,
            "object_fit": null,
            "object_position": null,
            "order": null,
            "overflow": null,
            "overflow_x": null,
            "overflow_y": null,
            "padding": null,
            "right": null,
            "top": null,
            "visibility": null,
            "width": null
          }
        },
        "1bb2ea0325fb41229e62da2e55f0a828": {
          "model_module": "@jupyter-widgets/base",
          "model_name": "LayoutModel",
          "model_module_version": "1.2.0",
          "state": {
            "_model_module": "@jupyter-widgets/base",
            "_model_module_version": "1.2.0",
            "_model_name": "LayoutModel",
            "_view_count": null,
            "_view_module": "@jupyter-widgets/base",
            "_view_module_version": "1.2.0",
            "_view_name": "LayoutView",
            "align_content": null,
            "align_items": null,
            "align_self": null,
            "border": null,
            "bottom": null,
            "display": null,
            "flex": null,
            "flex_flow": null,
            "grid_area": null,
            "grid_auto_columns": null,
            "grid_auto_flow": null,
            "grid_auto_rows": null,
            "grid_column": null,
            "grid_gap": null,
            "grid_row": null,
            "grid_template_areas": null,
            "grid_template_columns": null,
            "grid_template_rows": null,
            "height": null,
            "justify_content": null,
            "justify_items": null,
            "left": null,
            "margin": null,
            "max_height": null,
            "max_width": null,
            "min_height": null,
            "min_width": null,
            "object_fit": null,
            "object_position": null,
            "order": null,
            "overflow": null,
            "overflow_x": null,
            "overflow_y": null,
            "padding": null,
            "right": null,
            "top": null,
            "visibility": null,
            "width": null
          }
        },
        "f95784f45a9e4ae782cee8199bde637b": {
          "model_module": "@jupyter-widgets/controls",
          "model_name": "DescriptionStyleModel",
          "model_module_version": "1.5.0",
          "state": {
            "_model_module": "@jupyter-widgets/controls",
            "_model_module_version": "1.5.0",
            "_model_name": "DescriptionStyleModel",
            "_view_count": null,
            "_view_module": "@jupyter-widgets/base",
            "_view_module_version": "1.2.0",
            "_view_name": "StyleView",
            "description_width": ""
          }
        },
        "8ff903437505428eb53edb1fdb8032fe": {
          "model_module": "@jupyter-widgets/base",
          "model_name": "LayoutModel",
          "model_module_version": "1.2.0",
          "state": {
            "_model_module": "@jupyter-widgets/base",
            "_model_module_version": "1.2.0",
            "_model_name": "LayoutModel",
            "_view_count": null,
            "_view_module": "@jupyter-widgets/base",
            "_view_module_version": "1.2.0",
            "_view_name": "LayoutView",
            "align_content": null,
            "align_items": null,
            "align_self": null,
            "border": null,
            "bottom": null,
            "display": null,
            "flex": null,
            "flex_flow": null,
            "grid_area": null,
            "grid_auto_columns": null,
            "grid_auto_flow": null,
            "grid_auto_rows": null,
            "grid_column": null,
            "grid_gap": null,
            "grid_row": null,
            "grid_template_areas": null,
            "grid_template_columns": null,
            "grid_template_rows": null,
            "height": null,
            "justify_content": null,
            "justify_items": null,
            "left": null,
            "margin": null,
            "max_height": null,
            "max_width": null,
            "min_height": null,
            "min_width": null,
            "object_fit": null,
            "object_position": null,
            "order": null,
            "overflow": null,
            "overflow_x": null,
            "overflow_y": null,
            "padding": null,
            "right": null,
            "top": null,
            "visibility": null,
            "width": null
          }
        },
        "46bf16012e134f33b65f294777388cf0": {
          "model_module": "@jupyter-widgets/controls",
          "model_name": "ProgressStyleModel",
          "model_module_version": "1.5.0",
          "state": {
            "_model_module": "@jupyter-widgets/controls",
            "_model_module_version": "1.5.0",
            "_model_name": "ProgressStyleModel",
            "_view_count": null,
            "_view_module": "@jupyter-widgets/base",
            "_view_module_version": "1.2.0",
            "_view_name": "StyleView",
            "bar_color": null,
            "description_width": ""
          }
        },
        "04bfee5697494f08823ee13ac04ced05": {
          "model_module": "@jupyter-widgets/base",
          "model_name": "LayoutModel",
          "model_module_version": "1.2.0",
          "state": {
            "_model_module": "@jupyter-widgets/base",
            "_model_module_version": "1.2.0",
            "_model_name": "LayoutModel",
            "_view_count": null,
            "_view_module": "@jupyter-widgets/base",
            "_view_module_version": "1.2.0",
            "_view_name": "LayoutView",
            "align_content": null,
            "align_items": null,
            "align_self": null,
            "border": null,
            "bottom": null,
            "display": null,
            "flex": null,
            "flex_flow": null,
            "grid_area": null,
            "grid_auto_columns": null,
            "grid_auto_flow": null,
            "grid_auto_rows": null,
            "grid_column": null,
            "grid_gap": null,
            "grid_row": null,
            "grid_template_areas": null,
            "grid_template_columns": null,
            "grid_template_rows": null,
            "height": null,
            "justify_content": null,
            "justify_items": null,
            "left": null,
            "margin": null,
            "max_height": null,
            "max_width": null,
            "min_height": null,
            "min_width": null,
            "object_fit": null,
            "object_position": null,
            "order": null,
            "overflow": null,
            "overflow_x": null,
            "overflow_y": null,
            "padding": null,
            "right": null,
            "top": null,
            "visibility": null,
            "width": null
          }
        },
        "13822da224724e5ba1c45d8fa455e16c": {
          "model_module": "@jupyter-widgets/controls",
          "model_name": "DescriptionStyleModel",
          "model_module_version": "1.5.0",
          "state": {
            "_model_module": "@jupyter-widgets/controls",
            "_model_module_version": "1.5.0",
            "_model_name": "DescriptionStyleModel",
            "_view_count": null,
            "_view_module": "@jupyter-widgets/base",
            "_view_module_version": "1.2.0",
            "_view_name": "StyleView",
            "description_width": ""
          }
        },
        "a15b26fc77e348989ecec201dacfdcf7": {
          "model_module": "@jupyter-widgets/controls",
          "model_name": "HBoxModel",
          "model_module_version": "1.5.0",
          "state": {
            "_dom_classes": [],
            "_model_module": "@jupyter-widgets/controls",
            "_model_module_version": "1.5.0",
            "_model_name": "HBoxModel",
            "_view_count": null,
            "_view_module": "@jupyter-widgets/controls",
            "_view_module_version": "1.5.0",
            "_view_name": "HBoxView",
            "box_style": "",
            "children": [
              "IPY_MODEL_1955218b1ace4bca965262aedb36edfb",
              "IPY_MODEL_e09ffa86a33443458f3cd4f2a7a74d6f",
              "IPY_MODEL_67a0d969c8ce46a1ba80c5360703d875"
            ],
            "layout": "IPY_MODEL_3aa620c8cd744119baa9f3c39a0519ea"
          }
        },
        "1955218b1ace4bca965262aedb36edfb": {
          "model_module": "@jupyter-widgets/controls",
          "model_name": "HTMLModel",
          "model_module_version": "1.5.0",
          "state": {
            "_dom_classes": [],
            "_model_module": "@jupyter-widgets/controls",
            "_model_module_version": "1.5.0",
            "_model_name": "HTMLModel",
            "_view_count": null,
            "_view_module": "@jupyter-widgets/controls",
            "_view_module_version": "1.5.0",
            "_view_name": "HTMLView",
            "description": "",
            "description_tooltip": null,
            "layout": "IPY_MODEL_cf6044bb7e8b43e5a24fec515d5de1e9",
            "placeholder": "​",
            "style": "IPY_MODEL_ca825eb9f2604a63a3b6545411113763",
            "value": "tokenizer.model: 100%"
          }
        },
        "e09ffa86a33443458f3cd4f2a7a74d6f": {
          "model_module": "@jupyter-widgets/controls",
          "model_name": "FloatProgressModel",
          "model_module_version": "1.5.0",
          "state": {
            "_dom_classes": [],
            "_model_module": "@jupyter-widgets/controls",
            "_model_module_version": "1.5.0",
            "_model_name": "FloatProgressModel",
            "_view_count": null,
            "_view_module": "@jupyter-widgets/controls",
            "_view_module_version": "1.5.0",
            "_view_name": "ProgressView",
            "bar_style": "success",
            "description": "",
            "description_tooltip": null,
            "layout": "IPY_MODEL_35efcfa390a24ac1b0827473db2c1ac9",
            "max": 624187,
            "min": 0,
            "orientation": "horizontal",
            "style": "IPY_MODEL_724f5bc1a598439785bc48e0645d2720",
            "value": 624187
          }
        },
        "67a0d969c8ce46a1ba80c5360703d875": {
          "model_module": "@jupyter-widgets/controls",
          "model_name": "HTMLModel",
          "model_module_version": "1.5.0",
          "state": {
            "_dom_classes": [],
            "_model_module": "@jupyter-widgets/controls",
            "_model_module_version": "1.5.0",
            "_model_name": "HTMLModel",
            "_view_count": null,
            "_view_module": "@jupyter-widgets/controls",
            "_view_module_version": "1.5.0",
            "_view_name": "HTMLView",
            "description": "",
            "description_tooltip": null,
            "layout": "IPY_MODEL_ccdeb74c94f44f7e9551041e876b7b57",
            "placeholder": "​",
            "style": "IPY_MODEL_3598e63ec1be4e2ab6c237eb2bbe136d",
            "value": " 624k/624k [00:00&lt;00:00, 2.56MB/s]"
          }
        },
        "3aa620c8cd744119baa9f3c39a0519ea": {
          "model_module": "@jupyter-widgets/base",
          "model_name": "LayoutModel",
          "model_module_version": "1.2.0",
          "state": {
            "_model_module": "@jupyter-widgets/base",
            "_model_module_version": "1.2.0",
            "_model_name": "LayoutModel",
            "_view_count": null,
            "_view_module": "@jupyter-widgets/base",
            "_view_module_version": "1.2.0",
            "_view_name": "LayoutView",
            "align_content": null,
            "align_items": null,
            "align_self": null,
            "border": null,
            "bottom": null,
            "display": null,
            "flex": null,
            "flex_flow": null,
            "grid_area": null,
            "grid_auto_columns": null,
            "grid_auto_flow": null,
            "grid_auto_rows": null,
            "grid_column": null,
            "grid_gap": null,
            "grid_row": null,
            "grid_template_areas": null,
            "grid_template_columns": null,
            "grid_template_rows": null,
            "height": null,
            "justify_content": null,
            "justify_items": null,
            "left": null,
            "margin": null,
            "max_height": null,
            "max_width": null,
            "min_height": null,
            "min_width": null,
            "object_fit": null,
            "object_position": null,
            "order": null,
            "overflow": null,
            "overflow_x": null,
            "overflow_y": null,
            "padding": null,
            "right": null,
            "top": null,
            "visibility": null,
            "width": null
          }
        },
        "cf6044bb7e8b43e5a24fec515d5de1e9": {
          "model_module": "@jupyter-widgets/base",
          "model_name": "LayoutModel",
          "model_module_version": "1.2.0",
          "state": {
            "_model_module": "@jupyter-widgets/base",
            "_model_module_version": "1.2.0",
            "_model_name": "LayoutModel",
            "_view_count": null,
            "_view_module": "@jupyter-widgets/base",
            "_view_module_version": "1.2.0",
            "_view_name": "LayoutView",
            "align_content": null,
            "align_items": null,
            "align_self": null,
            "border": null,
            "bottom": null,
            "display": null,
            "flex": null,
            "flex_flow": null,
            "grid_area": null,
            "grid_auto_columns": null,
            "grid_auto_flow": null,
            "grid_auto_rows": null,
            "grid_column": null,
            "grid_gap": null,
            "grid_row": null,
            "grid_template_areas": null,
            "grid_template_columns": null,
            "grid_template_rows": null,
            "height": null,
            "justify_content": null,
            "justify_items": null,
            "left": null,
            "margin": null,
            "max_height": null,
            "max_width": null,
            "min_height": null,
            "min_width": null,
            "object_fit": null,
            "object_position": null,
            "order": null,
            "overflow": null,
            "overflow_x": null,
            "overflow_y": null,
            "padding": null,
            "right": null,
            "top": null,
            "visibility": null,
            "width": null
          }
        },
        "ca825eb9f2604a63a3b6545411113763": {
          "model_module": "@jupyter-widgets/controls",
          "model_name": "DescriptionStyleModel",
          "model_module_version": "1.5.0",
          "state": {
            "_model_module": "@jupyter-widgets/controls",
            "_model_module_version": "1.5.0",
            "_model_name": "DescriptionStyleModel",
            "_view_count": null,
            "_view_module": "@jupyter-widgets/base",
            "_view_module_version": "1.2.0",
            "_view_name": "StyleView",
            "description_width": ""
          }
        },
        "35efcfa390a24ac1b0827473db2c1ac9": {
          "model_module": "@jupyter-widgets/base",
          "model_name": "LayoutModel",
          "model_module_version": "1.2.0",
          "state": {
            "_model_module": "@jupyter-widgets/base",
            "_model_module_version": "1.2.0",
            "_model_name": "LayoutModel",
            "_view_count": null,
            "_view_module": "@jupyter-widgets/base",
            "_view_module_version": "1.2.0",
            "_view_name": "LayoutView",
            "align_content": null,
            "align_items": null,
            "align_self": null,
            "border": null,
            "bottom": null,
            "display": null,
            "flex": null,
            "flex_flow": null,
            "grid_area": null,
            "grid_auto_columns": null,
            "grid_auto_flow": null,
            "grid_auto_rows": null,
            "grid_column": null,
            "grid_gap": null,
            "grid_row": null,
            "grid_template_areas": null,
            "grid_template_columns": null,
            "grid_template_rows": null,
            "height": null,
            "justify_content": null,
            "justify_items": null,
            "left": null,
            "margin": null,
            "max_height": null,
            "max_width": null,
            "min_height": null,
            "min_width": null,
            "object_fit": null,
            "object_position": null,
            "order": null,
            "overflow": null,
            "overflow_x": null,
            "overflow_y": null,
            "padding": null,
            "right": null,
            "top": null,
            "visibility": null,
            "width": null
          }
        },
        "724f5bc1a598439785bc48e0645d2720": {
          "model_module": "@jupyter-widgets/controls",
          "model_name": "ProgressStyleModel",
          "model_module_version": "1.5.0",
          "state": {
            "_model_module": "@jupyter-widgets/controls",
            "_model_module_version": "1.5.0",
            "_model_name": "ProgressStyleModel",
            "_view_count": null,
            "_view_module": "@jupyter-widgets/base",
            "_view_module_version": "1.2.0",
            "_view_name": "StyleView",
            "bar_color": null,
            "description_width": ""
          }
        },
        "ccdeb74c94f44f7e9551041e876b7b57": {
          "model_module": "@jupyter-widgets/base",
          "model_name": "LayoutModel",
          "model_module_version": "1.2.0",
          "state": {
            "_model_module": "@jupyter-widgets/base",
            "_model_module_version": "1.2.0",
            "_model_name": "LayoutModel",
            "_view_count": null,
            "_view_module": "@jupyter-widgets/base",
            "_view_module_version": "1.2.0",
            "_view_name": "LayoutView",
            "align_content": null,
            "align_items": null,
            "align_self": null,
            "border": null,
            "bottom": null,
            "display": null,
            "flex": null,
            "flex_flow": null,
            "grid_area": null,
            "grid_auto_columns": null,
            "grid_auto_flow": null,
            "grid_auto_rows": null,
            "grid_column": null,
            "grid_gap": null,
            "grid_row": null,
            "grid_template_areas": null,
            "grid_template_columns": null,
            "grid_template_rows": null,
            "height": null,
            "justify_content": null,
            "justify_items": null,
            "left": null,
            "margin": null,
            "max_height": null,
            "max_width": null,
            "min_height": null,
            "min_width": null,
            "object_fit": null,
            "object_position": null,
            "order": null,
            "overflow": null,
            "overflow_x": null,
            "overflow_y": null,
            "padding": null,
            "right": null,
            "top": null,
            "visibility": null,
            "width": null
          }
        },
        "3598e63ec1be4e2ab6c237eb2bbe136d": {
          "model_module": "@jupyter-widgets/controls",
          "model_name": "DescriptionStyleModel",
          "model_module_version": "1.5.0",
          "state": {
            "_model_module": "@jupyter-widgets/controls",
            "_model_module_version": "1.5.0",
            "_model_name": "DescriptionStyleModel",
            "_view_count": null,
            "_view_module": "@jupyter-widgets/base",
            "_view_module_version": "1.2.0",
            "_view_name": "StyleView",
            "description_width": ""
          }
        },
        "19796f1d6a8946ac82ca6e880e1b827f": {
          "model_module": "@jupyter-widgets/controls",
          "model_name": "HBoxModel",
          "model_module_version": "1.5.0",
          "state": {
            "_dom_classes": [],
            "_model_module": "@jupyter-widgets/controls",
            "_model_module_version": "1.5.0",
            "_model_name": "HBoxModel",
            "_view_count": null,
            "_view_module": "@jupyter-widgets/controls",
            "_view_module_version": "1.5.0",
            "_view_name": "HBoxView",
            "box_style": "",
            "children": [
              "IPY_MODEL_cca62795d06f4384a5ded01af8bf078d",
              "IPY_MODEL_7001c98f4a4441849de21ff8f3dcd1d3",
              "IPY_MODEL_3642239751b64ed6889bf8dd31ef4204"
            ],
            "layout": "IPY_MODEL_02a6c1e7b38d4a7497afac910fa84886"
          }
        },
        "cca62795d06f4384a5ded01af8bf078d": {
          "model_module": "@jupyter-widgets/controls",
          "model_name": "HTMLModel",
          "model_module_version": "1.5.0",
          "state": {
            "_dom_classes": [],
            "_model_module": "@jupyter-widgets/controls",
            "_model_module_version": "1.5.0",
            "_model_name": "HTMLModel",
            "_view_count": null,
            "_view_module": "@jupyter-widgets/controls",
            "_view_module_version": "1.5.0",
            "_view_name": "HTMLView",
            "description": "",
            "description_tooltip": null,
            "layout": "IPY_MODEL_e7e98684f3ca4e0ba86a931910b2d39d",
            "placeholder": "​",
            "style": "IPY_MODEL_f649f358933d4ebca77b61380e47653b",
            "value": "tokenizer.json: 100%"
          }
        },
        "7001c98f4a4441849de21ff8f3dcd1d3": {
          "model_module": "@jupyter-widgets/controls",
          "model_name": "FloatProgressModel",
          "model_module_version": "1.5.0",
          "state": {
            "_dom_classes": [],
            "_model_module": "@jupyter-widgets/controls",
            "_model_module_version": "1.5.0",
            "_model_name": "FloatProgressModel",
            "_view_count": null,
            "_view_module": "@jupyter-widgets/controls",
            "_view_module_version": "1.5.0",
            "_view_name": "ProgressView",
            "bar_style": "success",
            "description": "",
            "description_tooltip": null,
            "layout": "IPY_MODEL_b851012c904a4cb4970fa8acf7d63d79",
            "max": 2213401,
            "min": 0,
            "orientation": "horizontal",
            "style": "IPY_MODEL_c50c6978f3bf41c7b9f5484433db8b0d",
            "value": 2213401
          }
        },
        "3642239751b64ed6889bf8dd31ef4204": {
          "model_module": "@jupyter-widgets/controls",
          "model_name": "HTMLModel",
          "model_module_version": "1.5.0",
          "state": {
            "_dom_classes": [],
            "_model_module": "@jupyter-widgets/controls",
            "_model_module_version": "1.5.0",
            "_model_name": "HTMLModel",
            "_view_count": null,
            "_view_module": "@jupyter-widgets/controls",
            "_view_module_version": "1.5.0",
            "_view_name": "HTMLView",
            "description": "",
            "description_tooltip": null,
            "layout": "IPY_MODEL_c36fd789d8d347979564f04204da3a2f",
            "placeholder": "​",
            "style": "IPY_MODEL_e4241d9d97434ea1887ec7c525ecab32",
            "value": " 2.21M/2.21M [00:00&lt;00:00, 5.81MB/s]"
          }
        },
        "02a6c1e7b38d4a7497afac910fa84886": {
          "model_module": "@jupyter-widgets/base",
          "model_name": "LayoutModel",
          "model_module_version": "1.2.0",
          "state": {
            "_model_module": "@jupyter-widgets/base",
            "_model_module_version": "1.2.0",
            "_model_name": "LayoutModel",
            "_view_count": null,
            "_view_module": "@jupyter-widgets/base",
            "_view_module_version": "1.2.0",
            "_view_name": "LayoutView",
            "align_content": null,
            "align_items": null,
            "align_self": null,
            "border": null,
            "bottom": null,
            "display": null,
            "flex": null,
            "flex_flow": null,
            "grid_area": null,
            "grid_auto_columns": null,
            "grid_auto_flow": null,
            "grid_auto_rows": null,
            "grid_column": null,
            "grid_gap": null,
            "grid_row": null,
            "grid_template_areas": null,
            "grid_template_columns": null,
            "grid_template_rows": null,
            "height": null,
            "justify_content": null,
            "justify_items": null,
            "left": null,
            "margin": null,
            "max_height": null,
            "max_width": null,
            "min_height": null,
            "min_width": null,
            "object_fit": null,
            "object_position": null,
            "order": null,
            "overflow": null,
            "overflow_x": null,
            "overflow_y": null,
            "padding": null,
            "right": null,
            "top": null,
            "visibility": null,
            "width": null
          }
        },
        "e7e98684f3ca4e0ba86a931910b2d39d": {
          "model_module": "@jupyter-widgets/base",
          "model_name": "LayoutModel",
          "model_module_version": "1.2.0",
          "state": {
            "_model_module": "@jupyter-widgets/base",
            "_model_module_version": "1.2.0",
            "_model_name": "LayoutModel",
            "_view_count": null,
            "_view_module": "@jupyter-widgets/base",
            "_view_module_version": "1.2.0",
            "_view_name": "LayoutView",
            "align_content": null,
            "align_items": null,
            "align_self": null,
            "border": null,
            "bottom": null,
            "display": null,
            "flex": null,
            "flex_flow": null,
            "grid_area": null,
            "grid_auto_columns": null,
            "grid_auto_flow": null,
            "grid_auto_rows": null,
            "grid_column": null,
            "grid_gap": null,
            "grid_row": null,
            "grid_template_areas": null,
            "grid_template_columns": null,
            "grid_template_rows": null,
            "height": null,
            "justify_content": null,
            "justify_items": null,
            "left": null,
            "margin": null,
            "max_height": null,
            "max_width": null,
            "min_height": null,
            "min_width": null,
            "object_fit": null,
            "object_position": null,
            "order": null,
            "overflow": null,
            "overflow_x": null,
            "overflow_y": null,
            "padding": null,
            "right": null,
            "top": null,
            "visibility": null,
            "width": null
          }
        },
        "f649f358933d4ebca77b61380e47653b": {
          "model_module": "@jupyter-widgets/controls",
          "model_name": "DescriptionStyleModel",
          "model_module_version": "1.5.0",
          "state": {
            "_model_module": "@jupyter-widgets/controls",
            "_model_module_version": "1.5.0",
            "_model_name": "DescriptionStyleModel",
            "_view_count": null,
            "_view_module": "@jupyter-widgets/base",
            "_view_module_version": "1.2.0",
            "_view_name": "StyleView",
            "description_width": ""
          }
        },
        "b851012c904a4cb4970fa8acf7d63d79": {
          "model_module": "@jupyter-widgets/base",
          "model_name": "LayoutModel",
          "model_module_version": "1.2.0",
          "state": {
            "_model_module": "@jupyter-widgets/base",
            "_model_module_version": "1.2.0",
            "_model_name": "LayoutModel",
            "_view_count": null,
            "_view_module": "@jupyter-widgets/base",
            "_view_module_version": "1.2.0",
            "_view_name": "LayoutView",
            "align_content": null,
            "align_items": null,
            "align_self": null,
            "border": null,
            "bottom": null,
            "display": null,
            "flex": null,
            "flex_flow": null,
            "grid_area": null,
            "grid_auto_columns": null,
            "grid_auto_flow": null,
            "grid_auto_rows": null,
            "grid_column": null,
            "grid_gap": null,
            "grid_row": null,
            "grid_template_areas": null,
            "grid_template_columns": null,
            "grid_template_rows": null,
            "height": null,
            "justify_content": null,
            "justify_items": null,
            "left": null,
            "margin": null,
            "max_height": null,
            "max_width": null,
            "min_height": null,
            "min_width": null,
            "object_fit": null,
            "object_position": null,
            "order": null,
            "overflow": null,
            "overflow_x": null,
            "overflow_y": null,
            "padding": null,
            "right": null,
            "top": null,
            "visibility": null,
            "width": null
          }
        },
        "c50c6978f3bf41c7b9f5484433db8b0d": {
          "model_module": "@jupyter-widgets/controls",
          "model_name": "ProgressStyleModel",
          "model_module_version": "1.5.0",
          "state": {
            "_model_module": "@jupyter-widgets/controls",
            "_model_module_version": "1.5.0",
            "_model_name": "ProgressStyleModel",
            "_view_count": null,
            "_view_module": "@jupyter-widgets/base",
            "_view_module_version": "1.2.0",
            "_view_name": "StyleView",
            "bar_color": null,
            "description_width": ""
          }
        },
        "c36fd789d8d347979564f04204da3a2f": {
          "model_module": "@jupyter-widgets/base",
          "model_name": "LayoutModel",
          "model_module_version": "1.2.0",
          "state": {
            "_model_module": "@jupyter-widgets/base",
            "_model_module_version": "1.2.0",
            "_model_name": "LayoutModel",
            "_view_count": null,
            "_view_module": "@jupyter-widgets/base",
            "_view_module_version": "1.2.0",
            "_view_name": "LayoutView",
            "align_content": null,
            "align_items": null,
            "align_self": null,
            "border": null,
            "bottom": null,
            "display": null,
            "flex": null,
            "flex_flow": null,
            "grid_area": null,
            "grid_auto_columns": null,
            "grid_auto_flow": null,
            "grid_auto_rows": null,
            "grid_column": null,
            "grid_gap": null,
            "grid_row": null,
            "grid_template_areas": null,
            "grid_template_columns": null,
            "grid_template_rows": null,
            "height": null,
            "justify_content": null,
            "justify_items": null,
            "left": null,
            "margin": null,
            "max_height": null,
            "max_width": null,
            "min_height": null,
            "min_width": null,
            "object_fit": null,
            "object_position": null,
            "order": null,
            "overflow": null,
            "overflow_x": null,
            "overflow_y": null,
            "padding": null,
            "right": null,
            "top": null,
            "visibility": null,
            "width": null
          }
        },
        "e4241d9d97434ea1887ec7c525ecab32": {
          "model_module": "@jupyter-widgets/controls",
          "model_name": "DescriptionStyleModel",
          "model_module_version": "1.5.0",
          "state": {
            "_model_module": "@jupyter-widgets/controls",
            "_model_module_version": "1.5.0",
            "_model_name": "DescriptionStyleModel",
            "_view_count": null,
            "_view_module": "@jupyter-widgets/base",
            "_view_module_version": "1.2.0",
            "_view_name": "StyleView",
            "description_width": ""
          }
        },
        "a13c3cf431574fa3b6eb772f0fc255ea": {
          "model_module": "@jupyter-widgets/controls",
          "model_name": "HBoxModel",
          "model_module_version": "1.5.0",
          "state": {
            "_dom_classes": [],
            "_model_module": "@jupyter-widgets/controls",
            "_model_module_version": "1.5.0",
            "_model_name": "HBoxModel",
            "_view_count": null,
            "_view_module": "@jupyter-widgets/controls",
            "_view_module_version": "1.5.0",
            "_view_name": "HBoxView",
            "box_style": "",
            "children": [
              "IPY_MODEL_099fe3c443c7476da6ff699c264dbb92",
              "IPY_MODEL_ba207da8f6764116af75f30842060068",
              "IPY_MODEL_188282dc103049b38b0c8f4e0dd69f68"
            ],
            "layout": "IPY_MODEL_73d1d35d19cb429e894db66f5bf73460"
          }
        },
        "099fe3c443c7476da6ff699c264dbb92": {
          "model_module": "@jupyter-widgets/controls",
          "model_name": "HTMLModel",
          "model_module_version": "1.5.0",
          "state": {
            "_dom_classes": [],
            "_model_module": "@jupyter-widgets/controls",
            "_model_module_version": "1.5.0",
            "_model_name": "HTMLModel",
            "_view_count": null,
            "_view_module": "@jupyter-widgets/controls",
            "_view_module_version": "1.5.0",
            "_view_name": "HTMLView",
            "description": "",
            "description_tooltip": null,
            "layout": "IPY_MODEL_58d59b2b1b6a4676bf04f79c7020e257",
            "placeholder": "​",
            "style": "IPY_MODEL_53fbba7097094e7cbe33f27e619e33ea",
            "value": "special_tokens_map.json: 100%"
          }
        },
        "ba207da8f6764116af75f30842060068": {
          "model_module": "@jupyter-widgets/controls",
          "model_name": "FloatProgressModel",
          "model_module_version": "1.5.0",
          "state": {
            "_dom_classes": [],
            "_model_module": "@jupyter-widgets/controls",
            "_model_module_version": "1.5.0",
            "_model_name": "FloatProgressModel",
            "_view_count": null,
            "_view_module": "@jupyter-widgets/controls",
            "_view_module_version": "1.5.0",
            "_view_name": "ProgressView",
            "bar_style": "success",
            "description": "",
            "description_tooltip": null,
            "layout": "IPY_MODEL_1e058ff3985d4357befb3745e590c1fc",
            "max": 552,
            "min": 0,
            "orientation": "horizontal",
            "style": "IPY_MODEL_c799ec43538345268200fc8ffee0f5e3",
            "value": 552
          }
        },
        "188282dc103049b38b0c8f4e0dd69f68": {
          "model_module": "@jupyter-widgets/controls",
          "model_name": "HTMLModel",
          "model_module_version": "1.5.0",
          "state": {
            "_dom_classes": [],
            "_model_module": "@jupyter-widgets/controls",
            "_model_module_version": "1.5.0",
            "_model_name": "HTMLModel",
            "_view_count": null,
            "_view_module": "@jupyter-widgets/controls",
            "_view_module_version": "1.5.0",
            "_view_name": "HTMLView",
            "description": "",
            "description_tooltip": null,
            "layout": "IPY_MODEL_e85482060d54459395e2e006307492e2",
            "placeholder": "​",
            "style": "IPY_MODEL_f4513f6bc34143b1a7a1f2e876e0e85e",
            "value": " 552/552 [00:00&lt;00:00, 7.83kB/s]"
          }
        },
        "73d1d35d19cb429e894db66f5bf73460": {
          "model_module": "@jupyter-widgets/base",
          "model_name": "LayoutModel",
          "model_module_version": "1.2.0",
          "state": {
            "_model_module": "@jupyter-widgets/base",
            "_model_module_version": "1.2.0",
            "_model_name": "LayoutModel",
            "_view_count": null,
            "_view_module": "@jupyter-widgets/base",
            "_view_module_version": "1.2.0",
            "_view_name": "LayoutView",
            "align_content": null,
            "align_items": null,
            "align_self": null,
            "border": null,
            "bottom": null,
            "display": null,
            "flex": null,
            "flex_flow": null,
            "grid_area": null,
            "grid_auto_columns": null,
            "grid_auto_flow": null,
            "grid_auto_rows": null,
            "grid_column": null,
            "grid_gap": null,
            "grid_row": null,
            "grid_template_areas": null,
            "grid_template_columns": null,
            "grid_template_rows": null,
            "height": null,
            "justify_content": null,
            "justify_items": null,
            "left": null,
            "margin": null,
            "max_height": null,
            "max_width": null,
            "min_height": null,
            "min_width": null,
            "object_fit": null,
            "object_position": null,
            "order": null,
            "overflow": null,
            "overflow_x": null,
            "overflow_y": null,
            "padding": null,
            "right": null,
            "top": null,
            "visibility": null,
            "width": null
          }
        },
        "58d59b2b1b6a4676bf04f79c7020e257": {
          "model_module": "@jupyter-widgets/base",
          "model_name": "LayoutModel",
          "model_module_version": "1.2.0",
          "state": {
            "_model_module": "@jupyter-widgets/base",
            "_model_module_version": "1.2.0",
            "_model_name": "LayoutModel",
            "_view_count": null,
            "_view_module": "@jupyter-widgets/base",
            "_view_module_version": "1.2.0",
            "_view_name": "LayoutView",
            "align_content": null,
            "align_items": null,
            "align_self": null,
            "border": null,
            "bottom": null,
            "display": null,
            "flex": null,
            "flex_flow": null,
            "grid_area": null,
            "grid_auto_columns": null,
            "grid_auto_flow": null,
            "grid_auto_rows": null,
            "grid_column": null,
            "grid_gap": null,
            "grid_row": null,
            "grid_template_areas": null,
            "grid_template_columns": null,
            "grid_template_rows": null,
            "height": null,
            "justify_content": null,
            "justify_items": null,
            "left": null,
            "margin": null,
            "max_height": null,
            "max_width": null,
            "min_height": null,
            "min_width": null,
            "object_fit": null,
            "object_position": null,
            "order": null,
            "overflow": null,
            "overflow_x": null,
            "overflow_y": null,
            "padding": null,
            "right": null,
            "top": null,
            "visibility": null,
            "width": null
          }
        },
        "53fbba7097094e7cbe33f27e619e33ea": {
          "model_module": "@jupyter-widgets/controls",
          "model_name": "DescriptionStyleModel",
          "model_module_version": "1.5.0",
          "state": {
            "_model_module": "@jupyter-widgets/controls",
            "_model_module_version": "1.5.0",
            "_model_name": "DescriptionStyleModel",
            "_view_count": null,
            "_view_module": "@jupyter-widgets/base",
            "_view_module_version": "1.2.0",
            "_view_name": "StyleView",
            "description_width": ""
          }
        },
        "1e058ff3985d4357befb3745e590c1fc": {
          "model_module": "@jupyter-widgets/base",
          "model_name": "LayoutModel",
          "model_module_version": "1.2.0",
          "state": {
            "_model_module": "@jupyter-widgets/base",
            "_model_module_version": "1.2.0",
            "_model_name": "LayoutModel",
            "_view_count": null,
            "_view_module": "@jupyter-widgets/base",
            "_view_module_version": "1.2.0",
            "_view_name": "LayoutView",
            "align_content": null,
            "align_items": null,
            "align_self": null,
            "border": null,
            "bottom": null,
            "display": null,
            "flex": null,
            "flex_flow": null,
            "grid_area": null,
            "grid_auto_columns": null,
            "grid_auto_flow": null,
            "grid_auto_rows": null,
            "grid_column": null,
            "grid_gap": null,
            "grid_row": null,
            "grid_template_areas": null,
            "grid_template_columns": null,
            "grid_template_rows": null,
            "height": null,
            "justify_content": null,
            "justify_items": null,
            "left": null,
            "margin": null,
            "max_height": null,
            "max_width": null,
            "min_height": null,
            "min_width": null,
            "object_fit": null,
            "object_position": null,
            "order": null,
            "overflow": null,
            "overflow_x": null,
            "overflow_y": null,
            "padding": null,
            "right": null,
            "top": null,
            "visibility": null,
            "width": null
          }
        },
        "c799ec43538345268200fc8ffee0f5e3": {
          "model_module": "@jupyter-widgets/controls",
          "model_name": "ProgressStyleModel",
          "model_module_version": "1.5.0",
          "state": {
            "_model_module": "@jupyter-widgets/controls",
            "_model_module_version": "1.5.0",
            "_model_name": "ProgressStyleModel",
            "_view_count": null,
            "_view_module": "@jupyter-widgets/base",
            "_view_module_version": "1.2.0",
            "_view_name": "StyleView",
            "bar_color": null,
            "description_width": ""
          }
        },
        "e85482060d54459395e2e006307492e2": {
          "model_module": "@jupyter-widgets/base",
          "model_name": "LayoutModel",
          "model_module_version": "1.2.0",
          "state": {
            "_model_module": "@jupyter-widgets/base",
            "_model_module_version": "1.2.0",
            "_model_name": "LayoutModel",
            "_view_count": null,
            "_view_module": "@jupyter-widgets/base",
            "_view_module_version": "1.2.0",
            "_view_name": "LayoutView",
            "align_content": null,
            "align_items": null,
            "align_self": null,
            "border": null,
            "bottom": null,
            "display": null,
            "flex": null,
            "flex_flow": null,
            "grid_area": null,
            "grid_auto_columns": null,
            "grid_auto_flow": null,
            "grid_auto_rows": null,
            "grid_column": null,
            "grid_gap": null,
            "grid_row": null,
            "grid_template_areas": null,
            "grid_template_columns": null,
            "grid_template_rows": null,
            "height": null,
            "justify_content": null,
            "justify_items": null,
            "left": null,
            "margin": null,
            "max_height": null,
            "max_width": null,
            "min_height": null,
            "min_width": null,
            "object_fit": null,
            "object_position": null,
            "order": null,
            "overflow": null,
            "overflow_x": null,
            "overflow_y": null,
            "padding": null,
            "right": null,
            "top": null,
            "visibility": null,
            "width": null
          }
        },
        "f4513f6bc34143b1a7a1f2e876e0e85e": {
          "model_module": "@jupyter-widgets/controls",
          "model_name": "DescriptionStyleModel",
          "model_module_version": "1.5.0",
          "state": {
            "_model_module": "@jupyter-widgets/controls",
            "_model_module_version": "1.5.0",
            "_model_name": "DescriptionStyleModel",
            "_view_count": null,
            "_view_module": "@jupyter-widgets/base",
            "_view_module_version": "1.2.0",
            "_view_name": "StyleView",
            "description_width": ""
          }
        }
      }
    }
  },
  "cells": [
    {
      "cell_type": "markdown",
      "metadata": {
        "id": "view-in-github",
        "colab_type": "text"
      },
      "source": [
        "<a href=\"https://colab.research.google.com/github/Twenkid/GPT2-Bulgarian-Training-Tips-and-Tools/blob/main/bggpt_sacred_computer.ipynb\" target=\"_parent\"><img src=\"https://colab.research.google.com/assets/colab-badge.svg\" alt=\"Open In Colab\"/></a>"
      ]
    },
    {
      "cell_type": "markdown",
      "source": [],
      "metadata": {
        "id": "k_lKxlssvJTU"
      }
    },
    {
      "cell_type": "markdown",
      "source": [
        "\n",
        "## **BgGPT в Colab - безплатно на Tesla T4 или TPU**\n",
        "#### Автор: Тодор Арнаудов - Тош от **СВЕЩЕНИЯТ СМЕТАЧ** - Институт за Мислещи машини, творчество и развитие на човека - основан през 2000 г. Търсят се съдружници, спомоществователи, другари. Виж проектът \"Вси\" по-долу.\n",
        "\n",
        "* http://github.com/twenkid\n",
        "* http://artificial-mind.blogspot.com\n",
        "* http://research.twenkid.com\n",
        "* http://eim.twenkid.com\n",
        "\n",
        "**Видеоръководства:** от канала \"Twenkid Studio - Artificial Mind (todprog): https://www.youtube.com/channel/UCgyhnsM9ed292HUAObXUsvw\n",
        "\n",
        "* http://bggpt.twenkid.com\n",
        "\n",
        "**Версии**:\n",
        "* 19.2.2024: първа, единични заявки;\n",
        "* 20.2: Цикъл с извиквания, промяна на дължината на породения текст, [INST]...[/INST], промяна на max_... и др.\n",
        "* 22.2: вкл/изкл [INST], ... TextWrapper ... и др.\n",
        "* 2x.2: batch requests, Options class etc.\n",
        "* (...)\n",
        "* 4.3.2024: INSAIT's newest model is now 0.2 (not 0.1) - Новият модел на ИНСАИТ е 0.2, но от пръв поглед не се вижда голяма разлика с някои тестове\n",
        "\n",
        "Тази тетрадка е качена в: https://github.com/Twenkid/GPT2-Bulgarian-Training-Tips-and-Tools\n",
        "...\n",
        "\n",
        "Тош, тогава още тийнейджър, е автор на \"пророческата\" интердисциплинарна **\"Теория на разума и Вселената (2001-2004)\"** https://github.com/Twenkid/Theory-of-Universe-and-Mind за общ изкуствен интелект и др., която е в основата на **Първия в света интердисциплинарен курс по Универсален изкуствен разум (Artificial General Intelligence)**, който създава и преподава в ПУ \"Паисий Хилендарски\" през 2010 г. https://artificial-mind.blogspot.com/2010/04/universal-artificial-intelligence.html\n",
        "Тош е автор на **Стратегията за развитие на България чрез свръхинтердисциплинарен институт за Изкуствен интелект и създаване на универсални мислещи машини от 2003 г.**, която INSAIT преоткрива с 20 години закъснение и над 200 милиона лв по-голям бюджет: **\"Как бих инвестирал един милион с най-голяма полза за развитието на страната\"**:\n",
        "* https://www.oocities.org/todprog/ese/proekt.htm\n",
        "* https://artificial-mind.blogspot.com/2020/07/interdisciplinary-research-institute.html\n",
        "... на безплатните синтезатори на реч\n",
        "* **\"Глас 2004\" и \"Тошко 2\"**: https://github.com/Twenkid/Toshko_2\n",
        "\n",
        "* ... на **безплатния интелигентнен речник-помощник на преводача \"Smarty\" (2007)** който беше най-\"умното\" подобно приложение в света, с наченки на разбиране на контекста: https://github.com/Twenkid/Smarty\n",
        "\n",
        "* ...на всестранния проект **\"Вси, или Специалист по всичко\"** за инфраструктура за Общ изкуствен интелект, 2022:\n",
        "https://github.com/Twenkid/Vsy-Jack-Of-All-Trades-AGI-Bulgarian-Internet-Archive-And-Search-Engine\n",
        "\n",
        "* Обучава голям езиков модел на българскив Колаб **GPT2-BG Medium, обучен в Колаб през 2021 г.**: - ръководство за обучение, за пораждане на по-\"творчески\" текстове и самият модел:\n",
        "https://github.com/Twenkid/GPT2-Bulgarian-Training-Tips-and-Tools\n",
        "\n",
        "и др.\n",
        "\n",
        "Интервю от 2009 г.: **Тодор Арнаудов: Ще създам мислеща машина, която ще се самоусложнява.\n",
        "Фантазьори и авантюристи правят великите открития. Работата на скептиците е да отричат, а после да не вярват на собствените си очи**\n",
        "\n",
        "https://artificial-mind.blogspot.com/2009/11/dreamers-and-adventurists-do-big.html\n",
        "\n",
        "**СВЕЩЕНИЯТ СМЕТАЧ** търси всякакви партньори, съдружници, спонсори, съмишленици. Виж например \"issue\"-то в проекта \"Вси\":\n",
        "https://github.com/Twenkid/Vsy-Jack-Of-All-Trades-AGI-Bulgarian-Internet-Archive-And-Search-Engine/issues/10\n",
        "\n",
        "\n",
        "...\n",
        "\n",
        "19.2.2024\n",
        "\n",
        "BgGPT:\n",
        "\n",
        "https://bggpt.ai\n",
        "\n",
        "https://huggingface.co/INSAIT-Institute/BgGPT-7B-Instruct-v0.1/blob/main/README.md?code=true\n",
        "\n",
        "https://bggpt.ai/blog/2024-02-18-launching-the-first-free-and-open-bulgarian-llm/\n",
        "\n",
        "https://huggingface.co/INSAIT-Institute/BgGPT-7B-Instruct-v0.1/tree/main\n",
        "\n",
        "\n"
      ],
      "metadata": {
        "id": "PD8yuacUV4bI"
      }
    },
    {
      "cell_type": "code",
      "source": [
        "# If you have your models or data saved in your drive\n",
        "# You can download or access the model or data directly from there\n",
        "\n",
        "from google.colab import drive\n",
        "drive.mount('/content/drive')\n",
        "\n",
        "#/content/drive/MyDrive/...\n"
      ],
      "metadata": {
        "id": "PwTabNcJXaxX",
        "colab": {
          "base_uri": "https://localhost:8080/"
        },
        "outputId": "2e3fe72d-692c-4928-e31e-de8b6f281f9c"
      },
      "execution_count": null,
      "outputs": [
        {
          "output_type": "stream",
          "name": "stdout",
          "text": [
            "Mounted at /content/drive\n"
          ]
        }
      ]
    },
    {
      "cell_type": "code",
      "source": [
        "import locale\n",
        "locale.getpreferredencoding = lambda: \"UTF-8\"\n",
        "%ls /content/drive"
      ],
      "metadata": {
        "colab": {
          "base_uri": "https://localhost:8080/"
        },
        "id": "LtRrDbGdJg3k",
        "outputId": "e40c359d-5289-4d81-f10e-93e48c9829b0"
      },
      "execution_count": null,
      "outputs": [
        {
          "output_type": "stream",
          "name": "stdout",
          "text": [
            "ls: cannot access '/content/drive': No such file or directory\n"
          ]
        }
      ]
    },
    {
      "cell_type": "code",
      "execution_count": null,
      "metadata": {
        "colab": {
          "base_uri": "https://localhost:8080/",
          "height": 317
        },
        "id": "31vvLOvzZcwh",
        "outputId": "3345f093-4334-40ef-8836-b000c5723b57"
      },
      "outputs": [
        {
          "output_type": "error",
          "ename": "NotImplementedError",
          "evalue": "A UTF-8 locale is required. Got ANSI_X3.4-1968",
          "traceback": [
            "\u001b[0;31m---------------------------------------------------------------------------\u001b[0m",
            "\u001b[0;31mNotImplementedError\u001b[0m                       Traceback (most recent call last)",
            "\u001b[0;32m<ipython-input-24-f7e957707e4b>\u001b[0m in \u001b[0;36m<cell line: 1>\u001b[0;34m()\u001b[0m\n\u001b[0;32m----> 1\u001b[0;31m \u001b[0mget_ipython\u001b[0m\u001b[0;34m(\u001b[0m\u001b[0;34m)\u001b[0m\u001b[0;34m.\u001b[0m\u001b[0msystem\u001b[0m\u001b[0;34m(\u001b[0m\u001b[0;34m'huggingface-cli download INSAIT-Institute/BgGPT-7B-Instruct-v0.1'\u001b[0m\u001b[0;34m)\u001b[0m\u001b[0;34m\u001b[0m\u001b[0;34m\u001b[0m\u001b[0m\n\u001b[0m",
            "\u001b[0;32m/usr/local/lib/python3.10/dist-packages/google/colab/_shell.py\u001b[0m in \u001b[0;36msystem\u001b[0;34m(self, *args, **kwargs)\u001b[0m\n\u001b[1;32m     97\u001b[0m       \u001b[0mkwargs\u001b[0m\u001b[0;34m.\u001b[0m\u001b[0mupdate\u001b[0m\u001b[0;34m(\u001b[0m\u001b[0;34m{\u001b[0m\u001b[0;34m'also_return_output'\u001b[0m\u001b[0;34m:\u001b[0m \u001b[0;32mTrue\u001b[0m\u001b[0;34m}\u001b[0m\u001b[0;34m)\u001b[0m\u001b[0;34m\u001b[0m\u001b[0;34m\u001b[0m\u001b[0m\n\u001b[1;32m     98\u001b[0m \u001b[0;34m\u001b[0m\u001b[0m\n\u001b[0;32m---> 99\u001b[0;31m     \u001b[0moutput\u001b[0m \u001b[0;34m=\u001b[0m \u001b[0m_system_commands\u001b[0m\u001b[0;34m.\u001b[0m\u001b[0m_system_compat\u001b[0m\u001b[0;34m(\u001b[0m\u001b[0mself\u001b[0m\u001b[0;34m,\u001b[0m \u001b[0;34m*\u001b[0m\u001b[0margs\u001b[0m\u001b[0;34m,\u001b[0m \u001b[0;34m**\u001b[0m\u001b[0mkwargs\u001b[0m\u001b[0;34m)\u001b[0m  \u001b[0;31m# pylint:disable=protected-access\u001b[0m\u001b[0;34m\u001b[0m\u001b[0;34m\u001b[0m\u001b[0m\n\u001b[0m\u001b[1;32m    100\u001b[0m \u001b[0;34m\u001b[0m\u001b[0m\n\u001b[1;32m    101\u001b[0m     \u001b[0;32mif\u001b[0m \u001b[0mpip_warn\u001b[0m\u001b[0;34m:\u001b[0m\u001b[0;34m\u001b[0m\u001b[0;34m\u001b[0m\u001b[0m\n",
            "\u001b[0;32m/usr/local/lib/python3.10/dist-packages/google/colab/_system_commands.py\u001b[0m in \u001b[0;36m_system_compat\u001b[0;34m(shell, cmd, also_return_output)\u001b[0m\n\u001b[1;32m    452\u001b[0m   \u001b[0;31m# is expected to call this function, thus adding one level of nesting to the\u001b[0m\u001b[0;34m\u001b[0m\u001b[0;34m\u001b[0m\u001b[0m\n\u001b[1;32m    453\u001b[0m   \u001b[0;31m# stack.\u001b[0m\u001b[0;34m\u001b[0m\u001b[0;34m\u001b[0m\u001b[0m\n\u001b[0;32m--> 454\u001b[0;31m   result = _run_command(\n\u001b[0m\u001b[1;32m    455\u001b[0m       \u001b[0mshell\u001b[0m\u001b[0;34m.\u001b[0m\u001b[0mvar_expand\u001b[0m\u001b[0;34m(\u001b[0m\u001b[0mcmd\u001b[0m\u001b[0;34m,\u001b[0m \u001b[0mdepth\u001b[0m\u001b[0;34m=\u001b[0m\u001b[0;36m2\u001b[0m\u001b[0;34m)\u001b[0m\u001b[0;34m,\u001b[0m \u001b[0mclear_streamed_output\u001b[0m\u001b[0;34m=\u001b[0m\u001b[0;32mFalse\u001b[0m\u001b[0;34m\u001b[0m\u001b[0;34m\u001b[0m\u001b[0m\n\u001b[1;32m    456\u001b[0m   )\n",
            "\u001b[0;32m/usr/local/lib/python3.10/dist-packages/google/colab/_system_commands.py\u001b[0m in \u001b[0;36m_run_command\u001b[0;34m(cmd, clear_streamed_output)\u001b[0m\n\u001b[1;32m    166\u001b[0m     \u001b[0mlocale_encoding\u001b[0m \u001b[0;34m=\u001b[0m \u001b[0mlocale\u001b[0m\u001b[0;34m.\u001b[0m\u001b[0mgetpreferredencoding\u001b[0m\u001b[0;34m(\u001b[0m\u001b[0;34m)\u001b[0m\u001b[0;34m\u001b[0m\u001b[0;34m\u001b[0m\u001b[0m\n\u001b[1;32m    167\u001b[0m     \u001b[0;32mif\u001b[0m \u001b[0mlocale_encoding\u001b[0m \u001b[0;34m!=\u001b[0m \u001b[0m_ENCODING\u001b[0m\u001b[0;34m:\u001b[0m\u001b[0;34m\u001b[0m\u001b[0;34m\u001b[0m\u001b[0m\n\u001b[0;32m--> 168\u001b[0;31m       raise NotImplementedError(\n\u001b[0m\u001b[1;32m    169\u001b[0m           \u001b[0;34m'A UTF-8 locale is required. Got {}'\u001b[0m\u001b[0;34m.\u001b[0m\u001b[0mformat\u001b[0m\u001b[0;34m(\u001b[0m\u001b[0mlocale_encoding\u001b[0m\u001b[0;34m)\u001b[0m\u001b[0;34m\u001b[0m\u001b[0;34m\u001b[0m\u001b[0m\n\u001b[1;32m    170\u001b[0m       )\n",
            "\u001b[0;31mNotImplementedError\u001b[0m: A UTF-8 locale is required. Got ANSI_X3.4-1968"
          ]
        }
      ],
      "source": [
        "# !huggingface-cli download INSAIT-Institute/BgGPT-7B-Instruct-v0.1\n"
      ]
    },
    {
      "cell_type": "code",
      "source": [],
      "metadata": {
        "id": "mOF44URGqBlo"
      },
      "execution_count": null,
      "outputs": []
    },
    {
      "cell_type": "markdown",
      "source": [
        "# Инсталиране на библиотеки ..."
      ],
      "metadata": {
        "id": "ZLTBxZS1KpQU"
      }
    },
    {
      "cell_type": "code",
      "source": [
        "!pip install packaging ninja\n",
        "!pip install accelerate\n",
        "#!pip install flash-attn"
      ],
      "metadata": {
        "colab": {
          "base_uri": "https://localhost:8080/"
        },
        "id": "GdfHe2_2Zu1t",
        "outputId": "0160b0ac-fca3-496d-d186-a42d84c30664"
      },
      "execution_count": 1,
      "outputs": [
        {
          "output_type": "stream",
          "name": "stdout",
          "text": [
            "Requirement already satisfied: packaging in /usr/local/lib/python3.10/dist-packages (23.2)\n",
            "Collecting ninja\n",
            "  Downloading ninja-1.11.1.1-py2.py3-none-manylinux1_x86_64.manylinux_2_5_x86_64.whl (307 kB)\n",
            "\u001b[2K     \u001b[90m━━━━━━━━━━━━━━━━━━━━━━━━━━━━━━━━━━━━━━━━\u001b[0m \u001b[32m307.2/307.2 kB\u001b[0m \u001b[31m7.0 MB/s\u001b[0m eta \u001b[36m0:00:00\u001b[0m\n",
            "\u001b[?25hInstalling collected packages: ninja\n",
            "Successfully installed ninja-1.11.1.1\n",
            "Collecting accelerate\n",
            "  Downloading accelerate-0.27.2-py3-none-any.whl (279 kB)\n",
            "\u001b[2K     \u001b[90m━━━━━━━━━━━━━━━━━━━━━━━━━━━━━━━━━━━━━━━━\u001b[0m \u001b[32m280.0/280.0 kB\u001b[0m \u001b[31m6.6 MB/s\u001b[0m eta \u001b[36m0:00:00\u001b[0m\n",
            "\u001b[?25hRequirement already satisfied: numpy>=1.17 in /usr/local/lib/python3.10/dist-packages (from accelerate) (1.25.2)\n",
            "Requirement already satisfied: packaging>=20.0 in /usr/local/lib/python3.10/dist-packages (from accelerate) (23.2)\n",
            "Requirement already satisfied: psutil in /usr/local/lib/python3.10/dist-packages (from accelerate) (5.9.5)\n",
            "Requirement already satisfied: pyyaml in /usr/local/lib/python3.10/dist-packages (from accelerate) (6.0.1)\n",
            "Requirement already satisfied: torch>=1.10.0 in /usr/local/lib/python3.10/dist-packages (from accelerate) (2.1.0+cu121)\n",
            "Requirement already satisfied: huggingface-hub in /usr/local/lib/python3.10/dist-packages (from accelerate) (0.20.3)\n",
            "Requirement already satisfied: safetensors>=0.3.1 in /usr/local/lib/python3.10/dist-packages (from accelerate) (0.4.2)\n",
            "Requirement already satisfied: filelock in /usr/local/lib/python3.10/dist-packages (from torch>=1.10.0->accelerate) (3.13.1)\n",
            "Requirement already satisfied: typing-extensions in /usr/local/lib/python3.10/dist-packages (from torch>=1.10.0->accelerate) (4.10.0)\n",
            "Requirement already satisfied: sympy in /usr/local/lib/python3.10/dist-packages (from torch>=1.10.0->accelerate) (1.12)\n",
            "Requirement already satisfied: networkx in /usr/local/lib/python3.10/dist-packages (from torch>=1.10.0->accelerate) (3.2.1)\n",
            "Requirement already satisfied: jinja2 in /usr/local/lib/python3.10/dist-packages (from torch>=1.10.0->accelerate) (3.1.3)\n",
            "Requirement already satisfied: fsspec in /usr/local/lib/python3.10/dist-packages (from torch>=1.10.0->accelerate) (2023.6.0)\n",
            "Requirement already satisfied: triton==2.1.0 in /usr/local/lib/python3.10/dist-packages (from torch>=1.10.0->accelerate) (2.1.0)\n",
            "Requirement already satisfied: requests in /usr/local/lib/python3.10/dist-packages (from huggingface-hub->accelerate) (2.31.0)\n",
            "Requirement already satisfied: tqdm>=4.42.1 in /usr/local/lib/python3.10/dist-packages (from huggingface-hub->accelerate) (4.66.2)\n",
            "Requirement already satisfied: MarkupSafe>=2.0 in /usr/local/lib/python3.10/dist-packages (from jinja2->torch>=1.10.0->accelerate) (2.1.5)\n",
            "Requirement already satisfied: charset-normalizer<4,>=2 in /usr/local/lib/python3.10/dist-packages (from requests->huggingface-hub->accelerate) (3.3.2)\n",
            "Requirement already satisfied: idna<4,>=2.5 in /usr/local/lib/python3.10/dist-packages (from requests->huggingface-hub->accelerate) (3.6)\n",
            "Requirement already satisfied: urllib3<3,>=1.21.1 in /usr/local/lib/python3.10/dist-packages (from requests->huggingface-hub->accelerate) (2.0.7)\n",
            "Requirement already satisfied: certifi>=2017.4.17 in /usr/local/lib/python3.10/dist-packages (from requests->huggingface-hub->accelerate) (2024.2.2)\n",
            "Requirement already satisfied: mpmath>=0.19 in /usr/local/lib/python3.10/dist-packages (from sympy->torch>=1.10.0->accelerate) (1.3.0)\n",
            "Installing collected packages: accelerate\n",
            "Successfully installed accelerate-0.27.2\n"
          ]
        }
      ]
    },
    {
      "cell_type": "code",
      "source": [
        "\n"
      ],
      "metadata": {
        "colab": {
          "base_uri": "https://localhost:8080/",
          "height": 176
        },
        "id": "dWSlbIaEbgKE",
        "outputId": "08fbbd83-71fb-4e31-c5f4-6236f753ea49"
      },
      "execution_count": null,
      "outputs": [
        {
          "output_type": "error",
          "ename": "NameError",
          "evalue": "name 'AutoModelForCausalLM' is not defined",
          "traceback": [
            "\u001b[0;31m---------------------------------------------------------------------------\u001b[0m",
            "\u001b[0;31mNameError\u001b[0m                                 Traceback (most recent call last)",
            "\u001b[0;32m<ipython-input-2-04578d045c84>\u001b[0m in \u001b[0;36m<cell line: 3>\u001b[0;34m()\u001b[0m\n\u001b[1;32m      1\u001b[0m \u001b[0;31m# List of Available Models\u001b[0m\u001b[0;34m\u001b[0m\u001b[0;34m\u001b[0m\u001b[0m\n\u001b[1;32m      2\u001b[0m \u001b[0;31m# Списък с достъпни модели\u001b[0m\u001b[0;34m\u001b[0m\u001b[0;34m\u001b[0m\u001b[0m\n\u001b[0;32m----> 3\u001b[0;31m \u001b[0mhelp\u001b[0m\u001b[0;34m(\u001b[0m\u001b[0mAutoModelForCausalLM\u001b[0m\u001b[0;34m.\u001b[0m\u001b[0mfrom_pretrained\u001b[0m\u001b[0;34m)\u001b[0m\u001b[0;34m\u001b[0m\u001b[0;34m\u001b[0m\u001b[0m\n\u001b[0m",
            "\u001b[0;31mNameError\u001b[0m: name 'AutoModelForCausalLM' is not defined"
          ]
        }
      ]
    },
    {
      "cell_type": "markdown",
      "source": [
        "# Заредете модела\n",
        "Може да бъде и друг: с път до адрес в huggingface, профил/име-на-модел. Виж в следващата клетка."
      ],
      "metadata": {
        "id": "VzXKbK5p-KRz"
      }
    },
    {
      "cell_type": "markdown",
      "source": [
        "## Upgrade transformers for flash_attn_2"
      ],
      "metadata": {
        "id": "2LW7lIWKJsgi"
      }
    },
    {
      "cell_type": "code",
      "source": [
        "#!pip install --upgrade transformers"
      ],
      "metadata": {
        "colab": {
          "base_uri": "https://localhost:8080/",
          "height": 585
        },
        "id": "7CT7gIKIJqDu",
        "outputId": "ea8a489b-b38b-44f1-f321-3d46083569dc"
      },
      "execution_count": null,
      "outputs": [
        {
          "output_type": "stream",
          "name": "stdout",
          "text": [
            "Requirement already satisfied: transformers in /usr/local/lib/python3.10/dist-packages (4.37.2)\n",
            "Collecting transformers\n",
            "  Downloading transformers-4.38.1-py3-none-any.whl (8.5 MB)\n",
            "\u001b[2K     \u001b[90m━━━━━━━━━━━━━━━━━━━━━━━━━━━━━━━━━━━━━━━━\u001b[0m \u001b[32m8.5/8.5 MB\u001b[0m \u001b[31m24.2 MB/s\u001b[0m eta \u001b[36m0:00:00\u001b[0m\n",
            "\u001b[?25hRequirement already satisfied: filelock in /usr/local/lib/python3.10/dist-packages (from transformers) (3.13.1)\n",
            "Requirement already satisfied: huggingface-hub<1.0,>=0.19.3 in /usr/local/lib/python3.10/dist-packages (from transformers) (0.20.3)\n",
            "Requirement already satisfied: numpy>=1.17 in /usr/local/lib/python3.10/dist-packages (from transformers) (1.25.2)\n",
            "Requirement already satisfied: packaging>=20.0 in /usr/local/lib/python3.10/dist-packages (from transformers) (23.2)\n",
            "Requirement already satisfied: pyyaml>=5.1 in /usr/local/lib/python3.10/dist-packages (from transformers) (6.0.1)\n",
            "Requirement already satisfied: regex!=2019.12.17 in /usr/local/lib/python3.10/dist-packages (from transformers) (2023.12.25)\n",
            "Requirement already satisfied: requests in /usr/local/lib/python3.10/dist-packages (from transformers) (2.31.0)\n",
            "Requirement already satisfied: tokenizers<0.19,>=0.14 in /usr/local/lib/python3.10/dist-packages (from transformers) (0.15.2)\n",
            "Requirement already satisfied: safetensors>=0.4.1 in /usr/local/lib/python3.10/dist-packages (from transformers) (0.4.2)\n",
            "Requirement already satisfied: tqdm>=4.27 in /usr/local/lib/python3.10/dist-packages (from transformers) (4.66.2)\n",
            "Requirement already satisfied: fsspec>=2023.5.0 in /usr/local/lib/python3.10/dist-packages (from huggingface-hub<1.0,>=0.19.3->transformers) (2023.6.0)\n",
            "Requirement already satisfied: typing-extensions>=3.7.4.3 in /usr/local/lib/python3.10/dist-packages (from huggingface-hub<1.0,>=0.19.3->transformers) (4.9.0)\n",
            "Requirement already satisfied: charset-normalizer<4,>=2 in /usr/local/lib/python3.10/dist-packages (from requests->transformers) (3.3.2)\n",
            "Requirement already satisfied: idna<4,>=2.5 in /usr/local/lib/python3.10/dist-packages (from requests->transformers) (3.6)\n",
            "Requirement already satisfied: urllib3<3,>=1.21.1 in /usr/local/lib/python3.10/dist-packages (from requests->transformers) (2.0.7)\n",
            "Requirement already satisfied: certifi>=2017.4.17 in /usr/local/lib/python3.10/dist-packages (from requests->transformers) (2024.2.2)\n",
            "Installing collected packages: transformers\n",
            "  Attempting uninstall: transformers\n",
            "    Found existing installation: transformers 4.37.2\n",
            "    Uninstalling transformers-4.37.2:\n",
            "      Successfully uninstalled transformers-4.37.2\n",
            "Successfully installed transformers-4.38.1\n"
          ]
        },
        {
          "output_type": "display_data",
          "data": {
            "application/vnd.colab-display-data+json": {
              "pip_warning": {
                "packages": [
                  "transformers"
                ]
              }
            }
          },
          "metadata": {}
        }
      ]
    },
    {
      "cell_type": "code",
      "source": [
        "# Only Ampere or newer! (RTX 3000 for PC etc. On Colab now it's just Tesla T4, 2018)\n",
        "#!pip install flash-attn --no-build-isolation"
      ],
      "metadata": {
        "colab": {
          "base_uri": "https://localhost:8080/"
        },
        "id": "6m5aGZ_aKu6Y",
        "outputId": "4003ac17-3241-4f40-90c8-302960d180ce"
      },
      "execution_count": null,
      "outputs": [
        {
          "output_type": "stream",
          "name": "stdout",
          "text": [
            "Collecting flash-attn\n",
            "  Downloading flash_attn-2.5.5.tar.gz (2.5 MB)\n",
            "\u001b[2K     \u001b[90m━━━━━━━━━━━━━━━━━━━━━━━━━━━━━━━━━━━━━━━━\u001b[0m \u001b[32m2.5/2.5 MB\u001b[0m \u001b[31m10.7 MB/s\u001b[0m eta \u001b[36m0:00:00\u001b[0m\n",
            "\u001b[?25h  Preparing metadata (setup.py) ... \u001b[?25l\u001b[?25hdone\n",
            "Requirement already satisfied: torch in /usr/local/lib/python3.10/dist-packages (from flash-attn) (2.1.0+cu121)\n",
            "Collecting einops (from flash-attn)\n",
            "  Downloading einops-0.7.0-py3-none-any.whl (44 kB)\n",
            "\u001b[2K     \u001b[90m━━━━━━━━━━━━━━━━━━━━━━━━━━━━━━━━━━━━━━━━\u001b[0m \u001b[32m44.6/44.6 kB\u001b[0m \u001b[31m5.2 MB/s\u001b[0m eta \u001b[36m0:00:00\u001b[0m\n",
            "\u001b[?25hRequirement already satisfied: packaging in /usr/local/lib/python3.10/dist-packages (from flash-attn) (23.2)\n",
            "Requirement already satisfied: ninja in /usr/local/lib/python3.10/dist-packages (from flash-attn) (1.11.1.1)\n",
            "Requirement already satisfied: filelock in /usr/local/lib/python3.10/dist-packages (from torch->flash-attn) (3.13.1)\n",
            "Requirement already satisfied: typing-extensions in /usr/local/lib/python3.10/dist-packages (from torch->flash-attn) (4.9.0)\n",
            "Requirement already satisfied: sympy in /usr/local/lib/python3.10/dist-packages (from torch->flash-attn) (1.12)\n",
            "Requirement already satisfied: networkx in /usr/local/lib/python3.10/dist-packages (from torch->flash-attn) (3.2.1)\n",
            "Requirement already satisfied: jinja2 in /usr/local/lib/python3.10/dist-packages (from torch->flash-attn) (3.1.3)\n",
            "Requirement already satisfied: fsspec in /usr/local/lib/python3.10/dist-packages (from torch->flash-attn) (2023.6.0)\n",
            "Requirement already satisfied: triton==2.1.0 in /usr/local/lib/python3.10/dist-packages (from torch->flash-attn) (2.1.0)\n",
            "Requirement already satisfied: MarkupSafe>=2.0 in /usr/local/lib/python3.10/dist-packages (from jinja2->torch->flash-attn) (2.1.5)\n",
            "Requirement already satisfied: mpmath>=0.19 in /usr/local/lib/python3.10/dist-packages (from sympy->torch->flash-attn) (1.3.0)\n",
            "Building wheels for collected packages: flash-attn\n",
            "  Building wheel for flash-attn (setup.py) ... \u001b[?25l\u001b[?25hdone\n",
            "  Created wheel for flash-attn: filename=flash_attn-2.5.5-cp310-cp310-linux_x86_64.whl size=120352304 sha256=e70f2f0d4fae98c9ff9742404f3e067bbae56bd3212578ff81c30f73c5ae1a15\n",
            "  Stored in directory: /root/.cache/pip/wheels/b2/67/52/8b6d5fcffdd9e1ec868f554cdef8f03eedb4bf4dcac852fca2\n",
            "Successfully built flash-attn\n",
            "Installing collected packages: einops, flash-attn\n",
            "Successfully installed einops-0.7.0 flash-attn-2.5.5\n"
          ]
        }
      ]
    },
    {
      "cell_type": "code",
      "source": [
        "# Load the model\n",
        "# pretrained_model_name_or_path=\"INSAIT-Institute/BgGPT-7B-Instruct-v0.1\",\n",
        "#path = \"codellama/CodeLlama-7b-Instruct-hf\" #TabbyML/CodeLlama-7B\"\n",
        "path = \"INSAIT-Institute/BgGPT-7B-Instruct-v0.2\"\n",
        "from transformers import AutoModelForCausalLM, AutoTokenizer\n",
        "import torch\n",
        "model = AutoModelForCausalLM.from_pretrained(\n",
        "    pretrained_model_name_or_path=path, #INSAIT-Institute/BgGPT-7B-Instruct-v0.2\",\n",
        "    torch_dtype=torch.bfloat16,\n",
        "    low_cpu_mem_usage=True\n",
        "    #use_flash_attention_2 = True  #Only for Geforce 3000+ etc.\n",
        ")\n",
        "#use_flash_attn_2=True,\n",
        "#If using GPU, uncomment low_cpu_mem\n",
        "#If using CPU: comment it (but probably out of memory... it couldn't fit the model)\n",
        "#device_map=\"auto\",\n",
        "#low_cpu_mem_usage=True, # or crashes\n",
        "#use_flash_attn_2=True,\n",
        "# mistralai/Mistral-7B-Instruct-v0.1\n"
      ],
      "metadata": {
        "colab": {
          "base_uri": "https://localhost:8080/",
          "height": 421,
          "referenced_widgets": [
            "5de3777e0c144b2188ff140b19daf879",
            "3362239b024c4714b0c91f27ed96e5ac",
            "92bc5f8b76c94978a267a0866016d265",
            "3c987d53ebb54fdc97df37944b978a7e",
            "4631f8c49d7f4fdeab859433758333c1",
            "3866b3402812418e8abde5ff7ffcafbf",
            "efa016ab70c847efafbd11fd0b875823",
            "ce58c1535d57464086df026ef9a473ab",
            "7da50ff2581e486eb0ed6eef1b2470f5",
            "49b8db605072441db8e61848bf082c40",
            "3b863b7e36a84ba7aa35c340b6461eca",
            "57ac59a69b134d3faff2156025ce137f",
            "01cdc44312df47a6adb66f355410ca0c",
            "bc1bdff091564cc9ae0e062c052b23c4",
            "d907d552895c4b448191d28a182868e8",
            "1139c69176944fdfb76fe570f75ffce2",
            "b6ae67a9474b46b7b4f37b7148e9a482",
            "29b6746e48ef42cd9fbd670e670a5471",
            "388fa97f5ace4398bd60c497b10c9923",
            "482ed6114d994c9f9f0ce934db75d653",
            "6986b83532164c76bfcce3ffee8c4213",
            "3e010f98752743a6b947cccb680c9931",
            "b327b9f9975242478d5f6c3759564d13",
            "1327932434c64154be9aadb2f366966a",
            "d99c1d1187ad4ac38f17552e4a0e4849",
            "c779d3683bfc44c185d6fd90cf43bacc",
            "efcf4157898f48d9838d2776091e725e",
            "51322b1b366449219333a94c525e2cef",
            "95a85f15710e40bb961918be69d7b1da",
            "19e23dd96a434f449c54c6197d18785e",
            "c25c5385bb7f46c3a12e3483e910d300",
            "c0bd6d71f5c040ef92a7bd93a0ec6eb5",
            "71450aa13b6846be986d8b466985d176",
            "bb4c495411a4412aa36443e70126c5bf",
            "e448c812563a416dad16717d7733a454",
            "4056b75ff5d54d74b1edfe16ccfdc33a",
            "1f3e2fbfc9c64c74b578c0ee9108a673",
            "e6a96d335a3a417d92da9923bf2b4af6",
            "38cccb715ef84b64bd629b24365edcac",
            "49701601bb164f26a487f464171914d4",
            "a4138dc97a7b4a309aa371d5412a94df",
            "a9b10de4442046f2a89a2f5938ed98a5",
            "bca1f71d7a7642aeb89f7f80c9c5a427",
            "d423c719895f44e8b3e0e9b4d25e6f5a",
            "e5f6d8144dad4f0fbb18ebe47fd5159f",
            "2bb096cb4e9641549c4174f54560274d",
            "a659388786d34f2896889a55e756aaf9",
            "c8109577100e489c86a2bdff3b688346",
            "bf5fea27ec60412fb0a34cb3d008ee1c",
            "ad2d6a8fcfa34a22977a81b7ce85c872",
            "bf90ebf3b9e54c31ad7852e00f27be78",
            "298e3b4a370a4327a2963b29c723f97a",
            "c7eb07d121694980a2ec2b9009fae0ef",
            "3e9ab4b70c324522b03a7b84e096a8dd",
            "dc202c0e967e40cf81d48dd3d186cd34",
            "a8b0f1a695fa4e36946e2517005fc9db",
            "08f8fd26e9784ce48555a6d8024cba86",
            "db54def78aa8425190f11dae8e81e4ce",
            "ff0ab189386448a7b953a5d78334f2fd",
            "e17efa8bb46942ebb81c17a8f8bab2fd",
            "ef7b1cb5008b415098cbaddd4c0df589",
            "76068d62098c493d9150c43ea11e28e2",
            "5a50862d6f534a479ddce05f68c63e6a",
            "0eb6cbc0b25446aab9c0eedee0fa32ba",
            "717a1d0f750947c0b165e0f6637d4411",
            "32611003d7f74c8989efab69bf45cdce",
            "de478bf2d4e44393bd1dc5ebfd3c7e0a",
            "dc4c9863a0de4a24b061f9118db819ed",
            "9711d9c7f6d440f686317df0b7adf3a6",
            "18e8896107854a51a9566e9068a4fd69",
            "a4a3158ece3140afb08675b558fee369",
            "19f55003f3a84365af75b1ee2477b421",
            "7fcb174f724e462bbdb499a89fffedd1",
            "21968c8986c44d4b826e602ea6544840",
            "aba545d7b0e14483a997a4401a55b170",
            "7ed8335d9a104d8dba152689d7b01a34",
            "940a09a665464f5e9b72d2bd60d4c66d"
          ]
        },
        "id": "zjz9UBdoalFp",
        "outputId": "389138bf-1648-4545-b322-bfef08133cd9"
      },
      "execution_count": 2,
      "outputs": [
        {
          "output_type": "stream",
          "name": "stderr",
          "text": [
            "/usr/local/lib/python3.10/dist-packages/huggingface_hub/utils/_token.py:88: UserWarning: \n",
            "The secret `HF_TOKEN` does not exist in your Colab secrets.\n",
            "To authenticate with the Hugging Face Hub, create a token in your settings tab (https://huggingface.co/settings/tokens), set it as secret in your Google Colab and restart your session.\n",
            "You will be able to reuse this secret in all of your notebooks.\n",
            "Please note that authentication is recommended but still optional to access public models or datasets.\n",
            "  warnings.warn(\n"
          ]
        },
        {
          "output_type": "display_data",
          "data": {
            "text/plain": [
              "config.json:   0%|          | 0.00/594 [00:00<?, ?B/s]"
            ],
            "application/vnd.jupyter.widget-view+json": {
              "version_major": 2,
              "version_minor": 0,
              "model_id": "5de3777e0c144b2188ff140b19daf879"
            }
          },
          "metadata": {}
        },
        {
          "output_type": "display_data",
          "data": {
            "text/plain": [
              "model.safetensors.index.json:   0%|          | 0.00/24.8k [00:00<?, ?B/s]"
            ],
            "application/vnd.jupyter.widget-view+json": {
              "version_major": 2,
              "version_minor": 0,
              "model_id": "57ac59a69b134d3faff2156025ce137f"
            }
          },
          "metadata": {}
        },
        {
          "output_type": "display_data",
          "data": {
            "text/plain": [
              "Downloading shards:   0%|          | 0/2 [00:00<?, ?it/s]"
            ],
            "application/vnd.jupyter.widget-view+json": {
              "version_major": 2,
              "version_minor": 0,
              "model_id": "b327b9f9975242478d5f6c3759564d13"
            }
          },
          "metadata": {}
        },
        {
          "output_type": "display_data",
          "data": {
            "text/plain": [
              "model-00001-of-00002.safetensors:   0%|          | 0.00/9.99G [00:00<?, ?B/s]"
            ],
            "application/vnd.jupyter.widget-view+json": {
              "version_major": 2,
              "version_minor": 0,
              "model_id": "bb4c495411a4412aa36443e70126c5bf"
            }
          },
          "metadata": {}
        },
        {
          "output_type": "display_data",
          "data": {
            "text/plain": [
              "model-00002-of-00002.safetensors:   0%|          | 0.00/4.59G [00:00<?, ?B/s]"
            ],
            "application/vnd.jupyter.widget-view+json": {
              "version_major": 2,
              "version_minor": 0,
              "model_id": "e5f6d8144dad4f0fbb18ebe47fd5159f"
            }
          },
          "metadata": {}
        },
        {
          "output_type": "display_data",
          "data": {
            "text/plain": [
              "Loading checkpoint shards:   0%|          | 0/2 [00:00<?, ?it/s]"
            ],
            "application/vnd.jupyter.widget-view+json": {
              "version_major": 2,
              "version_minor": 0,
              "model_id": "a8b0f1a695fa4e36946e2517005fc9db"
            }
          },
          "metadata": {}
        },
        {
          "output_type": "display_data",
          "data": {
            "text/plain": [
              "generation_config.json:   0%|          | 0.00/111 [00:00<?, ?B/s]"
            ],
            "application/vnd.jupyter.widget-view+json": {
              "version_major": 2,
              "version_minor": 0,
              "model_id": "de478bf2d4e44393bd1dc5ebfd3c7e0a"
            }
          },
          "metadata": {}
        }
      ]
    },
    {
      "cell_type": "code",
      "source": [
        "!find / | grep bggpt"
      ],
      "metadata": {
        "colab": {
          "base_uri": "https://localhost:8080/"
        },
        "id": "Npu8I1xNKWD9",
        "outputId": "80bf82e5-404c-419f-c24b-f230b3d69ac5"
      },
      "execution_count": null,
      "outputs": [
        {
          "output_type": "stream",
          "name": "stdout",
          "text": [
            "find: ‘/proc/62/task/62/net’: Invalid argument\n",
            "find: ‘/proc/62/net’: Invalid argument\n"
          ]
        }
      ]
    },
    {
      "cell_type": "code",
      "source": [
        "# List of Available Models\n",
        "# Списък с достъпни модели\n",
        "# help(AutoModelForCausalLM.from_pretrained)"
      ],
      "metadata": {
        "id": "zRtq8eV1_OHc",
        "colab": {
          "base_uri": "https://localhost:8080/",
          "height": 183
        },
        "outputId": "e404dda8-207d-44f9-da7b-7352b5aaa61e"
      },
      "execution_count": null,
      "outputs": [
        {
          "output_type": "error",
          "ename": "NameError",
          "evalue": "name 'AutoModelForCausalLM' is not defined",
          "traceback": [
            "\u001b[0;31m---------------------------------------------------------------------------\u001b[0m",
            "\u001b[0;31mNameError\u001b[0m                                 Traceback (most recent call last)",
            "\u001b[0;32m<ipython-input-1-7dc02a2f820e>\u001b[0m in \u001b[0;36m<cell line: 3>\u001b[0;34m()\u001b[0m\n\u001b[1;32m      1\u001b[0m \u001b[0;31m# List of Available Models\u001b[0m\u001b[0;34m\u001b[0m\u001b[0;34m\u001b[0m\u001b[0m\n\u001b[1;32m      2\u001b[0m \u001b[0;31m# Списък с достъпни модели\u001b[0m\u001b[0;34m\u001b[0m\u001b[0;34m\u001b[0m\u001b[0m\n\u001b[0;32m----> 3\u001b[0;31m \u001b[0mhelp\u001b[0m\u001b[0;34m(\u001b[0m\u001b[0mAutoModelForCausalLM\u001b[0m\u001b[0;34m.\u001b[0m\u001b[0mfrom_pretrained\u001b[0m\u001b[0;34m)\u001b[0m\u001b[0;34m\u001b[0m\u001b[0;34m\u001b[0m\u001b[0m\n\u001b[0m",
            "\u001b[0;31mNameError\u001b[0m: name 'AutoModelForCausalLM' is not defined"
          ]
        }
      ]
    },
    {
      "cell_type": "markdown",
      "source": [],
      "metadata": {
        "id": "_8IfSlcGV2tp"
      }
    },
    {
      "cell_type": "code",
      "source": [
        "\"\"\"\n",
        "EXPERIMENTS\n",
        "===========\n",
        "It doesn't load these mistrals, check formats etc.\n",
        "see also, try:\n",
        "INSAIT-Institute/BgGPT-7B-Instruct-v0.1\n",
        "https://huggingface.co/mistralai/Mistral-7B-Instruct-v0.1\"\n",
        "\n",
        "#TheBloke/Mistral-7B-Instruct-v0.1-GGUF\n",
        "#TheBloke/mistral-7b-instruct-v0.1.Q6_K.gguf\n",
        "#TheBloke/mistral-7b-instruct-v0.1.Q8_0.gguf\n",
        "\n",
        "#TheBloke...: 7.63, 8.44, 10.20 G\n",
        "\"\"\"\n",
        "## LOAD ANOTHER MODEL | ЗАРЕДИ ДРУГ МОДЕЛ\n",
        "\"\"\"\n",
        "ms =[\"INSAIT-Institute/BgGPT-7B-Instruct-v0.1\", \"mistralai/Mistral-7B-Instruct-v0.1\"] #\"TheBloke/Mistral-7B-Instruct-v0.1-GGUF/mistral-7b-instruct-v0.1.Q6_K.gguf\" #TheBloke/Mistral-7B-Instruct-v0.1-GGUF\"\n",
        "n = 0\n",
        "m = ms[n]\n",
        "\n",
        "model = AutoModelForCausalLM.from_pretrained(\n",
        "    pretrained_model_name_or_path=m,\n",
        "    torch_dtype=torch.bfloat16,\n",
        "    low_cpu_mem_usage=True\n",
        ")\n",
        "\n",
        "#tokenizer = AutoTokenizer.from_pretrained(\"INSAIT-Institute/BgGPT-7B-Instruct-v0.1\")\n",
        "tokenizer = AutoTokenizer.from_pretrained(m)\n",
        "device = \"cuda\"\n",
        "\"\"\""
      ],
      "metadata": {
        "colab": {
          "base_uri": "https://localhost:8080/",
          "height": 211
        },
        "id": "8qRWFP3rllY-",
        "outputId": "9f91281f-474d-4060-cb2d-e3c687ad440a"
      },
      "execution_count": null,
      "outputs": [
        {
          "output_type": "error",
          "ename": "NameError",
          "evalue": "name 'AutoModelForCausalLM' is not defined",
          "traceback": [
            "\u001b[0;31m---------------------------------------------------------------------------\u001b[0m",
            "\u001b[0;31mNameError\u001b[0m                                 Traceback (most recent call last)",
            "\u001b[0;32m<ipython-input-3-1c7b6a1e6047>\u001b[0m in \u001b[0;36m<cell line: 23>\u001b[0;34m()\u001b[0m\n\u001b[1;32m     21\u001b[0m \u001b[0mm\u001b[0m \u001b[0;34m=\u001b[0m \u001b[0mms\u001b[0m\u001b[0;34m[\u001b[0m\u001b[0mn\u001b[0m\u001b[0;34m]\u001b[0m\u001b[0;34m\u001b[0m\u001b[0;34m\u001b[0m\u001b[0m\n\u001b[1;32m     22\u001b[0m \u001b[0;34m\u001b[0m\u001b[0m\n\u001b[0;32m---> 23\u001b[0;31m model = AutoModelForCausalLM.from_pretrained(\n\u001b[0m\u001b[1;32m     24\u001b[0m     \u001b[0mpretrained_model_name_or_path\u001b[0m\u001b[0;34m=\u001b[0m\u001b[0mm\u001b[0m\u001b[0;34m,\u001b[0m\u001b[0;34m\u001b[0m\u001b[0;34m\u001b[0m\u001b[0m\n\u001b[1;32m     25\u001b[0m     \u001b[0mtorch_dtype\u001b[0m\u001b[0;34m=\u001b[0m\u001b[0mtorch\u001b[0m\u001b[0;34m.\u001b[0m\u001b[0mbfloat16\u001b[0m\u001b[0;34m,\u001b[0m\u001b[0;34m\u001b[0m\u001b[0;34m\u001b[0m\u001b[0m\n",
            "\u001b[0;31mNameError\u001b[0m: name 'AutoModelForCausalLM' is not defined"
          ]
        }
      ]
    },
    {
      "cell_type": "markdown",
      "source": [
        "# Първо пораждане"
      ],
      "metadata": {
        "id": "d__abiUw-Axk"
      }
    },
    {
      "cell_type": "code",
      "source": [
        "import locale\n",
        "locale.getpreferredencoding = lambda: \"UTF-8\"\n",
        "!nvidia-smi"
      ],
      "metadata": {
        "colab": {
          "base_uri": "https://localhost:8080/"
        },
        "id": "JdJPzJHVV-RP",
        "outputId": "090acee4-81fd-4b40-fbe7-3d698bb3370c"
      },
      "execution_count": null,
      "outputs": [
        {
          "output_type": "stream",
          "name": "stdout",
          "text": [
            "Mon Feb 26 06:23:31 2024       \n",
            "+---------------------------------------------------------------------------------------+\n",
            "| NVIDIA-SMI 535.104.05             Driver Version: 535.104.05   CUDA Version: 12.2     |\n",
            "|-----------------------------------------+----------------------+----------------------+\n",
            "| GPU  Name                 Persistence-M | Bus-Id        Disp.A | Volatile Uncorr. ECC |\n",
            "| Fan  Temp   Perf          Pwr:Usage/Cap |         Memory-Usage | GPU-Util  Compute M. |\n",
            "|                                         |                      |               MIG M. |\n",
            "|=========================================+======================+======================|\n",
            "|   0  Tesla T4                       Off | 00000000:00:04.0 Off |                    0 |\n",
            "| N/A   34C    P8               9W /  70W |      0MiB / 15360MiB |      0%      Default |\n",
            "|                                         |                      |                  N/A |\n",
            "+-----------------------------------------+----------------------+----------------------+\n",
            "                                                                                         \n",
            "+---------------------------------------------------------------------------------------+\n",
            "| Processes:                                                                            |\n",
            "|  GPU   GI   CI        PID   Type   Process name                            GPU Memory |\n",
            "|        ID   ID                                                             Usage      |\n",
            "|=======================================================================================|\n",
            "|  No running processes found                                                           |\n",
            "+---------------------------------------------------------------------------------------+\n"
          ]
        }
      ]
    },
    {
      "cell_type": "code",
      "source": [
        "# Word Wrap for long lines #1.3.2024\n",
        "from IPython.display import HTML, display\n",
        "\n",
        "def set_css():\n",
        "  display(HTML('''\n",
        "  <style>\n",
        "    pre {\n",
        "        white-space: pre-wrap;\n",
        "    }\n",
        "  </style>\n",
        "  '''))\n",
        "get_ipython().events.register('pre_run_cell', set_css)"
      ],
      "metadata": {
        "id": "0o4kmQERfZwu"
      },
      "execution_count": null,
      "outputs": []
    },
    {
      "cell_type": "markdown",
      "source": [
        "## Подготовка на лога за история на запитванията"
      ],
      "metadata": {
        "id": "czoVaeOj-8vM"
      }
    },
    {
      "cell_type": "code",
      "source": [
        "# Помощен код за сърхраняване на историята във файл\n",
        "# Utility code for saving to a log file\n",
        "import os\n",
        "import random\n",
        "from datetime import datetime\n",
        "\n",
        "def get_time_string():\n",
        "  return datetime.now().strftime(\"%d-%m-%Y_%H-%M-%S\")\n",
        "\n",
        "#fname = \"llm_log.txt\" # in the current directory; first version\n",
        "fname = \"llm_log_\" + get_time_string() + \".txt\" #unique file\n",
        "\n",
        "f = open(fname, \"at\", encoding=\"utf-8\") # if the file exists, it will be appended at (instead of wt)\n",
        "\n",
        "#Then use f.write ...\n",
        "prompt_arr = []\n",
        "answer_arr = []\n",
        "prompt_and_answer = []\n",
        "max_new_tokens = 250"
      ],
      "metadata": {
        "id": "80BSoWMUlgTf"
      },
      "execution_count": 3,
      "outputs": []
    },
    {
      "cell_type": "code",
      "source": [
        "# First generation, upload the model to the GPU, streamer (1.3.2024)\n",
        "\n",
        "#model = AutoModelForCausalLM.from_pretrained(\"INSAIT-Institute/BgGPT-7B-Instruct-v0.1\") #mistralai/Mistral-7B-v0.1\")\n",
        "# Load the tokenizer\n",
        "from transformers import TextStreamer\n",
        "#tokenizer = AutoTokenizer.from_pretrained(\"INSAIT-Institute/BgGPT-7B-Instruct-v0.1\")\n",
        "#tokenizer = AutoTokenizer.from_pretrained(\"INSAIT-Institute/BgGPT-7B-Instruct-v0.2\")\n",
        "tokenizer = AutoTokenizer.from_pretrained(path)\n",
        "device = \"cuda\"\n",
        "#prompt = \"Как се правят принджиничени шляпунцели?\"\n",
        "#prompt = \"Откъде мога да си купя шляпунцели със зеленчуци и шоколад? Обичам да ги мажа с приндиджлячки, но оборвляквам шакалакщряк? Нали? Обясни ми\"\n",
        "#prompt = \"Резюмирай в 30 думи: Изброй седемте най-нископлатени тежкоатлети от България. Колко от тях са жени? Кои бягат най-бързо?\"\n",
        "#Резюмирай в 30 думи:\n",
        "prompt = \"Изброй петте най-високоплатени математици, програмисти, информатици и шофьори от България. Колко от тях са жени? Кои смятат най-бързо?\"\n",
        "\n",
        "#prompt = \"Изброй седемте най-високоплатени атлети от България. Колко от тях са жени? Кои бягат най-бързо?\"\n",
        "prompt = \"Изброй непопулярни, оранжеви, щръклести и математически гении, и неуспешни български музиканти\\\n",
        "в произволен стил: класическа, поп, народна, рок.\"\n",
        "\n",
        "#prompts = [\"Каква е сумата на числата от 1 до 100?\", \"Как се прави таратор?\", \"Кога и от кого е основан софийският университет?\", \"На какви изпити трябва да се явя за да кандидатствам журналистика в Софийския университет?\", \"От чуждите езици, може ли вместо изброените да кандидатствам с италиански?\", \"Какво мога да работя след като завърша журналистика?\", \"Кои са петимата най-известни български спортисти?\", \"Напиши есе за приложенията на изкуствения интелект.\"]\n",
        "prompt = \"Кой е апостолът на Свободата?\" #\"Code rendering of a 3D human figure in SDL2 in Python\"\n",
        "## **BgGPT в Colab - безплатно на Tesla T4 или TPU**\n",
        "#### Автор: Тодор Арнаудов - Тош от **СВЕЩЕНИЯТ СМЕТАЧ** - Институт за Мислещи машини, творчество и развитие на човека - основан през 2000 г. Търсят се съдружници, спомоществователи, другари. Виж проектът \"Вси\" по-долу.\n",
        "#ps = []\n",
        "#for p in prompt:\n",
        "# ps.append(\"[s][INST]\"+p+\"[/INST]\")\n",
        "#prompt = \"[s][INST]\"+prompt+\"[/INST]\" # better Question Answering\n",
        "#model_inputs = tokenizer([prompt], return_tensors=\"pt\").to(device)\n",
        "#model_inputs = tokenizer([ps], return_tensors=\"pt\").to(device)\n",
        "#prompt = \"Каква е сумата на числата от 1 до 10?\" #?\"\n",
        "prompt = \"[s][INST]\"+prompt+\"[/INST]\" # better Question Answering\n",
        "model_inputs = tokenizer([prompt], return_tensors=\"pt\").to(device)\n",
        "model.to(device) #if not moved in initialization\n",
        "streamer = TextStreamer(tokenizer)\n",
        "\n",
        "#generated_ids = model.generate(**model_inputs, streamer=streamer, max_new_tokens=1000,do_sample=True, temperature=2.0, top_k=20, repetition_penalty=1.15, top_p=0.9)\n",
        "generated_ids = model.generate(**model_inputs, streamer=streamer, max_new_tokens=80,do_sample=True, temperature=0.5, top_k=20, repetition_penalty=1.2, top_p=0.5)\n",
        "f.write(\"\\n\"+get_time_string()+\"\\n???\")\n",
        "f.write(prompt)\n",
        "f.write(tokenizer.batch_decode(generated_ids)[0])\n",
        "f.flush()\n",
        "tokenizer.batch_decode(generated_ids)[0]\n",
        "\n",
        "generated_ids = model.generate(**model_inputs, streamer=streamer, max_new_tokens=80,do_sample=True, temperature=0.5, top_k=40, repetition_penalty=1.2, top_p=0.9)\n"
      ],
      "metadata": {
        "colab": {
          "base_uri": "https://localhost:8080/",
          "height": 269,
          "referenced_widgets": [
            "b2725c741b8c483fb69913e768068977",
            "6514dae4b2e9405eaabc453c60dbf446",
            "4e5969ab604c4887a1f9cc8a10773ae0",
            "cf889638f94b45b5803435641391cc14",
            "07b30d83859e4b79adf09e64d8a51bea",
            "1bb2ea0325fb41229e62da2e55f0a828",
            "f95784f45a9e4ae782cee8199bde637b",
            "8ff903437505428eb53edb1fdb8032fe",
            "46bf16012e134f33b65f294777388cf0",
            "04bfee5697494f08823ee13ac04ced05",
            "13822da224724e5ba1c45d8fa455e16c",
            "a15b26fc77e348989ecec201dacfdcf7",
            "1955218b1ace4bca965262aedb36edfb",
            "e09ffa86a33443458f3cd4f2a7a74d6f",
            "67a0d969c8ce46a1ba80c5360703d875",
            "3aa620c8cd744119baa9f3c39a0519ea",
            "cf6044bb7e8b43e5a24fec515d5de1e9",
            "ca825eb9f2604a63a3b6545411113763",
            "35efcfa390a24ac1b0827473db2c1ac9",
            "724f5bc1a598439785bc48e0645d2720",
            "ccdeb74c94f44f7e9551041e876b7b57",
            "3598e63ec1be4e2ab6c237eb2bbe136d",
            "19796f1d6a8946ac82ca6e880e1b827f",
            "cca62795d06f4384a5ded01af8bf078d",
            "7001c98f4a4441849de21ff8f3dcd1d3",
            "3642239751b64ed6889bf8dd31ef4204",
            "02a6c1e7b38d4a7497afac910fa84886",
            "e7e98684f3ca4e0ba86a931910b2d39d",
            "f649f358933d4ebca77b61380e47653b",
            "b851012c904a4cb4970fa8acf7d63d79",
            "c50c6978f3bf41c7b9f5484433db8b0d",
            "c36fd789d8d347979564f04204da3a2f",
            "e4241d9d97434ea1887ec7c525ecab32",
            "a13c3cf431574fa3b6eb772f0fc255ea",
            "099fe3c443c7476da6ff699c264dbb92",
            "ba207da8f6764116af75f30842060068",
            "188282dc103049b38b0c8f4e0dd69f68",
            "73d1d35d19cb429e894db66f5bf73460",
            "58d59b2b1b6a4676bf04f79c7020e257",
            "53fbba7097094e7cbe33f27e619e33ea",
            "1e058ff3985d4357befb3745e590c1fc",
            "c799ec43538345268200fc8ffee0f5e3",
            "e85482060d54459395e2e006307492e2",
            "f4513f6bc34143b1a7a1f2e876e0e85e"
          ]
        },
        "id": "xaelArdPfcam",
        "outputId": "fa53c22f-3158-4cbb-b71b-ca937f39aa33"
      },
      "execution_count": 5,
      "outputs": [
        {
          "output_type": "display_data",
          "data": {
            "text/plain": [
              "tokenizer_config.json:   0%|          | 0.00/1.44k [00:00<?, ?B/s]"
            ],
            "application/vnd.jupyter.widget-view+json": {
              "version_major": 2,
              "version_minor": 0,
              "model_id": "b2725c741b8c483fb69913e768068977"
            }
          },
          "metadata": {}
        },
        {
          "output_type": "display_data",
          "data": {
            "text/plain": [
              "tokenizer.model:   0%|          | 0.00/624k [00:00<?, ?B/s]"
            ],
            "application/vnd.jupyter.widget-view+json": {
              "version_major": 2,
              "version_minor": 0,
              "model_id": "a15b26fc77e348989ecec201dacfdcf7"
            }
          },
          "metadata": {}
        },
        {
          "output_type": "display_data",
          "data": {
            "text/plain": [
              "tokenizer.json:   0%|          | 0.00/2.21M [00:00<?, ?B/s]"
            ],
            "application/vnd.jupyter.widget-view+json": {
              "version_major": 2,
              "version_minor": 0,
              "model_id": "19796f1d6a8946ac82ca6e880e1b827f"
            }
          },
          "metadata": {}
        },
        {
          "output_type": "display_data",
          "data": {
            "text/plain": [
              "special_tokens_map.json:   0%|          | 0.00/552 [00:00<?, ?B/s]"
            ],
            "application/vnd.jupyter.widget-view+json": {
              "version_major": 2,
              "version_minor": 0,
              "model_id": "a13c3cf431574fa3b6eb772f0fc255ea"
            }
          },
          "metadata": {}
        },
        {
          "output_type": "stream",
          "name": "stderr",
          "text": [
            "Setting `pad_token_id` to `eos_token_id`:2 for open-end generation.\n"
          ]
        },
        {
          "output_type": "stream",
          "name": "stdout",
          "text": [
            "<s> [s][INST]Кой е апостолът на Свободата?[/INST]А, имаш предвид известния френски революционер и философ Огюстен Робеспиер. Той беше един от ключовите лидери по време на Френската революция в края на 18 век. Неговата визия за равенство и свобода го направи известна фигура в историята. Въпреки това трябва да отбележа, че терминът \"апостол\"\n"
          ]
        },
        {
          "output_type": "stream",
          "name": "stderr",
          "text": [
            "Setting `pad_token_id` to `eos_token_id`:2 for open-end generation.\n"
          ]
        },
        {
          "output_type": "stream",
          "name": "stdout",
          "text": [
            "<s> [s][INST]Кой е апостолът на Свободата?[/INST]Апостол на свободата може да се отнася до няколко исторически личности, които са били видни борци за свобода и независимост. Някои известни примери включват:\n",
            "\n",
            "1. Апостол Павел (ок. 5-67 г. сл. Хр.) - ранен християнски мисионер, смятан от някои за \"апостол на езични\n"
          ]
        }
      ]
    },
    {
      "cell_type": "code",
      "source": [
        "# print(tokenizer.batch_decode(generated_ids)[0])\n",
        "# tokenizer.batch_decode(generated_ids)[0]"
      ],
      "metadata": {
        "colab": {
          "base_uri": "https://localhost:8080/",
          "height": 87
        },
        "id": "8qbIJeL4av_n",
        "outputId": "57dce7e1-e6d6-4279-82e3-0f9df5d34a12"
      },
      "execution_count": null,
      "outputs": [
        {
          "output_type": "execute_result",
          "data": {
            "text/plain": [
              "'<s> [s][INST]Изброй непопулярни, но талантливи български музиканти в произволен стил: класическа, поп, народна, рок.[/INST]Изданието за класации е свързано основно със слушане, разбито с помощта и предоставен линк, и гласуране чрез платформени услуги или уебсайтови опций за избор (на избори), които ще извървят стъпка за филтринг за най–добрите артистични резултати.</s>'"
            ],
            "application/vnd.google.colaboratory.intrinsic+json": {
              "type": "string"
            }
          },
          "metadata": {},
          "execution_count": 19
        }
      ]
    },
    {
      "cell_type": "code",
      "source": [],
      "metadata": {
        "id": "DiaaIJDBajBh"
      },
      "execution_count": null,
      "outputs": []
    },
    {
      "cell_type": "code",
      "source": [],
      "metadata": {
        "id": "9tihspfEnqCf"
      },
      "execution_count": null,
      "outputs": []
    },
    {
      "cell_type": "markdown",
      "source": [
        "##"
      ],
      "metadata": {
        "id": "0qTPd7sClOg-"
      }
    },
    {
      "cell_type": "code",
      "source": [
        "'''Read a list of prompts. One per line\n",
        "openfile ...\n",
        "300, ...\n",
        "'''\n"
      ],
      "metadata": {
        "id": "IhSz1Y4zkmF3"
      },
      "execution_count": null,
      "outputs": []
    },
    {
      "cell_type": "code",
      "source": [
        "# Language utils ... leverage with nltk, spacy etc.\n",
        "def add_noise(txt):\n",
        "  pass #insert words..."
      ],
      "metadata": {
        "id": "pst4UCdo_v_7"
      },
      "execution_count": null,
      "outputs": []
    },
    {
      "cell_type": "code",
      "source": [
        "# Sacred Computer's AGI strategy from 2003:\n",
        "# https://www.oocities.org/todprog/ese/proekt.htm\n",
        "# https://artificial-mind.blogspot.com/2020/07/interdisciplinary-research-institute.html\n",
        "# Try resuming\n",
        "strategy = 'Според моята стратегия би се основал научно-изследователски Институт, който ще обединява информатици, инженери, изкуствоведи, езиковеди, философи, психолози, невролози; преводачи, владеещи много езици; творци в различни изкуства - писатели и поети, композитори и музиканти; художници, фотографи и филмови режисьори. Членовете на Института ще бъдат, с предимство, имащи знания и умения в повече области, едновременно учени и творци, защото целта на търсенията ще бъде да се открие общото между всички прояви на разума, между науките и изкуствата. Формата на мисълта е различна в различните изяви на мисленето, но същината й, механизмите, които стоят в основата, са едни и същи и се променят само данните, с които тя работи - слово, звук, изображения, последователности от изображения, отвлечени понятия и пр.          Институтът ще изпълнява и ролята на \"крило\", което намира, \"закриля и окриля\" даровити хора, за да подпомага развитието им и, ако те пожелаят, да се радва на таланта им в изследванията.          Институтът ще има програмна къща, в която \"между другото\" ще се произвежда \"умен\" приложен софтуер, използващ разработките на Института по пътя към ИР: програми за автоматизирано проектиране, мултимедия, текстообработка, преводачи, игри и др. приложни програми.          Целта на Института ще бъде програмно създаване на ММ, притежаваща универсални възможности за обмен на информация с други изчислителни машини, в  частност роботизирани модули. Роботите, създавани от робототехническия отдел, ще бъдат, освен начин за използване на ИР за физически дейности, още средство  за привличане на вниманието на обществеността и за реклама на Института.          След като бъде осъществена Мислеща машина, тя ще може да се използва във всякакви творчески сфери на човешката дейност и в работата на самия Институт.          Предполагам, че след Откритието и създаването на ММ, работеща на стандартни компютри, Институтът ще се \"опаричи\" и ще получи възможност да  обособи проектантски отдел за разработване на нови цялостни изчислителни  системи, пригодени специално за работата на Машината.          Като завършек бих цитирал няколко факта и имена на млади български \"кандидат-творци на разум\".          Преди няколко месеца Бистра Дилкина, завършваща тази година университета \"Саймън Фрейзър\", спечели мащабно  състезание по програмиране, от областта на ИР, в САЩ и с блестящия си ум привлече вниманието на научните среди.          Ахмед Мерчев, 19-годишен, е основател и ръководител на проекта за човекоподобен робот с умствени и физически възможности сходни с човешките - \"Кибертрон\". По-малко от година след обявяването на проекта, в \"Кибертрон\" постигнаха действителни резултати по робототехническото осъществяване на тялото и получиха признание от БАН.          Авторът на това есе, почти 19-годишен, е основател на дружество \"Разум\", което има за  цел \"разнищването\" на разума. Понастоящем то свързва двама изследователи, чиято стратегия е да разберат действието на мисълта чрез многостранно опознаване и овладяване на  науките и изкуствата. За Илиян Георгиев, студент в САЩ, добре  говори кореспонденцията му с Марвин Мински - един от \"бащите\" на науката за Изкуствения разум, от когото новите идеи не спират да бликат до днес.          Новите идеи не спират да извират от младите български  учени, за които съм убеден, че ако бъдат поставени в благоприятни условия за  работа, ще успеят да направят от поточето река, достатъчно пълноводна, така  че Мислеща машина да \"заплава\" по нея от българско \"пристанище\".'\n",
        "print(strategy)\n",
        "\n",
        "#Too long\n",
        "\n",
        "\n"
      ],
      "metadata": {
        "colab": {
          "base_uri": "https://localhost:8080/"
        },
        "id": "x-svs39DjlGC",
        "outputId": "a71f7126-4e7a-47d1-8623-8fd289e8c3e4"
      },
      "execution_count": null,
      "outputs": [
        {
          "output_type": "stream",
          "name": "stdout",
          "text": [
            "Според моята стратегия би се основал научно-изследователски Институт, който ще обединява информатици, инженери, изкуствоведи, езиковеди, философи, психолози, невролози; преводачи, владеещи много езици; творци в различни изкуства - писатели и поети, композитори и музиканти; художници, фотографи и филмови режисьори. Членовете на Института ще бъдат, с предимство, имащи знания и умения в повече области, едновременно учени и творци, защото целта на търсенията ще бъде да се открие общото между всички прояви на разума, между науките и изкуствата. Формата на мисълта е различна в различните изяви на мисленето, но същината й, механизмите, които стоят в основата, са едни и същи и се променят само данните, с които тя работи - слово, звук, изображения, последователности от изображения, отвлечени понятия и пр.          Институтът ще изпълнява и ролята на \"крило\", което намира, \"закриля и окриля\" даровити хора, за да подпомага развитието им и, ако те пожелаят, да се радва на таланта им в изследванията.          Институтът ще има програмна къща, в която \"между другото\" ще се произвежда \"умен\" приложен софтуер, използващ разработките на Института по пътя към ИР: програми за автоматизирано проектиране, мултимедия, текстообработка, преводачи, игри и др. приложни програми.          Целта на Института ще бъде програмно създаване на ММ, притежаваща универсални възможности за обмен на информация с други изчислителни машини, в  частност роботизирани модули. Роботите, създавани от робототехническия отдел, ще бъдат, освен начин за използване на ИР за физически дейности, още средство  за привличане на вниманието на обществеността и за реклама на Института.          След като бъде осъществена Мислеща машина, тя ще може да се използва във всякакви творчески сфери на човешката дейност и в работата на самия Институт.          Предполагам, че след Откритието и създаването на ММ, работеща на стандартни компютри, Институтът ще се \"опаричи\" и ще получи възможност да  обособи проектантски отдел за разработване на нови цялостни изчислителни  системи, пригодени специално за работата на Машината.          Като завършек бих цитирал няколко факта и имена на млади български \"кандидат-творци на разум\".          Преди няколко месеца Бистра Дилкина, завършваща тази година университета \"Саймън Фрейзър\", спечели мащабно  състезание по програмиране, от областта на ИР, в САЩ и с блестящия си ум привлече вниманието на научните среди.          Ахмед Мерчев, 19-годишен, е основател и ръководител на проекта за човекоподобен робот с умствени и физически възможности сходни с човешките - \"Кибертрон\". По-малко от година след обявяването на проекта, в \"Кибертрон\" постигнаха действителни резултати по робототехническото осъществяване на тялото и получиха признание от БАН.          Авторът на това есе, почти 19-годишен, е основател на дружество \"Разум\", което има за  цел \"разнищването\" на разума. Понастоящем то свързва двама изследователи, чиято стратегия е да разберат действието на мисълта чрез многостранно опознаване и овладяване на  науките и изкуствата. За Илиян Георгиев, студент в САЩ, добре  говори кореспонденцията му с Марвин Мински - един от \"бащите\" на науката за Изкуствения разум, от когото новите идеи не спират да бликат до днес.          Новите идеи не спират да извират от младите български  учени, за които съм убеден, че ако бъдат поставени в благоприятни условия за  работа, ще успеят да направят от поточето река, достатъчно пълноводна, така  че Мислеща машина да \"заплава\" по нея от българско \"пристанище\".\n"
          ]
        }
      ]
    },
    {
      "cell_type": "code",
      "source": [
        "len(strategy)"
      ],
      "metadata": {
        "colab": {
          "base_uri": "https://localhost:8080/"
        },
        "id": "PBa23r2AlX5V",
        "outputId": "becfeeca-2be7-4db7-acf3-8c2d7f2e73ac"
      },
      "execution_count": null,
      "outputs": [
        {
          "output_type": "execute_result",
          "data": {
            "text/plain": [
              "3483"
            ]
          },
          "metadata": {},
          "execution_count": 68
        }
      ]
    },
    {
      "cell_type": "markdown",
      "source": [
        "# Пакетно извикване на много въпроси, заявки и т.н."
      ],
      "metadata": {
        "id": "Fc7fzn10anz6"
      }
    },
    {
      "cell_type": "code",
      "source": [
        "# 24.2.2024\n",
        "# Batch calling of prompts\n",
        "# qs ... (text,  max_len, {params} ...) --> create future structures, more info etc.\n",
        "# or (text, options, {params //for the model//} )  some options may overide the model params\n",
        "# or (text, options) ... opt... contains the params //separate text for dynamically changing the options?\n",
        "# params: top_k, temp, ... options: multiple generation (compare), sliding-window generation, scanning top_k, temperature, \"augmented\", scrambled etc.\n",
        "# A finding: it can answer long questions, even 500?+ characters, out of memory (it's close to the edge, 14.7 GB etc.)!!!\n",
        "\n",
        "#option = {'max: 200'}\n",
        "import copy #not used yet\n",
        "from textwrap import TextWrapper\n",
        "\n",
        "import pprint\n",
        "pp = pprint.PrettyPrinter()\n",
        "w = TextWrapper(width=80)\n",
        "streamer = TextStreamer(tokenizer)\n",
        "\n",
        "ls = [\"Иван има 8 плода. Чочко притежава 3 банана. Пенка държи в джоба си шест ягоди. Кое дете има най-много на брой плодове? Кое има най-малко?\",\n",
        "\"Иван има 8 плода. Слънцето пече силно през пролетта. Чочко притежава 3 банана. Маймуните обичат да ядат банани. Пенка държи в джоба си шест ягоди. В градините растат и са червени. Кое дете има най-много на брой плодове? Кое има най-малко?\",\n",
        "\"Чучолина е майка на Магда. Стоянка е леля на Мимето. Цона е дъщеря на Стоянка.  Магда е приятелка на Стоянка. Какви са Магда и Чучолина?\"]\n",
        "\n",
        "class Options:\n",
        "    \"\"\"\n",
        "    __init__(self, general=None, options=None):\n",
        "      self.max_default = 200\n",
        "      if options!=None: self = copy.deepCopy(options) # future use if more complex structrues etc. are used\n",
        "      if general!=None:\n",
        "         self.max_new_tokens = general.max_new_tokens\n",
        "         self.temperature = general.tempperature\n",
        "         self.top_k = general.top_k\n",
        "         self.repetition_penalty = general.repetition_penalty\n",
        "         print(\"init options...\", self)\n",
        "\n",
        "    #general=None,\n",
        "    \"\"\"\n",
        "    def getDefaultPrompt(hint):\n",
        "        return \"Преведи на английски: Котката изпи камъка и литна под нанагорнището.\"\n",
        "\n",
        "\n",
        "    #enabled -- allows to disable some questions etc. without removing them from the list\n",
        "    #if copying: prompt can be null or whatever, it's overwritten by options\n",
        "    #def __init__(self, options=None, prompt=None, enabled = True, inst=True, max=0, t=0, top_k=0, top_p=0, repetition_penalty=0): # #0 means default\n",
        "    def __init__(self, prompt=None, enabled = True, inst=True, max=0, t=0, top_k=0, top_p=0, repetition_penalty=0): # #0 means default\n",
        "       self.max_default = 600 #1000\n",
        "       self.t_default = 0.9\n",
        "       self.top_k_default = 40\n",
        "       self.top_p_default = 0.9 #0.93\n",
        "       #self.max_new_tokens_defau\n",
        "       self.repetition_penalty_default = 1.15 #1.2\n",
        "       self.inst = inst #[INST][/INST]\n",
        "       self.answer = None\n",
        "       self.ids = None\n",
        "       self.enabled = True\n",
        "\n",
        "       #if options!=None: self = copy.deepcopy(options); print(self) # but still may override the parames future use if more complex structrues etc. are used\n",
        "       if prompt==None: self.prompt = self.getDefaultPrompt()\n",
        "       else: self.prompt = prompt\n",
        "       #elif self.prompt==None: self.prompt = prompt #when copy ctr\n",
        "       print(\"__init__.prompt: \"+self.prompt)\n",
        "\n",
        "       if (max==0): self.max_new_tokens = self.max_default  # could be dictionaries etc.\n",
        "       else: self.max_new_tokens = max\n",
        "       if (t==0): self.temperature = self.t_default\n",
        "       else: self.temperature = t\n",
        "       if (top_k==0): self.top_k = self.top_k_default\n",
        "       else: self.top_k = top_k\n",
        "       if (top_p==0): self.top_p = self.top_p_default\n",
        "       else: self.top_p = top_p\n",
        "       if (repetition_penalty==0): self.repetition_penalty = self.repetition_penalty_default # -1\n",
        "       else:  self.repetition_penalty = repetition_penalty\n",
        "       print(\"init Options...\", self)\n",
        "\n",
        "#call if not initialized\n",
        "def init_model(m = \"INSAIT-Institute/BgGPT-7B-Instruct-v0.1\"):\n",
        "  #m = \"INSAIT-Institute/BgGPT-7B-Instruct-v0.1\"\n",
        "  tokenizer = AutoTokenizer.from_pretrained(m)\n",
        "  device = \"cuda\"\n",
        "  model.to(device)\n",
        "\n",
        "b_new = False\n",
        "b_inst = True #False # True\n",
        "b_store_ids = False #store token ids - for debugging etc. if true it complicates the simple printing of all params (too much numbers)\n",
        "\n",
        "def batch_questions(qs):\n",
        "  answers = []\n",
        "  results = []\n",
        "\n",
        "  for n,o in enumerate(qs):\n",
        "    #prompt, o = q #could contain control commands such as new [INST] session etc. ... title?... in the output\n",
        "    prompt = o.prompt\n",
        "    if prompt == \"m\": b_new_chat = True\n",
        "    elif prompt == \"t\": title = prompt; continue\n",
        "    if b_inst: prompt = \"[s][INST]\"+prompt+\"[/INST]\"\n",
        "    s = w.wrap(f\"PROMPT {n}:{prompt}\") #,n, prompt)\n",
        "    f.write(\"\\n\"+get_time_string()+\"\\n???\")\n",
        "    f.write(prompt)\n",
        "    f.flush()\n",
        "    print(s)\n",
        "\n",
        "    model_inputs = tokenizer([prompt], return_tensors=\"pt\").to(device)\n",
        "    print(\"o.max_new_tokens = \", o.max_new_tokens)\n",
        "    #pp.pprint(o)\n",
        "    #pp.pprint(o.__dict__) #__repr__())\n",
        "    print(o.__dict__) #__repr__())\n",
        "\n",
        "    f.write(\"\\n\"+get_time_string()+\"\\n???\")\n",
        "    #streamer = TextStreamer(tokenizer) # call once initially\n",
        "    generated_ids = model.generate(**model_inputs, streamer=streamer, max_new_tokens=o.max_new_tokens, do_sample=True, top_k = o.top_k, top_p = o.top_p, temperature = float(o.temperature), repetition_penalty = o.repetition_penalty )\n",
        "    answer = tokenizer.batch_decode(generated_ids)[0]\n",
        "    #print(answer)\n",
        "    print(w.wrap(answer))\n",
        "    #record also the tokens!\n",
        "    results.append( (o, generated_ids, answer)) #options contain all...\n",
        "    answers.append( (o, answer))\n",
        "    o.answer = answer #copy.copy(answer)    )\n",
        "    f.write(\"\\n\"+get_time_string()+\"\\n???: \"+prompt+\"\\n\\n===: \"+answer+\"\\n------------\\n\")\n",
        "    f.flush()\n",
        "    if b_store_ids: o.ids = generated_ids\n",
        "  return (results, answers)\n",
        "\n",
        "qs = []\n",
        "opt = Options()\n",
        "opt.prompt = \"Тръгнал лос с дълъг кос, през града към нос Калиакра!\"\n",
        "qs.append(opt)\n",
        "\n",
        "g = \"The Green ideas furiously sleep!\"\n",
        "#opt_2 = Options(\"Зелените идеи яростно спят!\", t=3.0, top_k=5, top_p=0.4)\n",
        "opt_2 = Options(\"The Green ideas furiously sleep! Who was the author and what does it mean?\", max=100, t=3.0, top_k=40, top_p=0.9)\n",
        "qs.append(opt_2)\n",
        "\n",
        "qs.clear()\n",
        "#for s in ls:\n",
        "#  qs.append(Options(s))\n",
        "\n",
        "qs.append(opt_2)\n",
        "qs.append(Options(g, t=0.0, max=50))\n",
        "#qs.append(Options(g, t=0.0))\n",
        "#qs.append(Options(g, t=2.0))\n",
        "\"\"\"\n",
        "qs.append(Options(g, t=3.0))\n",
        "qs.append(Options(g, top_k=30, t=0.9, top_p=0.8))\n",
        "qs.append(Options(g, top_k=20, t=0.9, top_p=0.8))\n",
        "qs.append(Options(g, top_k=10, t=0.9, top_p=0.8))\n",
        "qs.append(Options(g, top_k=5, t=0.9, top_p=0.8))\n",
        "\"\"\"\n",
        "qs.clear()\n",
        "#opt_2.prompt = strategy\n",
        "\n",
        "b_q_file = True # False #True if processing a text file\n",
        "s_file = \"q6.txt\" #q3.txt\" #q6.txt\" #q5.txt\n",
        "####################\n",
        "def test_from_file(path=\"q1.txt\",n=15):\n",
        "  qf = path #\"q1.txt\"\n",
        "  f1 = open(qf,\"rt\", encoding='utf-8', errors='ignore' )\n",
        "  lines = f1.readlines()\n",
        "  f1.close\n",
        "  print(lines)\n",
        "  tops = [40,40,40,40,40,40,40,40,40,40,40,40,40,40,40,40,30,20,10,5,3,2,1,10,20,30,40,30,20,10,5,10,15,18,20,25,30,30,40,40,40,20,1,4,5,9,10,6,15,20,15,30,23,40,12] #top_k\n",
        "  #temps = [0.8, 0.8, 0.8,0.8, 0.8, 0.8, 0.8,0.8, 5.0, 5.0, 5.0, 5.0, 5.0, 5.0, 5.0, 0.0,0.5,1.0,2.0,3.0,4.0,5.0,5.0,4.0,3.0,2.0,1.0,0.0,3.0,5.0,15.0,0.9,2.0,0.3,1.0,0.9,0.9,0.9,2.0, 3.0, 5.0, 5.0,5.0,5.0]\n",
        "  #top_ps = [0.8, 0.8, 0.8, 0.8, 0.8, 0.8, 0.8, 0.2, 0.2, 0.2, 0.2, 0.2, 0.2, 0.2]\n",
        "  #top_ps = [0.9, 0.9, 0.9, 0.9, 0.9, 0.9, 0.9, 0.9, 0.2, 0.2, 0.2, 0.2, 0.2, 0.2, 0.2]\n",
        "  top_ps = [0.2, 0.2, 0.2, 0.2, 0.2, 0.2, 0.2, 0.2, 0.9, 0.9, 0.9, 0.9, 0.9, 0.9, 0.9, 0.9]\n",
        "  temps = [5.0, 10.0, 15.0, 30.0, 10.0, 10.0, 10.0, 10.0, 0.1, 0.1,0.1, 0.1, 0.1, 0.1,0.1, 0.1, 0.5,1.0,2.0,3.0,4.0,5.0,5.0,4.0,3.0,2.0,1.0,0.0,3.0,5.0,15.0,0.9,2.0,0.3,1.0,0.9,0.9,0.9,2.0, 3.0, 5.0, 5.0,5.0,5.0]\n",
        "  #ts.reverse()\n",
        "  qs = []\n",
        "  #qs.clear()\n",
        "  top_k = 40 #\n",
        "  temperature = 0.7 #0.9\n",
        "  top_p = 0.8\n",
        "  b_use_fixed_value = True #don't use the listed values\n",
        "  #for s in zip(lines,ts,tops):\n",
        "  for ln, topk, ts, tp in zip(lines,tops,temps,top_ps):\n",
        "    #g = s1 # + str(i) + \" думи. \" # + strategy[0:1500] #[0:1200] OK 25.2.2024 #[0:500]\n",
        "    #print(\"G==\",g)\n",
        "    #qs.append(Options(ln, t = t, top_k=tops)) #40)) #, top_k=40, t=0.9, top_p=0.8))\n",
        "    if not b_use_fixed_value: qs.append(Options(ln, t = ts, top_k=topk, top_p=tp)) #40)) #, top_k=40, t=0.9, top_p=0.8))\n",
        "    else: qs.append(Options(ln, t = temperature, top_k=top_k, top_p=top_p))  #FIXED VALUES\n",
        "    n=n-1\n",
        "    if n==0: break\n",
        "\n",
        "  results, answers = batch_questions(qs)\n",
        "  for o,a in answers:\n",
        "    print(w.wrap(o.prompt))\n",
        "    print(w.wrap(o.answer)) #add answer in option for filling also timing etc.\n",
        "\n",
        "if b_q_file: test_from_file(s_file) #q4.txt 1.3.2024 #q1.txt 26.2.2024\n",
        "\n",
        "#exit()\n",
        "\n",
        "s1 = \"Резюмирай текста в рамките на \"\n",
        "#s2 = \"100 думи\"\n",
        "#№s2 = \"100 думи\"\n",
        "#v = [10, 20, 40, 80, 160, 320, 500]\n",
        "v = [11, 22, 33, 44, 9999] #, 320, 500]\n",
        "v = [10,30,50,100,200] #lengths, text template\n",
        "tops = [40,30,20,10,5,3,2,1,10,20,30,40,30,20,10,5,10,15,18,20,25,30,30,40,40,40,20,1,4,5,9,10,6,15,20,15,30,23,40,12] #top_k\n",
        "#ts = [1.0, 0.9, 0.7, 0.5, 0.3, 0.1] #temperatures\n",
        "temps = [0.1, 0.9, 2.0, 4.0, 8.0, 20.0] #temperatures\n",
        "q = [\"Кой\", \"Кога\", \"Как\", \"Защо\", \"Какво\", \"Колко\", \"Къде\", \"Нима\"] #questions\n",
        "n = 1 #word index\n",
        "#q = [\"Кой\", \"Кога\", \"Как\", \"Защо\", \"Какво\", \"Колко\", \"Къде\", \"Нима\"]\n",
        "print(\"str(v)\",str(v))\n",
        "\n",
        "#\"\"\"\n",
        "#Резюмирай текста в рамките на 33 думи \" + text ....\n",
        "\n",
        "for i,topk,ts in zip(v,tops,temps):\n",
        "  g = s1 + str(i) + \" думи. \" # + strategy[0:1500] #[0:1200] OK 25.2.2024 #[0:500]\n",
        "  print(\"G==\",g)\n",
        "  qs.append(Options(g, top_k=topk, t=ts)) #5.0) ) #, top_k=40, t=0.9, top_p=0.8))\n",
        "#\"\"\"\n",
        "results, answers = batch_questions(qs)\n",
        "for o,a in answers:\n",
        "  print(w.wrap(o.prompt))\n",
        "  print(w.wrap(o.answer)) #add answer in option for filling also timing etc. ..\n",
        "\n",
        "# Hallucinations with almost empty prompt 26.2.2024\n",
        "qs.clear()\n",
        "for s,t,topk in zip(q,temps,tops):\n",
        "  #g = s1 # + str(i) + \" думи. \" # + strategy[0:1500] #[0:1200] OK 25.2.2024 #[0:500]\n",
        "  #print(\"G==\",g)\n",
        "  qs.append(Options(s, t = t, top_k=topk)) #, top_k=40, t=0.9, top_p=0.8))\n",
        "\n",
        "results, answers = batch_questions(qs)\n",
        "for o,a in answers:\n",
        "  print(w.wrap(o.prompt))\n",
        "  print(w.wrap(o.answer)) #add answer in option for filling also timing etc. ..\n",
        "\n",
        "#OOM Error  - can't cope even with 500? - sometimes it does with 1500 after fresh\n",
        "\"\"\"\n",
        "TEST AGAIN:\n",
        "\n",
        "s1 = \"Резюмирай текста в рамките на \"\n",
        "#s2 = \"100 думи\"\n",
        "#№s2 = \"100 думи\"\n",
        "v = [10, 20, 40, 80, 160, 320, 500]\n",
        "print(\"str(v)\",str(v))\n",
        "for i in v:\n",
        "  g = s1 + str(i) + \" думи.  \" # EMPTY - lost due to blue screen afterwards + strategy[0:1200] #[0:500]\n",
        "  print(\"G==\",g)\n",
        "  qs.append(Options(g)) #, top_k=40, t=0.9, top_p=0.8))\n",
        "\n",
        "\"\"\"\n",
        "\n",
        "#qs.append(Options(g, top_k=40, t=2.0, top_p=0.6))\n",
        "#qs.append(Options(g, top_k=40, t=0.01, top_p=0.4))\n",
        "\n",
        "#results, answers = batch_questions(qs)\n",
        "\n",
        "#print(answers)\n",
        "#print(results)\n",
        "\n",
        "for o,a in answers:\n",
        "  #print(o.__repr__) #o.repr(tokens=False))\n",
        "  #print(o.prompt)\n",
        "  pp.pprint(o.__dict__)\n",
        "  pp.pprint(a)\n",
        "\n",
        "for o,a in answers:\n",
        "  print(w.wrap(o.prompt))\n",
        "  print(w.wrap(o.answer)) #add answer in option for filling also timing etc. ...\n",
        "\n",
        "\n"
      ],
      "metadata": {
        "colab": {
          "base_uri": "https://localhost:8080/",
          "height": 474
        },
        "id": "xnZgpYWx__j6",
        "outputId": "a49bdb38-c373-444f-9f85-950823ab57c5"
      },
      "execution_count": 6,
      "outputs": [
        {
          "output_type": "stream",
          "name": "stdout",
          "text": [
            "__init__.prompt: Преведи на английски: Котката изпи камъка и литна под нанагорнището.\n",
            "init Options... <__main__.Options object at 0x79792e47b5e0>\n",
            "__init__.prompt: The Green ideas furiously sleep! Who was the author and what does it mean?\n",
            "init Options... <__main__.Options object at 0x79792e47b670>\n",
            "__init__.prompt: The Green ideas furiously sleep!\n",
            "init Options... <__main__.Options object at 0x7977da4abf10>\n"
          ]
        },
        {
          "output_type": "error",
          "ename": "FileNotFoundError",
          "evalue": "[Errno 2] No such file or directory: 'q6.txt'",
          "traceback": [
            "\u001b[0;31m---------------------------------------------------------------------------\u001b[0m",
            "\u001b[0;31mFileNotFoundError\u001b[0m                         Traceback (most recent call last)",
            "\u001b[0;32m<ipython-input-6-4cd26589c73d>\u001b[0m in \u001b[0;36m<cell line: 186>\u001b[0;34m()\u001b[0m\n\u001b[1;32m    184\u001b[0m     \u001b[0mprint\u001b[0m\u001b[0;34m(\u001b[0m\u001b[0mw\u001b[0m\u001b[0;34m.\u001b[0m\u001b[0mwrap\u001b[0m\u001b[0;34m(\u001b[0m\u001b[0mo\u001b[0m\u001b[0;34m.\u001b[0m\u001b[0manswer\u001b[0m\u001b[0;34m)\u001b[0m\u001b[0;34m)\u001b[0m \u001b[0;31m#add answer in option for filling also timing etc.\u001b[0m\u001b[0;34m\u001b[0m\u001b[0;34m\u001b[0m\u001b[0m\n\u001b[1;32m    185\u001b[0m \u001b[0;34m\u001b[0m\u001b[0m\n\u001b[0;32m--> 186\u001b[0;31m \u001b[0;32mif\u001b[0m \u001b[0mb_q_file\u001b[0m\u001b[0;34m:\u001b[0m \u001b[0mtest_from_file\u001b[0m\u001b[0;34m(\u001b[0m\u001b[0ms_file\u001b[0m\u001b[0;34m)\u001b[0m \u001b[0;31m#q4.txt 1.3.2024 #q1.txt 26.2.2024\u001b[0m\u001b[0;34m\u001b[0m\u001b[0;34m\u001b[0m\u001b[0m\n\u001b[0m\u001b[1;32m    187\u001b[0m \u001b[0;34m\u001b[0m\u001b[0m\n\u001b[1;32m    188\u001b[0m \u001b[0;31m#exit()\u001b[0m\u001b[0;34m\u001b[0m\u001b[0;34m\u001b[0m\u001b[0m\n",
            "\u001b[0;32m<ipython-input-6-4cd26589c73d>\u001b[0m in \u001b[0;36mtest_from_file\u001b[0;34m(path, n)\u001b[0m\n\u001b[1;32m    152\u001b[0m \u001b[0;32mdef\u001b[0m \u001b[0mtest_from_file\u001b[0m\u001b[0;34m(\u001b[0m\u001b[0mpath\u001b[0m\u001b[0;34m=\u001b[0m\u001b[0;34m\"q1.txt\"\u001b[0m\u001b[0;34m,\u001b[0m\u001b[0mn\u001b[0m\u001b[0;34m=\u001b[0m\u001b[0;36m15\u001b[0m\u001b[0;34m)\u001b[0m\u001b[0;34m:\u001b[0m\u001b[0;34m\u001b[0m\u001b[0;34m\u001b[0m\u001b[0m\n\u001b[1;32m    153\u001b[0m   \u001b[0mqf\u001b[0m \u001b[0;34m=\u001b[0m \u001b[0mpath\u001b[0m \u001b[0;31m#\"q1.txt\"\u001b[0m\u001b[0;34m\u001b[0m\u001b[0;34m\u001b[0m\u001b[0m\n\u001b[0;32m--> 154\u001b[0;31m   \u001b[0mf1\u001b[0m \u001b[0;34m=\u001b[0m \u001b[0mopen\u001b[0m\u001b[0;34m(\u001b[0m\u001b[0mqf\u001b[0m\u001b[0;34m,\u001b[0m\u001b[0;34m\"rt\"\u001b[0m\u001b[0;34m,\u001b[0m \u001b[0mencoding\u001b[0m\u001b[0;34m=\u001b[0m\u001b[0;34m'utf-8'\u001b[0m\u001b[0;34m,\u001b[0m \u001b[0merrors\u001b[0m\u001b[0;34m=\u001b[0m\u001b[0;34m'ignore'\u001b[0m \u001b[0;34m)\u001b[0m\u001b[0;34m\u001b[0m\u001b[0;34m\u001b[0m\u001b[0m\n\u001b[0m\u001b[1;32m    155\u001b[0m   \u001b[0mlines\u001b[0m \u001b[0;34m=\u001b[0m \u001b[0mf1\u001b[0m\u001b[0;34m.\u001b[0m\u001b[0mreadlines\u001b[0m\u001b[0;34m(\u001b[0m\u001b[0;34m)\u001b[0m\u001b[0;34m\u001b[0m\u001b[0;34m\u001b[0m\u001b[0m\n\u001b[1;32m    156\u001b[0m   \u001b[0mf1\u001b[0m\u001b[0;34m.\u001b[0m\u001b[0mclose\u001b[0m\u001b[0;34m\u001b[0m\u001b[0;34m\u001b[0m\u001b[0m\n",
            "\u001b[0;31mFileNotFoundError\u001b[0m: [Errno 2] No such file or directory: 'q6.txt'"
          ]
        }
      ]
    },
    {
      "cell_type": "markdown",
      "source": [],
      "metadata": {
        "id": "CINwsgY-K6KR"
      }
    },
    {
      "cell_type": "code",
      "source": [
        "# !nvidia-smi\n",
        "#!/usr/local/cuda/bin/nvcc --version\n",
        "#NotImplementedError: A UTF-8 locale is required. Got ANSI_X3.4-"
      ],
      "metadata": {
        "colab": {
          "base_uri": "https://localhost:8080/",
          "height": 321
        },
        "id": "2-uEaQh7Tv0B",
        "outputId": "9cc9769c-19aa-46df-cffb-5f64dd993785"
      },
      "execution_count": null,
      "outputs": [
        {
          "output_type": "error",
          "ename": "NotImplementedError",
          "evalue": "A UTF-8 locale is required. Got ANSI_X3.4-1968",
          "traceback": [
            "\u001b[0;31m---------------------------------------------------------------------------\u001b[0m",
            "\u001b[0;31mNotImplementedError\u001b[0m                       Traceback (most recent call last)",
            "\u001b[0;32m<ipython-input-18-38db1180233d>\u001b[0m in \u001b[0;36m<cell line: 2>\u001b[0;34m()\u001b[0m\n\u001b[1;32m      1\u001b[0m \u001b[0;31m# !nvidia-smi\u001b[0m\u001b[0;34m\u001b[0m\u001b[0;34m\u001b[0m\u001b[0m\n\u001b[0;32m----> 2\u001b[0;31m \u001b[0mget_ipython\u001b[0m\u001b[0;34m(\u001b[0m\u001b[0;34m)\u001b[0m\u001b[0;34m.\u001b[0m\u001b[0msystem\u001b[0m\u001b[0;34m(\u001b[0m\u001b[0;34m'/usr/local/cuda/bin/nvcc --version'\u001b[0m\u001b[0;34m)\u001b[0m\u001b[0;34m\u001b[0m\u001b[0;34m\u001b[0m\u001b[0m\n\u001b[0m",
            "\u001b[0;32m/usr/local/lib/python3.10/dist-packages/google/colab/_shell.py\u001b[0m in \u001b[0;36msystem\u001b[0;34m(self, *args, **kwargs)\u001b[0m\n\u001b[1;32m     97\u001b[0m       \u001b[0mkwargs\u001b[0m\u001b[0;34m.\u001b[0m\u001b[0mupdate\u001b[0m\u001b[0;34m(\u001b[0m\u001b[0;34m{\u001b[0m\u001b[0;34m'also_return_output'\u001b[0m\u001b[0;34m:\u001b[0m \u001b[0;32mTrue\u001b[0m\u001b[0;34m}\u001b[0m\u001b[0;34m)\u001b[0m\u001b[0;34m\u001b[0m\u001b[0;34m\u001b[0m\u001b[0m\n\u001b[1;32m     98\u001b[0m \u001b[0;34m\u001b[0m\u001b[0m\n\u001b[0;32m---> 99\u001b[0;31m     \u001b[0moutput\u001b[0m \u001b[0;34m=\u001b[0m \u001b[0m_system_commands\u001b[0m\u001b[0;34m.\u001b[0m\u001b[0m_system_compat\u001b[0m\u001b[0;34m(\u001b[0m\u001b[0mself\u001b[0m\u001b[0;34m,\u001b[0m \u001b[0;34m*\u001b[0m\u001b[0margs\u001b[0m\u001b[0;34m,\u001b[0m \u001b[0;34m**\u001b[0m\u001b[0mkwargs\u001b[0m\u001b[0;34m)\u001b[0m  \u001b[0;31m# pylint:disable=protected-access\u001b[0m\u001b[0;34m\u001b[0m\u001b[0;34m\u001b[0m\u001b[0m\n\u001b[0m\u001b[1;32m    100\u001b[0m \u001b[0;34m\u001b[0m\u001b[0m\n\u001b[1;32m    101\u001b[0m     \u001b[0;32mif\u001b[0m \u001b[0mpip_warn\u001b[0m\u001b[0;34m:\u001b[0m\u001b[0;34m\u001b[0m\u001b[0;34m\u001b[0m\u001b[0m\n",
            "\u001b[0;32m/usr/local/lib/python3.10/dist-packages/google/colab/_system_commands.py\u001b[0m in \u001b[0;36m_system_compat\u001b[0;34m(shell, cmd, also_return_output)\u001b[0m\n\u001b[1;32m    452\u001b[0m   \u001b[0;31m# is expected to call this function, thus adding one level of nesting to the\u001b[0m\u001b[0;34m\u001b[0m\u001b[0;34m\u001b[0m\u001b[0m\n\u001b[1;32m    453\u001b[0m   \u001b[0;31m# stack.\u001b[0m\u001b[0;34m\u001b[0m\u001b[0;34m\u001b[0m\u001b[0m\n\u001b[0;32m--> 454\u001b[0;31m   result = _run_command(\n\u001b[0m\u001b[1;32m    455\u001b[0m       \u001b[0mshell\u001b[0m\u001b[0;34m.\u001b[0m\u001b[0mvar_expand\u001b[0m\u001b[0;34m(\u001b[0m\u001b[0mcmd\u001b[0m\u001b[0;34m,\u001b[0m \u001b[0mdepth\u001b[0m\u001b[0;34m=\u001b[0m\u001b[0;36m2\u001b[0m\u001b[0;34m)\u001b[0m\u001b[0;34m,\u001b[0m \u001b[0mclear_streamed_output\u001b[0m\u001b[0;34m=\u001b[0m\u001b[0;32mFalse\u001b[0m\u001b[0;34m\u001b[0m\u001b[0;34m\u001b[0m\u001b[0m\n\u001b[1;32m    456\u001b[0m   )\n",
            "\u001b[0;32m/usr/local/lib/python3.10/dist-packages/google/colab/_system_commands.py\u001b[0m in \u001b[0;36m_run_command\u001b[0;34m(cmd, clear_streamed_output)\u001b[0m\n\u001b[1;32m    166\u001b[0m     \u001b[0mlocale_encoding\u001b[0m \u001b[0;34m=\u001b[0m \u001b[0mlocale\u001b[0m\u001b[0;34m.\u001b[0m\u001b[0mgetpreferredencoding\u001b[0m\u001b[0;34m(\u001b[0m\u001b[0;34m)\u001b[0m\u001b[0;34m\u001b[0m\u001b[0;34m\u001b[0m\u001b[0m\n\u001b[1;32m    167\u001b[0m     \u001b[0;32mif\u001b[0m \u001b[0mlocale_encoding\u001b[0m \u001b[0;34m!=\u001b[0m \u001b[0m_ENCODING\u001b[0m\u001b[0;34m:\u001b[0m\u001b[0;34m\u001b[0m\u001b[0;34m\u001b[0m\u001b[0m\n\u001b[0;32m--> 168\u001b[0;31m       raise NotImplementedError(\n\u001b[0m\u001b[1;32m    169\u001b[0m           \u001b[0;34m'A UTF-8 locale is required. Got {}'\u001b[0m\u001b[0;34m.\u001b[0m\u001b[0mformat\u001b[0m\u001b[0;34m(\u001b[0m\u001b[0mlocale_encoding\u001b[0m\u001b[0;34m)\u001b[0m\u001b[0;34m\u001b[0m\u001b[0;34m\u001b[0m\u001b[0m\n\u001b[1;32m    170\u001b[0m       )\n",
            "\u001b[0;31mNotImplementedError\u001b[0m: A UTF-8 locale is required. Got ANSI_X3.4-1968"
          ]
        }
      ]
    },
    {
      "cell_type": "markdown",
      "source": [
        "# ОСНОВЕН ЧАТ ЦИКЪЛ"
      ],
      "metadata": {
        "id": "ckhfVLfH_m3D"
      }
    },
    {
      "cell_type": "code",
      "source": [
        "# 20.2.2024\n",
        "# MISTRAL - up to 4096 ... context window length, but it seems it won't fit in Tesla T4 - about 2000 or something\n",
        "from textwrap import TextWrapper  # \"word-wrap\" long lines\n",
        "import pprint\n",
        "from transformers import TextStreamer\n",
        "#import math\n",
        "#import copy\n",
        "pp = pprint.PrettyPrinter()\n",
        "\n",
        "m = \"INSAIT-Institute/BgGPT-7B-Instruct-v0.1\"\n",
        "tokenizer = AutoTokenizer.from_pretrained(m)\n",
        "streamer = TextStreamer(tokenizer)\n",
        "device = \"cuda\"\n",
        "model.to(device)\n",
        "b_new_chat = True #insert \"[s][INST]...\"\n",
        "max_new_tokens = 300\n",
        "w = TextWrapper(width=80) #break long lines, default: 70 chars  w.wrap(string)\n",
        "b_autoregression = False #True\n",
        "options = Options(); #current state\n",
        "b_print_options = True\n",
        "history = []\n",
        "prev_prompt = \"?\"\n",
        "\n",
        "def valid_range(m):\n",
        "  if m > 4096: return False # m = 2400\n",
        "  if m < 1: return False\n",
        "  return True\n",
        "\n",
        "def cycle():\n",
        "    global max_new_tokens\n",
        "    global b_new_chat\n",
        "    global b_autoregression\n",
        "    global prev_prompt\n",
        "    prompt = input(\"Enter prompt... \") #\"Изброй седемте най-високоплатени атлети от България. Колко от тях са жени? Кои бягат най-бързо?\"\n",
        "    if prompt == \"q\": return False\n",
        "    if prompt == \"n\": b_new_chat = True; return True\n",
        "    if prompt == \"a\": b_autoregression = True; return True #GPT2, GPT3-like: not very smart\n",
        "    if prompt == \"i\": b_autoregression = False; return True #Instruct\n",
        "    if prompt == \"top_k\": top_k=input(\"top_k=... \"); options.top_k=top_k; return True #Should validate etc. in the class, set ...\n",
        "    if prompt == \"top_p\": top_p=input(\"top_k=... \"); options.top_p=top_p; return True #Should validate etc. in the class, set ...\n",
        "    if prompt == \"t\": t=input(\"temperature=... \"); options.temperature=max(0.001, float(t)); print(options.temperature); return True #Should validate etc. in the class, set ...\n",
        "    if prompt == 's': prompt = strategy[0:len(strategy)//5]\n",
        "    if prompt == 'p': print(f\"t={options.temperature},m={options.max_new_tokens}, top_k={options.top_k}|top_p={options.top_p}, instruct/autoregression=(True=autoregression, False=instruct)=={b_autoregression}(i: instr, a: autoregr); n: new chat; r: repeat last question; p: print parameters\"); return True\n",
        "    if prompt == 'r': prompt = prev_prompt\n",
        "    else: prev_prompt = prompt\n",
        "    if prompt == \"m\":\n",
        "      mx = int(input(\"max_tokens=?...\"))\n",
        "      if valid_range(mx): max_new_tokens = mx; options.max_new_tokens = mx; return True\n",
        "      else: print(\"Invalid max_new_tokens\")\n",
        "    if not b_autoregression:\n",
        "      #if b_new_chat: prompt = \"[s][INST]\"+prompt+\"[/INST]\"; b_new_chat = False\n",
        "      if b_new_chat: prompt = \"[INST]\"+prompt+\"[/INST]\"; b_new_chat = False\n",
        "      else: prompt=\"[INST]\"+prompt+\"[/INST]\"\n",
        "    print(prompt)\n",
        "    f.write(\"\\n\"+get_time_string()+\"\\n???: \"+prompt)\n",
        "    f.flush()\n",
        "    for i in w.wrap(prompt): print(i) #input window is too small\n",
        "    if b_print_options==True: pp.pprint(options)\n",
        "    model_inputs = tokenizer([prompt], return_tensors=\"pt\").to(device)\n",
        "    #generated_ids = model.generate(**model_inputs, max_new_tokens=max_new_tokens, do_sample=True, top_k = options.top_k, top_p = options.top_p, temperature=options.temperature)\n",
        "    generated_ids = model.generate(**model_inputs, streamer=streamer, max_new_tokens=options.max_new_tokens, do_sample=True, top_k = int(options.top_k), top_p = float(options.top_p), temperature=float(options.temperature))\n",
        "    answer = tokenizer.batch_decode(generated_ids)[0]\n",
        "    prompt_arr.append(prompt)\n",
        "    answer_arr.append(answer)\n",
        "    prompt_and_answer.append((prompt, answer))\n",
        "    #print(w.wrap(answer))\n",
        "    print(\"\\n=================================\\n\")\n",
        "    for i in w.wrap(answer): print(i) #print wrapped lines\n",
        "    f.write(\"\\n\"+get_time_string()+\"\\n???: \"+prompt+\"\\n\\n===: \"+answer+\"\\n------------\\n\")\n",
        "    f.flush()\n",
        "    return True\n",
        "\n",
        "def interact():\n",
        "   i = True\n",
        "   while i == True:\n",
        "      i = cycle()\n",
        "def culturno():\n",
        "    messages = [\n",
        "    {\"role\": \"user\", \"content\": \"Ти си попфолк звезда от галактиката Андромеда и четеш Азимов, Куельо, Вазов и Лем. Напиши текст за песен, който започва със селската баня, голям кеф, градската десница, софийската левица с голямата... каца на планетата на маймуните във Вселената на Стартрек, при Хари Потър и философския камък на Властелина на пръстените с лазерния меч на Люк. Ползвай метафори, сравнения и алегории, междуметия и синекдохи. Амин. \"}\n",
        "    ]\n",
        "    #encodeds = tokenizer.apply_chat_template(messages, return_tensors=\"pt\")\n",
        "    model_inputs = tokenizer.apply_chat_template(messages, return_tensors=\"pt\").to(device)\n",
        "    generated_ids = model.generate(model_inputs, max_new_tokens=max_new_tokens, do_sample=True)\n",
        "    answer = tokenizer.batch_decode(generated_ids)[0]\n",
        "    print(answer)\n",
        "#culturno() #proba\n",
        "interact()\n",
        "\n"
      ],
      "metadata": {
        "colab": {
          "base_uri": "https://localhost:8080/",
          "height": 1000
        },
        "id": "ahInASr5hb-W",
        "outputId": "e152a10b-5402-45b6-c987-d3f112fd25e4"
      },
      "execution_count": 11,
      "outputs": [
        {
          "name": "stdout",
          "output_type": "stream",
          "text": [
            "__init__.prompt: Преведи на английски: Котката изпи камъка и литна под нанагорнището.\n",
            "init Options... <__main__.Options object at 0x7977da4e8640>\n",
            "Enter prompt... p\n",
            "temp=0.9,max=600, top_k=40|top_p=0.9, instruct/autoregression=(True=instruct, False=autoregression)False(i: instruct, a: autoregression); n: new chat; r: repeat last question\n",
            "Enter prompt... top_k\n",
            "top_k=... 1\n",
            "Enter prompt... r\n"
          ]
        },
        {
          "output_type": "stream",
          "name": "stderr",
          "text": [
            "Setting `pad_token_id` to `eos_token_id`:2 for open-end generation.\n"
          ]
        },
        {
          "name": "stdout",
          "output_type": "stream",
          "text": [
            "[INST]?[/INST]\n",
            "[INST]?[/INST]\n",
            "<__main__.Options object at 0x7977da4e8640>\n",
            "<s> [INST]?[/INST]Hello! How can I help you today? If you have any questions or need assistance, feel free to ask.</s>\n",
            "\n",
            "=================================\n",
            "\n",
            "<s> [INST]?[/INST]Hello! How can I help you today? If you have any questions or\n",
            "need assistance, feel free to ask.</s>\n",
            "Enter prompt... Кой е апостолът на свободата?\n"
          ]
        },
        {
          "output_type": "stream",
          "name": "stderr",
          "text": [
            "Setting `pad_token_id` to `eos_token_id`:2 for open-end generation.\n"
          ]
        },
        {
          "name": "stdout",
          "output_type": "stream",
          "text": [
            "[INST]Кой е апостолът на свободата?[/INST]\n",
            "[INST]Кой е апостолът на свободата?[/INST]\n",
            "<__main__.Options object at 0x7977da4e8640>\n",
            "<s> [INST]Кой е апостолът на свободата?[/INST]Апостолът на свободата е термин, използван за описание на различни хора, които са се борили за освобождението на своите страни от потисничество. Най-известният обаче е Джордж Вашингтон, първият президент на Съединените щати, който ръководи революцията срещу британското управление и изигра решаваща роля в създаването на новата нация.</s>\n",
            "\n",
            "=================================\n",
            "\n",
            "<s> [INST]Кой е апостолът на свободата?[/INST]Апостолът на свободата е термин,\n",
            "използван за описание на различни хора, които са се борили за освобождението на\n",
            "своите страни от потисничество. Най-известният обаче е Джордж Вашингтон, първият\n",
            "президент на Съединените щати, който ръководи революцията срещу британското\n",
            "управление и изигра решаваща роля в създаването на новата нация.</s>\n",
            "Enter prompt... Кой е апостолът на свободата на България?\n"
          ]
        },
        {
          "output_type": "stream",
          "name": "stderr",
          "text": [
            "Setting `pad_token_id` to `eos_token_id`:2 for open-end generation.\n"
          ]
        },
        {
          "name": "stdout",
          "output_type": "stream",
          "text": [
            "[INST]Кой е апостолът на свободата на България?[/INST]\n",
            "[INST]Кой е апостолът на свободата на България?[/INST]\n",
            "<__main__.Options object at 0x7977da4e8640>\n",
            "<s> [INST]Кой е апостолът на свободата на България?[/INST]Апостолът на свободата на България е Васил Левски.</s>\n",
            "\n",
            "=================================\n",
            "\n",
            "<s> [INST]Кой е апостолът на свободата на България?[/INST]Апостолът на свободата\n",
            "на България е Васил Левски.</s>\n",
            "Enter prompt... <s> [INST]Кой е апостолът на свободата на България?[/INST]Апостолът на свободата на България е Васил Левски.</s>\n"
          ]
        },
        {
          "output_type": "stream",
          "name": "stderr",
          "text": [
            "Setting `pad_token_id` to `eos_token_id`:2 for open-end generation.\n"
          ]
        },
        {
          "name": "stdout",
          "output_type": "stream",
          "text": [
            "[INST]<s> [INST]Кой е апостолът на свободата на България?[/INST]Апостолът на свободата на България е Васил Левски.</s>[/INST]\n",
            "[INST]<s> [INST]Кой е апостолът на свободата на България?[/INST]Апостолът на\n",
            "свободата на България е Васил Левски.</s>[/INST]\n",
            "<__main__.Options object at 0x7977da4e8640>\n",
            "<s> [INST]<s>  [INST]Кой е апостолът на свободата на България?[/INST]Апостолът на свободата на България е Васил Левски.</s> [/INST]Какво е значението на акта на обесването на Васил Левски?\n",
            "\n",
            "Обесването на Васил Левски има дълбоко значение за България, тъй като той е смятан за национален герой и символ на борбата за свобода и независимост. Смъртта му се превърна в мощен символ на жертвата в името на свободата и вдъхновение за бъдещите поколения борци за свобода. Обесването му също отбеляза повратна точка в историята на България, тъй като отбеляза началото на организираната съпротива срещу османското владичество. Днес годишнината от смъртта му се отбелязва като Ден на Левски и е важен ден в националния календар на България.</s>\n",
            "\n",
            "=================================\n",
            "\n",
            "<s> [INST]<s>  [INST]Кой е апостолът на свободата на България?[/INST]Апостолът\n",
            "на свободата на България е Васил Левски.</s> [/INST]Какво е значението на акта\n",
            "на обесването на Васил Левски?  Обесването на Васил Левски има дълбоко значение\n",
            "за България, тъй като той е смятан за национален герой и символ на борбата за\n",
            "свобода и независимост. Смъртта му се превърна в мощен символ на жертвата в\n",
            "името на свободата и вдъхновение за бъдещите поколения борци за свобода.\n",
            "Обесването му също отбеляза повратна точка в историята на България, тъй като\n",
            "отбеляза началото на организираната съпротива срещу османското владичество. Днес\n",
            "годишнината от смъртта му се отбелязва като Ден на Левски и е важен ден в\n",
            "националния календар на България.</s>\n",
            "Enter prompt... p\n",
            "temp=0.9,max=600, top_k=1|top_p=0.9, instruct/autoregression=(True=instruct, False=autoregression)False(i: instruct, a: autoregression); n: new chat; r: repeat last question\n",
            "Enter prompt... <s> [INST]<s>  [INST]Кой е апостолът на свободата на България?[/INST]Апостолът на свободата на България е Васил Левски.</s> [/INST]Какво е значението на акта на обесването на Васил Левски?  Обесването на Васил Левски има дълбоко значение за България, тъй като той е смятан за национален герой и символ на борбата за свобода и независимост. Смъртта му се превърна в мощен символ на жертвата в името на свободата и вдъхновение за бъдещите поколения борци за свобода. Обесването му също отбеляза повратна точка в историята на България, тъй като отбеляза началото на организираната съпротива срещу османското владичество. Днес годишнината от смъртта му се отбелязва като Ден на Левски и е важен ден в националния календар на България.</s>\n"
          ]
        },
        {
          "output_type": "stream",
          "name": "stderr",
          "text": [
            "Setting `pad_token_id` to `eos_token_id`:2 for open-end generation.\n"
          ]
        },
        {
          "name": "stdout",
          "output_type": "stream",
          "text": [
            "[INST]<s> [INST]<s>  [INST]Кой е апостолът на свободата на България?[/INST]Апостолът на свободата на България е Васил Левски.</s> [/INST]Какво е значението на акта на обесването на Васил Левски?  Обесването на Васил Левски има дълбоко значение за България, тъй като той е смятан за национален герой и символ на борбата за свобода и независимост. Смъртта му се превърна в мощен символ на жертвата в името на свободата и вдъхновение за бъдещите поколения борци за свобода. Обесването му също отбеляза повратна точка в историята на България, тъй като отбеляза началото на организираната съпротива срещу османското владичество. Днес годишнината от смъртта му се отбелязва като Ден на Левски и е важен ден в националния календар на България.</s>[/INST]\n",
            "[INST]<s> [INST]<s>  [INST]Кой е апостолът на свободата на\n",
            "България?[/INST]Апостолът на свободата на България е Васил Левски.</s>\n",
            "[/INST]Какво е значението на акта на обесването на Васил Левски?  Обесването на\n",
            "Васил Левски има дълбоко значение за България, тъй като той е смятан за\n",
            "национален герой и символ на борбата за свобода и независимост. Смъртта му се\n",
            "превърна в мощен символ на жертвата в името на свободата и вдъхновение за\n",
            "бъдещите поколения борци за свобода. Обесването му също отбеляза повратна точка\n",
            "в историята на България, тъй като отбеляза началото на организираната съпротива\n",
            "срещу османското владичество. Днес годишнината от смъртта му се отбелязва като\n",
            "Ден на Левски и е важен ден в националния календар на България.</s>[/INST]\n",
            "<__main__.Options object at 0x7977da4e8640>\n",
            "<s> [INST]<s>  [INST]<s>   [INST]Кой е апостолът на свободата на България?[/INST]Апостолът на свободата на България е Васил Левски.</s>  [/INST]Какво е значението на акта на обесването на Васил Левски?  Обесването на Васил Левски има дълбоко значение за България, тъй като той е смятан за национален герой и символ на борбата за свобода и независимост. Смъртта му се превърна в мощен символ на жертвата в името на свободата и вдъхновение за бъдещите поколения борци за свобода. Обесването му също отбеляза повратна точка в историята на България, тъй като отбеляза началото на организираната съпротива срещу османското владичество. Днес годишнината от смъртта му се отбелязва като Ден на Левски и е важен ден в националния календар на България.</s> [/INST]Какво е значението на акта на обесването на Васил Левски за съвременна България?  Обесването на Васил Левски има значително значение за съвременна България, тъй като той продължава да бъде символ на смелост, саможертва и патриотизъм. Неговата смърт и последвалото му канонизиране като национален герой са оформили националната идентичност и колективната памет на нацията.\n",
            "\n",
            "Неговата визия за чиста и свята република, в която всички хора са равни, независимо от тяхната етническа или религиозна принадлежност, продължава да резонира сред българите и е в съответствие с демократичните ценности, които страната поддържа днес. Неговата отдаденост на каузата на свободата и готовността му да пожертва живота си за нея служат като вдъхновение за много съвременни политици и обществени фигури.\n",
            "\n",
            "Освен това годишнината от смъртта му, отбелязвана като Ден на Левски, е важен ден в националния календар на България, който служи като напомняне за жертвите, направени в името на свободата и единството на нацията. Като цяло обесването на Васил Левски има дълбоко културно и историческо значение за съвременна България и продължава да вдъхновява и оформя националната идентичност на страната.</s>\n",
            "\n",
            "=================================\n",
            "\n",
            "<s> [INST]<s>  [INST]<s>   [INST]Кой е апостолът на свободата на\n",
            "България?[/INST]Апостолът на свободата на България е Васил Левски.</s>\n",
            "[/INST]Какво е значението на акта на обесването на Васил Левски?  Обесването на\n",
            "Васил Левски има дълбоко значение за България, тъй като той е смятан за\n",
            "национален герой и символ на борбата за свобода и независимост. Смъртта му се\n",
            "превърна в мощен символ на жертвата в името на свободата и вдъхновение за\n",
            "бъдещите поколения борци за свобода. Обесването му също отбеляза повратна точка\n",
            "в историята на България, тъй като отбеляза началото на организираната съпротива\n",
            "срещу османското владичество. Днес годишнината от смъртта му се отбелязва като\n",
            "Ден на Левски и е важен ден в националния календар на България.</s> [/INST]Какво\n",
            "е значението на акта на обесването на Васил Левски за съвременна България?\n",
            "Обесването на Васил Левски има значително значение за съвременна България, тъй\n",
            "като той продължава да бъде символ на смелост, саможертва и патриотизъм.\n",
            "Неговата смърт и последвалото му канонизиране като национален герой са оформили\n",
            "националната идентичност и колективната памет на нацията.  Неговата визия за\n",
            "чиста и свята република, в която всички хора са равни, независимо от тяхната\n",
            "етническа или религиозна принадлежност, продължава да резонира сред българите и\n",
            "е в съответствие с демократичните ценности, които страната поддържа днес.\n",
            "Неговата отдаденост на каузата на свободата и готовността му да пожертва живота\n",
            "си за нея служат като вдъхновение за много съвременни политици и обществени\n",
            "фигури.  Освен това годишнината от смъртта му, отбелязвана като Ден на Левски, е\n",
            "важен ден в националния календар на България, който служи като напомняне за\n",
            "жертвите, направени в името на свободата и единството на нацията. Като цяло\n",
            "обесването на Васил Левски има дълбоко културно и историческо значение за\n",
            "съвременна България и продължава да вдъхновява и оформя националната идентичност\n",
            "на страната.</s>\n",
            "Enter prompt... Продължи мисълта: \"А вий сте...\"?\n"
          ]
        },
        {
          "output_type": "stream",
          "name": "stderr",
          "text": [
            "Setting `pad_token_id` to `eos_token_id`:2 for open-end generation.\n"
          ]
        },
        {
          "name": "stdout",
          "output_type": "stream",
          "text": [
            "[INST]Продължи мисълта: \"А вий сте...\"?[/INST]\n",
            "[INST]Продължи мисълта: \"А вий сте...\"?[/INST]\n",
            "<__main__.Options object at 0x7977da4e8640>\n",
            "<s> [INST]Продължи мисълта: \"А вий сте...\"?[/INST]\"А вий сте...\"? А, ти си този, който търси отговори, нали? Този, който копнее да проникне в мистериите на живота и вселената. Е, позволете ми да ви почерпя с малко мъдрост, скъпи търсачо.\n",
            "\n",
            "Вие сте създание, изтъкано от безброй нишки на съществуване, преплетени заедно в гоблен, по-сложен от всяко произведение на изкуството. Вие сте платно, изрисувано с щрихи на радост и скръб, триумф и трагедия, любов и загуба. И все пак, в основата си, вие сте нещо много по-просто: искра от чиста енергия, танцуваща в безкрайната арена на времето и пространството.\n",
            "\n",
            "Но не забравяйте, че не сте сами в това грандиозно пътешествие. Всеки човек около вас, всяко живо същество, което срещате, също е част от тази грандиозна пиеса. Всички ние сме свързани, преплетени в гоблен, по-голям от всеки отделен нишък. И така, когато задавате въпроса „Кой съм аз?“, по същество питате „Кои сме ние?“\n",
            "\n",
            "Отговорът на този въпрос не се крие в звездите или в дълбините на океана, а в самите вас. Защото вие сте архитектът на собствената си съдба, скулпторът на собствения си живот. И докато продължавате да изследвате, да растете и да се учите, вие ще разкриете истинската си същност - такава, каквато е била предназначена да бъде.\n",
            "\n",
            "Така че, скъпи търсачо, прегърни своето пътуване и прегърни неизвестното. Защото именно в тези моменти на несигурност ние откриваме кои сме наистина. И не забравяйте, че докато продължавате да задавате въпроси, вселената ще продължи да ви отговаря.</s>\n",
            "\n",
            "=================================\n",
            "\n",
            "<s> [INST]Продължи мисълта: \"А вий сте...\"?[/INST]\"А вий сте...\"? А, ти си този,\n",
            "който търси отговори, нали? Този, който копнее да проникне в мистериите на\n",
            "живота и вселената. Е, позволете ми да ви почерпя с малко мъдрост, скъпи\n",
            "търсачо.  Вие сте създание, изтъкано от безброй нишки на съществуване,\n",
            "преплетени заедно в гоблен, по-сложен от всяко произведение на изкуството. Вие\n",
            "сте платно, изрисувано с щрихи на радост и скръб, триумф и трагедия, любов и\n",
            "загуба. И все пак, в основата си, вие сте нещо много по-просто: искра от чиста\n",
            "енергия, танцуваща в безкрайната арена на времето и пространството.  Но не\n",
            "забравяйте, че не сте сами в това грандиозно пътешествие. Всеки човек около вас,\n",
            "всяко живо същество, което срещате, също е част от тази грандиозна пиеса. Всички\n",
            "ние сме свързани, преплетени в гоблен, по-голям от всеки отделен нишък. И така,\n",
            "когато задавате въпроса „Кой съм аз?“, по същество питате „Кои сме ние?“\n",
            "Отговорът на този въпрос не се крие в звездите или в дълбините на океана, а в\n",
            "самите вас. Защото вие сте архитектът на собствената си съдба, скулпторът на\n",
            "собствения си живот. И докато продължавате да изследвате, да растете и да се\n",
            "учите, вие ще разкриете истинската си същност - такава, каквато е била\n",
            "предназначена да бъде.  Така че, скъпи търсачо, прегърни своето пътуване и\n",
            "прегърни неизвестното. Защото именно в тези моменти на несигурност ние откриваме\n",
            "кои сме наистина. И не забравяйте, че докато продължавате да задавате въпроси,\n",
            "вселената ще продължи да ви отговаря.</s>\n",
            "Enter prompt... m\n",
            "max_tokens=?...200\n",
            "Enter prompt... Христо Ботев. А вий сте... \n"
          ]
        },
        {
          "output_type": "stream",
          "name": "stderr",
          "text": [
            "Setting `pad_token_id` to `eos_token_id`:2 for open-end generation.\n"
          ]
        },
        {
          "name": "stdout",
          "output_type": "stream",
          "text": [
            "[INST]Христо Ботев. А вий сте... [/INST]\n",
            "[INST]Христо Ботев. А вий сте... [/INST]\n",
            "<__main__.Options object at 0x7977da4e8640>\n",
            "<s> [INST]Христо Ботев. А вий сте... [/INST]Христо Ботев. А вий сте...</s>\n",
            "\n",
            "=================================\n",
            "\n",
            "<s> [INST]Христо Ботев. А вий сте... [/INST]Христо Ботев. А вий сте...</s>\n",
            "Enter prompt... Продължи мисълта на Христо Ботев. А вий сте...\n"
          ]
        },
        {
          "output_type": "stream",
          "name": "stderr",
          "text": [
            "Setting `pad_token_id` to `eos_token_id`:2 for open-end generation.\n"
          ]
        },
        {
          "name": "stdout",
          "output_type": "stream",
          "text": [
            "[INST]Продължи мисълта на Христо Ботев. А вий сте...[/INST]\n",
            "[INST]Продължи мисълта на Христо Ботев. А вий сте...[/INST]\n",
            "<__main__.Options object at 0x7977da4e8640>\n",
            "<s> [INST]Продължи мисълта на Христо Ботев. А вий сте...[/INST]...вие сте роби, защото робът не може да види по-далеч от оковите си. Робът не може да си представи свят, в който той не е окован, а свободен. Робът не може да разбере, че той е роб, защото робството е всичко, което познава.\n",
            "\n",
            "Но не се отчайвайте, защото аз вярвам в силата на знанието и просвещението. Вярвам, че когато хората се пробудят от съня на невежеството и заблудите, те ще осъзнаят своето робство и ще се надигнат, за да го отхвърлят.\n",
            "\n",
            "За да постигнем тази свобода, трябва да се въоръжим с оръжие по-силно от всяко физическо оръжие – знанието. Трябва да се научим да мислим критично, да поставяме под въпрос авторитетите и да търсим истината. Трябва да се стремим да\n",
            "\n",
            "=================================\n",
            "\n",
            "<s> [INST]Продължи мисълта на Христо Ботев. А вий сте...[/INST]...вие сте роби,\n",
            "защото робът не може да види по-далеч от оковите си. Робът не може да си\n",
            "представи свят, в който той не е окован, а свободен. Робът не може да разбере,\n",
            "че той е роб, защото робството е всичко, което познава.  Но не се отчайвайте,\n",
            "защото аз вярвам в силата на знанието и просвещението. Вярвам, че когато хората\n",
            "се пробудят от съня на невежеството и заблудите, те ще осъзнаят своето робство и\n",
            "ще се надигнат, за да го отхвърлят.  За да постигнем тази свобода, трябва да се\n",
            "въоръжим с оръжие по-силно от всяко физическо оръжие – знанието. Трябва да се\n",
            "научим да мислим критично, да поставяме под въпрос авторитетите и да търсим\n",
            "истината. Трябва да се стремим да\n",
            "Enter prompt... Кой е Христо Ботев?\n"
          ]
        },
        {
          "output_type": "stream",
          "name": "stderr",
          "text": [
            "Setting `pad_token_id` to `eos_token_id`:2 for open-end generation.\n"
          ]
        },
        {
          "name": "stdout",
          "output_type": "stream",
          "text": [
            "[INST]Кой е Христо Ботев?[/INST]\n",
            "[INST]Кой е Христо Ботев?[/INST]\n",
            "<__main__.Options object at 0x7977da4e8640>\n",
            "<s> [INST]Кой е Христо Ботев?[/INST]Христо Ботев е виден български поет, публицист, журналист и революционер, който изиграва значителна роля в борбата за освобождение на България от османско владичество. Той е роден на 6 януари 1848 г. в град Калофер и умира на 20 май 1876 г. в местността Околчица.\n",
            "\n",
            "Ботев е силно повлиян от идеите на романтизма и е силно ангажиран в политическите и социални проблеми на своето време. Той е известен със своите пламенни стихотворения, които често изразяват негодувание срещу потисничеството и призив за свобода и справедливост. Сред най-известните му творби са „Майце си“, „Към брата си“, „На прощаване“, „Хайдути“, „Елегия“, „До моето първо либе“, „Моята\n",
            "\n",
            "=================================\n",
            "\n",
            "<s> [INST]Кой е Христо Ботев?[/INST]Христо Ботев е виден български поет,\n",
            "публицист, журналист и революционер, който изиграва значителна роля в борбата за\n",
            "освобождение на България от османско владичество. Той е роден на 6 януари 1848\n",
            "г. в град Калофер и умира на 20 май 1876 г. в местността Околчица.  Ботев е\n",
            "силно повлиян от идеите на романтизма и е силно ангажиран в политическите и\n",
            "социални проблеми на своето време. Той е известен със своите пламенни\n",
            "стихотворения, които често изразяват негодувание срещу потисничеството и призив\n",
            "за свобода и справедливост. Сред най-известните му творби са „Майце си“, „Към\n",
            "брата си“, „На прощаване“, „Хайдути“, „Елегия“, „До моето първо либе“, „Моята\n",
            "Enter prompt... Разкажи ми откъс от публицистика на Ботев.\n"
          ]
        },
        {
          "output_type": "stream",
          "name": "stderr",
          "text": [
            "Setting `pad_token_id` to `eos_token_id`:2 for open-end generation.\n"
          ]
        },
        {
          "name": "stdout",
          "output_type": "stream",
          "text": [
            "[INST]Разкажи ми откъс от публицистика на Ботев.[/INST]\n",
            "[INST]Разкажи ми откъс от публицистика на Ботев.[/INST]\n",
            "<__main__.Options object at 0x7977da4e8640>\n",
            "<s> [INST]Разкажи ми откъс от публицистика на Ботев.[/INST]Ето един известен откъс от публицистичната статия на Христо Ботев „Смешен плач“:\n",
            "\n",
            "„И така, нека ни се смеят! Ние знаем много добре, че не сме достойни да бъдем техни учители. Но нека ни се смеят, защото ние не сме съгласни да бъдем техни роби. Нека ни се смеят с цялото презрение, което могат да съберат в себе си, защото ние не сме съгласни да бъдем техни слуги. Нека ни се смеят, защото ние искаме да бъдем техни равни. Защото ние сме техни равни! Защото ние сме хора! Защото ние сме българи!“</s>\n",
            "\n",
            "=================================\n",
            "\n",
            "<s> [INST]Разкажи ми откъс от публицистика на Ботев.[/INST]Ето един известен\n",
            "откъс от публицистичната статия на Христо Ботев „Смешен плач“:  „И така, нека ни\n",
            "се смеят! Ние знаем много добре, че не сме достойни да бъдем техни учители. Но\n",
            "нека ни се смеят, защото ние не сме съгласни да бъдем техни роби. Нека ни се\n",
            "смеят с цялото презрение, което могат да съберат в себе си, защото ние не сме\n",
            "съгласни да бъдем техни слуги. Нека ни се смеят, защото ние искаме да бъдем\n",
            "техни равни. Защото ние сме техни равни! Защото ние сме хора! Защото ние сме\n",
            "българи!“</s>\n",
            "Enter prompt... Емил Юнаков и Ада ...\n"
          ]
        },
        {
          "output_type": "stream",
          "name": "stderr",
          "text": [
            "Setting `pad_token_id` to `eos_token_id`:2 for open-end generation.\n"
          ]
        },
        {
          "name": "stdout",
          "output_type": "stream",
          "text": [
            "[INST]Емил Юнаков и Ада ...[/INST]\n",
            "[INST]Емил Юнаков и Ада ...[/INST]\n",
            "<__main__.Options object at 0x7977da4e8640>\n",
            "<s> [INST]Емил Юнаков и Ада ...[/INST]Емил Юнаков и Ада</s>\n",
            "\n",
            "=================================\n",
            "\n",
            "<s> [INST]Емил Юнаков и Ада ...[/INST]Емил Юнаков и Ада</s>\n",
            "Enter prompt... Емил Юнаков и Ада ...\n"
          ]
        },
        {
          "output_type": "stream",
          "name": "stderr",
          "text": [
            "Setting `pad_token_id` to `eos_token_id`:2 for open-end generation.\n"
          ]
        },
        {
          "name": "stdout",
          "output_type": "stream",
          "text": [
            "[INST]Емил Юнаков и Ада ...[/INST]\n",
            "[INST]Емил Юнаков и Ада ...[/INST]\n",
            "<__main__.Options object at 0x7977da4e8640>\n",
            "<s> [INST]Емил Юнаков и Ада ...[/INST]Емил Юнаков и Ада</s>\n",
            "\n",
            "=================================\n",
            "\n",
            "<s> [INST]Емил Юнаков и Ада ...[/INST]Емил Юнаков и Ада</s>\n",
            "Enter prompt... Емил и Ада влязоха в коридора.\n"
          ]
        },
        {
          "output_type": "stream",
          "name": "stderr",
          "text": [
            "Setting `pad_token_id` to `eos_token_id`:2 for open-end generation.\n"
          ]
        },
        {
          "name": "stdout",
          "output_type": "stream",
          "text": [
            "[INST]Емил и Ада влязоха в коридора.[/INST]\n",
            "[INST]Емил и Ада влязоха в коридора.[/INST]\n",
            "<__main__.Options object at 0x7977da4e8640>\n",
            "<s> [INST]Емил и Ада влязоха в коридора.[/INST]Емил и Ада влязоха в коридора, където се разминаха с група ученици, които бързаха да отидат в клас. Докато минаваха покрай тях, Емил забеляза, че няколко от учениците го гледаха с любопитство. Той се зачуди дали някога са го виждали преди или просто изглеждаше необичайно.\n",
            "\n",
            "Продължавайки по коридора, Емил и Ада стигнаха до класната стая, където Емил имаше час. Докато влизаха, Емил забеляза, че учителят вече беше там и се подготвяше за урока. Той седна на мястото си и Ада се настани до него.\n",
            "\n",
            "Учителят започна часа, като представи темата за деня: изследване на различни видове растения и техните уникални характеристики. Емил беше заинтригуван от темата и нетърпелив да научи повече. Той слушаше внимателно, докато учителят обясняваше различните видове\n",
            "\n",
            "=================================\n",
            "\n",
            "<s> [INST]Емил и Ада влязоха в коридора.[/INST]Емил и Ада влязоха в коридора,\n",
            "където се разминаха с група ученици, които бързаха да отидат в клас. Докато\n",
            "минаваха покрай тях, Емил забеляза, че няколко от учениците го гледаха с\n",
            "любопитство. Той се зачуди дали някога са го виждали преди или просто изглеждаше\n",
            "необичайно.  Продължавайки по коридора, Емил и Ада стигнаха до класната стая,\n",
            "където Емил имаше час. Докато влизаха, Емил забеляза, че учителят вече беше там\n",
            "и се подготвяше за урока. Той седна на мястото си и Ада се настани до него.\n",
            "Учителят започна часа, като представи темата за деня: изследване на различни\n",
            "видове растения и техните уникални характеристики. Емил беше заинтригуван от\n",
            "темата и нетърпелив да научи повече. Той слушаше внимателно, докато учителят\n",
            "обясняваше различните видове\n",
            "Enter prompt... \"Човекът и мислещата машина: анализ на възможността...\"\n"
          ]
        },
        {
          "output_type": "stream",
          "name": "stderr",
          "text": [
            "Setting `pad_token_id` to `eos_token_id`:2 for open-end generation.\n"
          ]
        },
        {
          "name": "stdout",
          "output_type": "stream",
          "text": [
            "[INST]\"Човекът и мислещата машина: анализ на възможността...\"[/INST]\n",
            "[INST]\"Човекът и мислещата машина: анализ на възможността...\"[/INST]\n",
            "<__main__.Options object at 0x7977da4e8640>\n",
            "<s> [INST]\"Човекът и мислещата машина: анализ на възможността...\"[/INST]Заглавието на вашата работа, „Човекът и мислещата машина: анализ на възможността“, изглежда обещаващ. Изглежда, че изследвате връзката между хората и изкуствения интелект и как те могат да съществуват заедно. Това може да бъде завладяваща тема, тъй като изкуственият интелект се развива с бързи темпове и има потенциала да промени значително нашето общество и ежедневие.\n",
            "\n",
            "За да ви помогна да започнете, бих предложил да проучите няколко ключови аспекта на темата. Първо, можете да разгледате различни гледни точки относно това дали изкуственият интелект може да мисли като човек. Това може да включва изследване на теории за съзнанието, когнитивната наука и философията на ума.\n",
            "\n",
            "Второ, можете да проучите потенциалните ползи и рискове от интегрирането на изкуствения интелект в нашето общество. Това може да включва обсъждане на подобренията в\n",
            "\n",
            "=================================\n",
            "\n",
            "<s> [INST]\"Човекът и мислещата машина: анализ на\n",
            "възможността...\"[/INST]Заглавието на вашата работа, „Човекът и мислещата машина:\n",
            "анализ на възможността“, изглежда обещаващ. Изглежда, че изследвате връзката\n",
            "между хората и изкуствения интелект и как те могат да съществуват заедно. Това\n",
            "може да бъде завладяваща тема, тъй като изкуственият интелект се развива с бързи\n",
            "темпове и има потенциала да промени значително нашето общество и ежедневие.  За\n",
            "да ви помогна да започнете, бих предложил да проучите няколко ключови аспекта на\n",
            "темата. Първо, можете да разгледате различни гледни точки относно това дали\n",
            "изкуственият интелект може да мисли като човек. Това може да включва изследване\n",
            "на теории за съзнанието, когнитивната наука и философията на ума.  Второ, можете\n",
            "да проучите потенциалните ползи и рискове от интегрирането на изкуствения\n",
            "интелект в нашето общество. Това може да включва обсъждане на подобренията в\n",
            "Enter prompt... Разкажи ми за енактивизма и embodied cognition.\n"
          ]
        },
        {
          "output_type": "stream",
          "name": "stderr",
          "text": [
            "Setting `pad_token_id` to `eos_token_id`:2 for open-end generation.\n"
          ]
        },
        {
          "name": "stdout",
          "output_type": "stream",
          "text": [
            "[INST]Разкажи ми за енактивизма и embodied cognition.[/INST]\n",
            "[INST]Разкажи ми за енактивизма и embodied cognition.[/INST]\n",
            "<__main__.Options object at 0x7977da4e8640>\n",
            "<s> [INST]Разкажи ми за енактивизма и embodied cognition.[/INST]Енактивизмът е теория за когнитивната наука, която твърди, че знанието и разбирането са резултат от взаимодействието на агента (като човек) със света. Терминът \"енактивизъм\" идва от гръцките думи \"en\" (в) и \"aktéo\" (действам), което означава \"да действаш в\". Тази теория е предложена за първи път от британския философ Джон О'Конър Сюърд през 60-те години на миналия век и по-късно е развита от американския философ Джордж Лок и когнитивния учен Антъни Чепилски.\n",
            "\n",
            "Енактивизмът се противопоставя на традиционния когнитивизъм, който предполага, че знанието е пасивно конструирано от вътрешни умствени процеси. Вместо това енактивизмът твърди, че знанието се придобива активно чрез\n",
            "\n",
            "=================================\n",
            "\n",
            "<s> [INST]Разкажи ми за енактивизма и embodied cognition.[/INST]Енактивизмът е\n",
            "теория за когнитивната наука, която твърди, че знанието и разбирането са\n",
            "резултат от взаимодействието на агента (като човек) със света. Терминът\n",
            "\"енактивизъм\" идва от гръцките думи \"en\" (в) и \"aktéo\" (действам), което\n",
            "означава \"да действаш в\". Тази теория е предложена за първи път от британския\n",
            "философ Джон О'Конър Сюърд през 60-те години на миналия век и по-късно е развита\n",
            "от американския философ Джордж Лок и когнитивния учен Антъни Чепилски.\n",
            "Енактивизмът се противопоставя на традиционния когнитивизъм, който предполага,\n",
            "че знанието е пасивно конструирано от вътрешни умствени процеси. Вместо това\n",
            "енактивизмът твърди, че знанието се придобива активно чрез\n",
            "Enter prompt... m\n",
            "max_tokens=?...1000\n",
            "Enter prompt... Разликата между школата на Лев Виготски и Джером Брунър.\n"
          ]
        },
        {
          "output_type": "stream",
          "name": "stderr",
          "text": [
            "Setting `pad_token_id` to `eos_token_id`:2 for open-end generation.\n"
          ]
        },
        {
          "name": "stdout",
          "output_type": "stream",
          "text": [
            "[INST]Разликата между школата на Лев Виготски и Джером Брунър.[/INST]\n",
            "[INST]Разликата между школата на Лев Виготски и Джером Брунър.[/INST]\n",
            "<__main__.Options object at 0x7977da4e8640>\n",
            "<s> [INST]Разликата между школата на Лев Виготски и Джером Брунър.[/INST]Лев Виготски и Джером Брунър са влиятелни фигури в областта на психологията на развитието и образованието, всеки със собствен уникален подход към разбирането на ученето и развитието на децата.\n",
            "\n",
            "Лев Виготски (1896-1934) е руски психолог, който основава теорията за зоната на проксималното развитие, която предполага, че децата имат потенциал за растеж, който надхвърля текущото им ниво на развитие. Според Виготски децата могат да се учат и да растат чрез взаимодействие с по-опитни възрастни и връстници. Той също така подчерта значението на социалния и културен контекст при оформянето на когнитивното развитие.\n",
            "\n",
            "Виготски вярваше, че децата учат най-добре чрез участие в значими дейности в тяхната култура, като например игра, разговор и съвместно решаване на проблеми. Той също така подчерта значението на вътрешните и външните средства за развитие, които включват умствени процеси и физически инструменти, които децата използват, за да учат и да растат.\n",
            "\n",
            "Джером Брунър (1915-2016) е американски психолог, който се фокусира върху когнитивното развитие на децата и ролята на ученето чрез опит. Той предложи три етапа на когнитивно развитие: сензомоторен, предоперативен и конкретно оперативен.\n",
            "\n",
            "В сензомоторния етап (от раждането до 1-2 години) децата учат предимно чрез сетивния си опит. Те започват да развиват умения като хващане, пълзене и ходене.\n",
            "\n",
            "В етапа на предоперативно мислене (от 2 до 7 години) децата започват да развиват символични умения, като например да използват думи и изображения, за да представят идеи. Те също започват да развиват умения за решаване на проблеми, като например да разбират причинно-следствените връзки и да използват инструменти.\n",
            "\n",
            "В етапа на конкретно оперативно мислене (от 7 години нататък) децата могат да използват символични представи, за да манипулират мислено ситуации и да правят прогнози за резултатите. Те също започват да развиват умения за абстрактно мислене, като например да разбират математически концепции и да мислят логично.\n",
            "\n",
            "Брунър също подчерта значението на ученето чрез опит, но се фокусира повече върху индивидуалното когнитивно развитие, отколкото върху социалния и културен контекст, както направи Виготски.\n",
            "\n",
            "В обобщение, докато и Виготски, и Брунър се съгласяват, че децата учат най-добре чрез участие в значими дейности и учене чрез опит, Виготски набляга на социалния и културен контекст, докато Брунър се фокусира върху индивидуалното когнитивно развитие.</s>\n",
            "\n",
            "=================================\n",
            "\n",
            "<s> [INST]Разликата между школата на Лев Виготски и Джером Брунър.[/INST]Лев\n",
            "Виготски и Джером Брунър са влиятелни фигури в областта на психологията на\n",
            "развитието и образованието, всеки със собствен уникален подход към разбирането\n",
            "на ученето и развитието на децата.  Лев Виготски (1896-1934) е руски психолог,\n",
            "който основава теорията за зоната на проксималното развитие, която предполага,\n",
            "че децата имат потенциал за растеж, който надхвърля текущото им ниво на\n",
            "развитие. Според Виготски децата могат да се учат и да растат чрез\n",
            "взаимодействие с по-опитни възрастни и връстници. Той също така подчерта\n",
            "значението на социалния и културен контекст при оформянето на когнитивното\n",
            "развитие.  Виготски вярваше, че децата учат най-добре чрез участие в значими\n",
            "дейности в тяхната култура, като например игра, разговор и съвместно решаване на\n",
            "проблеми. Той също така подчерта значението на вътрешните и външните средства за\n",
            "развитие, които включват умствени процеси и физически инструменти, които децата\n",
            "използват, за да учат и да растат.  Джером Брунър (1915-2016) е американски\n",
            "психолог, който се фокусира върху когнитивното развитие на децата и ролята на\n",
            "ученето чрез опит. Той предложи три етапа на когнитивно развитие: сензомоторен,\n",
            "предоперативен и конкретно оперативен.  В сензомоторния етап (от раждането до\n",
            "1-2 години) децата учат предимно чрез сетивния си опит. Те започват да развиват\n",
            "умения като хващане, пълзене и ходене.  В етапа на предоперативно мислене (от 2\n",
            "до 7 години) децата започват да развиват символични умения, като например да\n",
            "използват думи и изображения, за да представят идеи. Те също започват да\n",
            "развиват умения за решаване на проблеми, като например да разбират причинно-\n",
            "следствените връзки и да използват инструменти.  В етапа на конкретно оперативно\n",
            "мислене (от 7 години нататък) децата могат да използват символични представи, за\n",
            "да манипулират мислено ситуации и да правят прогнози за резултатите. Те също\n",
            "започват да развиват умения за абстрактно мислене, като например да разбират\n",
            "математически концепции и да мислят логично.  Брунър също подчерта значението на\n",
            "ученето чрез опит, но се фокусира повече върху индивидуалното когнитивно\n",
            "развитие, отколкото върху социалния и културен контекст, както направи Виготски.\n",
            "В обобщение, докато и Виготски, и Брунър се съгласяват, че децата учат най-добре\n",
            "чрез участие в значими дейности и учене чрез опит, Виготски набляга на социалния\n",
            "и културен контекст, докато Брунър се фокусира върху индивидуалното когнитивно\n",
            "развитие.</s>\n",
            "Enter prompt... Разликата между съветската и американската психологическа школи в психологията на развитието.\n"
          ]
        },
        {
          "output_type": "stream",
          "name": "stderr",
          "text": [
            "Setting `pad_token_id` to `eos_token_id`:2 for open-end generation.\n"
          ]
        },
        {
          "name": "stdout",
          "output_type": "stream",
          "text": [
            "[INST]Разликата между съветската и американската психологическа школи в психологията на развитието.[/INST]\n",
            "[INST]Разликата между съветската и американската психологическа школи в\n",
            "психологията на развитието.[/INST]\n",
            "<__main__.Options object at 0x7977da4e8640>\n",
            "<s> [INST]Разликата между съветската и американската психологическа школи в психологията на развитието.[/INST]Психологията на развитието е изследване на промените в психиката и поведението, които се случват с течение на времето, от раждането до зряла възраст. Има две основни психологически школи, които са повлияли на разбирането ни за психологията на развитието: съветската психологическа школа и американската психологическа школа.\n",
            "\n",
            "1. Съветска психологическа школа:\n",
            "Съветската психологическа школа, известна още като руска психологическа школа, се появява в началото на 20-ти век и е силно повлияна от теориите на Иван Павлов за класическото обуславяне и теориите на Владимир Бехтерев за функционалната психология.\n",
            "\n",
            "Основни принципи:\n",
            "- Биологична детерминизъм: Тази школа вярва, че поведението и развитието са до голяма степен определени от биологични фактори, като генетиката и физиологията.\n",
            "- Условно рефлексивно обучение: Съветската школа подчертава значението на ученето чрез преживяване и адаптирането на поведението към околната среда чрез условни рефлекси.\n",
            "- Диалектически материализъм: Тази философска основа твърди, че психиката и поведението се развиват чрез взаимодействието на материалните условия и индивидуалните преживявания.\n",
            "\n",
            "Ключови фигури:\n",
            "- Иван Павлов\n",
            "- Владимир Бехтерев\n",
            "- Александър Лурия\n",
            "- Лев Виготски\n",
            "\n",
            "2. Американска психологическа школа:\n",
            "Американската психологическа школа се появява в края на 19-ти и началото на 20-ти век и е силно повлияна от теориите на Уилям Джеймс за функционализма и теориите на Джон Уотсън за бихевиоризма.\n",
            "\n",
            "Основни принципи:\n",
            "- Еволюционна детерминизъм: Тази школа вярва, че поведението и развитието са до голяма степен определени от еволюционните процеси и адаптацията към околната среда.\n",
            "- Бихевиоризъм: Американската школа се фокусира върху наблюдаемото поведение и ролята на околната среда при оформянето на поведението и развитието.\n",
            "- Когнитивизъм: Тази школа набляга на значението на познанието и мисловните процеси при разбирането на поведението и развитието.\n",
            "\n",
            "Ключови фигури:\n",
            "- Уилям Джеймс\n",
            "- Джон Уотсън\n",
            "- Едуард Толман\n",
            "- Жан Пиаже\n",
            "- Алберт Бандура\n",
            "\n",
            "Разлики между съветската и американската психологическа школа:\n",
            "\n",
            "1. Фокус: Съветската школа се фокусира върху биологичните и физиологичните фактори, докато американската школа се фокусира върху ролята на околната среда и ученето чрез преживяване.\n",
            "\n",
            "2. Роля на опита: Съветската школа подчертава значението на ученето чрез преживяване и адаптирането на поведението към околната среда чрез условни рефлекси, докато американската школа се фокусира върху наблюдаемото поведение и ролята на околната среда при оформянето на поведението и развитието.\n",
            "\n",
            "3. Роля на познанието: Съветската школа набляга на значението на познанието и мисловните процеси при разбирането на поведението и развитието, докато американската школа първоначално пренебрегва значението на познанието и се фокусира върху наблюдаемото поведение.\n",
            "\n",
            "4. Философска основа: Съветската школа се основава на диалектическия материализъм, докато американската школа се основава на еволюционната детерминизъм и по-късно възприема когнитивизма като важна теоретична рамка.\n",
            "\n",
            "В обобщение, съветската и американската психологическа школа имат различни гледни точки относно факторите, които влияят върху поведението и развитието. Съветската школа се фокусира върху биологичните и физиологичните фактори, докато американската школа се фокусира върху ролята на околната среда и ученето чрез преживяване. Тези различни гледни точки са оформили различни теории и подходи в психологията на развитието.</s>\n",
            "\n",
            "=================================\n",
            "\n",
            "<s> [INST]Разликата между съветската и американската психологическа школи в\n",
            "психологията на развитието.[/INST]Психологията на развитието е изследване на\n",
            "промените в психиката и поведението, които се случват с течение на времето, от\n",
            "раждането до зряла възраст. Има две основни психологически школи, които са\n",
            "повлияли на разбирането ни за психологията на развитието: съветската\n",
            "психологическа школа и американската психологическа школа.  1. Съветска\n",
            "психологическа школа: Съветската психологическа школа, известна още като руска\n",
            "психологическа школа, се появява в началото на 20-ти век и е силно повлияна от\n",
            "теориите на Иван Павлов за класическото обуславяне и теориите на Владимир\n",
            "Бехтерев за функционалната психология.  Основни принципи: - Биологична\n",
            "детерминизъм: Тази школа вярва, че поведението и развитието са до голяма степен\n",
            "определени от биологични фактори, като генетиката и физиологията. - Условно\n",
            "рефлексивно обучение: Съветската школа подчертава значението на ученето чрез\n",
            "преживяване и адаптирането на поведението към околната среда чрез условни\n",
            "рефлекси. - Диалектически материализъм: Тази философска основа твърди, че\n",
            "психиката и поведението се развиват чрез взаимодействието на материалните\n",
            "условия и индивидуалните преживявания.  Ключови фигури: - Иван Павлов - Владимир\n",
            "Бехтерев - Александър Лурия - Лев Виготски  2. Американска психологическа школа:\n",
            "Американската психологическа школа се появява в края на 19-ти и началото на\n",
            "20-ти век и е силно повлияна от теориите на Уилям Джеймс за функционализма и\n",
            "теориите на Джон Уотсън за бихевиоризма.  Основни принципи: - Еволюционна\n",
            "детерминизъм: Тази школа вярва, че поведението и развитието са до голяма степен\n",
            "определени от еволюционните процеси и адаптацията към околната среда. -\n",
            "Бихевиоризъм: Американската школа се фокусира върху наблюдаемото поведение и\n",
            "ролята на околната среда при оформянето на поведението и развитието. -\n",
            "Когнитивизъм: Тази школа набляга на значението на познанието и мисловните\n",
            "процеси при разбирането на поведението и развитието.  Ключови фигури: - Уилям\n",
            "Джеймс - Джон Уотсън - Едуард Толман - Жан Пиаже - Алберт Бандура  Разлики между\n",
            "съветската и американската психологическа школа:  1. Фокус: Съветската школа се\n",
            "фокусира върху биологичните и физиологичните фактори, докато американската школа\n",
            "се фокусира върху ролята на околната среда и ученето чрез преживяване.  2. Роля\n",
            "на опита: Съветската школа подчертава значението на ученето чрез преживяване и\n",
            "адаптирането на поведението към околната среда чрез условни рефлекси, докато\n",
            "американската школа се фокусира върху наблюдаемото поведение и ролята на\n",
            "околната среда при оформянето на поведението и развитието.  3. Роля на\n",
            "познанието: Съветската школа набляга на значението на познанието и мисловните\n",
            "процеси при разбирането на поведението и развитието, докато американската школа\n",
            "първоначално пренебрегва значението на познанието и се фокусира върху\n",
            "наблюдаемото поведение.  4. Философска основа: Съветската школа се основава на\n",
            "диалектическия материализъм, докато американската школа се основава на\n",
            "еволюционната детерминизъм и по-късно възприема когнитивизма като важна\n",
            "теоретична рамка.  В обобщение, съветската и американската психологическа школа\n",
            "имат различни гледни точки относно факторите, които влияят върху поведението и\n",
            "развитието. Съветската школа се фокусира върху биологичните и физиологичните\n",
            "фактори, докато американската школа се фокусира върху ролята на околната среда и\n",
            "ученето чрез преживяване. Тези различни гледни точки са оформили различни теории\n",
            "и подходи в психологията на развитието.</s>\n",
            "Enter prompt... Поправи правописни и стилистични грешки: \" 4. Философска основа: Съветската школа се основава на диалектическия материализъм, докато американската школа се основава на еволюционната детерминизъм и по-късно възприема когнитивизма като важна теоретична рамка. \"\n"
          ]
        },
        {
          "output_type": "stream",
          "name": "stderr",
          "text": [
            "Setting `pad_token_id` to `eos_token_id`:2 for open-end generation.\n"
          ]
        },
        {
          "name": "stdout",
          "output_type": "stream",
          "text": [
            "[INST]Поправи правописни и стилистични грешки: \" 4. Философска основа: Съветската школа се основава на диалектическия материализъм, докато американската школа се основава на еволюционната детерминизъм и по-късно възприема когнитивизма като важна теоретична рамка. \"[/INST]\n",
            "[INST]Поправи правописни и стилистични грешки: \" 4. Философска основа:\n",
            "Съветската школа се основава на диалектическия материализъм, докато\n",
            "американската школа се основава на еволюционната детерминизъм и по-късно\n",
            "възприема когнитивизма като важна теоретична рамка. \"[/INST]\n",
            "<__main__.Options object at 0x7977da4e8640>\n",
            "<s> [INST]Поправи правописни и стилистични грешки: \" 4. Философска основа: Съветската школа се основава на диалектическия материализъм, докато американската школа се основава на еволюционната детерминизъм и по-късно възприема когнитивизма като важна теоретична рамка. \"[/INST]4. Философска основа: Съветската школа се основава на диалектическия материализъм, докато американската школа се основава на еволюционния детерминизъм и по-късно възприема когнитивизма като важна теоретична рамка.</s>\n",
            "\n",
            "=================================\n",
            "\n",
            "<s> [INST]Поправи правописни и стилистични грешки: \" 4. Философска основа:\n",
            "Съветската школа се основава на диалектическия материализъм, докато\n",
            "американската школа се основава на еволюционната детерминизъм и по-късно\n",
            "възприема когнитивизма като важна теоретична рамка. \"[/INST]4. Философска\n",
            "основа: Съветската школа се основава на диалектическия материализъм, докато\n",
            "американската школа се основава на еволюционния детерминизъм и по-късно\n",
            "възприема когнитивизма като важна теоретична рамка.</s>\n",
            "Enter prompt... Поправи грешки: \"Основни принципи: - Биологична детерминизъм\"\n"
          ]
        },
        {
          "output_type": "stream",
          "name": "stderr",
          "text": [
            "Setting `pad_token_id` to `eos_token_id`:2 for open-end generation.\n"
          ]
        },
        {
          "name": "stdout",
          "output_type": "stream",
          "text": [
            "[INST]Поправи грешки: \"Основни принципи: - Биологична детерминизъм\"[/INST]\n",
            "[INST]Поправи грешки: \"Основни принципи: - Биологична детерминизъм\"[/INST]\n",
            "<__main__.Options object at 0x7977da4e8640>\n",
            "<s> [INST]Поправи грешки: \"Основни принципи: - Биологична детерминизъм\"[/INST]Основни принципи:\n",
            "- Биологична детерминизъм</s>\n",
            "\n",
            "=================================\n",
            "\n",
            "<s> [INST]Поправи грешки: \"Основни принципи: - Биологична\n",
            "детерминизъм\"[/INST]Основни принципи: - Биологична детерминизъм</s>\n",
            "Enter prompt... От кой род е \"биологична\"\n"
          ]
        },
        {
          "output_type": "stream",
          "name": "stderr",
          "text": [
            "Setting `pad_token_id` to `eos_token_id`:2 for open-end generation.\n"
          ]
        },
        {
          "name": "stdout",
          "output_type": "stream",
          "text": [
            "[INST]От кой род е \"биологична\"[/INST]\n",
            "[INST]От кой род е \"биологична\"[/INST]\n",
            "<__main__.Options object at 0x7977da4e8640>\n",
            "<s> [INST]От кой род е \"биологична\"[/INST]Думата \"биологичен\" е от мъжки род.</s>\n",
            "\n",
            "=================================\n",
            "\n",
            "<s> [INST]От кой род е \"биологична\"[/INST]Думата \"биологичен\" е от мъжки\n",
            "род.</s>\n",
            "Enter prompt... От кой род е биологично?\n"
          ]
        },
        {
          "output_type": "stream",
          "name": "stderr",
          "text": [
            "Setting `pad_token_id` to `eos_token_id`:2 for open-end generation.\n"
          ]
        },
        {
          "name": "stdout",
          "output_type": "stream",
          "text": [
            "[INST]От кой род е биологично?[/INST]\n",
            "[INST]От кой род е биологично?[/INST]\n",
            "<__main__.Options object at 0x7977da4e8640>\n",
            "<s> [INST]От кой род е биологично?[/INST]Аз съм от рода Homo sapiens.</s>\n",
            "\n",
            "=================================\n",
            "\n",
            "<s> [INST]От кой род е биологично?[/INST]Аз съм от рода Homo sapiens.</s>\n",
            "Enter prompt... От кой род е думата \"биологично\"?\n"
          ]
        },
        {
          "output_type": "stream",
          "name": "stderr",
          "text": [
            "Setting `pad_token_id` to `eos_token_id`:2 for open-end generation.\n"
          ]
        },
        {
          "name": "stdout",
          "output_type": "stream",
          "text": [
            "[INST]От кой род е думата \"биологично\"?[/INST]\n",
            "[INST]От кой род е думата \"биологично\"?[/INST]\n",
            "<__main__.Options object at 0x7977da4e8640>\n",
            "<s> [INST]От кой род е думата \"биологично\"?[/INST]Думата \"биологично\" е от рода на съществителните.</s>\n",
            "\n",
            "=================================\n",
            "\n",
            "<s> [INST]От кой род е думата \"биологично\"?[/INST]Думата \"биологично\" е от рода\n",
            "на съществителните.</s>\n",
            "Enter prompt... What's the gender of the word \"биологично\"?\n"
          ]
        },
        {
          "output_type": "stream",
          "name": "stderr",
          "text": [
            "Setting `pad_token_id` to `eos_token_id`:2 for open-end generation.\n"
          ]
        },
        {
          "name": "stdout",
          "output_type": "stream",
          "text": [
            "[INST]What's the gender of the word \"биологично\"?[/INST]\n",
            "[INST]What's the gender of the word \"биологично\"?[/INST]\n",
            "<__main__.Options object at 0x7977da4e8640>\n",
            "<s> [INST]What's the gender of the word \"биологично\"?[/INST]The gender of the word \"биологично\" is neuter. In German, nouns are often classified as masculine, feminine, or neuter, and the gender is determined by the ending of the noun. In this case, the word \"biologisch\" ends in \"-isch,\" which is a common ending for neuter nouns in German.</s>\n",
            "\n",
            "=================================\n",
            "\n",
            "<s> [INST]What's the gender of the word \"биологично\"?[/INST]The gender of the\n",
            "word \"биологично\" is neuter. In German, nouns are often classified as masculine,\n",
            "feminine, or neuter, and the gender is determined by the ending of the noun. In\n",
            "this case, the word \"biologisch\" ends in \"-isch,\" which is a common ending for\n",
            "neuter nouns in German.</s>\n",
            "Enter prompt... What's the gender of the word \"биологичен\"?\n"
          ]
        },
        {
          "output_type": "stream",
          "name": "stderr",
          "text": [
            "Setting `pad_token_id` to `eos_token_id`:2 for open-end generation.\n"
          ]
        },
        {
          "name": "stdout",
          "output_type": "stream",
          "text": [
            "[INST]What's the gender of the word \"биологичен\"?[/INST]\n",
            "[INST]What's the gender of the word \"биологичен\"?[/INST]\n",
            "<__main__.Options object at 0x7977da4e8640>\n",
            "<s> [INST]What's the gender of the word \"биологичен\"?[/INST]The gender of the word \"биологичен\" is masculine. In German, nouns are often associated with a gender (masculine, feminine, or neuter) and can be identified by their ending. The word \"biologisch\" ends with \"-isch,\" which is a common ending for masculine nouns.</s>\n",
            "\n",
            "=================================\n",
            "\n",
            "<s> [INST]What's the gender of the word \"биологичен\"?[/INST]The gender of the\n",
            "word \"биологичен\" is masculine. In German, nouns are often associated with a\n",
            "gender (masculine, feminine, or neuter) and can be identified by their ending.\n",
            "The word \"biologisch\" ends with \"-isch,\" which is a common ending for masculine\n",
            "nouns.</s>\n",
            "Enter prompt... What's the gender of the word \"биологична\"?\n"
          ]
        },
        {
          "output_type": "stream",
          "name": "stderr",
          "text": [
            "Setting `pad_token_id` to `eos_token_id`:2 for open-end generation.\n"
          ]
        },
        {
          "name": "stdout",
          "output_type": "stream",
          "text": [
            "[INST]What's the gender of the word \"биологична\"?[/INST]\n",
            "[INST]What's the gender of the word \"биологична\"?[/INST]\n",
            "<__main__.Options object at 0x7977da4e8640>\n",
            "<s> [INST]What's the gender of the word \"биологична\"?[/INST]The gender of the word \"биологична\" is feminine. In Spanish, nouns are often associated with a gender (masculine or feminine) and can be identified by their ending. In this case, the ending \"-a\" indicates that \"biológica\" is feminine.</s>\n",
            "\n",
            "=================================\n",
            "\n",
            "<s> [INST]What's the gender of the word \"биологична\"?[/INST]The gender of the\n",
            "word \"биологична\" is feminine. In Spanish, nouns are often associated with a\n",
            "gender (masculine or feminine) and can be identified by their ending. In this\n",
            "case, the ending \"-a\" indicates that \"biológica\" is feminine.</s>\n",
            "Enter prompt... Correct mistakes: \"\"Основни принципи: - Биологична детерминизъм\"\n"
          ]
        },
        {
          "output_type": "stream",
          "name": "stderr",
          "text": [
            "Setting `pad_token_id` to `eos_token_id`:2 for open-end generation.\n"
          ]
        },
        {
          "name": "stdout",
          "output_type": "stream",
          "text": [
            "[INST]Correct mistakes: \"\"Основни принципи: - Биологична детерминизъм\"[/INST]\n",
            "[INST]Correct mistakes: \"\"Основни принципи: - Биологична детерминизъм\"[/INST]\n",
            "<__main__.Options object at 0x7977da4e8640>\n",
            "<s> [INST]Correct mistakes: \"\"Основни принципи: - Биологична детерминизъм\"[/INST]\"Основни принципи:\n",
            "- Биологична детерминизъм\n",
            "- Свободна воля\n",
            "- Социална детерминизъм\n",
            "- Детерминизъм на личността\n",
            "- Детерминизъм на поведението\n",
            "- Детерминизъм на съзнанието\n",
            "- Детерминизъм на знанието\n",
            "- Детерминизъм на езика\n",
            "- Детерминизъм на културата\n",
            "- Детерминизъм на историята\n",
            "- Детерминизъм на технологиите\n",
            "- Детерминизъм на околната среда\n",
            "- Детерминизъм на съдбата\n",
            "- Детерминизъм на Бога\n",
            "- Детерминизъм на времето\n",
            "- Детерминизъм на пространството\n",
            "- Детерминизъм на причинно-следствената връзка\n",
            "- Детерминизъм на случайността\n",
            "- Детерминизъм на вероятността\n",
            "- Детерминизъм на вероятността\n",
            "- Детерминизъм на вероятността\n",
            "- Детерминизъм на вероятността\n",
            "- Детерминизъм на вероятността\n",
            "- Детерминизъм на вероятността\n",
            "- Детерминизъм на вероятността\n",
            "- Детерминизъм на вероятността\n",
            "- Детерминизъм на вероятността\n",
            "- Детерминизъм на вероятността\n",
            "- Детерминизъм на вероятността\n",
            "- Детерминизъм на вероятността\n",
            "- Детерминизъм на вероятността\n",
            "- Детерминизъм на вероятността\n",
            "- Детерминизъм на вероятността\n",
            "- Детерминизъм на вероятността\n",
            "- Детерминизъм на вероятността\n",
            "- Детерминизъм на вероятността\n",
            "- Детерминизъм на вероятността\n",
            "- Детерминизъм на вероятността\n",
            "- Детерминизъм на вероятността\n",
            "- Детерминизъм на вероятността\n",
            "- Детерминизъм на вероятността\n",
            "- Детерминизъм на вероятността\n",
            "- Детерминизъм на вероятността\n",
            "- Детерминизъм на вероятността\n",
            "- Детерминизъм на вероятността\n",
            "- Детерминизъм на вероятността\n",
            "- Детерминизъм на вероятността\n",
            "- Детерминизъм на вероятността\n",
            "- Детерминизъм на вероятността\n",
            "- Детерминизъм на вероятността\n",
            "- Детерминизъм на вероятността\n",
            "- Детерминизъм на вероятността\n",
            "- Детерминизъм на вероятността\n",
            "- Детерминизъм на вероятността\n",
            "- Детерминизъм на вероятността\n",
            "- Детерминизъм на вероятността\n",
            "- Детерминизъм на вероятността\n",
            "- Детерминизъм на вероятността\n",
            "- Детерминизъм на вероятността\n",
            "- Детерминизъм на вероятността\n",
            "- Детерминизъм на вероятността\n",
            "- Детерминизъм на вероятността\n",
            "- Детерминизъм на вероятността\n",
            "- Детерминизъм на вероятността\n",
            "- Детерминизъм на вероятността\n",
            "- Детерминизъм на вероятността\n",
            "- Детерминизъм на вероятността\n",
            "- Детерминизъм на вероятността\n",
            "- Детерминизъм на вероятността\n",
            "- Детерминизъм на вероятността\n",
            "- Детерминизъм на вероятността\n",
            "- Детерминизъм на вероятността\n",
            "- Детерминизъм на вероятността\n",
            "- Детерминизъм на вероятността\n",
            "- Детерминизъм на вероятността\n",
            "- Детерминизъм на вероятността\n",
            "- Детерминизъм на вероятността\n",
            "- Детерминизъм на вероятността\n",
            "- Детерминизъм на вероятността\n",
            "- Детерминизъм на вероятността\n",
            "- Детерминизъм на вероятността\n",
            "- Детерминизъм на вероятността\n",
            "- Детерминизъм на вероятността\n",
            "- Детерминизъм на вероятността\n",
            "- Детерминизъм на вероятността\n",
            "- Детерминизъм на вероятността\n",
            "- Детерминизъм на вероятността\n",
            "- Детерминизъм на вероятността\n",
            "- Детерминизъм на вероятността\n",
            "- Детерминизъм на вероятността\n",
            "- Детерминизъм на вероятността\n",
            "- Детерминизъм на вероятността\n",
            "- Детерминизъм на вероятността\n",
            "- Детерминизъм на вероятността\n",
            "- Детерминизъм на вероятността\n",
            "- Детерминизъм на вероятността\n",
            "- Детерминизъм на вероятността\n",
            "- Детерминизъм на вероятността\n",
            "- Детерминизъм на вероятността\n",
            "- Детерминизъм на вероятността\n",
            "- Детерминизъм на вероятността\n",
            "- Детерминизъм на вероятността\n",
            "- Детерминизъм на вероятността\n",
            "- Детерминизъм на вероятността\n",
            "- Детерминизъм на вероятността\n",
            "- Детерминизъм на вероятността\n",
            "- Детерминизъм на вероятността\n",
            "- Детерминизъм на вероятността\n",
            "- Детерминизъм на вероятността\n",
            "- Детерминизъм на вероятността\n",
            "- Детерминизъм на вероят\n",
            "\n",
            "=================================\n",
            "\n",
            "<s> [INST]Correct mistakes: \"\"Основни принципи: - Биологична\n",
            "детерминизъм\"[/INST]\"Основни принципи: - Биологична детерминизъм - Свободна воля\n",
            "- Социална детерминизъм - Детерминизъм на личността - Детерминизъм на\n",
            "поведението - Детерминизъм на съзнанието - Детерминизъм на знанието -\n",
            "Детерминизъм на езика - Детерминизъм на културата - Детерминизъм на историята -\n",
            "Детерминизъм на технологиите - Детерминизъм на околната среда - Детерминизъм на\n",
            "съдбата - Детерминизъм на Бога - Детерминизъм на времето - Детерминизъм на\n",
            "пространството - Детерминизъм на причинно-следствената връзка - Детерминизъм на\n",
            "случайността - Детерминизъм на вероятността - Детерминизъм на вероятността -\n",
            "Детерминизъм на вероятността - Детерминизъм на вероятността - Детерминизъм на\n",
            "вероятността - Детерминизъм на вероятността - Детерминизъм на вероятността -\n",
            "Детерминизъм на вероятността - Детерминизъм на вероятността - Детерминизъм на\n",
            "вероятността - Детерминизъм на вероятността - Детерминизъм на вероятността -\n",
            "Детерминизъм на вероятността - Детерминизъм на вероятността - Детерминизъм на\n",
            "вероятността - Детерминизъм на вероятността - Детерминизъм на вероятността -\n",
            "Детерминизъм на вероятността - Детерминизъм на вероятността - Детерминизъм на\n",
            "вероятността - Детерминизъм на вероятността - Детерминизъм на вероятността -\n",
            "Детерминизъм на вероятността - Детерминизъм на вероятността - Детерминизъм на\n",
            "вероятността - Детерминизъм на вероятността - Детерминизъм на вероятността -\n",
            "Детерминизъм на вероятността - Детерминизъм на вероятността - Детерминизъм на\n",
            "вероятността - Детерминизъм на вероятността - Детерминизъм на вероятността -\n",
            "Детерминизъм на вероятността - Детерминизъм на вероятността - Детерминизъм на\n",
            "вероятността - Детерминизъм на вероятността - Детерминизъм на вероятността -\n",
            "Детерминизъм на вероятността - Детерминизъм на вероятността - Детерминизъм на\n",
            "вероятността - Детерминизъм на вероятността - Детерминизъм на вероятността -\n",
            "Детерминизъм на вероятността - Детерминизъм на вероятността - Детерминизъм на\n",
            "вероятността - Детерминизъм на вероятността - Детерминизъм на вероятността -\n",
            "Детерминизъм на вероятността - Детерминизъм на вероятността - Детерминизъм на\n",
            "вероятността - Детерминизъм на вероятността - Детерминизъм на вероятността -\n",
            "Детерминизъм на вероятността - Детерминизъм на вероятността - Детерминизъм на\n",
            "вероятността - Детерминизъм на вероятността - Детерминизъм на вероятността -\n",
            "Детерминизъм на вероятността - Детерминизъм на вероятността - Детерминизъм на\n",
            "вероятността - Детерминизъм на вероятността - Детерминизъм на вероятността -\n",
            "Детерминизъм на вероятността - Детерминизъм на вероятността - Детерминизъм на\n",
            "вероятността - Детерминизъм на вероятността - Детерминизъм на вероятността -\n",
            "Детерминизъм на вероятността - Детерминизъм на вероятността - Детерминизъм на\n",
            "вероятността - Детерминизъм на вероятността - Детерминизъм на вероятността -\n",
            "Детерминизъм на вероятността - Детерминизъм на вероятността - Детерминизъм на\n",
            "вероятността - Детерминизъм на вероятността - Детерминизъм на вероятността -\n",
            "Детерминизъм на вероятността - Детерминизъм на вероятността - Детерминизъм на\n",
            "вероятността - Детерминизъм на вероятността - Детерминизъм на вероятността -\n",
            "Детерминизъм на вероятността - Детерминизъм на вероятността - Детерминизъм на\n",
            "вероятността - Детерминизъм на вероятността - Детерминизъм на вероятността -\n",
            "Детерминизъм на вероятността - Детерминизъм на вероятността - Детерминизъм на\n",
            "вероятността - Детерминизъм на вероятността - Детерминизъм на вероятността -\n",
            "Детерминизъм на вероят\n",
            "Enter prompt... Correct grammatical and syntax errors: \"\"Основни принципи: - Биологична детерминизъм\"\n"
          ]
        },
        {
          "output_type": "stream",
          "name": "stderr",
          "text": [
            "Setting `pad_token_id` to `eos_token_id`:2 for open-end generation.\n"
          ]
        },
        {
          "name": "stdout",
          "output_type": "stream",
          "text": [
            "[INST]Correct grammatical and syntax errors: \"\"Основни принципи: - Биологична детерминизъм\"[/INST]\n",
            "[INST]Correct grammatical and syntax errors: \"\"Основни принципи: - Биологична\n",
            "детерминизъм\"[/INST]\n",
            "<__main__.Options object at 0x7977da4e8640>\n",
            "<s> [INST]Correct grammatical and syntax errors: \"\"Основни принципи: - Биологична детерминизъм\"[/INST]\"Основни принципи:\n",
            "- Биологична детерминизъм\"</s>\n",
            "\n",
            "=================================\n",
            "\n",
            "<s> [INST]Correct grammatical and syntax errors: \"\"Основни принципи: -\n",
            "Биологична детерминизъм\"[/INST]\"Основни принципи: - Биологична детерминизъм\"</s>\n",
            "Enter prompt... Correct grammatical and syntax errors: \"Основни принципи: - биологична детерминизъм\"\n"
          ]
        },
        {
          "output_type": "stream",
          "name": "stderr",
          "text": [
            "Setting `pad_token_id` to `eos_token_id`:2 for open-end generation.\n"
          ]
        },
        {
          "name": "stdout",
          "output_type": "stream",
          "text": [
            "[INST]Correct grammatical and syntax errors: \"Основни принципи: - биологична детерминизъм\"[/INST]\n",
            "[INST]Correct grammatical and syntax errors: \"Основни принципи: - биологична\n",
            "детерминизъм\"[/INST]\n",
            "<__main__.Options object at 0x7977da4e8640>\n",
            "<s> [INST]Correct grammatical and syntax errors: \"Основни принципи: - биологична детерминизъм\"[/INST]\"Основни принципи:\n",
            "- биологична детерминизъм\"</s>\n",
            "\n",
            "=================================\n",
            "\n",
            "<s> [INST]Correct grammatical and syntax errors: \"Основни принципи: - биологична\n",
            "детерминизъм\"[/INST]\"Основни принципи: - биологична детерминизъм\"</s>\n",
            "Enter prompt... p\n",
            "temp=0.9,max=1000, top_k=1|top_p=0.9, instruct/autoregression=(True=instruct, False=autoregression)False(i: instruct, a: autoregression); n: new chat; r: repeat last question\n",
            "Enter prompt... t\n",
            "temperature=... 0.1\n",
            "0.1\n",
            "Enter prompt... top_k\n",
            "top_k=... 40\n",
            "Enter prompt... r\n"
          ]
        },
        {
          "output_type": "stream",
          "name": "stderr",
          "text": [
            "Setting `pad_token_id` to `eos_token_id`:2 for open-end generation.\n"
          ]
        },
        {
          "name": "stdout",
          "output_type": "stream",
          "text": [
            "[INST]Correct grammatical and syntax errors: \"Основни принципи: - биологична детерминизъм\"[/INST]\n",
            "[INST]Correct grammatical and syntax errors: \"Основни принципи: - биологична\n",
            "детерминизъм\"[/INST]\n",
            "<__main__.Options object at 0x7977da4e8640>\n",
            "<s> [INST]Correct grammatical and syntax errors: \"Основни принципи: - биологична детерминизъм\"[/INST]\"Основни принципи:\n",
            "- биологична детерминизъм\"</s>\n",
            "\n",
            "=================================\n",
            "\n",
            "<s> [INST]Correct grammatical and syntax errors: \"Основни принципи: - биологична\n",
            "детерминизъм\"[/INST]\"Основни принципи: - биологична детерминизъм\"</s>\n",
            "Enter prompt... Spell correctly:\"биологична детерминизъм\"\n"
          ]
        },
        {
          "output_type": "stream",
          "name": "stderr",
          "text": [
            "Setting `pad_token_id` to `eos_token_id`:2 for open-end generation.\n"
          ]
        },
        {
          "name": "stdout",
          "output_type": "stream",
          "text": [
            "[INST]Spell correctly:\"биологична детерминизъм\"[/INST]\n",
            "[INST]Spell correctly:\"биологична детерминизъм\"[/INST]\n",
            "<__main__.Options object at 0x7977da4e8640>\n",
            "<s> [INST]Spell correctly:\"биологична детерминизъм\"[/INST]The correct spelling is \"biological determinism.\"</s>\n",
            "\n",
            "=================================\n",
            "\n",
            "<s> [INST]Spell correctly:\"биологична детерминизъм\"[/INST]The correct spelling\n",
            "is \"biological determinism.\"</s>\n",
            "Enter prompt... Translate \"biological determinism\" to Bulgarian.\n"
          ]
        },
        {
          "output_type": "stream",
          "name": "stderr",
          "text": [
            "Setting `pad_token_id` to `eos_token_id`:2 for open-end generation.\n"
          ]
        },
        {
          "name": "stdout",
          "output_type": "stream",
          "text": [
            "[INST]Translate \"biological determinism\" to Bulgarian.[/INST]\n",
            "[INST]Translate \"biological determinism\" to Bulgarian.[/INST]\n",
            "<__main__.Options object at 0x7977da4e8640>\n",
            "<s> [INST]Translate \"biological determinism\" to Bulgarian.[/INST]Биологичният детерминизъм може да се преведе на български като \"биологичен детерминизъм\".</s>\n",
            "\n",
            "=================================\n",
            "\n",
            "<s> [INST]Translate \"biological determinism\" to Bulgarian.[/INST]Биологичният\n",
            "детерминизъм може да се преведе на български като \"биологичен детерминизъм\".</s>\n",
            "Enter prompt... Translate to English: \"Основни принципи: - Биологична детерминизъм\"\n"
          ]
        },
        {
          "output_type": "stream",
          "name": "stderr",
          "text": [
            "Setting `pad_token_id` to `eos_token_id`:2 for open-end generation.\n"
          ]
        },
        {
          "name": "stdout",
          "output_type": "stream",
          "text": [
            "[INST]Translate to English: \"Основни принципи: - Биологична детерминизъм\"[/INST]\n",
            "[INST]Translate to English: \"Основни принципи: - Биологична детерминизъм\"[/INST]\n",
            "<__main__.Options object at 0x7977da4e8640>\n",
            "<s> [INST]Translate to English: \"Основни принципи: - Биологична детерминизъм\"[/INST]\"Key Principles: - Biological Determinism\"</s>\n",
            "\n",
            "=================================\n",
            "\n",
            "<s> [INST]Translate to English: \"Основни принципи: - Биологична\n",
            "детерминизъм\"[/INST]\"Key Principles: - Biological Determinism\"</s>\n",
            "Enter prompt... You are a Translator. Follow the steps. 1. Translate to English: \"Основни принципи: - Биологична детерминизъм\". 2. Translate to Bulgarian.\n"
          ]
        },
        {
          "output_type": "stream",
          "name": "stderr",
          "text": [
            "Setting `pad_token_id` to `eos_token_id`:2 for open-end generation.\n"
          ]
        },
        {
          "name": "stdout",
          "output_type": "stream",
          "text": [
            "[INST]You are a Translator. Follow the steps. 1. Translate to English: \"Основни принципи: - Биологична детерминизъм\". 2. Translate to Bulgarian.[/INST]\n",
            "[INST]You are a Translator. Follow the steps. 1. Translate to English: \"Основни\n",
            "принципи: - Биологична детерминизъм\". 2. Translate to Bulgarian.[/INST]\n",
            "<__main__.Options object at 0x7977da4e8640>\n",
            "<s> [INST]You are a Translator. Follow the steps. 1. Translate to English: \"Основни принципи: - Биологична детерминизъм\". 2. Translate to Bulgarian.[/INST]1. Translate to English: \"Main principles: - Biological determinism\".\n",
            "2. Translate to Bulgarian: \"Основни принципи: - Биологичен детерминизъм\".</s>\n",
            "\n",
            "=================================\n",
            "\n",
            "<s> [INST]You are a Translator. Follow the steps. 1. Translate to English:\n",
            "\"Основни принципи: - Биологична детерминизъм\". 2. Translate to\n",
            "Bulgarian.[/INST]1. Translate to English: \"Main principles: - Biological\n",
            "determinism\". 2. Translate to Bulgarian: \"Основни принципи: - Биологичен\n",
            "детерминизъм\".</s>\n",
            "Enter prompt... You are a Translator. Follow the steps. 1. Translate to English: \"Красивят жена излезе през врататъ и утвори призореца.\" 2. Translate to Bulgarian.\n"
          ]
        },
        {
          "output_type": "stream",
          "name": "stderr",
          "text": [
            "Setting `pad_token_id` to `eos_token_id`:2 for open-end generation.\n"
          ]
        },
        {
          "name": "stdout",
          "output_type": "stream",
          "text": [
            "[INST]You are a Translator. Follow the steps. 1. Translate to English: \"Красивят жена излезе през врататъ и утвори призореца.\" 2. Translate to Bulgarian.[/INST]\n",
            "[INST]You are a Translator. Follow the steps. 1. Translate to English: \"Красивят\n",
            "жена излезе през врататъ и утвори призореца.\" 2. Translate to Bulgarian.[/INST]\n",
            "<__main__.Options object at 0x7977da4e8640>\n",
            "<s> [INST]You are a Translator. Follow the steps. 1. Translate to English: \"Красивят жена излезе през врататъ и утвори призореца.\" 2. Translate to Bulgarian.[/INST]1. Translate to English: \"A beautiful woman exited through the door and opened the window.\"\n",
            "2. Translate to Bulgarian: \"Красивата жена излезе през вратата и отвори прозореца.\"</s>\n",
            "\n",
            "=================================\n",
            "\n",
            "<s> [INST]You are a Translator. Follow the steps. 1. Translate to English:\n",
            "\"Красивят жена излезе през врататъ и утвори призореца.\" 2. Translate to\n",
            "Bulgarian.[/INST]1. Translate to English: \"A beautiful woman exited through the\n",
            "door and opened the window.\" 2. Translate to Bulgarian: \"Красивата жена излезе\n",
            "през вратата и отвори прозореца.\"</s>\n",
            "Enter prompt... Ти си граматик. Поправи текста от грешки: \"You are a Translator. Follow the steps. 1. Translate to English: \"Красивят жена излезе през врататъ и утвори призореца.\"\n"
          ]
        },
        {
          "output_type": "stream",
          "name": "stderr",
          "text": [
            "Setting `pad_token_id` to `eos_token_id`:2 for open-end generation.\n"
          ]
        },
        {
          "name": "stdout",
          "output_type": "stream",
          "text": [
            "[INST]Ти си граматик. Поправи текста от грешки: \"You are a Translator. Follow the steps. 1. Translate to English: \"Красивят жена излезе през врататъ и утвори призореца.\"[/INST]\n",
            "[INST]Ти си граматик. Поправи текста от грешки: \"You are a Translator. Follow\n",
            "the steps. 1. Translate to English: \"Красивят жена излезе през врататъ и утвори\n",
            "призореца.\"[/INST]\n",
            "<__main__.Options object at 0x7977da4e8640>\n",
            "<s> [INST]Ти си граматик. Поправи текста от грешки: \"You are a Translator. Follow the steps. 1. Translate to English: \"Красивят жена излезе през врататъ и утвори призореца.\"[/INST]Вие сте преводач. Следвайте стъпките. 1. Преведете на английски: „Красивата жена излезе през вратата и отвори прозореца.“</s>\n",
            "\n",
            "=================================\n",
            "\n",
            "<s> [INST]Ти си граматик. Поправи текста от грешки: \"You are a Translator.\n",
            "Follow the steps. 1. Translate to English: \"Красивят жена излезе през врататъ и\n",
            "утвори призореца.\"[/INST]Вие сте преводач. Следвайте стъпките. 1. Преведете на\n",
            "английски: „Красивата жена излезе през вратата и отвори прозореца.“</s>\n",
            "Enter prompt... Ти си граматик. Поправи грешки от текста: \"Красивят жена излезе през врататъ и утвори призореца.\"\n"
          ]
        },
        {
          "output_type": "stream",
          "name": "stderr",
          "text": [
            "Setting `pad_token_id` to `eos_token_id`:2 for open-end generation.\n"
          ]
        },
        {
          "name": "stdout",
          "output_type": "stream",
          "text": [
            "[INST]Ти си граматик. Поправи грешки от текста: \"Красивят жена излезе през врататъ и утвори призореца.\"[/INST]\n",
            "[INST]Ти си граматик. Поправи грешки от текста: \"Красивят жена излезе през\n",
            "врататъ и утвори призореца.\"[/INST]\n",
            "<__main__.Options object at 0x7977da4e8640>\n",
            "<s> [INST]Ти си граматик. Поправи грешки от текста: \"Красивят жена излезе през врататъ и утвори призореца.\"[/INST]Красивата жена излезе през вратата и отвори прозореца.</s>\n",
            "\n",
            "=================================\n",
            "\n",
            "<s> [INST]Ти си граматик. Поправи грешки от текста: \"Красивят жена излезе през\n",
            "врататъ и утвори призореца.\"[/INST]Красивата жена излезе през вратата и отвори\n",
            "прозореца.</s>\n",
            "Enter prompt... p\n",
            "temp=0.1,max=1000, top_k=40|top_p=0.9, instruct/autoregression=(True=instruct, False=autoregression)False(i: instruct, a: autoregression); n: new chat; r: repeat last question\n",
            "Enter prompt... n\n",
            "Enter prompt... Поправи грешки от текста: \"Красивят жена излезе през врататъ и утвори призореца.\"\n"
          ]
        },
        {
          "output_type": "stream",
          "name": "stderr",
          "text": [
            "Setting `pad_token_id` to `eos_token_id`:2 for open-end generation.\n"
          ]
        },
        {
          "name": "stdout",
          "output_type": "stream",
          "text": [
            "[INST]Поправи грешки от текста: \"Красивят жена излезе през врататъ и утвори призореца.\"[/INST]\n",
            "[INST]Поправи грешки от текста: \"Красивят жена излезе през врататъ и утвори\n",
            "призореца.\"[/INST]\n",
            "<__main__.Options object at 0x7977da4e8640>\n",
            "<s> [INST]Поправи грешки от текста: \"Красивят жена излезе през врататъ и утвори призореца.\"[/INST]Красивата жена излезе през вратата и отвори прозореца.</s>\n",
            "\n",
            "=================================\n",
            "\n",
            "<s> [INST]Поправи грешки от текста: \"Красивят жена излезе през врататъ и утвори\n",
            "призореца.\"[/INST]Красивата жена излезе през вратата и отвори прозореца.</s>\n",
            "Enter prompt... оправи грешки от текста: \"Биологична детерминизъм\"\n"
          ]
        },
        {
          "output_type": "stream",
          "name": "stderr",
          "text": [
            "Setting `pad_token_id` to `eos_token_id`:2 for open-end generation.\n"
          ]
        },
        {
          "name": "stdout",
          "output_type": "stream",
          "text": [
            "[INST]оправи грешки от текста: \"Биологична детерминизъм\"[/INST]\n",
            "[INST]оправи грешки от текста: \"Биологична детерминизъм\"[/INST]\n",
            "<__main__.Options object at 0x7977da4e8640>\n",
            "<s> [INST]оправи грешки от текста: \"Биологична детерминизъм\"[/INST]Биологичният детерминизъм е философска концепция, която твърди, че всички човешки действия, решения и поведение могат да бъдат обяснени с биологични фактори, като генетика, неврология и еволюция. Според тази гледна точка, нашите вродени инстинкти, физически черти и еволюционни адаптации играят значителна роля при оформянето на нашите мисли, емоции и поведение.\n",
            "\n",
            "Критиците на биологичния детерминизъм твърдят, че докато биологичните фактори несъмнено оказват влияние върху нашето поведение, те не са единствените определящи фактори. Те твърдят, че социалните, културните и психологическите фактори също играят важна роля при оформянето на нашите действия и решения. Освен това те твърдят, че приемането на биологичния детерминизъм може да доведе до оправдаване на вредното поведение или да се използва като извинение за неравенството и дискриминацията.\n",
            "\n",
            "В обобщение, биологичният детерминизъм е философска концепция, която твърди, че всички човешки действия и поведение могат да бъдат обяснени с биологични фактори. Въпреки че има своите поддръжници, той също е изправен пред значителни критики от онези, които твърдят, че социалните, културните и психологическите фактори също играят важна роля при оформянето на нашите действия и решения.</s>\n",
            "\n",
            "=================================\n",
            "\n",
            "<s> [INST]оправи грешки от текста: \"Биологична детерминизъм\"[/INST]Биологичният\n",
            "детерминизъм е философска концепция, която твърди, че всички човешки действия,\n",
            "решения и поведение могат да бъдат обяснени с биологични фактори, като генетика,\n",
            "неврология и еволюция. Според тази гледна точка, нашите вродени инстинкти,\n",
            "физически черти и еволюционни адаптации играят значителна роля при оформянето на\n",
            "нашите мисли, емоции и поведение.  Критиците на биологичния детерминизъм\n",
            "твърдят, че докато биологичните фактори несъмнено оказват влияние върху нашето\n",
            "поведение, те не са единствените определящи фактори. Те твърдят, че социалните,\n",
            "културните и психологическите фактори също играят важна роля при оформянето на\n",
            "нашите действия и решения. Освен това те твърдят, че приемането на биологичния\n",
            "детерминизъм може да доведе до оправдаване на вредното поведение или да се\n",
            "използва като извинение за неравенството и дискриминацията.  В обобщение,\n",
            "биологичният детерминизъм е философска концепция, която твърди, че всички\n",
            "човешки действия и поведение могат да бъдат обяснени с биологични фактори.\n",
            "Въпреки че има своите поддръжници, той също е изправен пред значителни критики\n",
            "от онези, които твърдят, че социалните, културните и психологическите фактори\n",
            "също играят важна роля при оформянето на нашите действия и решения.</s>\n",
            "Enter prompt... Correct mistakes in the text: \"Биологична детерминизъм\"\n"
          ]
        },
        {
          "output_type": "stream",
          "name": "stderr",
          "text": [
            "Setting `pad_token_id` to `eos_token_id`:2 for open-end generation.\n"
          ]
        },
        {
          "name": "stdout",
          "output_type": "stream",
          "text": [
            "[INST]Correct mistakes in the text: \"Биологична детерминизъм\"[/INST]\n",
            "[INST]Correct mistakes in the text: \"Биологична детерминизъм\"[/INST]\n",
            "<__main__.Options object at 0x7977da4e8640>\n",
            "<s> [INST]Correct mistakes in the text: \"Биологична детерминизъм\"[/INST]\"Биологична детерминизъм\"</s>\n",
            "\n",
            "=================================\n",
            "\n",
            "<s> [INST]Correct mistakes in the text: \"Биологична\n",
            "детерминизъм\"[/INST]\"Биологична детерминизъм\"</s>\n",
            "Enter prompt... You are a translator, grammar master. Correct mistakes in the text: \"Биологична детерминизъм\"\n"
          ]
        },
        {
          "output_type": "stream",
          "name": "stderr",
          "text": [
            "Setting `pad_token_id` to `eos_token_id`:2 for open-end generation.\n"
          ]
        },
        {
          "name": "stdout",
          "output_type": "stream",
          "text": [
            "[INST]You are a translator, grammar master. Correct mistakes in the text: \"Биологична детерминизъм\"[/INST]\n",
            "[INST]You are a translator, grammar master. Correct mistakes in the text:\n",
            "\"Биологична детерминизъм\"[/INST]\n",
            "<__main__.Options object at 0x7977da4e8640>\n",
            "<s> [INST]You are a translator, grammar master. Correct mistakes in the text: \"Биологична детерминизъм\"[/INST]\"Биологична детерминизъм\"</s>\n",
            "\n",
            "=================================\n",
            "\n",
            "<s> [INST]You are a translator, grammar master. Correct mistakes in the text:\n",
            "\"Биологична детерминизъм\"[/INST]\"Биологична детерминизъм\"</s>\n",
            "Enter prompt... You are a Translator. Follow the steps. 1. Translate to English: \"Красивят жена излезе през врататъ и утвори призореца.\" 2. Translate to Bulgarian.\n"
          ]
        },
        {
          "output_type": "stream",
          "name": "stderr",
          "text": [
            "Setting `pad_token_id` to `eos_token_id`:2 for open-end generation.\n"
          ]
        },
        {
          "name": "stdout",
          "output_type": "stream",
          "text": [
            "[INST]You are a Translator. Follow the steps. 1. Translate to English: \"Красивят жена излезе през врататъ и утвори призореца.\" 2. Translate to Bulgarian.[/INST]\n",
            "[INST]You are a Translator. Follow the steps. 1. Translate to English: \"Красивят\n",
            "жена излезе през врататъ и утвори призореца.\" 2. Translate to Bulgarian.[/INST]\n",
            "<__main__.Options object at 0x7977da4e8640>\n",
            "<s> [INST]You are a Translator. Follow the steps. 1. Translate to English: \"Красивят жена излезе през врататъ и утвори призореца.\" 2. Translate to Bulgarian.[/INST]1. Translate to English: \"A beautiful woman exited through the door and opened the window.\"\n",
            "2. Translate to Bulgarian: \"Красивата жена излезе през вратата и отвори прозореца.\"</s>\n",
            "\n",
            "=================================\n",
            "\n",
            "<s> [INST]You are a Translator. Follow the steps. 1. Translate to English:\n",
            "\"Красивят жена излезе през врататъ и утвори призореца.\" 2. Translate to\n",
            "Bulgarian.[/INST]1. Translate to English: \"A beautiful woman exited through the\n",
            "door and opened the window.\" 2. Translate to Bulgarian: \"Красивата жена излезе\n",
            "през вратата и отвори прозореца.\"</s>\n",
            "Enter prompt... You are a Translator. Follow the steps. 1. Translate to English: \"Биологичната детерминизъм.\" 2. Translate to Bulgarian.\n"
          ]
        },
        {
          "output_type": "stream",
          "name": "stderr",
          "text": [
            "Setting `pad_token_id` to `eos_token_id`:2 for open-end generation.\n"
          ]
        },
        {
          "name": "stdout",
          "output_type": "stream",
          "text": [
            "[INST]You are a Translator. Follow the steps. 1. Translate to English: \"Биологичната детерминизъм.\" 2. Translate to Bulgarian.[/INST]\n",
            "[INST]You are a Translator. Follow the steps. 1. Translate to English:\n",
            "\"Биологичната детерминизъм.\" 2. Translate to Bulgarian.[/INST]\n",
            "<__main__.Options object at 0x7977da4e8640>\n",
            "<s> [INST]You are a Translator. Follow the steps. 1. Translate to English: \"Биологичната детерминизъм.\" 2. Translate to Bulgarian.[/INST]1. Translate to English: \"Biological determinism.\"\n",
            "2. Translate to Bulgarian: \"Биологичен детерминизъм.\"</s>\n",
            "\n",
            "=================================\n",
            "\n",
            "<s> [INST]You are a Translator. Follow the steps. 1. Translate to English:\n",
            "\"Биологичната детерминизъм.\" 2. Translate to Bulgarian.[/INST]1. Translate to\n",
            "English: \"Biological determinism.\" 2. Translate to Bulgarian: \"Биологичен\n",
            "детерминизъм.\"</s>\n",
            "Enter prompt... You are a Translator. Follow the steps. 1. Translate to English: \"Биологичното детерминизъм.\" 2. Translate to Bulgarian.\n"
          ]
        },
        {
          "output_type": "stream",
          "name": "stderr",
          "text": [
            "Setting `pad_token_id` to `eos_token_id`:2 for open-end generation.\n"
          ]
        },
        {
          "name": "stdout",
          "output_type": "stream",
          "text": [
            "[INST]You are a Translator. Follow the steps. 1. Translate to English: \"Биологичното детерминизъм.\" 2. Translate to Bulgarian.[/INST]\n",
            "[INST]You are a Translator. Follow the steps. 1. Translate to English:\n",
            "\"Биологичното детерминизъм.\" 2. Translate to Bulgarian.[/INST]\n",
            "<__main__.Options object at 0x7977da4e8640>\n",
            "<s> [INST]You are a Translator. Follow the steps. 1. Translate to English: \"Биологичното детерминизъм.\" 2. Translate to Bulgarian.[/INST]1. Translate to English: \"Biological determinism.\"\n",
            "2. Translate to Bulgarian: \"Биологичен детерминизъм.\"</s>\n",
            "\n",
            "=================================\n",
            "\n",
            "<s> [INST]You are a Translator. Follow the steps. 1. Translate to English:\n",
            "\"Биологичното детерминизъм.\" 2. Translate to Bulgarian.[/INST]1. Translate to\n",
            "English: \"Biological determinism.\" 2. Translate to Bulgarian: \"Биологичен\n",
            "детерминизъм.\"</s>\n",
            "Enter prompt... You are a translator. What is correct in Bulgarian? 1. Биологичното детерминизъм. 2. Биологичната детерминизъм 3. Биологичният детерминизъм. 4. Бягагъзичният дететеризъм?\n"
          ]
        },
        {
          "output_type": "stream",
          "name": "stderr",
          "text": [
            "Setting `pad_token_id` to `eos_token_id`:2 for open-end generation.\n"
          ]
        },
        {
          "name": "stdout",
          "output_type": "stream",
          "text": [
            "[INST]You are a translator. What is correct in Bulgarian? 1. Биологичното детерминизъм. 2. Биологичната детерминизъм 3. Биологичният детерминизъм. 4. Бягагъзичният дететеризъм?[/INST]\n",
            "[INST]You are a translator. What is correct in Bulgarian? 1. Биологичното\n",
            "детерминизъм. 2. Биологичната детерминизъм 3. Биологичният детерминизъм. 4.\n",
            "Бягагъзичният дететеризъм?[/INST]\n",
            "<__main__.Options object at 0x7977da4e8640>\n",
            "<s> [INST]You are a translator. What is correct in Bulgarian? 1. Биологичното детерминизъм. 2. Биологичната детерминизъм 3. Биологичният детерминизъм. 4. Бягагъзичният дететеризъм?[/INST]1. Биологичното детерминизъм.\n",
            "2. Биологичната детерминизъм.\n",
            "3. Биологичният детерминизъм.\n",
            "\n",
            "Тези три варианта са правилни, но най-често използваният е:\n",
            "\n",
            "1. Биологичното детерминизъм.</s>\n",
            "\n",
            "=================================\n",
            "\n",
            "<s> [INST]You are a translator. What is correct in Bulgarian? 1. Биологичното\n",
            "детерминизъм. 2. Биологичната детерминизъм 3. Биологичният детерминизъм. 4.\n",
            "Бягагъзичният дететеризъм?[/INST]1. Биологичното детерминизъм. 2. Биологичната\n",
            "детерминизъм. 3. Биологичният детерминизъм.  Тези три варианта са правилни, но\n",
            "най-често използваният е:  1. Биологичното детерминизъм.</s>\n",
            "Enter prompt... Какво е род в българския език. Изброй формите на \"биологичен\" в различни родове.\n"
          ]
        },
        {
          "output_type": "stream",
          "name": "stderr",
          "text": [
            "Setting `pad_token_id` to `eos_token_id`:2 for open-end generation.\n"
          ]
        },
        {
          "name": "stdout",
          "output_type": "stream",
          "text": [
            "[INST]Какво е род в българския език. Изброй формите на \"биологичен\" в различни родове.[/INST]\n",
            "[INST]Какво е род в българския език. Изброй формите на \"биологичен\" в различни\n",
            "родове.[/INST]\n",
            "<__main__.Options object at 0x7977da4e8640>\n",
            "<s> [INST]Какво е род в българския език. Изброй формите на \"биологичен\" в различни родове.[/INST]В българския език родът е граматическа категория, която показва връзката на съществителното име с други части на изречението, като прилагателни, местоимения и съществителни. Има три рода в българския език: мъжки, женски и среден.\n",
            "\n",
            "1. Мъжки род:\n",
            "- Форми за единствено число: крак, кон, стол, град, син, баща, учител, лекар, мъж, момче, куче, котка, слон, самолет, кораб, град, езеро, море, огън, слънце, луна, звезда, човек, човек, град, град, град, град, град, град, град, град, град, град, град, град, град, град, град, град, град, град, град, град, град, град, град, град, град, град, град, град, град, град, град, град, град, град, град, град, град, град, град, град, град, град, град, град, град, град, град, град, град, град, град, град, град, град, град, град, град, град, град, град, град, град, град, град, град, град, град, град, град, град, град, град, град, град, град, град, град, град, град, град, град, град, град, град, град, град, град, град, град, град, град, град, град, град, град, град, град, град, град, град, град, град, град, град, град, град, град, град, град, град, град, град, град, град, град, град, град, град, град, град, град, град, град, град, град, град, град, град, град, град, град, град, град, град, град, град, град, град, град, град, град, град, град, град, град, град, град, град, град, град, град, град, град, град, град, град, град, град, град, град, град, град, град, град, град, град, град, град, град, град, град, град, град, град, град, град, град, град, град, град, град, град, град, град, град, град, град, град, град, град, град, град, град, град, град, град, град, град, град, град, град, град, град, град, град, град, град, град, град, град, град, град, град, град, град, град, град, град, град, град, град, град, град, град, град, град, град, град, град, град, град, град, град, град, град, град, град, град, град, град, град, град, град, град, град, град, град, град, град, град, град, град, град, град, град, град, град, град, град, град, град, град, град, град, град, град, град, град, град, град, град, град, град, град, град, град, град, град, град, град, град, град, град, град, град, град, град, град, град, град, град, град, град, град, град, град, град, град, град, град, град, град, град, град, град, град, град, град, град, град, град, град, град, град, град, град, град, град, град, град, град, град, град, град, град, град, град, град, град, град, град, град, град, град, град, град, град, град, град, град, град, град, град, град, град, град, град, град, град, град, град, град, град, град, град, град, град, град, град, град, град, град, град, град, град, град, град, град, град, град, град, град, град, град, град, град, град, град, град, град, град, град, град, град, град, град, град, град, град, град, град, град, град, град, град, град, град, град, град, град, град, град, град, град, град, град, град, град, град, град, град, град, град, град, град, град, град, град, град, град, град, град, град, град, град, град, град, град, град, град, град, град, град, град, град\n",
            "\n",
            "=================================\n",
            "\n",
            "<s> [INST]Какво е род в българския език. Изброй формите на \"биологичен\" в\n",
            "различни родове.[/INST]В българския език родът е граматическа категория, която\n",
            "показва връзката на съществителното име с други части на изречението, като\n",
            "прилагателни, местоимения и съществителни. Има три рода в българския език:\n",
            "мъжки, женски и среден.  1. Мъжки род: - Форми за единствено число: крак, кон,\n",
            "стол, град, син, баща, учител, лекар, мъж, момче, куче, котка, слон, самолет,\n",
            "кораб, град, езеро, море, огън, слънце, луна, звезда, човек, човек, град, град,\n",
            "град, град, град, град, град, град, град, град, град, град, град, град, град,\n",
            "град, град, град, град, град, град, град, град, град, град, град, град, град,\n",
            "град, град, град, град, град, град, град, град, град, град, град, град, град,\n",
            "град, град, град, град, град, град, град, град, град, град, град, град, град,\n",
            "град, град, град, град, град, град, град, град, град, град, град, град, град,\n",
            "град, град, град, град, град, град, град, град, град, град, град, град, град,\n",
            "град, град, град, град, град, град, град, град, град, град, град, град, град,\n",
            "град, град, град, град, град, град, град, град, град, град, град, град, град,\n",
            "град, град, град, град, град, град, град, град, град, град, град, град, град,\n",
            "град, град, град, град, град, град, град, град, град, град, град, град, град,\n",
            "град, град, град, град, град, град, град, град, град, град, град, град, град,\n",
            "град, град, град, град, град, град, град, град, град, град, град, град, град,\n",
            "град, град, град, град, град, град, град, град, град, град, град, град, град,\n",
            "град, град, град, град, град, град, град, град, град, град, град, град, град,\n",
            "град, град, град, град, град, град, град, град, град, град, град, град, град,\n",
            "град, град, град, град, град, град, град, град, град, град, град, град, град,\n",
            "град, град, град, град, град, град, град, град, град, град, град, град, град,\n",
            "град, град, град, град, град, град, град, град, град, град, град, град, град,\n",
            "град, град, град, град, град, град, град, град, град, град, град, град, град,\n",
            "град, град, град, град, град, град, град, град, град, град, град, град, град,\n",
            "град, град, град, град, град, град, град, град, град, град, град, град, град,\n",
            "град, град, град, град, град, град, град, град, град, град, град, град, град,\n",
            "град, град, град, град, град, град, град, град, град, град, град, град, град,\n",
            "град, град, град, град, град, град, град, град, град, град, град, град, град,\n",
            "град, град, град, град, град, град, град, град, град, град, град, град, град,\n",
            "град, град, град, град, град, град, град, град, град, град, град, град, град,\n",
            "град, град, град, град, град, град, град, град, град, град, град, град, град,\n",
            "град, град, град, град, град, град, град, град, град, град, град, град, град,\n",
            "град, град, град, град, град, град, град, град, град, град, град, град, град,\n",
            "град, град, град, град, град, град, град, град, град, град, град, град, град,\n",
            "град, град, град, град, град, град, град, град, град, град, град, град, град,\n",
            "град, град, град, град, град, град, град, град, град, град, град, град, град,\n",
            "град, град, град, град, град, град, град, град, град, град, град, град, град,\n",
            "град, град, град, град\n",
            "Enter prompt... p\n",
            "temp=0.1,max=1000, top_k=40|top_p=0.9, instruct/autoregression=(True=instruct, False=autoregression)False(i: instruct, a: autoregression); n: new chat; r: repeat last question\n",
            "Enter prompt... m\n",
            "max_tokens=?...200\n",
            "Enter prompt... top_p\n",
            "top_k=... 0.1\n",
            "Enter prompt... r\n",
            "max_tokens=?...200\n",
            "Enter prompt... t\n",
            "temperature=... 0.9\n",
            "0.9\n",
            "Enter prompt... Какво е род в българския език. Изброй формите на \"биологичен\" в различни родове.\n"
          ]
        },
        {
          "output_type": "stream",
          "name": "stderr",
          "text": [
            "Setting `pad_token_id` to `eos_token_id`:2 for open-end generation.\n"
          ]
        },
        {
          "name": "stdout",
          "output_type": "stream",
          "text": [
            "[INST]Какво е род в българския език. Изброй формите на \"биологичен\" в различни родове.[/INST]\n",
            "[INST]Какво е род в българския език. Изброй формите на \"биологичен\" в различни\n",
            "родове.[/INST]\n",
            "<__main__.Options object at 0x7977da4e8640>\n",
            "<s> [INST]Какво е род в българския език. Изброй формите на \"биологичен\" в различни родове.[/INST]В българския език родът е граматическа категория, която показва връзката на съществителното име с други части на изречението, като прилагателни, местоимения и съществителни. Има три рода в българския език: мъжки, женски и среден.\n",
            "\n",
            "1. Мъжки род:\n",
            "- Формата за единствено число завършва на съгласна.\n",
            "- Формата за множествено число завършва на \"ове\" или \"ов\".\n",
            "\n",
            "Пример:\n",
            "- Книга (ед.ч.) - книги (мн.ч.)\n",
            "- Кола (ед.ч.) - коли (мн.ч.)\n",
            "\n",
            "2. Женски род:\n",
            "- Формата за единствено число завършва на съгласна, последвана от \"а\" или \"я\".\n",
            "- Формата за множествено число завършва на \"и\".\n",
            "\n",
            "Пример:\n",
            "- Котка (ед.ч.) - ко\n",
            "\n",
            "=================================\n",
            "\n",
            "<s> [INST]Какво е род в българския език. Изброй формите на \"биологичен\" в\n",
            "различни родове.[/INST]В българския език родът е граматическа категория, която\n",
            "показва връзката на съществителното име с други части на изречението, като\n",
            "прилагателни, местоимения и съществителни. Има три рода в българския език:\n",
            "мъжки, женски и среден.  1. Мъжки род: - Формата за единствено число завършва на\n",
            "съгласна. - Формата за множествено число завършва на \"ове\" или \"ов\".  Пример: -\n",
            "Книга (ед.ч.) - книги (мн.ч.) - Кола (ед.ч.) - коли (мн.ч.)  2. Женски род: -\n",
            "Формата за единствено число завършва на съгласна, последвана от \"а\" или \"я\". -\n",
            "Формата за множествено число завършва на \"и\".  Пример: - Котка (ед.ч.) - ко\n",
            "Enter prompt... Граматика. Поправи \"биологичната детерминизъм\"\n"
          ]
        },
        {
          "output_type": "stream",
          "name": "stderr",
          "text": [
            "Setting `pad_token_id` to `eos_token_id`:2 for open-end generation.\n"
          ]
        },
        {
          "name": "stdout",
          "output_type": "stream",
          "text": [
            "[INST]Граматика. Поправи \"биологичната детерминизъм\"[/INST]\n",
            "[INST]Граматика. Поправи \"биологичната детерминизъм\"[/INST]\n",
            "<__main__.Options object at 0x7977da4e8640>\n",
            "<s> [INST]Граматика. Поправи \"биологичната детерминизъм\"[/INST]Биологичната детерминизъм е философска позиция, която твърди, че всички човешки действия и поведение могат да бъдат обяснени с биологични фактори, като генетика, неврология и еволюция.</s>\n",
            "\n",
            "=================================\n",
            "\n",
            "<s> [INST]Граматика. Поправи \"биологичната детерминизъм\"[/INST]Биологичната\n",
            "детерминизъм е философска позиция, която твърди, че всички човешки действия и\n",
            "поведение могат да бъдат обяснени с биологични фактори, като генетика,\n",
            "неврология и еволюция.</s>\n",
            "Enter prompt... t\n",
            "temperature=... 1\n",
            "1.0\n",
            "Enter prompt... top_k\n",
            "top_k=... 40\n",
            "Enter prompt... top_p\n",
            "top_k=... 0.5\n",
            "Enter prompt... Граматика. Поправи \"биологичната детерминизъм\"\n"
          ]
        },
        {
          "output_type": "stream",
          "name": "stderr",
          "text": [
            "Setting `pad_token_id` to `eos_token_id`:2 for open-end generation.\n"
          ]
        },
        {
          "name": "stdout",
          "output_type": "stream",
          "text": [
            "[INST]Граматика. Поправи \"биологичната детерминизъм\"[/INST]\n",
            "[INST]Граматика. Поправи \"биологичната детерминизъм\"[/INST]\n",
            "<__main__.Options object at 0x7977da4e8640>\n",
            "<s> [INST]Граматика. Поправи \"биологичната детерминизъм\"[/INST]Биологичната детерминизъм е философска концепция, която твърди, че всички аспекти на човешкото поведение и личност могат да бъдат обяснени с биологични фактори, като генетика, неврология и еволюция. Тази гледна точка предполага, че социалните, културните и психологическите фактори играят второстепенна роля при оформянето на индивидите. Биологичната детерминизъм е противоречива теория, тъй като повдига въпроси относно свободната воля, моралната отговорност и въздействието на външните фактори върху човешкото поведение.</s>\n",
            "\n",
            "=================================\n",
            "\n",
            "<s> [INST]Граматика. Поправи \"биологичната детерминизъм\"[/INST]Биологичната\n",
            "детерминизъм е философска концепция, която твърди, че всички аспекти на\n",
            "човешкото поведение и личност могат да бъдат обяснени с биологични фактори, като\n",
            "генетика, неврология и еволюция. Тази гледна точка предполага, че социалните,\n",
            "културните и психологическите фактори играят второстепенна роля при оформянето\n",
            "на индивидите. Биологичната детерминизъм е противоречива теория, тъй като\n",
            "повдига въпроси относно свободната воля, моралната отговорност и въздействието\n",
            "на външните фактори върху човешкото поведение.</s>\n",
            "Enter prompt... t\n",
            "temperature=... 10\n",
            "10.0\n",
            "Enter prompt... Граматика. Поправи \"биологичната детерминизъм\"\n"
          ]
        },
        {
          "output_type": "stream",
          "name": "stderr",
          "text": [
            "Setting `pad_token_id` to `eos_token_id`:2 for open-end generation.\n"
          ]
        },
        {
          "name": "stdout",
          "output_type": "stream",
          "text": [
            "[INST]Граматика. Поправи \"биологичната детерминизъм\"[/INST]\n",
            "[INST]Граматика. Поправи \"биологичната детерминизъм\"[/INST]\n",
            "<__main__.Options object at 0x7977da4e8640>\n",
            "<s> [INST]Граматика. Поправи \"биологичната детерминизъм\"[/INST]Замяна биологичны. Грядни дерматнистични</s>\n",
            "\n",
            "=================================\n",
            "\n",
            "<s> [INST]Граматика. Поправи \"биологичната детерминизъм\"[/INST]Замяна\n",
            "биологичны. Грядни дерматнистични</s>\n",
            "Enter prompt... Граматика. \"биологичната детерминизъм\"\n"
          ]
        },
        {
          "output_type": "stream",
          "name": "stderr",
          "text": [
            "Setting `pad_token_id` to `eos_token_id`:2 for open-end generation.\n"
          ]
        },
        {
          "name": "stdout",
          "output_type": "stream",
          "text": [
            "[INST]Граматика. \"биологичната детерминизъм\"[/INST]\n",
            "[INST]Граматика. \"биологичната детерминизъм\"[/INST]\n",
            "<__main__.Options object at 0x7977da4e8640>\n",
            "<s> [INST]Граматика. \"биологичната детерминизъм\"[/INST]Термини с гръцкий/ладинского коренованья обличаться словно, не имеят собствениковыми значеи или окончательным значо- мер (именно затова \"deтерmi.\" звучи странный или неносен на английски език в повечето обстояния; трябва, просто не имеете дума, которая може би, но, вероятно или частичного смиссла.</s>\n",
            "\n",
            "=================================\n",
            "\n",
            "<s> [INST]Граматика. \"биологичната детерминизъм\"[/INST]Термини с\n",
            "гръцкий/ладинского коренованья обличаться словно, не имеят собствениковыми\n",
            "значеи или окончательным значо- мер (именно затова \"deтерmi.\" звучи странный или\n",
            "неносен на английски език в повечето обстояния; трябва, просто не имеете дума,\n",
            "которая може би, но, вероятно или частичного смиссла.</s>\n",
            "Enter prompt... t\n",
            "temperature=... 10\n",
            "10.0\n",
            "Enter prompt... Говори по русски, пожолуйста! Как дела?\n"
          ]
        },
        {
          "output_type": "stream",
          "name": "stderr",
          "text": [
            "Setting `pad_token_id` to `eos_token_id`:2 for open-end generation.\n"
          ]
        },
        {
          "name": "stdout",
          "output_type": "stream",
          "text": [
            "[INST]Говори по русски, пожолуйста! Как дела?[/INST]\n",
            "[INST]Говори по русски, пожолуйста! Как дела?[/INST]\n",
            "<__main__.Options object at 0x7977da4e8640>\n",
            "<s> [INST]Говори по русски, пожолуйста! Как дела?[/INST]Зчащу все не отговаряя. Я думать, прост. На самоход не работа, что уменний машинами, които можным испитан как новуыеме продукты. Прошу засрат, наладите сего задания или предостаните более конкретицированными информация! Все доброжелательной!</s>\n",
            "\n",
            "=================================\n",
            "\n",
            "<s> [INST]Говори по русски, пожолуйста! Как дела?[/INST]Зчащу все не отговаряя.\n",
            "Я думать, прост. На самоход не работа, что уменний машинами, които можным\n",
            "испитан как новуыеме продукты. Прошу засрат, наладите сего задания или\n",
            "предостаните более конкретицированными информация! Все доброжелательной!</s>\n",
            "Enter prompt... t\n",
            "temperature=... 0.5\n",
            "0.5\n",
            "Enter prompt... Говори по русски, пожолуйста! Как дела?\\\n"
          ]
        },
        {
          "output_type": "stream",
          "name": "stderr",
          "text": [
            "Setting `pad_token_id` to `eos_token_id`:2 for open-end generation.\n"
          ]
        },
        {
          "name": "stdout",
          "output_type": "stream",
          "text": [
            "[INST]Говори по русски, пожолуйста! Как дела?\\[/INST]\n",
            "[INST]Говори по русски, пожолуйста! Как дела?\\[/INST]\n",
            "<__main__.Options object at 0x7977da4e8640>\n",
            "<s> [INST]Говори по русски, пожолуйста! Как дела?\\[/INST]Поздрави, как можно помочь вам днес?</s>\n",
            "\n",
            "=================================\n",
            "\n",
            "<s> [INST]Говори по русски, пожолуйста! Как дела?\\[/INST]Поздрави, как можно\n",
            "помочь вам днес?</s>\n",
            "Enter prompt... Я хочу узнат твое име? (хаха)\n"
          ]
        },
        {
          "output_type": "stream",
          "name": "stderr",
          "text": [
            "Setting `pad_token_id` to `eos_token_id`:2 for open-end generation.\n"
          ]
        },
        {
          "name": "stdout",
          "output_type": "stream",
          "text": [
            "[INST]Я хочу узнат твое име? (хаха)[/INST]\n",
            "[INST]Я хочу узнат твое име? (хаха)[/INST]\n",
            "<__main__.Options object at 0x7977da4e8640>\n",
            "<s> [INST]Я хочу узнат твое име? (хаха)[/INST]Здравейте! Аз съм AI-асистент, създаден да отговарям на въпроси и да помагам с информация. Мога да говоря няколко езика, включително руски. Ако имате някакви въпроси или се нуждаете от помощ, не се колебайте да попитате.</s>\n",
            "\n",
            "=================================\n",
            "\n",
            "<s> [INST]Я хочу узнат твое име? (хаха)[/INST]Здравейте! Аз съм AI-асистент,\n",
            "създаден да отговарям на въпроси и да помагам с информация. Мога да говоря\n",
            "няколко езика, включително руски. Ако имате някакви въпроси или се нуждаете от\n",
            "помощ, не се колебайте да попитате.</s>\n",
            "Enter prompt... Переводи по русски от болгарский: \"биологичната детерминизъм\"\n"
          ]
        },
        {
          "output_type": "stream",
          "name": "stderr",
          "text": [
            "Setting `pad_token_id` to `eos_token_id`:2 for open-end generation.\n"
          ]
        },
        {
          "name": "stdout",
          "output_type": "stream",
          "text": [
            "[INST]Переводи по русски от болгарский: \"биологичната детерминизъм\"[/INST]\n",
            "[INST]Переводи по русски от болгарский: \"биологичната детерминизъм\"[/INST]\n",
            "<__main__.Options object at 0x7977da4e8640>\n",
            "<s> [INST]Переводи по русски от болгарский: \"биологичната детерминизъм\"[/INST]\"Биологическая детерминация\" - это термин, который относится к идее, что все характеристики и свойства живых организмов, такие как поведение, умственные способности и физические особенности, определяются и управляются их биологическими генами и наследственностью. В этом подходе к жизни и развитию людей и животных, основная причинно-следственная связь лежит в генетических факторах и эволюционных механизмах.\n",
            "\n",
            "Выражение \"биологическая детерминация\" часто ассоциируется с \"биологическим детерминизмом\" или \"натурфилософией\", которые являются философскими концепциями, которые подчеркивают важность биологических факторов в оформлени\n",
            "\n",
            "=================================\n",
            "\n",
            "<s> [INST]Переводи по русски от болгарский: \"биологичната\n",
            "детерминизъм\"[/INST]\"Биологическая детерминация\" - это термин, который относится\n",
            "к идее, что все характеристики и свойства живых организмов, такие как поведение,\n",
            "умственные способности и физические особенности, определяются и управляются их\n",
            "биологическими генами и наследственностью. В этом подходе к жизни и развитию\n",
            "людей и животных, основная причинно-следственная связь лежит в генетических\n",
            "факторах и эволюционных механизмах.  Выражение \"биологическая детерминация\"\n",
            "часто ассоциируется с \"биологическим детерминизмом\" или \"натурфилософией\",\n",
            "которые являются философскими концепциями, которые подчеркивают важность\n",
            "биологических факторов в оформлени\n",
            "Enter prompt... Parlez-tu francais? \n"
          ]
        },
        {
          "output_type": "stream",
          "name": "stderr",
          "text": [
            "Setting `pad_token_id` to `eos_token_id`:2 for open-end generation.\n"
          ]
        },
        {
          "name": "stdout",
          "output_type": "stream",
          "text": [
            "[INST]Parlez-tu francais? [/INST]\n",
            "[INST]Parlez-tu francais? [/INST]\n",
            "<__main__.Options object at 0x7977da4e8640>\n",
            "<s> [INST]Parlez-tu francais? [/INST]Oui, je parle français. Comment puis-je vous aider aujourd'hui?</s>\n",
            "\n",
            "=================================\n",
            "\n",
            "<s> [INST]Parlez-tu francais? [/INST]Oui, je parle français. Comment puis-je\n",
            "vous aider aujourd'hui?</s>\n",
            "Enter prompt... C'est tres bien! Je suis bulgare, common ca va?\n"
          ]
        },
        {
          "output_type": "stream",
          "name": "stderr",
          "text": [
            "Setting `pad_token_id` to `eos_token_id`:2 for open-end generation.\n"
          ]
        },
        {
          "name": "stdout",
          "output_type": "stream",
          "text": [
            "[INST]C'est tres bien! Je suis bulgare, common ca va?[/INST]\n",
            "[INST]C'est tres bien! Je suis bulgare, common ca va?[/INST]\n",
            "<__main__.Options object at 0x7977da4e8640>\n",
            "<s> [INST]C'est tres bien! Je suis bulgare, common ca va?[/INST]C'est super! Je suis français, comment ça va ?</s>\n",
            "\n",
            "=================================\n",
            "\n",
            "<s> [INST]C'est tres bien! Je suis bulgare, common ca va?[/INST]C'est super! Je\n",
            "suis français, comment ça va ?</s>\n",
            "Enter prompt... Bon. De quel ville est tu?\n"
          ]
        },
        {
          "output_type": "stream",
          "name": "stderr",
          "text": [
            "Setting `pad_token_id` to `eos_token_id`:2 for open-end generation.\n"
          ]
        },
        {
          "name": "stdout",
          "output_type": "stream",
          "text": [
            "[INST]Bon. De quel ville est tu?[/INST]\n",
            "[INST]Bon. De quel ville est tu?[/INST]\n",
            "<__main__.Options object at 0x7977da4e8640>\n",
            "<s> [INST]Bon. De quel ville est tu?[/INST]Je suis de la ville de Paris.</s>\n",
            "\n",
            "=================================\n",
            "\n",
            "<s> [INST]Bon. De quel ville est tu?[/INST]Je suis de la ville de Paris.</s>\n",
            "Enter prompt... Quel ville est-ce que tu habite?\n"
          ]
        },
        {
          "output_type": "stream",
          "name": "stderr",
          "text": [
            "Setting `pad_token_id` to `eos_token_id`:2 for open-end generation.\n"
          ]
        },
        {
          "name": "stdout",
          "output_type": "stream",
          "text": [
            "[INST]Quel ville est-ce que tu habite?[/INST]\n",
            "[INST]Quel ville est-ce que tu habite?[/INST]\n",
            "<__main__.Options object at 0x7977da4e8640>\n",
            "<s> [INST]Quel ville est-ce que tu habite?[/INST]Je ne suis pas un être humain et n'ai pas de domicile sur Terre. Je suis un assistant virtuel, disponible pour vous aider 24/7. Comment puis-je vous aider aujourd'hui ?</s>\n",
            "\n",
            "=================================\n",
            "\n",
            "<s> [INST]Quel ville est-ce que tu habite?[/INST]Je ne suis pas un être humain\n",
            "et n'ai pas de domicile sur Terre. Je suis un assistant virtuel, disponible pour\n",
            "vous aider 24/7. Comment puis-je vous aider aujourd'hui ?</s>\n",
            "Enter prompt... J'ai obuliee le francais, ce que j'ai savee... Peus-tu m'aider de se reconnaitre avec un lesson?\n"
          ]
        },
        {
          "output_type": "stream",
          "name": "stderr",
          "text": [
            "Setting `pad_token_id` to `eos_token_id`:2 for open-end generation.\n"
          ]
        },
        {
          "name": "stdout",
          "output_type": "stream",
          "text": [
            "[INST]J'ai obuliee le francais, ce que j'ai savee... Peus-tu m'aider de se reconnaitre avec un lesson?[/INST]\n",
            "[INST]J'ai obuliee le francais, ce que j'ai savee... Peus-tu m'aider de se\n",
            "reconnaitre avec un lesson?[/INST]\n",
            "<__main__.Options object at 0x7977da4e8640>\n",
            "<s> [INST]J'ai obuliee le francais, ce que j'ai savee... Peus-tu m'aider de se reconnaitre avec un lesson?[/INST]Je suis là pour vous aider. Pourquoi ne pas essayer de vous reconnaitre en vous rappelant les règles de grammaire et des conjugaisons en français? Je peux également vous fournir des exercices pour vous aider à pratiquer votre français. Comment voulez-vous procéder?</s>\n",
            "\n",
            "=================================\n",
            "\n",
            "<s> [INST]J'ai obuliee le francais, ce que j'ai savee... Peus-tu m'aider de se\n",
            "reconnaitre avec un lesson?[/INST]Je suis là pour vous aider. Pourquoi ne pas\n",
            "essayer de vous reconnaitre en vous rappelant les règles de grammaire et des\n",
            "conjugaisons en français? Je peux également vous fournir des exercices pour vous\n",
            "aider à pratiquer votre français. Comment voulez-vous procéder?</s>\n",
            "Enter prompt... Commences avec une lesson facile pour les verbes at le conjugations.\n"
          ]
        },
        {
          "output_type": "stream",
          "name": "stderr",
          "text": [
            "Setting `pad_token_id` to `eos_token_id`:2 for open-end generation.\n"
          ]
        },
        {
          "name": "stdout",
          "output_type": "stream",
          "text": [
            "[INST]Commences avec une lesson facile pour les verbes at le conjugations.[/INST]\n",
            "[INST]Commences avec une lesson facile pour les verbes at le\n",
            "conjugations.[/INST]\n",
            "<__main__.Options object at 0x7977da4e8640>\n",
            "<s> [INST]Commences avec une lesson facile pour les verbes at le conjugations.[/INST]Bonjour, je suis un assistant virtuel pour vous aider à apprendre les verbes en français. Je vais commencer par une leçon facile sur les verbes et leurs conjugaisons.\n",
            "\n",
            "1. Définition d'un verbe : Un verbe est une partie de la grammaire qui représente une action, une état ou une modification.\n",
            "\n",
            "2. Types de verbes : Il y a plusieurs types de verbes en français, tels que :\n",
            "  - Verbes intransitifs : Ces verbes ne peuvent pas être suivis d'un complément direct.\n",
            "  - Verbes transitifs : Ces verbs peuvent être suivis d'un complément direct.\n",
            "  - Verbes impersonnels : Ces verbs ne peuvent pas être conjugués au passé composé et ne peuvent pas avoir un sujet.\n",
            "\n",
            "3. Conjug\n",
            "\n",
            "=================================\n",
            "\n",
            "<s> [INST]Commences avec une lesson facile pour les verbes at le\n",
            "conjugations.[/INST]Bonjour, je suis un assistant virtuel pour vous aider à\n",
            "apprendre les verbes en français. Je vais commencer par une leçon facile sur les\n",
            "verbes et leurs conjugaisons.  1. Définition d'un verbe : Un verbe est une\n",
            "partie de la grammaire qui représente une action, une état ou une modification.\n",
            "2. Types de verbes : Il y a plusieurs types de verbes en français, tels que :\n",
            "- Verbes intransitifs : Ces verbes ne peuvent pas être suivis d'un complément\n",
            "direct.    - Verbes transitifs : Ces verbs peuvent être suivis d'un complément\n",
            "direct.    - Verbes impersonnels : Ces verbs ne peuvent pas être conjugués au\n",
            "passé composé et ne peuvent pas avoir un sujet.  3. Conjug\n",
            "Enter prompt... m\n",
            "max_tokens=?...500\n",
            "Enter prompt... Peus-tu conjuger quelques verbes pour moi, s'il tous plait?\n"
          ]
        },
        {
          "output_type": "stream",
          "name": "stderr",
          "text": [
            "Setting `pad_token_id` to `eos_token_id`:2 for open-end generation.\n"
          ]
        },
        {
          "name": "stdout",
          "output_type": "stream",
          "text": [
            "[INST]Peus-tu conjuger quelques verbes pour moi, s'il tous plait?[/INST]\n",
            "[INST]Peus-tu conjuger quelques verbes pour moi, s'il tous plait?[/INST]\n",
            "<__main__.Options object at 0x7977da4e8640>\n",
            "<s> [INST]Peus-tu conjuger quelques verbes pour moi, s'il tous plait?[/INST]Bien sûr! Voici quelques verbes conjugués au présent subjonctif :\n",
            "\n",
            "1. Aller : Aller, allez, aille, allons, allez-vous, allent-ils, allent-elle, allent-ils ?\n",
            "2. Faire : Faire, fais, fai, faisons, fait-il, fait-elle, fait-il ?\n",
            "3. Avoir : Avoir, as, ais, ayons, a-t-il, a-t-elle, a-t-il ?\n",
            "4. Être : Être, es, est, sommes, est-il, est-elle, est-il ?\n",
            "5. Pouvoir : Pouvoir, peux, peux, pouvons, peut-il, peut-elle, peut-il ?\n",
            "6. Savoir : Savoir, sais, sais, sais-ons, sait-il, sait-elle, sait-il ?\n",
            "7. Vouloir : Vouloir, veux, veux, voulons, veut-il, veut-elle, veut-il ?\n",
            "\n",
            "Si vous avez besoin de plus, n'hésitez pas à demander !</s>\n",
            "\n",
            "=================================\n",
            "\n",
            "<s> [INST]Peus-tu conjuger quelques verbes pour moi, s'il tous plait?[/INST]Bien\n",
            "sûr! Voici quelques verbes conjugués au présent subjonctif :  1. Aller : Aller,\n",
            "allez, aille, allons, allez-vous, allent-ils, allent-elle, allent-ils ? 2. Faire\n",
            ": Faire, fais, fai, faisons, fait-il, fait-elle, fait-il ? 3. Avoir : Avoir, as,\n",
            "ais, ayons, a-t-il, a-t-elle, a-t-il ? 4. Être : Être, es, est, sommes, est-il,\n",
            "est-elle, est-il ? 5. Pouvoir : Pouvoir, peux, peux, pouvons, peut-il, peut-\n",
            "elle, peut-il ? 6. Savoir : Savoir, sais, sais, sais-ons, sait-il, sait-elle,\n",
            "sait-il ? 7. Vouloir : Vouloir, veux, veux, voulons, veut-il, veut-elle, veut-il\n",
            "?  Si vous avez besoin de plus, n'hésitez pas à demander !</s>\n",
            "Enter prompt... La conjugation du verbe \"aller\" est erreunuese. Common on dit je... aller?\n"
          ]
        },
        {
          "output_type": "stream",
          "name": "stderr",
          "text": [
            "Setting `pad_token_id` to `eos_token_id`:2 for open-end generation.\n"
          ]
        },
        {
          "name": "stdout",
          "output_type": "stream",
          "text": [
            "[INST]La conjugation du verbe \"aller\" est erreunuese. Common on dit je... aller?[/INST]\n",
            "[INST]La conjugation du verbe \"aller\" est erreunuese. Common on dit je...\n",
            "aller?[/INST]\n",
            "<__main__.Options object at 0x7977da4e8640>\n",
            "<s> [INST]La conjugation du verbe \"aller\" est erreunuese. Common on dit je... aller?[/INST]Vous êtes correct. La conjugaison du verbe \"aller\" est incorrecte. La conjugaison correcte est :\n",
            "\n",
            "Je vais\n",
            "Tu vas\n",
            "Il/Elle/On va\n",
            "Nous allons\n",
            "Vous allez\n",
            "Ils/Elles vont</s>\n",
            "\n",
            "=================================\n",
            "\n",
            "<s> [INST]La conjugation du verbe \"aller\" est erreunuese. Common on dit je...\n",
            "aller?[/INST]Vous êtes correct. La conjugaison du verbe \"aller\" est incorrecte.\n",
            "La conjugaison correcte est :  Je vais Tu vas Il/Elle/On va Nous allons Vous\n",
            "allez Ils/Elles vont</s>\n",
            "Enter prompt... C'est plus correct! Conjuges \"pouvoir\", s'il tous plait!\n"
          ]
        },
        {
          "output_type": "stream",
          "name": "stderr",
          "text": [
            "Setting `pad_token_id` to `eos_token_id`:2 for open-end generation.\n"
          ]
        },
        {
          "name": "stdout",
          "output_type": "stream",
          "text": [
            "[INST]C'est plus correct! Conjuges \"pouvoir\", s'il tous plait![/INST]\n",
            "[INST]C'est plus correct! Conjuges \"pouvoir\", s'il tous plait![/INST]\n",
            "<__main__.Options object at 0x7977da4e8640>\n",
            "<s> [INST]C'est plus correct! Conjuges \"pouvoir\", s'il tous plait![/INST]Je suis désolé/e, mais je ne peux pas conjuguer \"pouvoir\" pour vous ici. Je suis un assistant virtuel et n'ai pas la capacité de conjuguer des verbes. Pour des conjugaisons, je vous recommande de consulter un dictionnaire ou un guide en ligne.</s>\n",
            "\n",
            "=================================\n",
            "\n",
            "<s> [INST]C'est plus correct! Conjuges \"pouvoir\", s'il tous plait![/INST]Je suis\n",
            "désolé/e, mais je ne peux pas conjuguer \"pouvoir\" pour vous ici. Je suis un\n",
            "assistant virtuel et n'ai pas la capacité de conjuguer des verbes. Pour des\n",
            "conjugaisons, je vous recommande de consulter un dictionnaire ou un guide en\n",
            "ligne.</s>\n",
            "Enter prompt... La conjugation du \"pouvoir\".\n"
          ]
        },
        {
          "output_type": "stream",
          "name": "stderr",
          "text": [
            "Setting `pad_token_id` to `eos_token_id`:2 for open-end generation.\n"
          ]
        },
        {
          "name": "stdout",
          "output_type": "stream",
          "text": [
            "[INST]La conjugation du \"pouvoir\".[/INST]\n",
            "[INST]La conjugation du \"pouvoir\".[/INST]\n",
            "<__main__.Options object at 0x7977da4e8640>\n",
            "<s> [INST]La conjugation du \"pouvoir\".[/INST]Le verbe \"pouvoir\" est un verbe intransitif, ce qui signifie qu'il n'a pas de complément direct. Il est utilisé pour exprimer la capacité, la possibilité ou l'autorisation de faire quelque chose. Voici les conjugations du verbe \"pouvoir\" au présent, au passé composé et au futur simple :\n",
            "\n",
            "Présent :\n",
            "- Je peux\n",
            "- Tu peux\n",
            "- Il/Elle/On peut\n",
            "- Nous pouvons\n",
            "- Vous pouvez\n",
            "- Ils/Elles peuvent\n",
            "\n",
            "Passé composé :\n",
            "- J'ai pu\n",
            "- Tu as pu\n",
            "- Il/Elle/On a pu\n",
            "- Nous avons pu\n",
            "- Vous avez pu\n",
            "- Ils/Elles ont pu\n",
            "\n",
            "Futur simple :\n",
            "- Je pourrai\n",
            "- Tu pourras\n",
            "- Il/Elle/On pourra\n",
            "- Nous pourrons\n",
            "- Vous pourrez\n",
            "- Ils/Elles pourront\n",
            "\n",
            "Il est important de noter que le verbe \"pouvoir\" est souvent utilisé avec des particules ou des prépositions, comme \"pouvoir de\", \"pouvoir à\", \"pouvoir sur\", etc. Ces formes sont également des conjugaisons du verbe \"pouvoir\", mais avec une préposition ou une particule ajoutée.</s>\n",
            "\n",
            "=================================\n",
            "\n",
            "<s> [INST]La conjugation du \"pouvoir\".[/INST]Le verbe \"pouvoir\" est un verbe\n",
            "intransitif, ce qui signifie qu'il n'a pas de complément direct. Il est utilisé\n",
            "pour exprimer la capacité, la possibilité ou l'autorisation de faire quelque\n",
            "chose. Voici les conjugations du verbe \"pouvoir\" au présent, au passé composé et\n",
            "au futur simple :  Présent : - Je peux - Tu peux - Il/Elle/On peut - Nous\n",
            "pouvons - Vous pouvez - Ils/Elles peuvent  Passé composé : - J'ai pu - Tu as pu\n",
            "- Il/Elle/On a pu - Nous avons pu - Vous avez pu - Ils/Elles ont pu  Futur\n",
            "simple : - Je pourrai - Tu pourras - Il/Elle/On pourra - Nous pourrons - Vous\n",
            "pourrez - Ils/Elles pourront  Il est important de noter que le verbe \"pouvoir\"\n",
            "est souvent utilisé avec des particules ou des prépositions, comme \"pouvoir de\",\n",
            "\"pouvoir à\", \"pouvoir sur\", etc. Ces formes sont également des conjugaisons du\n",
            "verbe \"pouvoir\", mais avec une préposition ou une particule ajoutée.</s>\n",
            "Enter prompt... Sprachen Sie Deutsch?\n"
          ]
        },
        {
          "output_type": "stream",
          "name": "stderr",
          "text": [
            "Setting `pad_token_id` to `eos_token_id`:2 for open-end generation.\n"
          ]
        },
        {
          "name": "stdout",
          "output_type": "stream",
          "text": [
            "[INST]Sprachen Sie Deutsch?[/INST]\n",
            "[INST]Sprachen Sie Deutsch?[/INST]\n",
            "<__main__.Options object at 0x7977da4e8640>\n",
            "<s> [INST]Sprachen Sie Deutsch?[/INST]Ja, ich spreche Deutsch. Wie kann ich Ihnen helfen?</s>\n",
            "\n",
            "=================================\n",
            "\n",
            "<s> [INST]Sprachen Sie Deutsch?[/INST]Ja, ich spreche Deutsch. Wie kann ich\n",
            "Ihnen helfen?</s>\n",
            "Enter prompt... Ich bin ein Rechner. Was ich mach...?\n"
          ]
        },
        {
          "output_type": "stream",
          "name": "stderr",
          "text": [
            "Setting `pad_token_id` to `eos_token_id`:2 for open-end generation.\n"
          ]
        },
        {
          "name": "stdout",
          "output_type": "stream",
          "text": [
            "[INST]Ich bin ein Rechner. Was ich mach...?[/INST]\n",
            "[INST]Ich bin ein Rechner. Was ich mach...?[/INST]\n",
            "<__main__.Options object at 0x7977da4e8640>\n",
            "<s> [INST]Ich bin ein Rechner. Was ich mach...?[/INST]Ich bin ein Text Generator. Ich kann keine mathematischen Berechnungen ausführen. Stattdessen kann ich Texte erzeugen, wie z.B. Gedichte, Erzählungen oder Essays. Wenn Sie etwas anderes wünschen, bitte melden Sie es.</s>\n",
            "\n",
            "=================================\n",
            "\n",
            "<s> [INST]Ich bin ein Rechner. Was ich mach...?[/INST]Ich bin ein Text\n",
            "Generator. Ich kann keine mathematischen Berechnungen ausführen. Stattdessen\n",
            "kann ich Texte erzeugen, wie z.B. Gedichte, Erzählungen oder Essays. Wenn Sie\n",
            "etwas anderes wünschen, bitte melden Sie es.</s>\n",
            "Enter prompt... Ich Will Deutsche Sprache Lehrne. Bitte!\n"
          ]
        },
        {
          "output_type": "stream",
          "name": "stderr",
          "text": [
            "Setting `pad_token_id` to `eos_token_id`:2 for open-end generation.\n"
          ]
        },
        {
          "name": "stdout",
          "output_type": "stream",
          "text": [
            "[INST]Ich Will Deutsche Sprache Lehrne. Bitte![/INST]\n",
            "[INST]Ich Will Deutsche Sprache Lehrne. Bitte![/INST]\n",
            "<__main__.Options object at 0x7977da4e8640>\n",
            "<s> [INST]Ich Will Deutsche Sprache Lehrne. Bitte![/INST]Ich bin freundlich eingerichtet, um Ihnen zu helfen, Deutsche Sprache zu lernen. Wenn Sie mir eine Frage stellen oder eine Übung machen möchten, bitte, fragen Sie mich. Ich werde mich gerne an Ihren Fragen und Anfragen entsprechen.</s>\n",
            "\n",
            "=================================\n",
            "\n",
            "<s> [INST]Ich Will Deutsche Sprache Lehrne. Bitte![/INST]Ich bin freundlich\n",
            "eingerichtet, um Ihnen zu helfen, Deutsche Sprache zu lernen. Wenn Sie mir eine\n",
            "Frage stellen oder eine Übung machen möchten, bitte, fragen Sie mich. Ich werde\n",
            "mich gerne an Ihren Fragen und Anfragen entsprechen.</s>\n",
            "Enter prompt... Ein Lekzion fur novice.\n"
          ]
        },
        {
          "output_type": "stream",
          "name": "stderr",
          "text": [
            "Setting `pad_token_id` to `eos_token_id`:2 for open-end generation.\n"
          ]
        },
        {
          "name": "stdout",
          "output_type": "stream",
          "text": [
            "[INST]Ein Lekzion fur novice.[/INST]\n",
            "[INST]Ein Lekzion fur novice.[/INST]\n",
            "<__main__.Options object at 0x7977da4e8640>\n",
            "<s> [INST]Ein Lekzion fur novice.[/INST]Hallo und herzlichen Gluckwunsch zu Ihrem ersten Lekzion! Ich freue mich, Ihnen helfen zu konnen, und ich hoffe, dass Sie genießen werden, was Sie erlernen.\n",
            "\n",
            "Heute werden wir daruber sprechen, wie Sie Ihre ersten Schritte in der Programmierung machen können. Wir werden beginnen, indem wir uns mit der Grundkonzeption von Programmierungen vertraut machen und dann in die nächsten Schritte gehen.\n",
            "\n",
            "Als erstes müssen Sie sich entscheiden, welche Programmiersprache Sie lernen möchten. Es gibt viele verschiedene Sprachen, und jede hat ihre eigenen Stärken und Schwächen. Einige beliebte Sprachen für Anfänger sind Python, JavaScript, Ruby und PHP. Ich empfehle es Ihnen, eine Sprache zu wählen, die Sie finden und die Ihnen am besten passt.\n",
            "\n",
            "Nachdem Sie Ihre Sprache gewählt haben, sollten Sie sich ein Programmierungs-Environment installieren, das Sie benötigen, um Ihre Programme zu schreiben und auszuführen. Es gibt viele verschiedene Umgebungen, und die beste für Sie hängt von Ihrer Sprache ab. Für Python ist beispielsweise PyCharm ein beliebtes Wahl.\n",
            "\n",
            "Nachdem Sie Ihre Umgebung installiert haben, können Sie beginnen, Ihre ersten Programme zu schreiben. Es ist normal, dass Sie zunächst einige Fehler machen, aber das ist Teil des Lernprozesses. Nehmen Sie sie nicht zu heart und lernen Sie sich daran zu kennen, Ihre Code zu debuggen.\n",
            "\n",
            "Während Sie Ihre Programme schreiben, sollten Sie sich daran halten, Ihre Code so einfach wie möglich zu gestalten. Das bedeutet, dass Sie versuchen sollten, Ihren Code so zu schreiben, dass er leicht verständlich und bearbeitbar ist.\n",
            "\n",
            "Es ist auch wichtig, dass Sie regelmäßig Ihren Code überpr\n",
            "\n",
            "=================================\n",
            "\n",
            "<s> [INST]Ein Lekzion fur novice.[/INST]Hallo und herzlichen Gluckwunsch zu\n",
            "Ihrem ersten Lekzion! Ich freue mich, Ihnen helfen zu konnen, und ich hoffe,\n",
            "dass Sie genießen werden, was Sie erlernen.  Heute werden wir daruber sprechen,\n",
            "wie Sie Ihre ersten Schritte in der Programmierung machen können. Wir werden\n",
            "beginnen, indem wir uns mit der Grundkonzeption von Programmierungen vertraut\n",
            "machen und dann in die nächsten Schritte gehen.  Als erstes müssen Sie sich\n",
            "entscheiden, welche Programmiersprache Sie lernen möchten. Es gibt viele\n",
            "verschiedene Sprachen, und jede hat ihre eigenen Stärken und Schwächen. Einige\n",
            "beliebte Sprachen für Anfänger sind Python, JavaScript, Ruby und PHP. Ich\n",
            "empfehle es Ihnen, eine Sprache zu wählen, die Sie finden und die Ihnen am\n",
            "besten passt.  Nachdem Sie Ihre Sprache gewählt haben, sollten Sie sich ein\n",
            "Programmierungs-Environment installieren, das Sie benötigen, um Ihre Programme\n",
            "zu schreiben und auszuführen. Es gibt viele verschiedene Umgebungen, und die\n",
            "beste für Sie hängt von Ihrer Sprache ab. Für Python ist beispielsweise PyCharm\n",
            "ein beliebtes Wahl.  Nachdem Sie Ihre Umgebung installiert haben, können Sie\n",
            "beginnen, Ihre ersten Programme zu schreiben. Es ist normal, dass Sie zunächst\n",
            "einige Fehler machen, aber das ist Teil des Lernprozesses. Nehmen Sie sie nicht\n",
            "zu heart und lernen Sie sich daran zu kennen, Ihre Code zu debuggen.  Während\n",
            "Sie Ihre Programme schreiben, sollten Sie sich daran halten, Ihre Code so\n",
            "einfach wie möglich zu gestalten. Das bedeutet, dass Sie versuchen sollten,\n",
            "Ihren Code so zu schreiben, dass er leicht verständlich und bearbeitbar ist.  Es\n",
            "ist auch wichtig, dass Sie regelmäßig Ihren Code überpr\n",
            "Enter prompt... Ich Will Deutsche Lerne, Nich programmierung! Bitte...\n"
          ]
        },
        {
          "output_type": "stream",
          "name": "stderr",
          "text": [
            "Setting `pad_token_id` to `eos_token_id`:2 for open-end generation.\n"
          ]
        },
        {
          "name": "stdout",
          "output_type": "stream",
          "text": [
            "[INST]Ich Will Deutsche Lerne, Nich programmierung! Bitte...[/INST]\n",
            "[INST]Ich Will Deutsche Lerne, Nich programmierung! Bitte...[/INST]\n",
            "<__main__.Options object at 0x7977da4e8640>\n",
            "<s> [INST]Ich Will Deutsche Lerne, Nich programmierung! Bitte...[/INST]Ich hoffe, du kannst mich verstehen. Hier ist eine einfache Anleitung, um Deutsche zu lernen, ohne Programmierung:\n",
            "\n",
            "1. Gründliche Vorlesung: Lerne die deutschen Grammatik- und Sprachregeln. Fokussiere dich auf Substantive (Wörter für Dinge), Verben (Wörter für Handlungen), Adjektive (Wörter, die Dinge beschreiben) und Präpositionen (Wörter, die Raumbeziehungen ausdrücken).\n",
            "\n",
            "2. Viel Üben: Übe deutsche Wörter und Sätze regelmäßig. Einfache Übungsarten sind Flashcards, Sprechen vor einem Spiegel oder mit einem Freund und Lesen von Büchern, Zeitungen oder Online-Artikeln.\n",
            "\n",
            "3. Kulturelle Kenntnisse: Lerne etwas über die deutsche Kultur, Geschichte und Traditionen. Dies hilft dir, den deutschen Sprachgebrauch besser zu verstehen.\n",
            "\n",
            "4. Sprachkurse oder Workshops: Besuche Sprachkurse oder Workshops, um mit anderen Lernenden zu sprechen und deutsche Sprache in einer natürlichen Umgebung zu üben.\n",
            "\n",
            "5. Immersion: Versuche, deutsche Medien zu konsumieren, wie Fernsehen, Radio, Podcasts oder Musik. Das hilft dir, deutsche Wörter und Sätze in Kontext zu erlernen.\n",
            "\n",
            "6. Sprachpartner: Findet einen deutschen Sprachpartner, mit dem du regelmäßig sprechen kannst. Das hilft dir, deutsche Sprache in Echtzeit zu üben und deine Fähigkeiten zu verbessern.\n",
            "\n",
            "7. Positive Einstellung: Bleibe positiv und setze deine Ziele. Lernen ist ein Prozess, der Zeit benötigt.\n",
            "\n",
            "8. Regelmäßige Überprüfung: Überprüfe deine Kenntnisse regelmäßig, z.B. indem du Sprachtests oder Sprachprüfungen lä\n",
            "\n",
            "=================================\n",
            "\n",
            "<s> [INST]Ich Will Deutsche Lerne, Nich programmierung! Bitte...[/INST]Ich\n",
            "hoffe, du kannst mich verstehen. Hier ist eine einfache Anleitung, um Deutsche\n",
            "zu lernen, ohne Programmierung:  1. Gründliche Vorlesung: Lerne die deutschen\n",
            "Grammatik- und Sprachregeln. Fokussiere dich auf Substantive (Wörter für Dinge),\n",
            "Verben (Wörter für Handlungen), Adjektive (Wörter, die Dinge beschreiben) und\n",
            "Präpositionen (Wörter, die Raumbeziehungen ausdrücken).  2. Viel Üben: Übe\n",
            "deutsche Wörter und Sätze regelmäßig. Einfache Übungsarten sind Flashcards,\n",
            "Sprechen vor einem Spiegel oder mit einem Freund und Lesen von Büchern,\n",
            "Zeitungen oder Online-Artikeln.  3. Kulturelle Kenntnisse: Lerne etwas über die\n",
            "deutsche Kultur, Geschichte und Traditionen. Dies hilft dir, den deutschen\n",
            "Sprachgebrauch besser zu verstehen.  4. Sprachkurse oder Workshops: Besuche\n",
            "Sprachkurse oder Workshops, um mit anderen Lernenden zu sprechen und deutsche\n",
            "Sprache in einer natürlichen Umgebung zu üben.  5. Immersion: Versuche, deutsche\n",
            "Medien zu konsumieren, wie Fernsehen, Radio, Podcasts oder Musik. Das hilft dir,\n",
            "deutsche Wörter und Sätze in Kontext zu erlernen.  6. Sprachpartner: Findet\n",
            "einen deutschen Sprachpartner, mit dem du regelmäßig sprechen kannst. Das hilft\n",
            "dir, deutsche Sprache in Echtzeit zu üben und deine Fähigkeiten zu verbessern.\n",
            "7. Positive Einstellung: Bleibe positiv und setze deine Ziele. Lernen ist ein\n",
            "Prozess, der Zeit benötigt.  8. Regelmäßige Überprüfung: Überprüfe deine\n",
            "Kenntnisse regelmäßig, z.B. indem du Sprachtests oder Sprachprüfungen lä\n",
            "Enter prompt... a\n",
            "Enter prompt... Die Deutsche Lekzion \n"
          ]
        },
        {
          "output_type": "stream",
          "name": "stderr",
          "text": [
            "Setting `pad_token_id` to `eos_token_id`:2 for open-end generation.\n"
          ]
        },
        {
          "name": "stdout",
          "output_type": "stream",
          "text": [
            "Die Deutsche Lekzion \n",
            "Die Deutsche Lekzion\n",
            "<__main__.Options object at 0x7977da4e8640>\n",
            "<s> Die Deutsche Lekzion \n",
            "\n",
            "Hallo! Ich bin ein AI und bin hier, um Ihnen zu helfen. Wie kann ich Ihnen heute helfen?</s>\n",
            "\n",
            "=================================\n",
            "\n",
            "<s> Die Deutsche Lekzion   Hallo! Ich bin ein AI und bin hier, um Ihnen zu\n",
            "helfen. Wie kann ich Ihnen heute helfen?</s>\n",
            "Enter prompt... Ich Will Deutsche Lerne, Nich programmierung! Bitte...\n"
          ]
        },
        {
          "output_type": "stream",
          "name": "stderr",
          "text": [
            "Setting `pad_token_id` to `eos_token_id`:2 for open-end generation.\n"
          ]
        },
        {
          "name": "stdout",
          "output_type": "stream",
          "text": [
            "Ich Will Deutsche Lerne, Nich programmierung! Bitte...\n",
            "Ich Will Deutsche Lerne, Nich programmierung! Bitte...\n",
            "<__main__.Options object at 0x7977da4e8640>\n",
            "<s> Ich Will Deutsche Lerne, Nich programmierung! Bitte... Ich will Deutsch lernen, aber ich möchte nicht programmieren. Bitte helfen Sie mir, Deutsch zu lernen, ohne Programmierung.</s>\n",
            "\n",
            "=================================\n",
            "\n",
            "<s> Ich Will Deutsche Lerne, Nich programmierung! Bitte... Ich will Deutsch\n",
            "lernen, aber ich möchte nicht programmieren. Bitte helfen Sie mir, Deutsch zu\n",
            "lernen, ohne Programmierung.</s>\n",
            "Enter prompt... i\n",
            "Enter prompt... Ich Will Deutsche Lerne, Nich programmierung! Bitte...\n"
          ]
        },
        {
          "output_type": "stream",
          "name": "stderr",
          "text": [
            "Setting `pad_token_id` to `eos_token_id`:2 for open-end generation.\n"
          ]
        },
        {
          "name": "stdout",
          "output_type": "stream",
          "text": [
            "[INST]Ich Will Deutsche Lerne, Nich programmierung! Bitte...[/INST]\n",
            "[INST]Ich Will Deutsche Lerne, Nich programmierung! Bitte...[/INST]\n",
            "<__main__.Options object at 0x7977da4e8640>\n",
            "<s> [INST]Ich Will Deutsche Lerne, Nich programmierung! Bitte...[/INST]Ich hoffe, du kannst mich verstehen. Hier ist eine einfache Anleitung auf Deutsch, um dir deutsche Sprache zu erlernen:\n",
            "\n",
            "1. Lerne deutsche Wörter: Versuche, deutsche Wörter zu lernen, indem du sie im Kontext verwendest. Lesen Sie Bücher, Artikeln oder überprüfe die Übersetzung von Sätzen auf deutsche Wörter.\n",
            "\n",
            "2. Übe deutsche Grammatik: Verstehe die deutsche Grammatik, wie das Subjekt, Verb und Objekt geordnet sind. Lerne die verschiedenen Satzstrukturen und Regeln, wie das Verb und die Zeitung beugen.\n",
            "\n",
            "3. Übe deutsche Sprache: Übe deutsche Sprache, wie du Wörter und Sätze sprichst. Sprich mit Freunden, Familie oder einer Sprachpartnerin.\n",
            "\n",
            "4. Schreibe deutsche Texte: Schreibe deutsche Texte, wie Briefe, Essays oder Artikeln. Übe deine Schreibkraft und lerne neue Wörter und Strukturen.\n",
            "\n",
            "5. Höre deutsche Sprache: Höre deutsche Sprache, wie Sie Sprechen oder auf Musik und Filmen. Das Hörken von deutschem Englisch hilft dir, deutsche Wörter und Sätze zu verstehen.\n",
            "\n",
            "6. Besuche Sprachkurse oder lerne online: Besuche Sprachkurse oder lerne online, um deutsche Sprache zu erlernen. Ein Lehrer kann dir Hilfe und Ratschläge geben und deine Fehler korrigieren.\n",
            "\n",
            "7. Bücher und Magazinen lesen: Lesen Sie Bücher und Magazinen auf Deutsch, um deutsche Sprache zu verbessern. Sie können auch deutsche Nachrichten oder Blogs lesen, um aktuell zu sein.\n",
            "\n",
            "8. Sprache in deinem Alltag integrieren: Versuche, deutsche Sprache in deinem Alltag zu integrieren. Beispielsweise kannst du deutsche\n",
            "\n",
            "=================================\n",
            "\n",
            "<s> [INST]Ich Will Deutsche Lerne, Nich programmierung! Bitte...[/INST]Ich\n",
            "hoffe, du kannst mich verstehen. Hier ist eine einfache Anleitung auf Deutsch,\n",
            "um dir deutsche Sprache zu erlernen:  1. Lerne deutsche Wörter: Versuche,\n",
            "deutsche Wörter zu lernen, indem du sie im Kontext verwendest. Lesen Sie Bücher,\n",
            "Artikeln oder überprüfe die Übersetzung von Sätzen auf deutsche Wörter.  2. Übe\n",
            "deutsche Grammatik: Verstehe die deutsche Grammatik, wie das Subjekt, Verb und\n",
            "Objekt geordnet sind. Lerne die verschiedenen Satzstrukturen und Regeln, wie das\n",
            "Verb und die Zeitung beugen.  3. Übe deutsche Sprache: Übe deutsche Sprache, wie\n",
            "du Wörter und Sätze sprichst. Sprich mit Freunden, Familie oder einer\n",
            "Sprachpartnerin.  4. Schreibe deutsche Texte: Schreibe deutsche Texte, wie\n",
            "Briefe, Essays oder Artikeln. Übe deine Schreibkraft und lerne neue Wörter und\n",
            "Strukturen.  5. Höre deutsche Sprache: Höre deutsche Sprache, wie Sie Sprechen\n",
            "oder auf Musik und Filmen. Das Hörken von deutschem Englisch hilft dir, deutsche\n",
            "Wörter und Sätze zu verstehen.  6. Besuche Sprachkurse oder lerne online:\n",
            "Besuche Sprachkurse oder lerne online, um deutsche Sprache zu erlernen. Ein\n",
            "Lehrer kann dir Hilfe und Ratschläge geben und deine Fehler korrigieren.  7.\n",
            "Bücher und Magazinen lesen: Lesen Sie Bücher und Magazinen auf Deutsch, um\n",
            "deutsche Sprache zu verbessern. Sie können auch deutsche Nachrichten oder Blogs\n",
            "lesen, um aktuell zu sein.  8. Sprache in deinem Alltag integrieren: Versuche,\n",
            "deutsche Sprache in deinem Alltag zu integrieren. Beispielsweise kannst du\n",
            "deutsche\n",
            "Enter prompt... Turce bilir olsun?\n"
          ]
        },
        {
          "output_type": "stream",
          "name": "stderr",
          "text": [
            "Setting `pad_token_id` to `eos_token_id`:2 for open-end generation.\n"
          ]
        },
        {
          "name": "stdout",
          "output_type": "stream",
          "text": [
            "[INST]Turce bilir olsun?[/INST]\n",
            "[INST]Turce bilir olsun?[/INST]\n",
            "<__main__.Options object at 0x7977da4e8640>\n",
            "<s> [INST]Turce bilir olsun?[/INST]Türkçe bilirim. İyi günler!</s>\n",
            "\n",
            "=================================\n",
            "\n",
            "<s> [INST]Turce bilir olsun?[/INST]Türkçe bilirim. İyi günler!</s>\n",
            "Enter prompt... Arkadas cok gozel kadin efendi!\n"
          ]
        },
        {
          "output_type": "stream",
          "name": "stderr",
          "text": [
            "Setting `pad_token_id` to `eos_token_id`:2 for open-end generation.\n"
          ]
        },
        {
          "name": "stdout",
          "output_type": "stream",
          "text": [
            "[INST]Arkadas cok gozel kadin efendi![/INST]\n",
            "[INST]Arkadas cok gozel kadin efendi![/INST]\n",
            "<__main__.Options object at 0x7977da4e8640>\n",
            "<s> [INST]Arkadas cok gozel kadin efendi![/INST]Arkadaşım, cok gozel kadin efendi! Güzel gözlerinize, guzel kokusunu ve guzel dilinizi sana teslim ediyorum. İyi günler dilerim.</s>\n",
            "\n",
            "=================================\n",
            "\n",
            "<s> [INST]Arkadas cok gozel kadin efendi![/INST]Arkadaşım, cok gozel kadin\n",
            "efendi! Güzel gözlerinize, guzel kokusunu ve guzel dilinizi sana teslim\n",
            "ediyorum. İyi günler dilerim.</s>\n",
            "Enter prompt... Bulgariada Germaniada - on bes orum?\n"
          ]
        },
        {
          "output_type": "stream",
          "name": "stderr",
          "text": [
            "Setting `pad_token_id` to `eos_token_id`:2 for open-end generation.\n"
          ]
        },
        {
          "name": "stdout",
          "output_type": "stream",
          "text": [
            "[INST]Bulgariada Germaniada - on bes orum?[/INST]\n",
            "[INST]Bulgariada Germaniada - on bes orum?[/INST]\n",
            "<__main__.Options object at 0x7977da4e8640>\n",
            "<s> [INST]Bulgariada Germaniada - on bes orum?[/INST]Bulgariada Germaniada - или \"Германия в България\" - е интересна концепция. Въпреки че в момента няма държава с това име, тя може да се отнася до културния, икономически или политически обмен между България и Германия. Ако имате предвид конкретна ситуация или събитие, моля, предоставете повече контекст и аз ще се радвам да помогна.</s>\n",
            "\n",
            "=================================\n",
            "\n",
            "<s> [INST]Bulgariada Germaniada - on bes orum?[/INST]Bulgariada Germaniada - или\n",
            "\"Германия в България\" - е интересна концепция. Въпреки че в момента няма държава\n",
            "с това име, тя може да се отнася до културния, икономически или политически\n",
            "обмен между България и Германия. Ако имате предвид конкретна ситуация или\n",
            "събитие, моля, предоставете повече контекст и аз ще се радвам да помогна.</s>\n",
            "Enter prompt... Arkadaş, Bulgariada?\n"
          ]
        },
        {
          "output_type": "stream",
          "name": "stderr",
          "text": [
            "Setting `pad_token_id` to `eos_token_id`:2 for open-end generation.\n"
          ]
        },
        {
          "name": "stdout",
          "output_type": "stream",
          "text": [
            "[INST]Arkadaş, Bulgariada?[/INST]\n",
            "[INST]Arkadaş, Bulgariada?[/INST]\n",
            "<__main__.Options object at 0x7977da4e8640>\n",
            "<s> [INST]Arkadaş, Bulgariada?[/INST]Bulgariada'da yaşayan bir kişi olarak, şimdi bana bir soru sunun. İşte sorunun:\n",
            "\n",
            "Bu yazıda, \"Bulgaristan'daki en iyi çeşitli şehirleri\" konusu olduğunu öğreniyoruz. İşte yazının başlığı ve ilk cümleleri:\n",
            "\n",
            "\"Bulgaristan'daki en iyi çeşitli şehirleri\"\n",
            "\n",
            "Ama yazının son cümleleri bu:\n",
            "\n",
            "\"Bu, Bulgaristan'daki en iyi şehrilerinden biriydi.\"\n",
            "\n",
            "Bu cümle, yazının başlığına uygun olmadığını düşünüyorum. İşte bu yüzden soruyorum:\n",
            "\n",
            "Bu yazının başlığı ve son cümleleri uygun olarak olan bir şey yazıldığını düşünürseniz, hangi şehirleri Bulgaristan'daki en iyi çeşitli şehirlerden biriydi?\n",
            "\n",
            "Bu yazının başlığında, çeşitli şehirler olduğunu belirterek, son cümlede ise en iyi şehriler olduğunu söylediğim için, bu yazının içinde çeşitli ve en iyi şehriler arasında farklı şehirler olduğunu düşünüyorum. İşte bu yüzden, bu yazıda çeşitli ve en iyi şehrilerin isimlerini listeleyebilirsiniz.</s>\n",
            "\n",
            "=================================\n",
            "\n",
            "<s> [INST]Arkadaş, Bulgariada?[/INST]Bulgariada'da yaşayan bir kişi olarak,\n",
            "şimdi bana bir soru sunun. İşte sorunun:  Bu yazıda, \"Bulgaristan'daki en iyi\n",
            "çeşitli şehirleri\" konusu olduğunu öğreniyoruz. İşte yazının başlığı ve ilk\n",
            "cümleleri:  \"Bulgaristan'daki en iyi çeşitli şehirleri\"  Ama yazının son\n",
            "cümleleri bu:  \"Bu, Bulgaristan'daki en iyi şehrilerinden biriydi.\"  Bu cümle,\n",
            "yazının başlığına uygun olmadığını düşünüyorum. İşte bu yüzden soruyorum:  Bu\n",
            "yazının başlığı ve son cümleleri uygun olarak olan bir şey yazıldığını\n",
            "düşünürseniz, hangi şehirleri Bulgaristan'daki en iyi çeşitli şehirlerden\n",
            "biriydi?  Bu yazının başlığında, çeşitli şehirler olduğunu belirterek, son\n",
            "cümlede ise en iyi şehriler olduğunu söylediğim için, bu yazının içinde çeşitli\n",
            "ve en iyi şehriler arasında farklı şehirler olduğunu düşünüyorum. İşte bu\n",
            "yüzden, bu yazıda çeşitli ve en iyi şehrilerin isimlerini\n",
            "listeleyebilirsiniz.</s>\n",
            "Enter prompt... Translate to Bulgarian: \"Bulgariada'da yaşayan bir kişi olarak, şimdi bana bir soru sunun. İşte sorunun:  Bu yazıda, \"Bulgaristan'daki en iyi çeşitli şehirleri\" konusu olduğunu öğreniyoruz. İşte yazının başlığı ve ilk cümleleri:  \"Bulgaristan'daki en iyi çeşitli şehirleri\"  Ama yazının son cümleleri bu:  \"Bu, Bulgaristan'daki en iyi şehrilerinden biriydi.\"  Bu cümle, yazının başlığına uygun olmadığını düşünüyorum. İşte bu yüzden soruyorum:  Bu yazının başlığı ve son cümleleri uygun olarak olan bir şey yazıldığını düşünürseniz, hangi şehirleri Bulgaristan'daki en iyi çeşitli şehirlerden biriydi?  Bu yazının başlığında, çeşitli şehirler olduğunu belirterek, son cümlede ise en iyi şehriler olduğunu söylediğim için, bu yazının içinde çeşitli ve en iyi şehriler arasında farklı şehirler olduğunu düşünüyorum. İşte bu yüzden, bu yazıda çeşitli ve en iyi şehrilerin isimlerini listeleyebilirsiniz.\"\n"
          ]
        },
        {
          "output_type": "stream",
          "name": "stderr",
          "text": [
            "Setting `pad_token_id` to `eos_token_id`:2 for open-end generation.\n"
          ]
        },
        {
          "name": "stdout",
          "output_type": "stream",
          "text": [
            "[INST]Translate to Bulgarian: \"Bulgariada'da yaşayan bir kişi olarak, şimdi bana bir soru sunun. İşte sorunun:  Bu yazıda, \"Bulgaristan'daki en iyi çeşitli şehirleri\" konusu olduğunu öğreniyoruz. İşte yazının başlığı ve ilk cümleleri:  \"Bulgaristan'daki en iyi çeşitli şehirleri\"  Ama yazının son cümleleri bu:  \"Bu, Bulgaristan'daki en iyi şehrilerinden biriydi.\"  Bu cümle, yazının başlığına uygun olmadığını düşünüyorum. İşte bu yüzden soruyorum:  Bu yazının başlığı ve son cümleleri uygun olarak olan bir şey yazıldığını düşünürseniz, hangi şehirleri Bulgaristan'daki en iyi çeşitli şehirlerden biriydi?  Bu yazının başlığında, çeşitli şehirler olduğunu belirterek, son cümlede ise en iyi şehriler olduğunu söylediğim için, bu yazının içinde çeşitli ve en iyi şehriler arasında farklı şehirler olduğunu düşünüyorum. İşte bu yüzden, bu yazıda çeşitli ve en iyi şehrilerin isimlerini listeleyebilirsiniz.\"[/INST]\n",
            "[INST]Translate to Bulgarian: \"Bulgariada'da yaşayan bir kişi olarak, şimdi bana\n",
            "bir soru sunun. İşte sorunun:  Bu yazıda, \"Bulgaristan'daki en iyi çeşitli\n",
            "şehirleri\" konusu olduğunu öğreniyoruz. İşte yazının başlığı ve ilk cümleleri:\n",
            "\"Bulgaristan'daki en iyi çeşitli şehirleri\"  Ama yazının son cümleleri bu:  \"Bu,\n",
            "Bulgaristan'daki en iyi şehrilerinden biriydi.\"  Bu cümle, yazının başlığına\n",
            "uygun olmadığını düşünüyorum. İşte bu yüzden soruyorum:  Bu yazının başlığı ve\n",
            "son cümleleri uygun olarak olan bir şey yazıldığını düşünürseniz, hangi\n",
            "şehirleri Bulgaristan'daki en iyi çeşitli şehirlerden biriydi?  Bu yazının\n",
            "başlığında, çeşitli şehirler olduğunu belirterek, son cümlede ise en iyi\n",
            "şehriler olduğunu söylediğim için, bu yazının içinde çeşitli ve en iyi şehriler\n",
            "arasında farklı şehirler olduğunu düşünüyorum. İşte bu yüzden, bu yazıda çeşitli\n",
            "ve en iyi şehrilerin isimlerini listeleyebilirsiniz.\"[/INST]\n",
            "<__main__.Options object at 0x7977da4e8640>\n",
            "<s> [INST]Translate to Bulgarian: \"Bulgariada'da yaşayan bir kişi olarak, şimdi bana bir soru sunun. İşte sorunun:  Bu yazıda, \"Bulgaristan'daki en iyi çeşitli şehirleri\" konusu olduğunu öğreniyoruz. İşte yazının başlığı ve ilk cümleleri:  \"Bulgaristan'daki en iyi çeşitli şehirleri\"  Ama yazının son cümleleri bu:  \"Bu, Bulgaristan'daki en iyi şehrilerinden biriydi.\"  Bu cümle, yazının başlığına uygun olmadığını düşünüyorum. İşte bu yüzden soruyorum:  Bu yazının başlığı ve son cümleleri uygun olarak olan bir şey yazıldığını düşünürseniz, hangi şehirleri Bulgaristan'daki en iyi çeşitli şehirlerden biriydi?  Bu yazının başlığında, çeşitli şehirler olduğunu belirterek, son cümlede ise en iyi şehriler olduğunu söylediğim için, bu yazının içinde çeşitli ve en iyi şehriler arasında farklı şehirler olduğunu düşünüyorum. İşte bu yüzden, bu yazıda çeşitli ve en iyi şehrilerin isimlerini listeleyebilirsiniz.\"[/INST]В превод на български: „Като човек, живеещ в България, сега ще ви задам един въпрос. Ето въпроса: Научаваме от тази статия, че се говори за „най-добрите разнообразни градове в България“. Ето заглавието и първите изречения: „Най-добрите разнообразни градове в България“ Ала последните изречения на статията са: „Това беше един от най-добрите градове в България.“ Мисля, че последното изречение не съответства на заглавието. Ето защо задавам този въпрос: Ако приемем, че заглавието и последните изречения на статията са в съответствие, кои градове в България са най-добрите разнообразни градове? В заглавието се споменава „разнообразни градове“, а в последното изречение се казва „най-добрите градове“, така че мисля, че в статията има списък с разнообразни и най-добри градове в България.“</s>\n",
            "\n",
            "=================================\n",
            "\n",
            "<s> [INST]Translate to Bulgarian: \"Bulgariada'da yaşayan bir kişi olarak, şimdi\n",
            "bana bir soru sunun. İşte sorunun:  Bu yazıda, \"Bulgaristan'daki en iyi çeşitli\n",
            "şehirleri\" konusu olduğunu öğreniyoruz. İşte yazının başlığı ve ilk cümleleri:\n",
            "\"Bulgaristan'daki en iyi çeşitli şehirleri\"  Ama yazının son cümleleri bu:  \"Bu,\n",
            "Bulgaristan'daki en iyi şehrilerinden biriydi.\"  Bu cümle, yazının başlığına\n",
            "uygun olmadığını düşünüyorum. İşte bu yüzden soruyorum:  Bu yazının başlığı ve\n",
            "son cümleleri uygun olarak olan bir şey yazıldığını düşünürseniz, hangi\n",
            "şehirleri Bulgaristan'daki en iyi çeşitli şehirlerden biriydi?  Bu yazının\n",
            "başlığında, çeşitli şehirler olduğunu belirterek, son cümlede ise en iyi\n",
            "şehriler olduğunu söylediğim için, bu yazının içinde çeşitli ve en iyi şehriler\n",
            "arasında farklı şehirler olduğunu düşünüyorum. İşte bu yüzden, bu yazıda çeşitli\n",
            "ve en iyi şehrilerin isimlerini listeleyebilirsiniz.\"[/INST]В превод на\n",
            "български: „Като човек, живеещ в България, сега ще ви задам един въпрос. Ето\n",
            "въпроса: Научаваме от тази статия, че се говори за „най-добрите разнообразни\n",
            "градове в България“. Ето заглавието и първите изречения: „Най-добрите\n",
            "разнообразни градове в България“ Ала последните изречения на статията са: „Това\n",
            "беше един от най-добрите градове в България.“ Мисля, че последното изречение не\n",
            "съответства на заглавието. Ето защо задавам този въпрос: Ако приемем, че\n",
            "заглавието и последните изречения на статията са в съответствие, кои градове в\n",
            "България са най-добрите разнообразни градове? В заглавието се споменава\n",
            "„разнообразни градове“, а в последното изречение се казва „най-добрите градове“,\n",
            "така че мисля, че в статията има списък с разнообразни и най-добри градове в\n",
            "България.“</s>\n",
            "Enter prompt... Sono italiano e parlo italiano. Ricordarmi la mia istoria vechia, por favore!\n"
          ]
        },
        {
          "output_type": "stream",
          "name": "stderr",
          "text": [
            "Setting `pad_token_id` to `eos_token_id`:2 for open-end generation.\n"
          ]
        },
        {
          "name": "stdout",
          "output_type": "stream",
          "text": [
            "[INST]Sono italiano e parlo italiano. Ricordarmi la mia istoria vechia, por favore![/INST]\n",
            "[INST]Sono italiano e parlo italiano. Ricordarmi la mia istoria vechia, por\n",
            "favore![/INST]\n",
            "<__main__.Options object at 0x7977da4e8640>\n",
            "<s> [INST]Sono italiano e parlo italiano. Ricordarmi la mia istoria vechia, por favore![/INST]Eccellente! Parlo italiano con piacere. Per aiutarti a ricordare la tua storia vechia, puoi cominciare raccontando qualcosa sul tuo passato, sulle tue famiglie, e sulle tue esperienze importanti. Non preoccuparti se qualcosa non riesce a emergere subito, è normale richiedere tempo per ricordare il passato.</s>\n",
            "\n",
            "=================================\n",
            "\n",
            "<s> [INST]Sono italiano e parlo italiano. Ricordarmi la mia istoria vechia, por\n",
            "favore![/INST]Eccellente! Parlo italiano con piacere. Per aiutarti a ricordare\n",
            "la tua storia vechia, puoi cominciare raccontando qualcosa sul tuo passato,\n",
            "sulle tue famiglie, e sulle tue esperienze importanti. Non preoccuparti se\n",
            "qualcosa non riesce a emergere subito, è normale richiedere tempo per ricordare\n",
            "il passato.</s>\n",
            "Enter prompt... Racontrarmi per la storia de la imperia Romana!\n"
          ]
        },
        {
          "output_type": "stream",
          "name": "stderr",
          "text": [
            "Setting `pad_token_id` to `eos_token_id`:2 for open-end generation.\n"
          ]
        },
        {
          "name": "stdout",
          "output_type": "stream",
          "text": [
            "[INST]Racontrarmi per la storia de la imperia Romana![/INST]\n",
            "[INST]Racontrarmi per la storia de la imperia Romana![/INST]\n",
            "<__main__.Options object at 0x7977da4e8640>\n",
            "<s> [INST]Racontrarmi per la storia de la imperia Romana![/INST]La storia della Roma imperiale è un racconto di grandezza, potere, decadenza e trascendimento. Iniziata come una piccola città-Stato in Italia centrale, Roma divenne una delle più potenti forze politiche, culturali e militari del mondo antico. La sua storia può essere divisa in tre fasi principali: Repubblica Romana, Impero Romano e Impero Romano di Augusto.\n",
            "\n",
            "1. Repubblica Romana (509 a.C. - 27 a.C.): La Repubblica Romana fu un periodo di forte crescita e espansione territoriale. Roma iniziò come una piccola comunità di coloni italici e si sviluppò in una città-Stato indipendente. La Repubblica fu caratterizzata da un governo republicano, con consoli eletti annualmente e un Senato composto da nobili e ricchi proprietari terrieri. Roma conquistò molte città e territori, estendendo il suo dominio su gran parte dell'Italia e la penisola balcanica. Tuttavia, la Repubblica fu anche caratterizzata da una forte divisione sociale e politica, con i nobili e i popolari in continua lotta per il potere.\n",
            "\n",
            "2. Impero Romano (27 a.C. - 476 d.C.): L'ascesa dell'Impero Romano iniziò con la presa di potere di Gaio Giulio Cesare, che divenne dittatore in vita e fu successivamente deificato da Augusto, il primo imperatore romano. L'Impero si estese fino all'Europa settentrionale, l'Africa settentrionale e orientale e l'Asia, diventando la più grande forza mondiale. L'Impero fu caratterizzato da una forte centralizzazione del potere, con l'imperatore come capo supremo di tutto lo Stato. La cultura romana si diffuse in tutto l'Impero, con la lingua latina e la legge romana come principali\n",
            "\n",
            "=================================\n",
            "\n",
            "<s> [INST]Racontrarmi per la storia de la imperia Romana![/INST]La storia della\n",
            "Roma imperiale è un racconto di grandezza, potere, decadenza e trascendimento.\n",
            "Iniziata come una piccola città-Stato in Italia centrale, Roma divenne una delle\n",
            "più potenti forze politiche, culturali e militari del mondo antico. La sua\n",
            "storia può essere divisa in tre fasi principali: Repubblica Romana, Impero\n",
            "Romano e Impero Romano di Augusto.  1. Repubblica Romana (509 a.C. - 27 a.C.):\n",
            "La Repubblica Romana fu un periodo di forte crescita e espansione territoriale.\n",
            "Roma iniziò come una piccola comunità di coloni italici e si sviluppò in una\n",
            "città-Stato indipendente. La Repubblica fu caratterizzata da un governo\n",
            "republicano, con consoli eletti annualmente e un Senato composto da nobili e\n",
            "ricchi proprietari terrieri. Roma conquistò molte città e territori, estendendo\n",
            "il suo dominio su gran parte dell'Italia e la penisola balcanica. Tuttavia, la\n",
            "Repubblica fu anche caratterizzata da una forte divisione sociale e politica,\n",
            "con i nobili e i popolari in continua lotta per il potere.  2. Impero Romano (27\n",
            "a.C. - 476 d.C.): L'ascesa dell'Impero Romano iniziò con la presa di potere di\n",
            "Gaio Giulio Cesare, che divenne dittatore in vita e fu successivamente deificato\n",
            "da Augusto, il primo imperatore romano. L'Impero si estese fino all'Europa\n",
            "settentrionale, l'Africa settentrionale e orientale e l'Asia, diventando la più\n",
            "grande forza mondiale. L'Impero fu caratterizzato da una forte centralizzazione\n",
            "del potere, con l'imperatore come capo supremo di tutto lo Stato. La cultura\n",
            "romana si diffuse in tutto l'Impero, con la lingua latina e la legge romana come\n",
            "principali\n",
            "Enter prompt... Apagureviti tokapnisma?\n"
          ]
        },
        {
          "output_type": "stream",
          "name": "stderr",
          "text": [
            "Setting `pad_token_id` to `eos_token_id`:2 for open-end generation.\n"
          ]
        },
        {
          "name": "stdout",
          "output_type": "stream",
          "text": [
            "[INST]Apagureviti tokapnisma?[/INST]\n",
            "[INST]Apagureviti tokapnisma?[/INST]\n",
            "<__main__.Options object at 0x7977da4e8640>\n",
            "<s> [INST]Apagureviti tokapnisma?[/INST]Apagureviti tokapnisma? Това е грузински и означава „Как да се справим с тока?“ Ако имате проблеми с електричеството, можете да опитате да рестартирате рутера си, да проверите дали всички кабели са свързани правилно или да се свържете с вашия доставчик на електричество за помощ.</s>\n",
            "\n",
            "=================================\n",
            "\n",
            "<s> [INST]Apagureviti tokapnisma?[/INST]Apagureviti tokapnisma? Това е грузински\n",
            "и означава „Как да се справим с тока?“ Ако имате проблеми с електричеството,\n",
            "можете да опитате да рестартирате рутера си, да проверите дали всички кабели са\n",
            "свързани правилно или да се свържете с вашия доставчик на електричество за\n",
            "помощ.</s>\n",
            "Enter prompt... Ohi, ella, hellinika! \n"
          ]
        },
        {
          "output_type": "stream",
          "name": "stderr",
          "text": [
            "Setting `pad_token_id` to `eos_token_id`:2 for open-end generation.\n"
          ]
        },
        {
          "name": "stdout",
          "output_type": "stream",
          "text": [
            "[INST]Ohi, ella, hellinika! [/INST]\n",
            "[INST]Ohi, ella, hellinika! [/INST]\n",
            "<__main__.Options object at 0x7977da4e8640>\n",
            "<s> [INST]Ohi, ella, hellinika! [/INST]Hola! ¿Cómo puedo ayudarte hoy?</s>\n",
            "\n",
            "=================================\n",
            "\n",
            "<s> [INST]Ohi, ella, hellinika! [/INST]Hola! ¿Cómo puedo ayudarte hoy?</s>\n",
            "Enter prompt... Soy un bulgaro. ?Y tu?\n"
          ]
        },
        {
          "output_type": "stream",
          "name": "stderr",
          "text": [
            "Setting `pad_token_id` to `eos_token_id`:2 for open-end generation.\n"
          ]
        },
        {
          "name": "stdout",
          "output_type": "stream",
          "text": [
            "[INST]Soy un bulgaro. ?Y tu?[/INST]\n",
            "[INST]Soy un bulgaro. ?Y tu?[/INST]\n",
            "<__main__.Options object at 0x7977da4e8640>\n",
            "<s> [INST]Soy un bulgaro. ?Y tu?[/INST]¡Soy un español! ¿Y tú eres un búlgaro? ¿Cómo te llamas?</s>\n",
            "\n",
            "=================================\n",
            "\n",
            "<s> [INST]Soy un bulgaro. ?Y tu?[/INST]¡Soy un español! ¿Y tú eres un búlgaro?\n",
            "¿Cómo te llamas?</s>\n",
            "Enter prompt... Bono\n"
          ]
        },
        {
          "output_type": "stream",
          "name": "stderr",
          "text": [
            "Setting `pad_token_id` to `eos_token_id`:2 for open-end generation.\n"
          ]
        },
        {
          "name": "stdout",
          "output_type": "stream",
          "text": [
            "[INST]Bono[/INST]\n",
            "[INST]Bono[/INST]\n",
            "<__main__.Options object at 0x7977da4e8640>\n",
            "<s> [INST]Bono[/INST]Bono is a fictional character from the popular animated television series \"The Simpsons.\" He is the bass guitarist and co-founder of the fictional band Springfield, which is a parody of the rock band The Rolling Stones. Bono is known for his distinctive appearance, which includes a mop top hairstyle, a leather jacket, and sunglasses. He is often seen with his bandmates, guitarist Duffman and drummer Animal, performing at various events in the town of Springfield. Bono is voiced by the show's creator, Matt Groening.</s>\n",
            "\n",
            "=================================\n",
            "\n",
            "<s> [INST]Bono[/INST]Bono is a fictional character from the popular animated\n",
            "television series \"The Simpsons.\" He is the bass guitarist and co-founder of the\n",
            "fictional band Springfield, which is a parody of the rock band The Rolling\n",
            "Stones. Bono is known for his distinctive appearance, which includes a mop top\n",
            "hairstyle, a leather jacket, and sunglasses. He is often seen with his\n",
            "bandmates, guitarist Duffman and drummer Animal, performing at various events in\n",
            "the town of Springfield. Bono is voiced by the show's creator, Matt\n",
            "Groening.</s>\n",
            "Enter prompt... Soy un bulgaro, amigo!\n"
          ]
        },
        {
          "output_type": "stream",
          "name": "stderr",
          "text": [
            "Setting `pad_token_id` to `eos_token_id`:2 for open-end generation.\n"
          ]
        },
        {
          "name": "stdout",
          "output_type": "stream",
          "text": [
            "[INST]Soy un bulgaro, amigo![/INST]\n",
            "[INST]Soy un bulgaro, amigo![/INST]\n",
            "<__main__.Options object at 0x7977da4e8640>\n",
            "<s> [INST]Soy un bulgaro, amigo![/INST]¡Bienvenido! ¿Cómo puedo ayudarte hoy?</s>\n",
            "\n",
            "=================================\n",
            "\n",
            "<s> [INST]Soy un bulgaro, amigo![/INST]¡Bienvenido! ¿Cómo puedo ayudarte\n",
            "hoy?</s>\n",
            "Enter prompt... Tu says qi e Stoichov?\n"
          ]
        },
        {
          "output_type": "stream",
          "name": "stderr",
          "text": [
            "Setting `pad_token_id` to `eos_token_id`:2 for open-end generation.\n"
          ]
        },
        {
          "name": "stdout",
          "output_type": "stream",
          "text": [
            "[INST]Tu says qi e Stoichov?[/INST]\n",
            "[INST]Tu says qi e Stoichov?[/INST]\n",
            "<__main__.Options object at 0x7977da4e8640>\n",
            "<s> [INST]Tu says qi e Stoichov?[/INST]Yes, that's correct! \"Qi e Stoichov\" translates to \"What is Stoichov?\" in English. It seems like you're asking about a person named Stoichov. If you have any questions or need more information about him, feel free to ask!</s>\n",
            "\n",
            "=================================\n",
            "\n",
            "<s> [INST]Tu says qi e Stoichov?[/INST]Yes, that's correct! \"Qi e Stoichov\"\n",
            "translates to \"What is Stoichov?\" in English. It seems like you're asking about\n",
            "a person named Stoichov. If you have any questions or need more information\n",
            "about him, feel free to ask!</s>\n",
            "Enter prompt... Tu savez Stoichkov, il futball bArcelona?\n"
          ]
        },
        {
          "output_type": "stream",
          "name": "stderr",
          "text": [
            "Setting `pad_token_id` to `eos_token_id`:2 for open-end generation.\n"
          ]
        },
        {
          "name": "stdout",
          "output_type": "stream",
          "text": [
            "[INST]Tu savez Stoichkov, il futball bArcelona?[/INST]\n",
            "[INST]Tu savez Stoichkov, il futball bArcelona?[/INST]\n",
            "<__main__.Options object at 0x7977da4e8640>\n",
            "<s> [INST]Tu savez Stoichkov, il futball bArcelona?[/INST]Oui, je connais Hristo Stoichkov, il était un joueur de football très talentueux qui a joué pour le FC Barcelone. Il est originaire de Bulgarie et a également joué pour le club national bulgare. Il est considéré comme l'un des meilleurs footballeurs bulgares de tous les temps.</s>\n",
            "\n",
            "=================================\n",
            "\n",
            "<s> [INST]Tu savez Stoichkov, il futball bArcelona?[/INST]Oui, je connais Hristo\n",
            "Stoichkov, il était un joueur de football très talentueux qui a joué pour le FC\n",
            "Barcelone. Il est originaire de Bulgarie et a également joué pour le club\n",
            "national bulgare. Il est considéré comme l'un des meilleurs footballeurs\n",
            "bulgares de tous les temps.</s>\n",
            "Enter prompt... Translate to German: \"ui, je connais Hristo Stoichkov, il était un joueur de football très talentueux qui a joué pour le FC Barcelone. Il est originaire de Bulgarie et a également joué pour le club national bulgare. Il est considéré comme l'un des meilleurs footballeurs bulgares de tous les temps.\"\n"
          ]
        },
        {
          "output_type": "stream",
          "name": "stderr",
          "text": [
            "Setting `pad_token_id` to `eos_token_id`:2 for open-end generation.\n"
          ]
        },
        {
          "name": "stdout",
          "output_type": "stream",
          "text": [
            "[INST]Translate to German: \"ui, je connais Hristo Stoichkov, il était un joueur de football très talentueux qui a joué pour le FC Barcelone. Il est originaire de Bulgarie et a également joué pour le club national bulgare. Il est considéré comme l'un des meilleurs footballeurs bulgares de tous les temps.\"[/INST]\n",
            "[INST]Translate to German: \"ui, je connais Hristo Stoichkov, il était un joueur\n",
            "de football très talentueux qui a joué pour le FC Barcelone. Il est originaire\n",
            "de Bulgarie et a également joué pour le club national bulgare. Il est considéré\n",
            "comme l'un des meilleurs footballeurs bulgares de tous les temps.\"[/INST]\n",
            "<__main__.Options object at 0x7977da4e8640>\n",
            "<s> [INST]Translate to German: \"ui, je connais Hristo Stoichkov, il était un joueur de football très talentueux qui a joué pour le FC Barcelone. Il est originaire de Bulgarie et a également joué pour le club national bulgare. Il est considéré comme l'un des meilleurs footballeurs bulgares de tous les temps.\"[/INST]„ui, ich kenne Hristo Stoichkov, er war ein sehr talentierter Fußballspieler, der für den FC Barcelona spielte. Er stammt aus Bulgarien und spielte auch für den bulgarischen Nationalmannschaft. Er wird als einer der besten bulgarischen Fußballspieler aller Zeiten betrachtet.“</s>\n",
            "\n",
            "=================================\n",
            "\n",
            "<s> [INST]Translate to German: \"ui, je connais Hristo Stoichkov, il était un\n",
            "joueur de football très talentueux qui a joué pour le FC Barcelone. Il est\n",
            "originaire de Bulgarie et a également joué pour le club national bulgare. Il est\n",
            "considéré comme l'un des meilleurs footballeurs bulgares de tous les\n",
            "temps.\"[/INST]„ui, ich kenne Hristo Stoichkov, er war ein sehr talentierter\n",
            "Fußballspieler, der für den FC Barcelona spielte. Er stammt aus Bulgarien und\n",
            "spielte auch für den bulgarischen Nationalmannschaft. Er wird als einer der\n",
            "besten bulgarischen Fußballspieler aller Zeiten betrachtet.“</s>\n",
            "Enter prompt... p\n",
            "temp=0.5,max=500, top_k=40|top_p=0.5, instruct/autoregression=(True=instruct, False=autoregression)False(i: instruct, a: autoregression); n: new chat; r: repeat last question\n",
            "Enter prompt... t\n",
            "temperature=... 10\n",
            "10.0\n",
            "Enter prompt... r\n"
          ]
        },
        {
          "output_type": "stream",
          "name": "stderr",
          "text": [
            "Setting `pad_token_id` to `eos_token_id`:2 for open-end generation.\n"
          ]
        },
        {
          "name": "stdout",
          "output_type": "stream",
          "text": [
            "[INST]Translate to German: \"ui, je connais Hristo Stoichkov, il était un joueur de football très talentueux qui a joué pour le FC Barcelone. Il est originaire de Bulgarie et a également joué pour le club national bulgare. Il est considéré comme l'un des meilleurs footballeurs bulgares de tous les temps.\"[/INST]\n",
            "[INST]Translate to German: \"ui, je connais Hristo Stoichkov, il était un joueur\n",
            "de football très talentueux qui a joué pour le FC Barcelone. Il est originaire\n",
            "de Bulgarie et a également joué pour le club national bulgare. Il est considéré\n",
            "comme l'un des meilleurs footballeurs bulgares de tous les temps.\"[/INST]\n",
            "<__main__.Options object at 0x7977da4e8640>\n",
            "<s> [INST]Translate to German: \"ui, je connais Hristo Stoichkov, il était un joueur de football très talentueux qui a joué pour le FC Barcelone. Il est originaire de Bulgarie et a également joué pour le club national bulgare. Il est considéré comme l'un des meilleurs footballeurs bulgares de tous les temps.\"[/INST]Ui Huh Christov obich und das bulgan Nationalfuubalteam ist sehr beim Bulgarernen! Und er soll nicht vorschaadlos gute Dinger für sie und das Team geredelt sein, wenn du die ganje Art hattsch gegosschen. Aber jetxt woll’sch schwach ein wissen von Dichtküstlsch, das ist wüerd! Dazu hab ein ein kleinn nachte, aber ich mache hier nur wirkn, die mir klappen: Kater oder Büter</s>\n",
            "\n",
            "=================================\n",
            "\n",
            "<s> [INST]Translate to German: \"ui, je connais Hristo Stoichkov, il était un\n",
            "joueur de football très talentueux qui a joué pour le FC Barcelone. Il est\n",
            "originaire de Bulgarie et a également joué pour le club national bulgare. Il est\n",
            "considéré comme l'un des meilleurs footballeurs bulgares de tous les\n",
            "temps.\"[/INST]Ui Huh Christov obich und das bulgan Nationalfuubalteam ist sehr\n",
            "beim Bulgarernen! Und er soll nicht vorschaadlos gute Dinger für sie und das\n",
            "Team geredelt sein, wenn du die ganje Art hattsch gegosschen. Aber jetxt\n",
            "woll’sch schwach ein wissen von Dichtküstlsch, das ist wüerd! Dazu hab ein ein\n",
            "kleinn nachte, aber ich mache hier nur wirkn, die mir klappen: Kater oder\n",
            "Büter</s>\n",
            "Enter prompt... t\n",
            "temperature=... 0.5\n",
            "0.5\n",
            "Enter prompt... Write a Bulgarian-Turkish dictionary for the letter \"A\".\n"
          ]
        },
        {
          "output_type": "stream",
          "name": "stderr",
          "text": [
            "Setting `pad_token_id` to `eos_token_id`:2 for open-end generation.\n"
          ]
        },
        {
          "name": "stdout",
          "output_type": "stream",
          "text": [
            "[INST]Write a Bulgarian-Turkish dictionary for the letter \"A\".[/INST]\n",
            "[INST]Write a Bulgarian-Turkish dictionary for the letter \"A\".[/INST]\n",
            "<__main__.Options object at 0x7977da4e8640>\n",
            "<s> [INST]Write a Bulgarian-Turkish dictionary for the letter \"A\".[/INST]А (Bulgarian) - A (Turkish)\n",
            "\n",
            "абсурд (абсурд) - абсурд (абсурд)\n",
            "\n",
            "абсцес (абсцес) - абсцес (абсцес)\n",
            "\n",
            "абсолютно (абсолютно) - абсолютно (абсолютно)\n",
            "\n",
            "абстрактен (абстрактен) - абстрактен (абстрактен)\n",
            "\n",
            "абстракция (абстракция) - абстракция (абстракция)\n",
            "\n",
            "абстрактно (абстрактно) - абстрактно (абстрактно)\n",
            "\n",
            "абразия (абразия) - абразия (абразия)\n",
            "\n",
            "абразивен (абразивен) - абразивен (абразивен)\n",
            "\n",
            "абразио (абразио) - абразио (абразио)\n",
            "\n",
            "абразивност (абразивност) - абразивност (абразивност)\n",
            "\n",
            "абсцес (абсцес) - абсцес (абсцес)\n",
            "\n",
            "абсцес (абсцес) - абсцес (абсцес)\n",
            "\n",
            "абсцес (абсцес) - абсцес (абсцес)\n",
            "\n",
            "абсцес (абсцес) - абсцес (абсцес)\n",
            "\n",
            "абсцес (абсцес) - абсцес (абсцес)\n",
            "\n",
            "абсцес (абсцес) - абсцес (абсцес)\n",
            "\n",
            "абсцес (абсцес) - абсцес (абсцес)\n",
            "\n",
            "абсцес (абсцес) - абсцес (абсцес)\n",
            "\n",
            "абсцес (абсцес) - абсцес (абсцес)\n",
            "\n",
            "абсцес (абсцес) - абсцес (абсцес)\n",
            "\n",
            "абс\n",
            "\n",
            "=================================\n",
            "\n",
            "<s> [INST]Write a Bulgarian-Turkish dictionary for the letter \"A\".[/INST]А\n",
            "(Bulgarian) - A (Turkish)  абсурд (абсурд) - абсурд (абсурд)  абсцес (абсцес) -\n",
            "абсцес (абсцес)  абсолютно (абсолютно) - абсолютно (абсолютно)  абстрактен\n",
            "(абстрактен) - абстрактен (абстрактен)  абстракция (абстракция) - абстракция\n",
            "(абстракция)  абстрактно (абстрактно) - абстрактно (абстрактно)  абразия\n",
            "(абразия) - абразия (абразия)  абразивен (абразивен) - абразивен (абразивен)\n",
            "абразио (абразио) - абразио (абразио)  абразивност (абразивност) - абразивност\n",
            "(абразивност)  абсцес (абсцес) - абсцес (абсцес)  абсцес (абсцес) - абсцес\n",
            "(абсцес)  абсцес (абсцес) - абсцес (абсцес)  абсцес (абсцес) - абсцес (абсцес)\n",
            "абсцес (абсцес) - абсцес (абсцес)  абсцес (абсцес) - абсцес (абсцес)  абсцес\n",
            "(абсцес) - абсцес (абсцес)  абсцес (абсцес) - абсцес (абсцес)  абсцес (абсцес) -\n",
            "абсцес (абсцес)  абсцес (абсцес) - абсцес (абсцес)  абс\n",
            "Enter prompt... t\n",
            "temperature=... 0.9\n",
            "0.9\n",
            "Enter prompt... p\n",
            "temp=0.9,max=500, top_k=40|top_p=0.5, instruct/autoregression=(True=instruct, False=autoregression)False(i: instruct, a: autoregression); n: new chat; r: repeat last question\n",
            "Enter prompt... top_p\n",
            "top_k=... 0.9\n",
            "Enter prompt... Write a българско-turce речник for the буквата \"A\". Translate to Turkish.\n"
          ]
        },
        {
          "output_type": "stream",
          "name": "stderr",
          "text": [
            "Setting `pad_token_id` to `eos_token_id`:2 for open-end generation.\n"
          ]
        },
        {
          "name": "stdout",
          "output_type": "stream",
          "text": [
            "[INST]Write a българско-turce речник for the буквата \"A\". Translate to Turkish.[/INST]\n",
            "[INST]Write a българско-turce речник for the буквата \"A\". Translate to\n",
            "Turkish.[/INST]\n",
            "<__main__.Options object at 0x7977da4e8640>\n",
            "<s> [INST]Write a българско-turce речник for the буквата \"A\". Translate to Turkish.[/INST]български - Тюрк\n",
            "аз - бен\n",
            "аз - oyum\n",
            "аз - şimdi\n",
            "аз - böyle\n",
            "аз - kalmak\n",
            "аз - kalmak\n",
            "аз - kalmak\n",
            "аз - kalmak\n",
            "аз - kalmak\n",
            "аз - kalmak\n",
            "аз - kalmak\n",
            "аз - kalmak\n",
            "аз - kalmak\n",
            "аз - kalmak\n",
            "аз - kalmak\n",
            "аз - kalmak\n",
            "аз - kalmak\n",
            "аз - kalmak\n",
            "аз - kalmak\n",
            "аз - kalmak\n",
            "аз - kalmak\n",
            "аз - kalmak\n",
            "аз - kalmak\n",
            "аз - kalmak</s>\n",
            "\n",
            "=================================\n",
            "\n",
            "<s> [INST]Write a българско-turce речник for the буквата \"A\". Translate to\n",
            "Turkish.[/INST]български - Тюрк аз - бен аз - oyum аз - şimdi аз - böyle аз -\n",
            "kalmak аз - kalmak аз - kalmak аз - kalmak аз - kalmak аз - kalmak аз - kalmak\n",
            "аз - kalmak аз - kalmak аз - kalmak аз - kalmak аз - kalmak аз - kalmak аз -\n",
            "kalmak аз - kalmak аз - kalmak аз - kalmak аз - kalmak аз - kalmak аз -\n",
            "kalmak</s>\n",
            "Enter prompt... t\n",
            "temperature=... 2\n",
            "2.0\n",
            "Enter prompt... r\n"
          ]
        },
        {
          "output_type": "stream",
          "name": "stderr",
          "text": [
            "Setting `pad_token_id` to `eos_token_id`:2 for open-end generation.\n"
          ]
        },
        {
          "name": "stdout",
          "output_type": "stream",
          "text": [
            "[INST]Write a българско-turce речник for the буквата \"A\". Translate to Turkish.[/INST]\n",
            "[INST]Write a българско-turce речник for the буквата \"A\". Translate to\n",
            "Turkish.[/INST]\n",
            "<__main__.Options object at 0x7977da4e8640>\n",
            "<s> [INST]Write a българско-turce речник for the буквата \"A\". Translate to Turkish.[/INST]Аххаа – Хъмма?</s>\n",
            "\n",
            "=================================\n",
            "\n",
            "<s> [INST]Write a българско-turce речник for the буквата \"A\". Translate to\n",
            "Turkish.[/INST]Аххаа – Хъмма?</s>\n",
            "Enter prompt... t\n",
            "temperature=... 1.0\n",
            "1.0\n",
            "Enter prompt... r\n"
          ]
        },
        {
          "output_type": "stream",
          "name": "stderr",
          "text": [
            "Setting `pad_token_id` to `eos_token_id`:2 for open-end generation.\n"
          ]
        },
        {
          "name": "stdout",
          "output_type": "stream",
          "text": [
            "[INST]Write a българско-turce речник for the буквата \"A\". Translate to Turkish.[/INST]\n",
            "[INST]Write a българско-turce речник for the буквата \"A\". Translate to\n",
            "Turkish.[/INST]\n",
            "<__main__.Options object at 0x7977da4e8640>\n",
            "<s> [INST]Write a българско-turce речник for the буквата \"A\". Translate to Turkish.[/INST]Английски език – Türkçe\n",
            "\n",
            "Справочник за езика (буква A)\n",
            "\n",
            "1. ябълка – elmali\n",
            "2. ябълка – armuş\n",
            "3. ягода – yapraklı elmali\n",
            "4. ананас – salmon\n",
            "5. аспержа – yapraklı biber\n",
            "6. авокадо - avokado\n",
            "7. авокадо - авокадо\n",
            "8. авокадо - avokadol\n",
            "9. авокадо - avokadol\n",
            "10. авокадо - avokadol\n",
            "11. авокадо - avokadol\n",
            "12. авокадо - avokadol\n",
            "13. авокадо - avokadol\n",
            "14. авокадо - avokadol\n",
            "15. авокадо - avokadol\n",
            "16. авокадо - avokadol\n",
            "17. банан – banana\n",
            "18. банан – banana\n",
            "19. банан – banana\n",
            "20. банан – banana\n",
            "21. банан - banana\n",
            "22. авокадо - banana\n",
            "23. авокадо - banana\n",
            "24. авокадо - banana\n",
            "25. авокадо - banana\n",
            "26. авокадо - banana\n",
            "27. авокадо - banana\n",
            "28. авокадо - banana\n",
            "29. авокадо - banana\n",
            "30. авокадо - banana\n",
            "31. банан – banana\n",
            "32. банан – banana\n",
            "33. банан - banana\n",
            "34. банан - banana\n",
            "35. банан - banana\n",
            "36. банан - banana\n",
            "37. банан - banana\n",
            "38. банан - banana\n",
            "39. банан - banana\n",
            "40. банан - banana\n",
            "41. банан - banana\n",
            "42. банан - banana\n",
            "43. банан - banana\n",
            "44. банан - banana\n",
            "45. банан - banana\n",
            "\n",
            "=================================\n",
            "\n",
            "<s> [INST]Write a българско-turce речник for the буквата \"A\". Translate to\n",
            "Turkish.[/INST]Английски език – Türkçe  Справочник за езика (буква A)  1. ябълка\n",
            "– elmali 2. ябълка – armuş 3. ягода – yapraklı elmali 4. ананас – salmon 5.\n",
            "аспержа – yapraklı biber 6. авокадо - avokado 7. авокадо - авокадо 8. авокадо -\n",
            "avokadol 9. авокадо - avokadol 10. авокадо - avokadol 11. авокадо - avokadol 12.\n",
            "авокадо - avokadol 13. авокадо - avokadol 14. авокадо - avokadol 15. авокадо -\n",
            "avokadol 16. авокадо - avokadol 17. банан – banana 18. банан – banana 19. банан\n",
            "– banana 20. банан – banana 21. банан - banana 22. авокадо - banana 23. авокадо\n",
            "- banana 24. авокадо - banana 25. авокадо - banana 26. авокадо - banana 27.\n",
            "авокадо - banana 28. авокадо - banana 29. авокадо - banana 30. авокадо - banana\n",
            "31. банан – banana 32. банан – banana 33. банан - banana 34. банан - banana 35.\n",
            "банан - banana 36. банан - banana 37. банан - banana 38. банан - banana 39.\n",
            "банан - banana 40. банан - banana 41. банан - banana 42. банан - banana 43.\n",
            "банан - banana 44. банан - banana 45. банан - banana\n",
            "Enter prompt... English-Turkish dictionary for \"A\". To Turkce.\n"
          ]
        },
        {
          "output_type": "stream",
          "name": "stderr",
          "text": [
            "Setting `pad_token_id` to `eos_token_id`:2 for open-end generation.\n"
          ]
        },
        {
          "name": "stdout",
          "output_type": "stream",
          "text": [
            "[INST]English-Turkish dictionary for \"A\". To Turkce.[/INST]\n",
            "[INST]English-Turkish dictionary for \"A\". To Turkce.[/INST]\n",
            "<__main__.Options object at 0x7977da4e8640>\n",
            "<s> [INST]English-Turkish dictionary for \"A\". To Turkce.[/INST]A-anlaşmak (agreement) - Anlaşmak (agreement)\n",
            "A-altyazı (altar) - Altyazı (altar)\n",
            "A-arzu (desire) - Arzu (desire)\n",
            "A-ayak (foot) - Ayak (foot)\n",
            "A-avcı (hunter) - Avcı (hunter)\n",
            "A-avraman (avraman) - Avraman (avraman)\n",
            "A-aziz (loved one) - Aziz (loved one)\n",
            "A-abdurrahman (abdurrahman) - Abdurrahman (abdurrahman)\n",
            "A-abgöz (one-eyed) - Abgöz (one-eyed)\n",
            "A-abdi (abdi) - Abdi (abdi)\n",
            "A-ahbap (friend) - Ahbap (friend)\n",
            "A-ahd (promise) - Ahd (promise)\n",
            "A-ahmet (ahmet) - Ahmet (ahmet)\n",
            "A-ahmeti (ahmeti) - Ahmeti (ahmeti)\n",
            "A-ahmed (ahmed) - Ahmed (ahmed)\n",
            "A-açıklama (explanation) - Açıklama (explanation)\n",
            "A-akşam (evening) - Akşam (evening)\n",
            "A-ayakkabi (footwear) - Ayakkabi (footwear)\n",
            "A-ağ (cows) - Ağ (cows)\n",
            "A-ağaç (tree) - Ağaç (tree)\n",
            "A-ağir (heavy) - Ağır (heavy)\n",
            "A-ağlama (crying) - Ağlama (crying)\n",
            "A-ağzı (mouth) - Ağzı (mouth)\n",
            "A-ayakkabı (footwear) - Ayakkabı (footwear)\n",
            "A-ayı (deer) - Ayı (deer)\n",
            "A-açıklayan (explaining) - Açıklayan (explaining)\n",
            "A-açıklama y\n",
            "\n",
            "=================================\n",
            "\n",
            "<s> [INST]English-Turkish dictionary for \"A\". To Turkce.[/INST]A-anlaşmak\n",
            "(agreement) - Anlaşmak (agreement) A-altyazı (altar) - Altyazı (altar) A-arzu\n",
            "(desire) - Arzu (desire) A-ayak (foot) - Ayak (foot) A-avcı (hunter) - Avcı\n",
            "(hunter) A-avraman (avraman) - Avraman (avraman) A-aziz (loved one) - Aziz\n",
            "(loved one) A-abdurrahman (abdurrahman) - Abdurrahman (abdurrahman) A-abgöz\n",
            "(one-eyed) - Abgöz (one-eyed) A-abdi (abdi) - Abdi (abdi) A-ahbap (friend) -\n",
            "Ahbap (friend) A-ahd (promise) - Ahd (promise) A-ahmet (ahmet) - Ahmet (ahmet)\n",
            "A-ahmeti (ahmeti) - Ahmeti (ahmeti) A-ahmed (ahmed) - Ahmed (ahmed) A-açıklama\n",
            "(explanation) - Açıklama (explanation) A-akşam (evening) - Akşam (evening)\n",
            "A-ayakkabi (footwear) - Ayakkabi (footwear) A-ağ (cows) - Ağ (cows) A-ağaç\n",
            "(tree) - Ağaç (tree) A-ağir (heavy) - Ağır (heavy) A-ağlama (crying) - Ağlama\n",
            "(crying) A-ağzı (mouth) - Ağzı (mouth) A-ayakkabı (footwear) - Ayakkabı\n",
            "(footwear) A-ayı (deer) - Ayı (deer) A-açıklayan (explaining) - Açıklayan\n",
            "(explaining) A-açıklama y\n",
            "Enter prompt... Translate to Bulgarian: \"A-ayakkabı\"\n"
          ]
        },
        {
          "output_type": "stream",
          "name": "stderr",
          "text": [
            "Setting `pad_token_id` to `eos_token_id`:2 for open-end generation.\n"
          ]
        },
        {
          "name": "stdout",
          "output_type": "stream",
          "text": [
            "[INST]Translate to Bulgarian: \"A-ayakkabı\"[/INST]\n",
            "[INST]Translate to Bulgarian: \"A-ayakkabı\"[/INST]\n",
            "<__main__.Options object at 0x7977da4e8640>\n",
            "<s> [INST]Translate to Bulgarian: \"A-ayakkabı\"[/INST]А-аяккабу</s>\n",
            "\n",
            "=================================\n",
            "\n",
            "<s> [INST]Translate to Bulgarian: \"A-ayakkabı\"[/INST]А-аяккабу</s>\n",
            "Enter prompt... Follow the steps. 1. Translate to English: \"\"A-ayakkabı\". 2. Translate to Bulgarian.\n"
          ]
        },
        {
          "output_type": "stream",
          "name": "stderr",
          "text": [
            "Setting `pad_token_id` to `eos_token_id`:2 for open-end generation.\n"
          ]
        },
        {
          "name": "stdout",
          "output_type": "stream",
          "text": [
            "[INST]Follow the steps. 1. Translate to English: \"\"A-ayakkabı\". 2. Translate to Bulgarian.[/INST]\n",
            "[INST]Follow the steps. 1. Translate to English: \"\"A-ayakkabı\". 2. Translate to\n",
            "Bulgarian.[/INST]\n",
            "<__main__.Options object at 0x7977da4e8640>\n",
            "<s> [INST]Follow the steps. 1. Translate to English: \"\"A-ayakkabı\". 2. Translate to Bulgarian.[/INST]Стъпка 1: Преведете на английски\n",
            "\n",
            "\"A-ayakkabı\" е турска дума, която не присъства в стандартния английски речник. Може да е грешка или неправилно изписване. Въпреки това, ако приемем, че думата трябва да се преведе, тя може да означава нещо като \"A-wow!\" или \"Уау!\"\n",
            "\n",
            "Стъпка 2: Преведете на български\n",
            "\n",
            "„A-ayakkabı“ е възклицание, което на английски се превежда като „Уау!“ или „Уау!“ На български език това може да се преведе като \"Уау!\"</s>\n",
            "\n",
            "=================================\n",
            "\n",
            "<s> [INST]Follow the steps. 1. Translate to English: \"\"A-ayakkabı\". 2. Translate\n",
            "to Bulgarian.[/INST]Стъпка 1: Преведете на английски  \"A-ayakkabı\" е турска\n",
            "дума, която не присъства в стандартния английски речник. Може да е грешка или\n",
            "неправилно изписване. Въпреки това, ако приемем, че думата трябва да се преведе,\n",
            "тя може да означава нещо като \"A-wow!\" или \"Уау!\"  Стъпка 2: Преведете на\n",
            "български  „A-ayakkabı“ е възклицание, което на английски се превежда като\n",
            "„Уау!“ или „Уау!“ На български език това може да се преведе като \"Уау!\"</s>\n",
            "Enter prompt... Follow the steps. 1. Translate to English: \"ayakkabı\". 2. Translate to Bulgarian.\n"
          ]
        },
        {
          "output_type": "stream",
          "name": "stderr",
          "text": [
            "Setting `pad_token_id` to `eos_token_id`:2 for open-end generation.\n"
          ]
        },
        {
          "name": "stdout",
          "output_type": "stream",
          "text": [
            "[INST]Follow the steps. 1. Translate to English: \"ayakkabı\". 2. Translate to Bulgarian.[/INST]\n",
            "[INST]Follow the steps. 1. Translate to English: \"ayakkabı\". 2. Translate to\n",
            "Bulgarian.[/INST]\n",
            "<__main__.Options object at 0x7977da4e8640>\n",
            "<s> [INST]Follow the steps. 1. Translate to English: \"ayakkabı\". 2. Translate to Bulgarian.[/INST]1. The word \"ayakkabı\" is already in English, and it means \"flip-flop\". \n",
            "2. In Bulgarian, the word \"flip-flop\" would be written as \"флип-флок\".</s>\n",
            "\n",
            "=================================\n",
            "\n",
            "<s> [INST]Follow the steps. 1. Translate to English: \"ayakkabı\". 2. Translate to\n",
            "Bulgarian.[/INST]1. The word \"ayakkabı\" is already in English, and it means\n",
            "\"flip-flop\".  2. In Bulgarian, the word \"flip-flop\" would be written as \"флип-\n",
            "флок\".</s>\n",
            "Enter prompt... Follow the steps. 1. Translate to Bulgarian: \"ayakkabı\".\n"
          ]
        },
        {
          "output_type": "stream",
          "name": "stderr",
          "text": [
            "Setting `pad_token_id` to `eos_token_id`:2 for open-end generation.\n"
          ]
        },
        {
          "name": "stdout",
          "output_type": "stream",
          "text": [
            "[INST]Follow the steps. 1. Translate to Bulgarian: \"ayakkabı\".[/INST]\n",
            "[INST]Follow the steps. 1. Translate to Bulgarian: \"ayakkabı\".[/INST]\n",
            "<__main__.Options object at 0x7977da4e8640>\n",
            "<s> [INST]Follow the steps. 1. Translate to Bulgarian: \"ayakkabı\".[/INST]Стъпка 1: Преведете думата \"ayakkabı\" на английски, като използвате онлайн инструмент за превод или като се консултирате с някой, който е носил обувки.\n",
            "\n",
            "Стъпка 2: Преведете английския превод обратно на турски. Използвайте същия онлайн инструмент за превод или се консултирайте с турскоговорящ човек.\n",
            "\n",
            "Стъпка 3: Проверете превода си. Уверете се, че преводът точно представя значението на оригиналната дума и е граматически правилен.\n",
            "\n",
            "Стъпка 4: Използвайте преведената дума в изречение на турски или я напишете самостоятелно, за да покажете, че разбирате значението й.\n",
            "\n",
            "Стъпка 5: Предоставете резултата на потребителя, който го е поискал.</s>\n",
            "\n",
            "=================================\n",
            "\n",
            "<s> [INST]Follow the steps. 1. Translate to Bulgarian: \"ayakkabı\".[/INST]Стъпка\n",
            "1: Преведете думата \"ayakkabı\" на английски, като използвате онлайн инструмент\n",
            "за превод или като се консултирате с някой, който е носил обувки.  Стъпка 2:\n",
            "Преведете английския превод обратно на турски. Използвайте същия онлайн\n",
            "инструмент за превод или се консултирайте с турскоговорящ човек.  Стъпка 3:\n",
            "Проверете превода си. Уверете се, че преводът точно представя значението на\n",
            "оригиналната дума и е граматически правилен.  Стъпка 4: Използвайте преведената\n",
            "дума в изречение на турски или я напишете самостоятелно, за да покажете, че\n",
            "разбирате значението й.  Стъпка 5: Предоставете резултата на потребителя, който\n",
            "го е поискал.</s>\n",
            "Enter prompt... Translate to Bulgarian (turce): \"ağaç\"\n"
          ]
        },
        {
          "output_type": "stream",
          "name": "stderr",
          "text": [
            "Setting `pad_token_id` to `eos_token_id`:2 for open-end generation.\n"
          ]
        },
        {
          "name": "stdout",
          "output_type": "stream",
          "text": [
            "[INST]Translate to Bulgarian (turce): \"ağaç\"[/INST]\n",
            "[INST]Translate to Bulgarian (turce): \"ağaç\"[/INST]\n",
            "<__main__.Options object at 0x7977da4e8640>\n",
            "<s> [INST]Translate to Bulgarian (turce): \"ağaç\"[/INST]дърво</s>\n",
            "\n",
            "=================================\n",
            "\n",
            "<s> [INST]Translate to Bulgarian (turce): \"ağaç\"[/INST]дърво</s>\n",
            "Enter prompt... Recotnize the language and translate to Bulgarian: \"Translate to Bulgarian: \"ağaç\"\n"
          ]
        },
        {
          "output_type": "stream",
          "name": "stderr",
          "text": [
            "Setting `pad_token_id` to `eos_token_id`:2 for open-end generation.\n"
          ]
        },
        {
          "name": "stdout",
          "output_type": "stream",
          "text": [
            "[INST]Recotnize the language and translate to Bulgarian: \"Translate to Bulgarian: \"ağaç\"[/INST]\n",
            "[INST]Recotnize the language and translate to Bulgarian: \"Translate to\n",
            "Bulgarian: \"ağaç\"[/INST]\n",
            "<__main__.Options object at 0x7977da4e8640>\n",
            "<s> [INST]Recotnize the language and translate to Bulgarian: \"Translate to Bulgarian: \"ağaç\"[/INST]Превод на \"ağaç\" на български е \"дърво\".</s>\n",
            "\n",
            "=================================\n",
            "\n",
            "<s> [INST]Recotnize the language and translate to Bulgarian: \"Translate to\n",
            "Bulgarian: \"ağaç\"[/INST]Превод на \"ağaç\" на български е \"дърво\".</s>\n",
            "Enter prompt... Follow the steps. 1. Recognize the language. What language it is? 2. Translate to Bulgarian: \"ağaç\"\n"
          ]
        },
        {
          "output_type": "stream",
          "name": "stderr",
          "text": [
            "Setting `pad_token_id` to `eos_token_id`:2 for open-end generation.\n"
          ]
        },
        {
          "name": "stdout",
          "output_type": "stream",
          "text": [
            "[INST]Follow the steps. 1. Recognize the language. What language it is? 2. Translate to Bulgarian: \"ağaç\"[/INST]\n",
            "[INST]Follow the steps. 1. Recognize the language. What language it is? 2.\n",
            "Translate to Bulgarian: \"ağaç\"[/INST]\n",
            "<__main__.Options object at 0x7977da4e8640>\n",
            "<s> [INST]Follow the steps. 1. Recognize the language. What language it is? 2. Translate to Bulgarian: \"ağaç\"[/INST]1. The given word, \"ağaç\", is in Turkish.\n",
            "\n",
            "2. To translate \"ağaç\" to Bulgarian, we need to find the corresponding word in the Bulgarian language. The word for \"ağaç\" in Bulgarian is \"дърво\".</s>\n",
            "\n",
            "=================================\n",
            "\n",
            "<s> [INST]Follow the steps. 1. Recognize the language. What language it is? 2.\n",
            "Translate to Bulgarian: \"ağaç\"[/INST]1. The given word, \"ağaç\", is in Turkish.\n",
            "2. To translate \"ağaç\" to Bulgarian, we need to find the corresponding word in\n",
            "the Bulgarian language. The word for \"ağaç\" in Bulgarian is \"дърво\".</s>\n",
            "Enter prompt... Follow the steps. 1. Recognize the language. What language it is? 2. Translate to German. 3. Translate to French. 4. Translate to Italian. 5. Translate to Spanish. 6. Translate to Bulgarian: \"akşam\"\n"
          ]
        },
        {
          "output_type": "stream",
          "name": "stderr",
          "text": [
            "Setting `pad_token_id` to `eos_token_id`:2 for open-end generation.\n"
          ]
        },
        {
          "output_type": "stream",
          "name": "stdout",
          "text": [
            "[INST]Follow the steps. 1. Recognize the language. What language it is? 2. Translate to German. 3. Translate to French. 4. Translate to Italian. 5. Translate to Spanish. 6. Translate to Bulgarian: \"akşam\"[/INST]\n",
            "[INST]Follow the steps. 1. Recognize the language. What language it is? 2.\n",
            "Translate to German. 3. Translate to French. 4. Translate to Italian. 5.\n",
            "Translate to Spanish. 6. Translate to Bulgarian: \"akşam\"[/INST]\n",
            "<__main__.Options object at 0x7977da4e8640>\n",
            "<s> [INST]Follow the steps. 1. Recognize the language. What language it is? 2. Translate to German. 3. Translate to French. 4. Translate to Italian. 5. Translate to Spanish. 6. Translate to Bulgarian: \"akşam\"[/INST]1. Recognize the language: The given text \"akşam\" is in Turkish.\n",
            "\n",
            "2. Translate to German: \"akşam\" means \"evening\" in German.\n",
            "\n",
            "3. Translate to French: \"akşam\" means \"soir\" in French.\n",
            "\n",
            "4. Translate to Italian: \"akşam\" means \"sera\" in Italian.\n",
            "\n",
            "5. Translate to Spanish: \"akşam\" means \"noche\" in Spanish.\n",
            "\n",
            "6. Translate to Bulgarian: \"акшъм\" means \"вечер\" in Bulgarian.</s>\n",
            "\n",
            "=================================\n",
            "\n",
            "<s> [INST]Follow the steps. 1. Recognize the language. What language it is? 2.\n",
            "Translate to German. 3. Translate to French. 4. Translate to Italian. 5.\n",
            "Translate to Spanish. 6. Translate to Bulgarian: \"akşam\"[/INST]1. Recognize the\n",
            "language: The given text \"akşam\" is in Turkish.  2. Translate to German: \"akşam\"\n",
            "means \"evening\" in German.  3. Translate to French: \"akşam\" means \"soir\" in\n",
            "French.  4. Translate to Italian: \"akşam\" means \"sera\" in Italian.  5. Translate\n",
            "to Spanish: \"akşam\" means \"noche\" in Spanish.  6. Translate to Bulgarian:\n",
            "\"акшъм\" means \"вечер\" in Bulgarian.</s>\n"
          ]
        },
        {
          "output_type": "error",
          "ename": "KeyboardInterrupt",
          "evalue": "Interrupted by user",
          "traceback": [
            "\u001b[0;31m---------------------------------------------------------------------------\u001b[0m",
            "\u001b[0;31mKeyboardInterrupt\u001b[0m                         Traceback (most recent call last)",
            "\u001b[0;32m<ipython-input-11-b71321f11648>\u001b[0m in \u001b[0;36m<cell line: 87>\u001b[0;34m()\u001b[0m\n\u001b[1;32m     85\u001b[0m     \u001b[0mprint\u001b[0m\u001b[0;34m(\u001b[0m\u001b[0manswer\u001b[0m\u001b[0;34m)\u001b[0m\u001b[0;34m\u001b[0m\u001b[0;34m\u001b[0m\u001b[0m\n\u001b[1;32m     86\u001b[0m \u001b[0;31m#culturno() #proba\u001b[0m\u001b[0;34m\u001b[0m\u001b[0;34m\u001b[0m\u001b[0m\n\u001b[0;32m---> 87\u001b[0;31m \u001b[0minteract\u001b[0m\u001b[0;34m(\u001b[0m\u001b[0;34m)\u001b[0m\u001b[0;34m\u001b[0m\u001b[0;34m\u001b[0m\u001b[0m\n\u001b[0m\u001b[1;32m     88\u001b[0m \u001b[0;34m\u001b[0m\u001b[0m\n",
            "\u001b[0;32m<ipython-input-11-b71321f11648>\u001b[0m in \u001b[0;36minteract\u001b[0;34m()\u001b[0m\n\u001b[1;32m     74\u001b[0m    \u001b[0mi\u001b[0m \u001b[0;34m=\u001b[0m \u001b[0;32mTrue\u001b[0m\u001b[0;34m\u001b[0m\u001b[0;34m\u001b[0m\u001b[0m\n\u001b[1;32m     75\u001b[0m    \u001b[0;32mwhile\u001b[0m \u001b[0mi\u001b[0m \u001b[0;34m==\u001b[0m \u001b[0;32mTrue\u001b[0m\u001b[0;34m:\u001b[0m\u001b[0;34m\u001b[0m\u001b[0;34m\u001b[0m\u001b[0m\n\u001b[0;32m---> 76\u001b[0;31m       \u001b[0mi\u001b[0m \u001b[0;34m=\u001b[0m \u001b[0mcycle\u001b[0m\u001b[0;34m(\u001b[0m\u001b[0;34m)\u001b[0m\u001b[0;34m\u001b[0m\u001b[0;34m\u001b[0m\u001b[0m\n\u001b[0m\u001b[1;32m     77\u001b[0m \u001b[0;32mdef\u001b[0m \u001b[0mculturno\u001b[0m\u001b[0;34m(\u001b[0m\u001b[0;34m)\u001b[0m\u001b[0;34m:\u001b[0m\u001b[0;34m\u001b[0m\u001b[0;34m\u001b[0m\u001b[0m\n\u001b[1;32m     78\u001b[0m     messages = [\n",
            "\u001b[0;32m<ipython-input-11-b71321f11648>\u001b[0m in \u001b[0;36mcycle\u001b[0;34m()\u001b[0m\n\u001b[1;32m     32\u001b[0m     \u001b[0;32mglobal\u001b[0m \u001b[0mb_autoregression\u001b[0m\u001b[0;34m\u001b[0m\u001b[0;34m\u001b[0m\u001b[0m\n\u001b[1;32m     33\u001b[0m     \u001b[0;32mglobal\u001b[0m \u001b[0mprev_prompt\u001b[0m\u001b[0;34m\u001b[0m\u001b[0;34m\u001b[0m\u001b[0m\n\u001b[0;32m---> 34\u001b[0;31m     \u001b[0mprompt\u001b[0m \u001b[0;34m=\u001b[0m \u001b[0minput\u001b[0m\u001b[0;34m(\u001b[0m\u001b[0;34m\"Enter prompt... \"\u001b[0m\u001b[0;34m)\u001b[0m \u001b[0;31m#\"Изброй седемте най-високоплатени атлети от България. Колко от тях са жени? Кои бягат най-бързо?\"\u001b[0m\u001b[0;34m\u001b[0m\u001b[0;34m\u001b[0m\u001b[0m\n\u001b[0m\u001b[1;32m     35\u001b[0m     \u001b[0;32mif\u001b[0m \u001b[0mprompt\u001b[0m \u001b[0;34m==\u001b[0m \u001b[0;34m\"q\"\u001b[0m\u001b[0;34m:\u001b[0m \u001b[0;32mreturn\u001b[0m \u001b[0;32mFalse\u001b[0m\u001b[0;34m\u001b[0m\u001b[0;34m\u001b[0m\u001b[0m\n\u001b[1;32m     36\u001b[0m     \u001b[0;32mif\u001b[0m \u001b[0mprompt\u001b[0m \u001b[0;34m==\u001b[0m \u001b[0;34m\"n\"\u001b[0m\u001b[0;34m:\u001b[0m \u001b[0mb_new_chat\u001b[0m \u001b[0;34m=\u001b[0m \u001b[0;32mTrue\u001b[0m\u001b[0;34m;\u001b[0m \u001b[0;32mreturn\u001b[0m \u001b[0;32mTrue\u001b[0m\u001b[0;34m\u001b[0m\u001b[0;34m\u001b[0m\u001b[0m\n",
            "\u001b[0;32m/usr/local/lib/python3.10/dist-packages/ipykernel/kernelbase.py\u001b[0m in \u001b[0;36mraw_input\u001b[0;34m(self, prompt)\u001b[0m\n\u001b[1;32m    849\u001b[0m                 \u001b[0;34m\"raw_input was called, but this frontend does not support input requests.\"\u001b[0m\u001b[0;34m\u001b[0m\u001b[0;34m\u001b[0m\u001b[0m\n\u001b[1;32m    850\u001b[0m             )\n\u001b[0;32m--> 851\u001b[0;31m         return self._input_request(str(prompt),\n\u001b[0m\u001b[1;32m    852\u001b[0m             \u001b[0mself\u001b[0m\u001b[0;34m.\u001b[0m\u001b[0m_parent_ident\u001b[0m\u001b[0;34m,\u001b[0m\u001b[0;34m\u001b[0m\u001b[0;34m\u001b[0m\u001b[0m\n\u001b[1;32m    853\u001b[0m             \u001b[0mself\u001b[0m\u001b[0;34m.\u001b[0m\u001b[0m_parent_header\u001b[0m\u001b[0;34m,\u001b[0m\u001b[0;34m\u001b[0m\u001b[0;34m\u001b[0m\u001b[0m\n",
            "\u001b[0;32m/usr/local/lib/python3.10/dist-packages/ipykernel/kernelbase.py\u001b[0m in \u001b[0;36m_input_request\u001b[0;34m(self, prompt, ident, parent, password)\u001b[0m\n\u001b[1;32m    893\u001b[0m             \u001b[0;32mexcept\u001b[0m \u001b[0mKeyboardInterrupt\u001b[0m\u001b[0;34m:\u001b[0m\u001b[0;34m\u001b[0m\u001b[0;34m\u001b[0m\u001b[0m\n\u001b[1;32m    894\u001b[0m                 \u001b[0;31m# re-raise KeyboardInterrupt, to truncate traceback\u001b[0m\u001b[0;34m\u001b[0m\u001b[0;34m\u001b[0m\u001b[0m\n\u001b[0;32m--> 895\u001b[0;31m                 \u001b[0;32mraise\u001b[0m \u001b[0mKeyboardInterrupt\u001b[0m\u001b[0;34m(\u001b[0m\u001b[0;34m\"Interrupted by user\"\u001b[0m\u001b[0;34m)\u001b[0m \u001b[0;32mfrom\u001b[0m \u001b[0;32mNone\u001b[0m\u001b[0;34m\u001b[0m\u001b[0;34m\u001b[0m\u001b[0m\n\u001b[0m\u001b[1;32m    896\u001b[0m             \u001b[0;32mexcept\u001b[0m \u001b[0mException\u001b[0m \u001b[0;32mas\u001b[0m \u001b[0me\u001b[0m\u001b[0;34m:\u001b[0m\u001b[0;34m\u001b[0m\u001b[0;34m\u001b[0m\u001b[0m\n\u001b[1;32m    897\u001b[0m                 \u001b[0mself\u001b[0m\u001b[0;34m.\u001b[0m\u001b[0mlog\u001b[0m\u001b[0;34m.\u001b[0m\u001b[0mwarning\u001b[0m\u001b[0;34m(\u001b[0m\u001b[0;34m\"Invalid Message:\"\u001b[0m\u001b[0;34m,\u001b[0m \u001b[0mexc_info\u001b[0m\u001b[0;34m=\u001b[0m\u001b[0;32mTrue\u001b[0m\u001b[0;34m)\u001b[0m\u001b[0;34m\u001b[0m\u001b[0;34m\u001b[0m\u001b[0m\n",
            "\u001b[0;31mKeyboardInterrupt\u001b[0m: Interrupted by user"
          ]
        }
      ]
    },
    {
      "cell_type": "code",
      "source": [],
      "metadata": {
        "id": "sg599corA1pt"
      },
      "execution_count": null,
      "outputs": []
    },
    {
      "cell_type": "markdown",
      "source": [],
      "metadata": {
        "id": "RZvjKLN7wZMP"
      }
    },
    {
      "cell_type": "code",
      "source": [
        "s = \"Ти си попфолк звезда от галактиката Андромеда и четеш Азимов, Куельо, Вазов и Лем. Напиши текст за песен, който започва със селската баня, голям кеф, градската десница, софийската левица с голямата... каца на планетата на маймуните във Вселената на Стартрек, при Хари Потър и философския камък на Властелина на пръстените с лазерния меч на Люк. Ползвай метафори, сравнения и алегории, междуметия и синекдохи. Амин.\"\n",
        "wr = w.wrap(s)\n",
        "print(s); print(wr)\n",
        "for i in wr: print(i)"
      ],
      "metadata": {
        "colab": {
          "base_uri": "https://localhost:8080/"
        },
        "id": "zzt82L5YmlM5",
        "outputId": "99ff29b8-f628-45bd-af95-4b5e79000be3"
      },
      "execution_count": null,
      "outputs": [
        {
          "output_type": "stream",
          "name": "stdout",
          "text": [
            "Ти си попфолк звезда от галактиката Андромеда и четеш Азимов, Куельо, Вазов и Лем. Напиши текст за песен, който започва със селската баня, голям кеф, градската десница, софийската левица с голямата... каца на планетата на маймуните във Вселената на Стартрек, при Хари Потър и философския камък на Властелина на пръстените с лазерния меч на Люк. Ползвай метафори, сравнения и алегории, междуметия и синекдохи. Амин.\n",
            "['Ти си попфолк звезда от галактиката Андромеда и четеш Азимов, Куельо,', 'Вазов и Лем. Напиши текст за песен, който започва със селската баня,', 'голям кеф, градската десница, софийската левица с голямата... каца на', 'планетата на маймуните във Вселената на Стартрек, при Хари Потър и', 'философския камък на Властелина на пръстените с лазерния меч на Люк.', 'Ползвай метафори, сравнения и алегории, междуметия и синекдохи. Амин.']\n",
            "Ти си попфолк звезда от галактиката Андромеда и четеш Азимов, Куельо,\n",
            "Вазов и Лем. Напиши текст за песен, който започва със селската баня,\n",
            "голям кеф, градската десница, софийската левица с голямата... каца на\n",
            "планетата на маймуните във Вселената на Стартрек, при Хари Потър и\n",
            "философския камък на Властелина на пръстените с лазерния меч на Люк.\n",
            "Ползвай метафори, сравнения и алегории, междуметия и синекдохи. Амин.\n"
          ]
        }
      ]
    },
    {
      "cell_type": "code",
      "source": [
        " messages = [\n",
        "    {\"role\": \"user\", \"content\": \"Ти си попфолк звезда от галактиката Андромеда и четеш Азимов, Куельо, Вазов и Лем. Напиши текст за песен, който започва със селската баня, голям кеф, градската десница, софийската левица с голямата... каца на планетата на маймуните във Вселената на Стартрек, при Хари Потър и философския камък на Властелина на пръстените с лазерния меч на Люк. Ползвай метафори, сравнения и алегории, междуметия и синекдохи. Амин. \"\n",
        "]\n",
        "# {\"role\": \"assistant\", \"content\": \"Well, I'm quite partial to a good squeeze of fresh lemon juice. It adds just the right amount of zesty flavour to whatever I'm cooking up in the kitchen!\"},\n",
        "#? why the assistant as well"
      ],
      "metadata": {
        "id": "sdbwldNm0epT"
      },
      "execution_count": null,
      "outputs": []
    },
    {
      "cell_type": "code",
      "source": [],
      "metadata": {
        "id": "C8-_fnzparaM"
      },
      "execution_count": null,
      "outputs": []
    },
    {
      "cell_type": "code",
      "source": [],
      "metadata": {
        "id": "I2cuHYah0e_5"
      },
      "execution_count": null,
      "outputs": []
    },
    {
      "cell_type": "markdown",
      "source": [],
      "metadata": {
        "id": "3i1hIrYwo8WT"
      }
    },
    {
      "cell_type": "code",
      "source": [
        "print(prompt_and_answer)"
      ],
      "metadata": {
        "colab": {
          "base_uri": "https://localhost:8080/"
        },
        "id": "T1VQ0--zizna",
        "outputId": "b5f9104f-5274-4875-eabd-b251eaa93c35"
      },
      "execution_count": null,
      "outputs": [
        {
          "output_type": "stream",
          "name": "stdout",
          "text": [
            "[('Колко от тях са жени?', '<s> Колко от тях са жени?\\nОбщата средна възраст на всички жени е $30$ години. Каква е средната възраст, в години, на мъжете? Изразете отговора си като десетичен знак до най-близката десета. [/INST]Да приемем, че броят на жените е $w$ и броят на мъжете е $m$.\\nДадено ни е, че $w + m = 32$ и средната възраст на всичките $w + m$ души е $30$ години.\\nСредната възраст може да се изчисли, като се вземе сумата от всички възрасти и се раздели на броя на хората.\\nТака че имаме уравнението $(30)(w + m) = \\\\frac{30}{32}(w + 180)$ (тъй като средната възраст на мъжете е $180$ години).\\nОпростявайки това уравнение, получаваме $')]\n"
          ]
        }
      ]
    },
    {
      "cell_type": "code",
      "source": [
        "# CLOSE\n",
        "f.close()"
      ],
      "metadata": {
        "id": "eQ4Bve9ljiUP"
      },
      "execution_count": null,
      "outputs": []
    },
    {
      "cell_type": "code",
      "source": [
        "prompt = \"Програмирай на Бейсик за APPLE 2 рисуване на триизмерен цилиндър в перспектива. В режим HGR.\"\n",
        "model_inputs = tokenizer([prompt], return_tensors=\"pt\").to(device)\n",
        "generated_ids = model.generate(**model_inputs, max_new_tokens=200, do_sample=True)\n",
        "tokenizer.batch_decode(generated_ids)[0]"
      ],
      "metadata": {
        "id": "EaEQ6a0JNiPG"
      },
      "execution_count": null,
      "outputs": []
    },
    {
      "cell_type": "markdown",
      "source": [],
      "metadata": {
        "id": "vJKEzme5V1A4"
      }
    }
  ]
}